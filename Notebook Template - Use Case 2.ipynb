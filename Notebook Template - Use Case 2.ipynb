{
 "cells": [
  {
   "cell_type": "markdown",
   "metadata": {},
   "source": [
    "<center><h5> Data Science For Suppy Chain & Operations </h5></center>\n",
    "<center><h3> Etude de cas d'évaluation </h3></center>\n",
    "<center><h1> Clustering de magasins </h1></center>"
   ]
  },
  {
   "cell_type": "markdown",
   "metadata": {},
   "source": [
    "*Remplir ici votre compréhension du contexte et des objectifs*"
   ]
  },
  {
   "cell_type": "markdown",
   "metadata": {},
   "source": [
    "# I. Chargement et création du jeu de données"
   ]
  },
  {
   "cell_type": "code",
   "execution_count": null,
   "metadata": {},
   "outputs": [],
   "source": [
    "import pandas as pd\n",
    "from datetime import datetime\n",
    "import numpy as np\n",
    "import matplotlib.pyplot as plt\n",
    "import seaborn as sns \n",
    "%matplotlib inline"
   ]
  },
  {
   "cell_type": "code",
   "execution_count": null,
   "metadata": {},
   "outputs": [],
   "source": [
    "#Ceci permet d'afficher \n",
    "pd.options.display.max_columns = 100\n",
    "pd.options.display.max_rows  = 100"
   ]
  },
  {
   "cell_type": "code",
   "execution_count": null,
   "metadata": {},
   "outputs": [],
   "source": [
    "mag = pd.read_csv(\"Path to magasins.csv\", encoding = \"latin\", sep = \";\", decimal = ',') #Le paramètre decimal définit comment est représenter la virgule des chiffres décimaux\n",
    "ref = pd.read_csv(\"Path to references_ete.csv\", encoding = \"latin\", sep = \";\")\n",
    "ventes = pd.read_csv(\"Path to ventes.csv\", encoding = \"latin\", sep = \";\")"
   ]
  },
  {
   "cell_type": "markdown",
   "metadata": {},
   "source": [
    "## I.1. Exploration, nettoyage et préparation des données"
   ]
  },
  {
   "cell_type": "markdown",
   "metadata": {},
   "source": [
    "Nous allons procéder à l'exploration des différents fichiers fournis et au nettoyage de chacun des fichiers"
   ]
  },
  {
   "cell_type": "markdown",
   "metadata": {},
   "source": [
    "### I.1.1. Exploration des fichiers "
   ]
  },
  {
   "cell_type": "markdown",
   "metadata": {},
   "source": [
    "#### Fichier magasin"
   ]
  },
  {
   "cell_type": "markdown",
   "metadata": {},
   "source": [
    "*Insérez vos conclusions ici*"
   ]
  },
  {
   "cell_type": "code",
   "execution_count": null,
   "metadata": {},
   "outputs": [],
   "source": []
  },
  {
   "cell_type": "markdown",
   "metadata": {},
   "source": [
    "Quel est le nombre de magasins présent dans le fichier ? De quelles données disposons-nous ?\n",
    "\n",
    "..."
   ]
  },
  {
   "cell_type": "markdown",
   "metadata": {},
   "source": [
    "Quelques analyses à titre d'exemple...\n",
    "- La variable Réseau peut être supprimée\n",
    "- Nous pouvons uniquement garder le champ \"Magasin\" comme ID pour faire des jointures avec les autres tables, le champ code magasin peut être supprimé\n",
    "- Il y a des données manquantes sur certains champs : \n",
    "    - Dans la colonne Mall, les valeurs manquantes signifient que les magasins ne sont pas dans des Malls\n",
    "    - Dans d'autres colonnes catégoriques (Environnement concurrentiel, Traffic, Géographie, etc.) certains champs sont manquants. Il parait que l'information n'a pas été renseignée. Deux options s'offrent à nous : \n",
    "        - Supprimer ces colonnes \n",
    "        - Les compléter avec la valeur la plus présente\n",
    "        - ...\n",
    "\n",
    "        "
   ]
  },
  {
   "cell_type": "code",
   "execution_count": null,
   "metadata": {},
   "outputs": [],
   "source": [
    "# Explorer le dataset"
   ]
  },
  {
   "cell_type": "code",
   "execution_count": null,
   "metadata": {},
   "outputs": [],
   "source": []
  },
  {
   "cell_type": "markdown",
   "metadata": {},
   "source": [
    "Afficher le nombre unique de \"Magasin\"\n"
   ]
  },
  {
   "cell_type": "code",
   "execution_count": null,
   "metadata": {},
   "outputs": [],
   "source": [
    "#..."
   ]
  },
  {
   "cell_type": "code",
   "execution_count": null,
   "metadata": {},
   "outputs": [],
   "source": [
    "categorical_variables = ['Réseau', 'Pays magasin','Type boutique',\n",
    "       'Climat', 'Environnement concurrentiel','Traffic', 'Clientèle', 'Saisonnalité', \n",
    "        'Géographie', 'Mall', 'Comportement d\\'achat']"
   ]
  },
  {
   "cell_type": "code",
   "execution_count": null,
   "metadata": {},
   "outputs": [],
   "source": [
    "numerical_variables = ['Surface magasin (*)', \"Panier moyen \\x80 HT (Taux budget)\", \"Indice de vente\"]"
   ]
  },
  {
   "cell_type": "markdown",
   "metadata": {},
   "source": [
    "Afficher un comptage différentes modalités des variables catégoriques. Qu'en déduisez-vous ?"
   ]
  },
  {
   "cell_type": "code",
   "execution_count": null,
   "metadata": {},
   "outputs": [],
   "source": [
    "for cat in categorical_variables: \n",
    "    print(\"Variable : {}\".format(cat))\n",
    "    #print(remplir ici)\n",
    "    print()"
   ]
  },
  {
   "cell_type": "markdown",
   "metadata": {},
   "source": [
    "Afficher quelques statistiques sur les variables numériques"
   ]
  },
  {
   "cell_type": "code",
   "execution_count": null,
   "metadata": {},
   "outputs": [],
   "source": [
    "for num in numerical_variables : \n",
    "    print(\"Variable : {}\".format(num))\n",
    "    #print(remplir ici)\n",
    "    print()"
   ]
  },
  {
   "cell_type": "markdown",
   "metadata": {},
   "source": [
    "Données manquantes : \n",
    "\n",
    "Afficher les données manquantes pour chaque variable.\n",
    "Quelles données peut-on compléter ? Quels choix faites vous en terme de gestion des données manquantes et pourquoi ?"
   ]
  },
  {
   "cell_type": "code",
   "execution_count": null,
   "metadata": {},
   "outputs": [],
   "source": [
    "#Afficher les données manquantes ici"
   ]
  },
  {
   "cell_type": "code",
   "execution_count": null,
   "metadata": {},
   "outputs": [],
   "source": [
    "mag.isnull().sum()"
   ]
  },
  {
   "cell_type": "code",
   "execution_count": null,
   "metadata": {},
   "outputs": [],
   "source": [
    "mag[\"Pays magasin\"].value_counts()"
   ]
  },
  {
   "cell_type": "code",
   "execution_count": null,
   "metadata": {},
   "outputs": [],
   "source": [
    "mag[\"Mall\"] = mag[\"Mall\"].fillna(\"NON\")"
   ]
  },
  {
   "cell_type": "markdown",
   "metadata": {},
   "source": [
    "Pour des raisons de simplicité, nous enlevons les variables contenant plus de 20 % de données manquantes. Vous êtes bien entendu libres de tester différentes imputations de données, comme imputer avec la valeur la plus présente par exemple.\n",
    "\n",
    "Nous pouvons également certaines colonnes jugées inutiles (Réseau, Code Magasin). La colonne Pays Magasin peut être retravaillée si vous le souhaitez. Nous l'enlevons ici."
   ]
  },
  {
   "cell_type": "code",
   "execution_count": null,
   "metadata": {},
   "outputs": [],
   "source": [
    "mag = mag.drop([\"Réseau\", \"Pays magasin\", \"Code magasin\", \n",
    "                'Environnement concurrentiel', 'Traffic', 'Clientèle', 'Saisonnalité',\n",
    "       'Géographie'], axis = 1)"
   ]
  },
  {
   "cell_type": "markdown",
   "metadata": {},
   "source": [
    "#### Fichier ventes"
   ]
  },
  {
   "cell_type": "markdown",
   "metadata": {},
   "source": [
    "*Insérer vos conclusions ici.*"
   ]
  },
  {
   "cell_type": "markdown",
   "metadata": {},
   "source": [
    "Combien y'a-t-il de magasins dans ce fichier, combien de y'a-t-il de produits ? Comparer le nombre de magasins ici avec le fichier magasins."
   ]
  },
  {
   "cell_type": "code",
   "execution_count": null,
   "metadata": {},
   "outputs": [],
   "source": [
    "# Explorer le dataset"
   ]
  },
  {
   "cell_type": "code",
   "execution_count": null,
   "metadata": {},
   "outputs": [],
   "source": [
    "categorical_values_ventes = [\"Collection produit\", 'Classification famille',\n",
    "       'Classification rayon', 'Classification sous famille',\n",
    "       'Statut Collection Produit']\n",
    "numerical_values_ventes = ['Ventes_17_19']"
   ]
  },
  {
   "cell_type": "markdown",
   "metadata": {},
   "source": [
    "Afficher un comptage différentes modalités des variables catégoriques. Qu'en déduisez-vous ?"
   ]
  },
  {
   "cell_type": "code",
   "execution_count": null,
   "metadata": {},
   "outputs": [],
   "source": [
    "for cat in categorical_values_ventes :\n",
    "    print(\"Variable : {}\".format(cat))\n",
    "    #print(put here)\n",
    "    print()"
   ]
  },
  {
   "cell_type": "markdown",
   "metadata": {},
   "source": [
    "#### Fichier de références"
   ]
  },
  {
   "cell_type": "markdown",
   "metadata": {},
   "source": [
    "*Insérez vos conclusions ici.*"
   ]
  },
  {
   "cell_type": "code",
   "execution_count": null,
   "metadata": {},
   "outputs": [],
   "source": []
  },
  {
   "cell_type": "markdown",
   "metadata": {},
   "source": [
    "- Le fichier de références contient des informations sur 288 produits, et 357 lignes contenant avec le détail du coloris.\n",
    "- Il convient de faire une jointure entre le fichier des références et des ventes. Pour ceci, il faut créer la clé de jointure :\n",
    "    - Pour la table ventes, il s'agit du champ Modèle_Coloris, qui est une concaténation des champs \"Référence produit\" et \"Couleur produit\"\n",
    "    - Pour la table références, il faut créer la clé de jointure en concaténant le champ \"Produit\" et le champ \"Libellé couleurs\""
   ]
  },
  {
   "cell_type": "code",
   "execution_count": null,
   "metadata": {},
   "outputs": [],
   "source": [
    "# Exploration de jeu de données"
   ]
  },
  {
   "cell_type": "code",
   "execution_count": null,
   "metadata": {},
   "outputs": [],
   "source": [
    "# Exploration des variables catégoriques et numériques"
   ]
  },
  {
   "cell_type": "code",
   "execution_count": null,
   "metadata": {},
   "outputs": [],
   "source": [
    "#Création  de la clé de jointure\n",
    "ref[\"Modèle_Coloris\"] = ref[\"Produit\"] + ref[\"Libellé couleurs\"]"
   ]
  },
  {
   "cell_type": "markdown",
   "metadata": {},
   "source": [
    "### I.1.2. Jointure entre le fichier de ventes et de références"
   ]
  },
  {
   "cell_type": "markdown",
   "metadata": {},
   "source": [
    "Nous effectuons une jointure \"inner\" entre les ventes et les références. L'objectif est de ne garder que les informations contenues dans les deux fichiers.\n",
    "\n",
    "Nous calculons ensuite le montant total pour chaque référence produit et chaque magasin."
   ]
  },
  {
   "cell_type": "code",
   "execution_count": null,
   "metadata": {},
   "outputs": [],
   "source": [
    "ventes_ref = ventes.merge(ref, how = 'inner', on = \"Modèle_Coloris\")"
   ]
  },
  {
   "cell_type": "code",
   "execution_count": null,
   "metadata": {},
   "outputs": [],
   "source": [
    "# Calculer le Montant Total\n",
    "ventes_ref[\"Montant total\"] = ventes_ref[\"Ventes17_19\"] * ventes_ref[\"PVB\"]"
   ]
  },
  {
   "cell_type": "markdown",
   "metadata": {},
   "source": [
    "### I.1.3. Création de variables à la maille du magasin sur le fichier joint des ventes et des références"
   ]
  },
  {
   "cell_type": "markdown",
   "metadata": {},
   "source": [
    "Etant donné que nous souhaitons faire un clustering de magasins, il convient de calculer de nouvelles features à partir du dataset \"ventes_ref\" à la maille du magasin.\n",
    "La fonctionnalité groupby permet de répondre à ce besoin.\n"
   ]
  },
  {
   "cell_type": "markdown",
   "metadata": {},
   "source": [
    "**Calcul du montant total et du nombre de ventes total par magasin**"
   ]
  },
  {
   "cell_type": "code",
   "execution_count": null,
   "metadata": {},
   "outputs": [],
   "source": [
    "mag_montants_ventes = ventes_ref.groupby(\"Magasin\")[[\"Montant total\", \"Ventes17_19\"]].sum()"
   ]
  },
  {
   "cell_type": "markdown",
   "metadata": {},
   "source": [
    "Calculez le prix de vente moyen"
   ]
  },
  {
   "cell_type": "code",
   "execution_count": null,
   "metadata": {},
   "outputs": [],
   "source": [
    "#mag_montants_ventes[\"Prix de vente moyen\"] = "
   ]
  },
  {
   "cell_type": "markdown",
   "metadata": {},
   "source": [
    "**Calcul du pourcentage de ventes des produits iconiques par magasin** "
   ]
  },
  {
   "cell_type": "code",
   "execution_count": null,
   "metadata": {},
   "outputs": [],
   "source": [
    "ventes_ref[\"Iconique\"].value_counts(dropna = False)"
   ]
  },
  {
   "cell_type": "code",
   "execution_count": null,
   "metadata": {},
   "outputs": [],
   "source": [
    "#On remplace les champs Oui et Non par \"Iconique\" et \"Non_iconique\" pour pouvoir les reconnaitre plus tard"
   ]
  },
  {
   "cell_type": "code",
   "execution_count": null,
   "metadata": {},
   "outputs": [],
   "source": [
    "ventes_ref[\"Iconique_transformed\"] = ventes_ref[\"Iconique\"].map({\"OUI\":\"Iconique\", \"NON\": \"Non_iconique\"})"
   ]
  },
  {
   "cell_type": "code",
   "execution_count": null,
   "metadata": {},
   "outputs": [],
   "source": [
    "iconique_sum = ventes_ref.groupby([\"Magasin\", \"Iconique_transformed\"])['Ventes17_19'].sum().unstack()"
   ]
  },
  {
   "cell_type": "code",
   "execution_count": null,
   "metadata": {},
   "outputs": [],
   "source": [
    "iconique_sum.head()"
   ]
  },
  {
   "cell_type": "markdown",
   "metadata": {},
   "source": [
    "Nous remarquons certaines valeurs manquantes. Cela veut dire que dans certains magasins (en l'occurence, les magasins 146 et 89), aucun produit iconique n'a été vendu. Nous allons donc imputer les valeurs manquantes à 0."
   ]
  },
  {
   "cell_type": "code",
   "execution_count": null,
   "metadata": {},
   "outputs": [],
   "source": [
    "iconique_sum[iconique_sum.Iconique.isnull()]"
   ]
  },
  {
   "cell_type": "code",
   "execution_count": null,
   "metadata": {},
   "outputs": [],
   "source": [
    "iconique_sum = iconique_sum.fillna(0)"
   ]
  },
  {
   "cell_type": "code",
   "execution_count": null,
   "metadata": {},
   "outputs": [],
   "source": [
    "iconique_prc = iconique_sum.div(iconique_sum.sum(axis = 1), axis = 0)"
   ]
  },
  {
   "cell_type": "code",
   "execution_count": null,
   "metadata": {},
   "outputs": [],
   "source": [
    "iconique_prc.head()"
   ]
  },
  {
   "cell_type": "markdown",
   "metadata": {},
   "source": [
    "**Faire le même traitement pour d'autres colonnes (nous proposon ces colonnes, mais il est possible d'en rajouter d'autres si vous les trouvez pertinentes) :**\n",
    "- Prix (selon famille)\n",
    "- Type saison\n",
    "- Segment\n",
    "- Libellé thème\n",
    "- Statut de collection\n",
    "\n",
    "Il peut être pertinent de créer une boucle for et de stocker les datasets temporaires dans une liste, puis de les concaténer"
   ]
  },
  {
   "cell_type": "code",
   "execution_count": null,
   "metadata": {},
   "outputs": [],
   "source": [
    "#On remplace les champs Oui et Non par \"Iconique\" et \"Non_iconique\" pour pouvoir les reconnaitre plus tard\n",
    "ventes_ref[\"Iconique_transformed\"] = ventes_ref[\"Iconique\"].map({\"OUI\":\"Iconique\", \"NON\": \"Non_iconique\"})\n",
    "\n",
    "#On rajoute le nom de la feature pour reconnaitre les catégories\n",
    "ventes_ref[\"Prix (selon famille)_transformed\"] = \"Famille prix_\"+ventes_ref[\"Prix (selon famille)\"]\n",
    "\n",
    "#Même chose pour le type de saison\n",
    "ventes_ref[\"Type saison_transformed\"] = \"Type saison_\"+ventes_ref[\"Type saison\"]\n",
    "\n",
    "#Même chose pour le Segment\n",
    "ventes_ref[\"Segment_transformed\"] = \"Segment_\"+ventes_ref[\"Type saison\"]\n",
    "\n",
    "#Même chose pour le Libellé thème\n",
    "ventes_ref[\"Libellé thème_transformed\"] = \"Libellé thème_\"+ventes_ref[\"Libellé thème\"]\n",
    "\n",
    "#Même chose pour le Libellé thème\n",
    "ventes_ref[\"Statut Collection Produit_transformed\"] = \"Statut Collection Produit_\"+ventes_ref[\"Libellé thème\"]"
   ]
  },
  {
   "cell_type": "markdown",
   "metadata": {},
   "source": [
    "Réalisez les mêmes traitements que pour le champ \"Iconique\""
   ]
  },
  {
   "cell_type": "code",
   "execution_count": null,
   "metadata": {},
   "outputs": [],
   "source": [
    "# features_magasin = mettre ici toutes vos features crées à la maille du Magasin"
   ]
  },
  {
   "cell_type": "markdown",
   "metadata": {},
   "source": [
    "**Nous vous encourageons à rajouter de nouvelles variables si elles vous paraissent pertinentes.**"
   ]
  },
  {
   "cell_type": "markdown",
   "metadata": {},
   "source": [
    "### I.1.4. Concaténation avec le fichier des magasins"
   ]
  },
  {
   "cell_type": "code",
   "execution_count": null,
   "metadata": {},
   "outputs": [],
   "source": [
    "mags_final = mag.merge(features_magasins, left_on = \"Magasin\", right_index = True )"
   ]
  },
  {
   "cell_type": "code",
   "execution_count": null,
   "metadata": {},
   "outputs": [],
   "source": [
    "# nous définissons la colonne Magasin comme étant l'index de chaque ligne\n",
    "mags_final = mags_final.set_index('Magasin')"
   ]
  },
  {
   "cell_type": "code",
   "execution_count": null,
   "metadata": {},
   "outputs": [],
   "source": [
    "mags_df = mags_final[cols_num].copy()"
   ]
  },
  {
   "cell_type": "markdown",
   "metadata": {},
   "source": [
    "# II. Analyse en composantes principales"
   ]
  },
  {
   "cell_type": "code",
   "execution_count": null,
   "metadata": {},
   "outputs": [],
   "source": [
    "from sklearn.decomposition import PCA\n",
    "from sklearn.preprocessing import StandardScaler,MinMaxScaler\n",
    "import numpy as np"
   ]
  },
  {
   "cell_type": "markdown",
   "metadata": {},
   "source": [
    "Comme expliqué en cours, l'analyse en composantes principales (PCA) est une méthode factorielle de réduction de dimension pour l’exploration de données quantitatives. Elle permet de transformer des variables corrélées en nouvelles variables décorrélées, appelées composantes principales."
   ]
  },
  {
   "cell_type": "code",
   "execution_count": null,
   "metadata": {
    "scrolled": true
   },
   "outputs": [],
   "source": [
    "# Réaliser une PCA Ici (pensez à tester avec des données normalisées)\n"
   ]
  },
  {
   "cell_type": "code",
   "execution_count": null,
   "metadata": {},
   "outputs": [],
   "source": [
    "# Explained variance ratio des composantes principales (qu'on pourrait comparer avec celles des features originales...)\n"
   ]
  },
  {
   "cell_type": "markdown",
   "metadata": {},
   "source": [
    "Représentez des magasins sur les composantes principales"
   ]
  },
  {
   "cell_type": "code",
   "execution_count": null,
   "metadata": {},
   "outputs": [],
   "source": []
  },
  {
   "cell_type": "markdown",
   "metadata": {},
   "source": [
    "Analysez les composantes principales comme vu en cours : Quelles sont les variables les plus corrélées avec les composantes principales ? "
   ]
  },
  {
   "cell_type": "code",
   "execution_count": null,
   "metadata": {},
   "outputs": [],
   "source": []
  },
  {
   "cell_type": "markdown",
   "metadata": {},
   "source": [
    "# III. Clustering"
   ]
  },
  {
   "cell_type": "code",
   "execution_count": null,
   "metadata": {},
   "outputs": [],
   "source": [
    "from sklearn.cluster import KMeans"
   ]
  },
  {
   "cell_type": "markdown",
   "metadata": {},
   "source": [
    "## II.1. Méthode du coude pour définir le nombre de clusters"
   ]
  },
  {
   "cell_type": "markdown",
   "metadata": {},
   "source": [
    "Il peut être intéressant de tester le clustering avec les données brutes, les données normalisées, et les données transformées avec l'ACP."
   ]
  },
  {
   "cell_type": "code",
   "execution_count": null,
   "metadata": {},
   "outputs": [],
   "source": [
    "#Méthode du coude"
   ]
  },
  {
   "cell_type": "code",
   "execution_count": null,
   "metadata": {},
   "outputs": [],
   "source": [
    "# Entrainer un k-means ici\n"
   ]
  },
  {
   "cell_type": "code",
   "execution_count": null,
   "metadata": {},
   "outputs": [],
   "source": [
    "# Ajoutez les labels des clusters au dataframe"
   ]
  },
  {
   "cell_type": "markdown",
   "metadata": {},
   "source": [
    "### Caractéristisation des clusters :\n",
    "\n",
    "Analysez chacun des clusters : Quelle est la distribution des variables ? Nous vous invitons à filtrer sur chacun des clusters et à établir des statistiques."
   ]
  },
  {
   "cell_type": "markdown",
   "metadata": {},
   "source": [
    "*Commencez avec des analyses statistiques simples*"
   ]
  },
  {
   "cell_type": "markdown",
   "metadata": {},
   "source": [
    "Taille des clusters"
   ]
  },
  {
   "cell_type": "code",
   "execution_count": null,
   "metadata": {
    "scrolled": true
   },
   "outputs": [],
   "source": [
    "mags_df[\"Cluster\"].value_counts()"
   ]
  },
  {
   "cell_type": "code",
   "execution_count": null,
   "metadata": {},
   "outputs": [],
   "source": [
    "mags_df.groupby(\"Cluster\").mean()"
   ]
  },
  {
   "cell_type": "code",
   "execution_count": null,
   "metadata": {},
   "outputs": [],
   "source": [
    "mags_df.mean()"
   ]
  },
  {
   "cell_type": "markdown",
   "metadata": {},
   "source": [
    "**Portez une attention particulière à l'analyse et l'interprétation des premiers résultats du clustering. Ces résultats pourront vous inspirer la création de nouvelles variables plus pertinentes, ou l'adoption d'une nouvelle démarche. Par exemple, si on trouve un cluster principal qui contient la majorité des magasins et d'autres clusters avec un très faible nombre de magasins, il peut être intéressant de les écarter et de refaire un clustering uniquement sur le gros cluster.**\n",
    "\n",
    "**On tombe rarement sur la bonne réponse du premier coup, c'est une approche très itérative.**\n"
   ]
  },
  {
   "cell_type": "code",
   "execution_count": null,
   "metadata": {},
   "outputs": [],
   "source": []
  }
 ],
 "metadata": {
  "kernelspec": {
   "display_name": "Python 3",
   "language": "python",
   "name": "python3"
  },
  "language_info": {
   "codemirror_mode": {
    "name": "ipython",
    "version": 3
   },
   "file_extension": ".py",
   "mimetype": "text/x-python",
   "name": "python",
   "nbconvert_exporter": "python",
   "pygments_lexer": "ipython3",
   "version": "3.8.5"
  }
 },
 "nbformat": 4,
 "nbformat_minor": 4
}
