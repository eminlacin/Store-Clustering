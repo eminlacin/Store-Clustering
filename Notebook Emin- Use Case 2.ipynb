{
 "cells": [
  {
   "cell_type": "markdown",
   "metadata": {},
   "source": [
    "<center><h5> Data Science For Suppy Chain & Operations </h5></center>\n",
    "<center><h3> Etude de cas d'évaluation </h3></center>\n",
    "<center><h1> Clustering de magasins </h1></center>"
   ]
  },
  {
   "cell_type": "markdown",
   "metadata": {},
   "source": [
    "*Remplir ici votre compréhension du contexte et des objectifs*"
   ]
  },
  {
   "cell_type": "markdown",
   "metadata": {},
   "source": [
    "# I. Chargement et création du jeu de données"
   ]
  },
  {
   "cell_type": "code",
   "execution_count": 288,
   "metadata": {},
   "outputs": [],
   "source": [
    "import pandas as pd\n",
    "from datetime import datetime\n",
    "import numpy as np\n",
    "import matplotlib.pyplot as plt\n",
    "import seaborn as sns \n",
    "%matplotlib inline"
   ]
  },
  {
   "cell_type": "code",
   "execution_count": 289,
   "metadata": {},
   "outputs": [],
   "source": [
    "#Ceci permet d'afficher \n",
    "pd.options.display.max_columns = 100\n",
    "pd.options.display.max_rows  = 100"
   ]
  },
  {
   "cell_type": "code",
   "execution_count": 290,
   "metadata": {},
   "outputs": [],
   "source": [
    "mag = pd.read_csv(\"magasins.csv\", encoding = \"latin\", sep = \";\", decimal = ',') #Le paramètre decimal définit comment est représenter la virgule des chiffres décimaux\n",
    "ref = pd.read_csv(\"references_ete.csv\", encoding = \"latin\", sep = \";\")\n",
    "ventes = pd.read_csv(\"ventes.csv\", encoding = \"latin\", sep = \";\")"
   ]
  },
  {
   "cell_type": "markdown",
   "metadata": {},
   "source": [
    "## I.1. Exploration, nettoyage et préparation des données"
   ]
  },
  {
   "cell_type": "markdown",
   "metadata": {},
   "source": [
    "Nous allons procéder à l'exploration des différents fichiers fournis et au nettoyage de chacun des fichiers"
   ]
  },
  {
   "cell_type": "markdown",
   "metadata": {},
   "source": [
    "### I.1.1. Exploration des fichiers "
   ]
  },
  {
   "cell_type": "code",
   "execution_count": 291,
   "metadata": {},
   "outputs": [
    {
     "data": {
      "text/html": [
       "<div>\n",
       "<style scoped>\n",
       "    .dataframe tbody tr th:only-of-type {\n",
       "        vertical-align: middle;\n",
       "    }\n",
       "\n",
       "    .dataframe tbody tr th {\n",
       "        vertical-align: top;\n",
       "    }\n",
       "\n",
       "    .dataframe thead th {\n",
       "        text-align: right;\n",
       "    }\n",
       "</style>\n",
       "<table border=\"1\" class=\"dataframe\">\n",
       "  <thead>\n",
       "    <tr style=\"text-align: right;\">\n",
       "      <th></th>\n",
       "      <th>Réseau</th>\n",
       "      <th>Pays magasin</th>\n",
       "      <th>Magasin</th>\n",
       "      <th>Code magasin</th>\n",
       "      <th>Type boutique</th>\n",
       "      <th>Surface magasin (*)</th>\n",
       "      <th>Climat</th>\n",
       "      <th>Environnement concurrentiel</th>\n",
       "      <th>Traffic</th>\n",
       "      <th>Clientèle</th>\n",
       "      <th>Saisonnalité</th>\n",
       "      <th>Géographie</th>\n",
       "      <th>Mall</th>\n",
       "      <th>Comportement d'achat</th>\n",
       "      <th>Panier moyen  HT (Taux budget)</th>\n",
       "      <th>Indice de vente</th>\n",
       "    </tr>\n",
       "  </thead>\n",
       "  <tbody>\n",
       "    <tr>\n",
       "      <th>0</th>\n",
       "      <td>RETAIL EUROPE</td>\n",
       "      <td>UNITED KINGDOM</td>\n",
       "      <td>Magasin_99</td>\n",
       "      <td>286</td>\n",
       "      <td>GM</td>\n",
       "      <td>55.0</td>\n",
       "      <td>FROID</td>\n",
       "      <td>PREMIUM</td>\n",
       "      <td>LOW</td>\n",
       "      <td>LOCALE</td>\n",
       "      <td>PAS SAISONNIERE</td>\n",
       "      <td>CENTRE PETITE VILLE</td>\n",
       "      <td>OUI</td>\n",
       "      <td>CLIENT FULL PRICE</td>\n",
       "      <td>267.438950</td>\n",
       "      <td>1.297333</td>\n",
       "    </tr>\n",
       "    <tr>\n",
       "      <th>1</th>\n",
       "      <td>RETAIL EUROPE</td>\n",
       "      <td>FRANCE</td>\n",
       "      <td>Magasin_49</td>\n",
       "      <td>381</td>\n",
       "      <td>GM</td>\n",
       "      <td>22.0</td>\n",
       "      <td>CHAUD</td>\n",
       "      <td>NaN</td>\n",
       "      <td>NaN</td>\n",
       "      <td>NaN</td>\n",
       "      <td>NaN</td>\n",
       "      <td>NaN</td>\n",
       "      <td>OUI</td>\n",
       "      <td>CLIENT FULL PRICE</td>\n",
       "      <td>207.102617</td>\n",
       "      <td>1.132231</td>\n",
       "    </tr>\n",
       "    <tr>\n",
       "      <th>2</th>\n",
       "      <td>RETAIL EUROPE</td>\n",
       "      <td>FRANCE</td>\n",
       "      <td>Magasin_39</td>\n",
       "      <td>41</td>\n",
       "      <td>GM</td>\n",
       "      <td>75.0</td>\n",
       "      <td>TEMPERE</td>\n",
       "      <td>PREMIUM</td>\n",
       "      <td>LOW</td>\n",
       "      <td>LOCALE</td>\n",
       "      <td>PAS SAISONNIERE</td>\n",
       "      <td>CENTRE PETITE VILLE</td>\n",
       "      <td>OUI</td>\n",
       "      <td>CLIENT DISCOUNT</td>\n",
       "      <td>195.375729</td>\n",
       "      <td>1.198321</td>\n",
       "    </tr>\n",
       "    <tr>\n",
       "      <th>3</th>\n",
       "      <td>RETAIL EUROPE</td>\n",
       "      <td>ALLEMAGNE</td>\n",
       "      <td>Magasin_193</td>\n",
       "      <td>303</td>\n",
       "      <td>BOUTIQUE</td>\n",
       "      <td>139.0</td>\n",
       "      <td>TEMPERE</td>\n",
       "      <td>LUXE</td>\n",
       "      <td>LOW</td>\n",
       "      <td>LOCALE</td>\n",
       "      <td>PAS SAISONNIERE</td>\n",
       "      <td>CENTRE VILLE GRANDE VILLE</td>\n",
       "      <td>NaN</td>\n",
       "      <td>CLIENT FULL PRICE</td>\n",
       "      <td>320.788863</td>\n",
       "      <td>1.780049</td>\n",
       "    </tr>\n",
       "    <tr>\n",
       "      <th>4</th>\n",
       "      <td>RETAIL EUROPE</td>\n",
       "      <td>FRANCE</td>\n",
       "      <td>Magasin_190</td>\n",
       "      <td>59</td>\n",
       "      <td>GM</td>\n",
       "      <td>35.0</td>\n",
       "      <td>TEMPERE</td>\n",
       "      <td>PREMIUM</td>\n",
       "      <td>HIGH</td>\n",
       "      <td>LOCALE</td>\n",
       "      <td>PAS SAISONNIERE</td>\n",
       "      <td>CENTRE VILLE GRANDE VILLE</td>\n",
       "      <td>OUI</td>\n",
       "      <td>CLIENT DISCOUNT</td>\n",
       "      <td>171.843728</td>\n",
       "      <td>1.268786</td>\n",
       "    </tr>\n",
       "  </tbody>\n",
       "</table>\n",
       "</div>"
      ],
      "text/plain": [
       "          Réseau    Pays magasin      Magasin  Code magasin Type boutique  \\\n",
       "0  RETAIL EUROPE  UNITED KINGDOM   Magasin_99           286            GM   \n",
       "1  RETAIL EUROPE          FRANCE   Magasin_49           381            GM   \n",
       "2  RETAIL EUROPE          FRANCE   Magasin_39            41            GM   \n",
       "3  RETAIL EUROPE       ALLEMAGNE  Magasin_193           303      BOUTIQUE   \n",
       "4  RETAIL EUROPE          FRANCE  Magasin_190            59            GM   \n",
       "\n",
       "   Surface magasin (*)   Climat Environnement concurrentiel Traffic Clientèle  \\\n",
       "0                 55.0    FROID                     PREMIUM     LOW    LOCALE   \n",
       "1                 22.0    CHAUD                         NaN     NaN       NaN   \n",
       "2                 75.0  TEMPERE                     PREMIUM     LOW    LOCALE   \n",
       "3                139.0  TEMPERE                        LUXE     LOW    LOCALE   \n",
       "4                 35.0  TEMPERE                     PREMIUM    HIGH    LOCALE   \n",
       "\n",
       "      Saisonnalité                 Géographie Mall Comportement d'achat  \\\n",
       "0  PAS SAISONNIERE        CENTRE PETITE VILLE  OUI    CLIENT FULL PRICE   \n",
       "1              NaN                        NaN  OUI    CLIENT FULL PRICE   \n",
       "2  PAS SAISONNIERE        CENTRE PETITE VILLE  OUI      CLIENT DISCOUNT   \n",
       "3  PAS SAISONNIERE  CENTRE VILLE GRANDE VILLE  NaN    CLIENT FULL PRICE   \n",
       "4  PAS SAISONNIERE  CENTRE VILLE GRANDE VILLE  OUI      CLIENT DISCOUNT   \n",
       "\n",
       "   Panier moyen  HT (Taux budget)  Indice de vente  \n",
       "0                       267.438950         1.297333  \n",
       "1                       207.102617         1.132231  \n",
       "2                       195.375729         1.198321  \n",
       "3                       320.788863         1.780049  \n",
       "4                       171.843728         1.268786  "
      ]
     },
     "execution_count": 291,
     "metadata": {},
     "output_type": "execute_result"
    }
   ],
   "source": [
    "mag.head()\n"
   ]
  },
  {
   "cell_type": "code",
   "execution_count": 292,
   "metadata": {},
   "outputs": [
    {
     "name": "stdout",
     "output_type": "stream",
     "text": [
      "(207, 16)\n",
      "(357, 14)\n",
      "(36726, 11)\n"
     ]
    }
   ],
   "source": [
    "print(mag.shape)\n",
    "print(ref.shape)\n",
    "print(ventes.shape)"
   ]
  },
  {
   "cell_type": "code",
   "execution_count": 293,
   "metadata": {},
   "outputs": [
    {
     "data": {
      "text/html": [
       "<div>\n",
       "<style scoped>\n",
       "    .dataframe tbody tr th:only-of-type {\n",
       "        vertical-align: middle;\n",
       "    }\n",
       "\n",
       "    .dataframe tbody tr th {\n",
       "        vertical-align: top;\n",
       "    }\n",
       "\n",
       "    .dataframe thead th {\n",
       "        text-align: right;\n",
       "    }\n",
       "</style>\n",
       "<table border=\"1\" class=\"dataframe\">\n",
       "  <thead>\n",
       "    <tr style=\"text-align: right;\">\n",
       "      <th></th>\n",
       "      <th>Libellé rayon</th>\n",
       "      <th>Libellé thème</th>\n",
       "      <th>Libellé famille</th>\n",
       "      <th>Libellé sous famille</th>\n",
       "      <th>Produit</th>\n",
       "      <th>Libellé couleurs</th>\n",
       "      <th>PVB</th>\n",
       "      <th>SPRING / SUMMER</th>\n",
       "      <th>Puissance produit</th>\n",
       "      <th>Champs UVS Statut de collection</th>\n",
       "      <th>Prix (selon famille)</th>\n",
       "      <th>Iconique</th>\n",
       "      <th>Type saison</th>\n",
       "      <th>Segment</th>\n",
       "    </tr>\n",
       "  </thead>\n",
       "  <tbody>\n",
       "    <tr>\n",
       "      <th>0</th>\n",
       "      <td>PAP FEMME</td>\n",
       "      <td>CHAINETRAME</td>\n",
       "      <td>BERMUDAS - SHORT</td>\n",
       "      <td>COTON</td>\n",
       "      <td>Référence_0</td>\n",
       "      <td>LICHEN</td>\n",
       "      <td>150</td>\n",
       "      <td>SUMMER</td>\n",
       "      <td>BEST</td>\n",
       "      <td>SAISONNIER</td>\n",
       "      <td>MEDIUM</td>\n",
       "      <td>NON</td>\n",
       "      <td>SUMMER</td>\n",
       "      <td>CASUAL</td>\n",
       "    </tr>\n",
       "    <tr>\n",
       "      <th>1</th>\n",
       "      <td>PAP FEMME</td>\n",
       "      <td>CHAINETRAME</td>\n",
       "      <td>BERMUDAS - SHORT</td>\n",
       "      <td>COTON</td>\n",
       "      <td>Référence_1</td>\n",
       "      <td>SABLE</td>\n",
       "      <td>150</td>\n",
       "      <td>SUMMER</td>\n",
       "      <td>BEST</td>\n",
       "      <td>SAISONNIER</td>\n",
       "      <td>MEDIUM</td>\n",
       "      <td>NON</td>\n",
       "      <td>SUMMER</td>\n",
       "      <td>CASUAL</td>\n",
       "    </tr>\n",
       "    <tr>\n",
       "      <th>2</th>\n",
       "      <td>PAP FEMME</td>\n",
       "      <td>CHAINETRAME</td>\n",
       "      <td>BERMUDAS - SHORT</td>\n",
       "      <td>COTON</td>\n",
       "      <td>Référence_2</td>\n",
       "      <td>NOIR</td>\n",
       "      <td>150</td>\n",
       "      <td>SUMMER</td>\n",
       "      <td>SLOW</td>\n",
       "      <td>SAISONNIER</td>\n",
       "      <td>MEDIUM</td>\n",
       "      <td>NON</td>\n",
       "      <td>SUMMER</td>\n",
       "      <td>CASUAL</td>\n",
       "    </tr>\n",
       "    <tr>\n",
       "      <th>3</th>\n",
       "      <td>PAP FEMME</td>\n",
       "      <td>CHAINETRAME</td>\n",
       "      <td>BERMUDAS - SHORT</td>\n",
       "      <td>COTON</td>\n",
       "      <td>Référence_3</td>\n",
       "      <td>BLEU</td>\n",
       "      <td>165</td>\n",
       "      <td>SUMMER</td>\n",
       "      <td>MEDIUM</td>\n",
       "      <td>SAISONNIER</td>\n",
       "      <td>MEDIUM</td>\n",
       "      <td>NON</td>\n",
       "      <td>SUMMER</td>\n",
       "      <td>CASUAL</td>\n",
       "    </tr>\n",
       "    <tr>\n",
       "      <th>4</th>\n",
       "      <td>PAP FEMME</td>\n",
       "      <td>CHAINETRAME</td>\n",
       "      <td>BERMUDAS - SHORT</td>\n",
       "      <td>VISCOSE</td>\n",
       "      <td>Référence_4</td>\n",
       "      <td>BUBBLE GUM</td>\n",
       "      <td>170</td>\n",
       "      <td>SUMMER</td>\n",
       "      <td>MEDIUM</td>\n",
       "      <td>SAISONNIER</td>\n",
       "      <td>MEDIUM</td>\n",
       "      <td>NON</td>\n",
       "      <td>SUMMER</td>\n",
       "      <td>CASUAL</td>\n",
       "    </tr>\n",
       "  </tbody>\n",
       "</table>\n",
       "</div>"
      ],
      "text/plain": [
       "  Libellé rayon Libellé thème   Libellé famille Libellé sous famille  \\\n",
       "0     PAP FEMME   CHAINETRAME  BERMUDAS - SHORT                COTON   \n",
       "1     PAP FEMME   CHAINETRAME  BERMUDAS - SHORT                COTON   \n",
       "2     PAP FEMME   CHAINETRAME  BERMUDAS - SHORT                COTON   \n",
       "3     PAP FEMME   CHAINETRAME  BERMUDAS - SHORT                COTON   \n",
       "4     PAP FEMME   CHAINETRAME  BERMUDAS - SHORT              VISCOSE   \n",
       "\n",
       "       Produit Libellé couleurs  PVB SPRING / SUMMER Puissance produit  \\\n",
       "0  Référence_0           LICHEN  150          SUMMER              BEST   \n",
       "1  Référence_1            SABLE  150          SUMMER              BEST   \n",
       "2  Référence_2             NOIR  150          SUMMER              SLOW   \n",
       "3  Référence_3             BLEU  165          SUMMER            MEDIUM   \n",
       "4  Référence_4       BUBBLE GUM  170          SUMMER            MEDIUM   \n",
       "\n",
       "  Champs UVS Statut de collection Prix (selon famille) Iconique Type saison  \\\n",
       "0                      SAISONNIER               MEDIUM      NON      SUMMER   \n",
       "1                      SAISONNIER               MEDIUM      NON      SUMMER   \n",
       "2                      SAISONNIER               MEDIUM      NON      SUMMER   \n",
       "3                      SAISONNIER               MEDIUM      NON      SUMMER   \n",
       "4                      SAISONNIER               MEDIUM      NON      SUMMER   \n",
       "\n",
       "  Segment  \n",
       "0  CASUAL  \n",
       "1  CASUAL  \n",
       "2  CASUAL  \n",
       "3  CASUAL  \n",
       "4  CASUAL  "
      ]
     },
     "execution_count": 293,
     "metadata": {},
     "output_type": "execute_result"
    }
   ],
   "source": [
    "ref.head()"
   ]
  },
  {
   "cell_type": "code",
   "execution_count": 294,
   "metadata": {},
   "outputs": [
    {
     "data": {
      "text/html": [
       "<div>\n",
       "<style scoped>\n",
       "    .dataframe tbody tr th:only-of-type {\n",
       "        vertical-align: middle;\n",
       "    }\n",
       "\n",
       "    .dataframe tbody tr th {\n",
       "        vertical-align: top;\n",
       "    }\n",
       "\n",
       "    .dataframe thead th {\n",
       "        text-align: right;\n",
       "    }\n",
       "</style>\n",
       "<table border=\"1\" class=\"dataframe\">\n",
       "  <thead>\n",
       "    <tr style=\"text-align: right;\">\n",
       "      <th></th>\n",
       "      <th>Magasin</th>\n",
       "      <th>Référence produit</th>\n",
       "      <th>Couleur produit</th>\n",
       "      <th>Modèle_Coloris</th>\n",
       "      <th>SKUSTORE</th>\n",
       "      <th>Collection produit</th>\n",
       "      <th>Classification famille</th>\n",
       "      <th>Classification rayon</th>\n",
       "      <th>Classification sous famille</th>\n",
       "      <th>Statut Collection Produit</th>\n",
       "      <th>Ventes17_19</th>\n",
       "    </tr>\n",
       "  </thead>\n",
       "  <tbody>\n",
       "    <tr>\n",
       "      <th>0</th>\n",
       "      <td>Magasin_127</td>\n",
       "      <td>Référence_14</td>\n",
       "      <td>BRUT</td>\n",
       "      <td>Référence_14BRUT</td>\n",
       "      <td>Référence_14BRUTMagasin_127</td>\n",
       "      <td>E18 - ETE 2018</td>\n",
       "      <td>BLOUSONS</td>\n",
       "      <td>PAP FEMME</td>\n",
       "      <td>COTON</td>\n",
       "      <td>SAISONNIER</td>\n",
       "      <td>23</td>\n",
       "    </tr>\n",
       "    <tr>\n",
       "      <th>1</th>\n",
       "      <td>Magasin_198</td>\n",
       "      <td>Référence_133</td>\n",
       "      <td>BLOSSOM</td>\n",
       "      <td>Référence_133BLOSSOM</td>\n",
       "      <td>Référence_133BLOSSOMMagasin_198</td>\n",
       "      <td>E18 - ETE 2018</td>\n",
       "      <td>PULL</td>\n",
       "      <td>PAP FEMME</td>\n",
       "      <td>COTON</td>\n",
       "      <td>SAISONNIER</td>\n",
       "      <td>4</td>\n",
       "    </tr>\n",
       "    <tr>\n",
       "      <th>2</th>\n",
       "      <td>Magasin_10</td>\n",
       "      <td>Référence_279</td>\n",
       "      <td>MARINE</td>\n",
       "      <td>Référence_279MARINE</td>\n",
       "      <td>Référence_279MARINEMagasin_10</td>\n",
       "      <td>E18 - ETE 2018</td>\n",
       "      <td>VESTE</td>\n",
       "      <td>PAP FEMME</td>\n",
       "      <td>POLYESTER</td>\n",
       "      <td>SAISONNIER</td>\n",
       "      <td>3</td>\n",
       "    </tr>\n",
       "    <tr>\n",
       "      <th>3</th>\n",
       "      <td>Magasin_65</td>\n",
       "      <td>Référence_87</td>\n",
       "      <td>KAKI</td>\n",
       "      <td>Référence_87KAKI</td>\n",
       "      <td>Référence_87KAKIMagasin_65</td>\n",
       "      <td>E18 - ETE 2018</td>\n",
       "      <td>JUPE</td>\n",
       "      <td>PAP FEMME</td>\n",
       "      <td>LIN / COTON</td>\n",
       "      <td>SAISONNIER</td>\n",
       "      <td>1</td>\n",
       "    </tr>\n",
       "    <tr>\n",
       "      <th>4</th>\n",
       "      <td>Magasin_100</td>\n",
       "      <td>Référence_28</td>\n",
       "      <td>FICELLE</td>\n",
       "      <td>Référence_28FICELLE</td>\n",
       "      <td>Référence_28FICELLEMagasin_100</td>\n",
       "      <td>E18 - ETE 2018</td>\n",
       "      <td>CARDIGAN</td>\n",
       "      <td>PAP FEMME</td>\n",
       "      <td>CASHMERE</td>\n",
       "      <td>SAISONNIER</td>\n",
       "      <td>2</td>\n",
       "    </tr>\n",
       "  </tbody>\n",
       "</table>\n",
       "</div>"
      ],
      "text/plain": [
       "       Magasin Référence produit Couleur produit        Modèle_Coloris  \\\n",
       "0  Magasin_127      Référence_14            BRUT      Référence_14BRUT   \n",
       "1  Magasin_198     Référence_133         BLOSSOM  Référence_133BLOSSOM   \n",
       "2   Magasin_10     Référence_279          MARINE   Référence_279MARINE   \n",
       "3   Magasin_65      Référence_87            KAKI      Référence_87KAKI   \n",
       "4  Magasin_100      Référence_28         FICELLE   Référence_28FICELLE   \n",
       "\n",
       "                          SKUSTORE Collection produit Classification famille  \\\n",
       "0      Référence_14BRUTMagasin_127     E18 - ETE 2018               BLOUSONS   \n",
       "1  Référence_133BLOSSOMMagasin_198     E18 - ETE 2018                   PULL   \n",
       "2    Référence_279MARINEMagasin_10     E18 - ETE 2018                  VESTE   \n",
       "3       Référence_87KAKIMagasin_65     E18 - ETE 2018                   JUPE   \n",
       "4   Référence_28FICELLEMagasin_100     E18 - ETE 2018               CARDIGAN   \n",
       "\n",
       "  Classification rayon Classification sous famille Statut Collection Produit  \\\n",
       "0            PAP FEMME                       COTON                SAISONNIER   \n",
       "1            PAP FEMME                       COTON                SAISONNIER   \n",
       "2            PAP FEMME                   POLYESTER                SAISONNIER   \n",
       "3            PAP FEMME                 LIN / COTON                SAISONNIER   \n",
       "4            PAP FEMME                    CASHMERE                SAISONNIER   \n",
       "\n",
       "   Ventes17_19  \n",
       "0           23  \n",
       "1            4  \n",
       "2            3  \n",
       "3            1  \n",
       "4            2  "
      ]
     },
     "execution_count": 294,
     "metadata": {},
     "output_type": "execute_result"
    }
   ],
   "source": [
    "ventes.head()"
   ]
  },
  {
   "cell_type": "markdown",
   "metadata": {},
   "source": [
    "#### Fichier magasin"
   ]
  },
  {
   "cell_type": "markdown",
   "metadata": {},
   "source": [
    "*Insérez vos conclusions ici*\n",
    "- Le fichier **stores** est la liste des magasins que nous allons classifier. Ici, nous pouvons voir des informations sur chaque magasin. Il est lié au fichier des ventes par la colonne de Magasin."
   ]
  },
  {
   "cell_type": "code",
   "execution_count": null,
   "metadata": {},
   "outputs": [],
   "source": []
  },
  {
   "cell_type": "markdown",
   "metadata": {},
   "source": [
    "Quel est le nombre de magasins présent dans le fichier ? De quelles données disposons-nous ?\n",
    "\n",
    "mag (207, 16)\n",
    "ref (357, 14)\n",
    "ventes (36726, 11)\n",
    "\n",
    "- Il y a 207 magasins avec 16 variables comme la localisation, le type, s'il est dans un centre commercial, le budget, la surface et l'indice de vente."
   ]
  },
  {
   "cell_type": "markdown",
   "metadata": {},
   "source": [
    "Quelques analyses à titre d'exemple...\n",
    "- La variable Réseau peut être supprimée\n",
    "- Nous pouvons uniquement garder le champ \"Magasin\" comme ID pour faire des jointures avec les autres tables, le champ code magasin peut être supprimé\n",
    "- Il y a des données manquantes sur certains champs : \n",
    "    - Dans la colonne Mall, les valeurs manquantes signifient que les magasins ne sont pas dans des Malls\n",
    "    - Dans d'autres colonnes catégoriques (Environnement concurrentiel, Traffic, Géographie, etc.) certains champs sont manquants. Il parait que l'information n'a pas été renseignée. Deux options s'offrent à nous : \n",
    "        - Supprimer ces colonnes \n",
    "        - Les compléter avec la valeur la plus présente\n",
    "        - ...\n",
    "\n",
    "        "
   ]
  },
  {
   "cell_type": "code",
   "execution_count": 295,
   "metadata": {},
   "outputs": [
    {
     "name": "stdout",
     "output_type": "stream",
     "text": [
      "<class 'pandas.core.frame.DataFrame'>\n",
      "RangeIndex: 207 entries, 0 to 206\n",
      "Data columns (total 16 columns):\n",
      " #   Column                           Non-Null Count  Dtype  \n",
      "---  ------                           --------------  -----  \n",
      " 0   Réseau                           207 non-null    object \n",
      " 1   Pays magasin                     207 non-null    object \n",
      " 2   Magasin                          207 non-null    object \n",
      " 3   Code magasin                     207 non-null    int64  \n",
      " 4   Type boutique                    207 non-null    object \n",
      " 5   Surface magasin (*)              207 non-null    float64\n",
      " 6   Climat                           207 non-null    object \n",
      " 7   Environnement concurrentiel      158 non-null    object \n",
      " 8   Traffic                          160 non-null    object \n",
      " 9   Clientèle                        160 non-null    object \n",
      " 10  Saisonnalité                     160 non-null    object \n",
      " 11  Géographie                       160 non-null    object \n",
      " 12  Mall                             113 non-null    object \n",
      " 13  Comportement d'achat             207 non-null    object \n",
      " 14  Panier moyen  HT (Taux budget)  205 non-null    float64\n",
      " 15  Indice de vente                  205 non-null    float64\n",
      "dtypes: float64(3), int64(1), object(12)\n",
      "memory usage: 26.0+ KB\n",
      "None\n"
     ]
    }
   ],
   "source": [
    "print(mag.info())"
   ]
  },
  {
   "cell_type": "code",
   "execution_count": null,
   "metadata": {},
   "outputs": [],
   "source": []
  },
  {
   "cell_type": "markdown",
   "metadata": {},
   "source": [
    "Afficher le nombre unique de \"Magasin\"\n"
   ]
  },
  {
   "cell_type": "code",
   "execution_count": 296,
   "metadata": {},
   "outputs": [],
   "source": [
    "seriescountmagasin = pd.Series(mag[\"Magasin\"].unique())\n",
    "seriescountventemagasin = pd.Series(ventes[\"Magasin\"].unique())"
   ]
  },
  {
   "cell_type": "code",
   "execution_count": 297,
   "metadata": {},
   "outputs": [
    {
     "name": "stdout",
     "output_type": "stream",
     "text": [
      "le nombre de magasins unique dans le fichier mag: 207\n",
      "le nombre de magasins unique dans le fichier ventes: 168\n"
     ]
    }
   ],
   "source": [
    "print(\"le nombre de magasins unique dans le fichier mag:\", seriescountmagasin.value_counts().sum())\n",
    "print(\"le nombre de magasins unique dans le fichier ventes:\", seriescountventemagasin.value_counts().sum())"
   ]
  },
  {
   "cell_type": "code",
   "execution_count": 298,
   "metadata": {},
   "outputs": [],
   "source": [
    "categorical_variables = ['Réseau', 'Pays magasin','Type boutique',\n",
    "       'Climat', 'Environnement concurrentiel','Traffic', 'Clientèle', 'Saisonnalité', \n",
    "        'Géographie', 'Mall', 'Comportement d\\'achat']"
   ]
  },
  {
   "cell_type": "code",
   "execution_count": 299,
   "metadata": {},
   "outputs": [],
   "source": [
    "numerical_variables = ['Surface magasin (*)', \"Panier moyen \\x80 HT (Taux budget)\", \"Indice de vente\"]"
   ]
  },
  {
   "cell_type": "code",
   "execution_count": 300,
   "metadata": {},
   "outputs": [
    {
     "data": {
      "text/html": [
       "<div>\n",
       "<style scoped>\n",
       "    .dataframe tbody tr th:only-of-type {\n",
       "        vertical-align: middle;\n",
       "    }\n",
       "\n",
       "    .dataframe tbody tr th {\n",
       "        vertical-align: top;\n",
       "    }\n",
       "\n",
       "    .dataframe thead th {\n",
       "        text-align: right;\n",
       "    }\n",
       "</style>\n",
       "<table border=\"1\" class=\"dataframe\">\n",
       "  <thead>\n",
       "    <tr style=\"text-align: right;\">\n",
       "      <th></th>\n",
       "      <th>Magasin</th>\n",
       "      <th>Référence produit</th>\n",
       "      <th>Couleur produit</th>\n",
       "      <th>Modèle_Coloris</th>\n",
       "      <th>SKUSTORE</th>\n",
       "      <th>Collection produit</th>\n",
       "      <th>Classification famille</th>\n",
       "      <th>Classification rayon</th>\n",
       "      <th>Classification sous famille</th>\n",
       "      <th>Statut Collection Produit</th>\n",
       "      <th>Ventes17_19</th>\n",
       "    </tr>\n",
       "  </thead>\n",
       "  <tbody>\n",
       "    <tr>\n",
       "      <th>0</th>\n",
       "      <td>Magasin_127</td>\n",
       "      <td>Référence_14</td>\n",
       "      <td>BRUT</td>\n",
       "      <td>Référence_14BRUT</td>\n",
       "      <td>Référence_14BRUTMagasin_127</td>\n",
       "      <td>E18 - ETE 2018</td>\n",
       "      <td>BLOUSONS</td>\n",
       "      <td>PAP FEMME</td>\n",
       "      <td>COTON</td>\n",
       "      <td>SAISONNIER</td>\n",
       "      <td>23</td>\n",
       "    </tr>\n",
       "    <tr>\n",
       "      <th>1</th>\n",
       "      <td>Magasin_198</td>\n",
       "      <td>Référence_133</td>\n",
       "      <td>BLOSSOM</td>\n",
       "      <td>Référence_133BLOSSOM</td>\n",
       "      <td>Référence_133BLOSSOMMagasin_198</td>\n",
       "      <td>E18 - ETE 2018</td>\n",
       "      <td>PULL</td>\n",
       "      <td>PAP FEMME</td>\n",
       "      <td>COTON</td>\n",
       "      <td>SAISONNIER</td>\n",
       "      <td>4</td>\n",
       "    </tr>\n",
       "    <tr>\n",
       "      <th>2</th>\n",
       "      <td>Magasin_10</td>\n",
       "      <td>Référence_279</td>\n",
       "      <td>MARINE</td>\n",
       "      <td>Référence_279MARINE</td>\n",
       "      <td>Référence_279MARINEMagasin_10</td>\n",
       "      <td>E18 - ETE 2018</td>\n",
       "      <td>VESTE</td>\n",
       "      <td>PAP FEMME</td>\n",
       "      <td>POLYESTER</td>\n",
       "      <td>SAISONNIER</td>\n",
       "      <td>3</td>\n",
       "    </tr>\n",
       "    <tr>\n",
       "      <th>3</th>\n",
       "      <td>Magasin_65</td>\n",
       "      <td>Référence_87</td>\n",
       "      <td>KAKI</td>\n",
       "      <td>Référence_87KAKI</td>\n",
       "      <td>Référence_87KAKIMagasin_65</td>\n",
       "      <td>E18 - ETE 2018</td>\n",
       "      <td>JUPE</td>\n",
       "      <td>PAP FEMME</td>\n",
       "      <td>LIN / COTON</td>\n",
       "      <td>SAISONNIER</td>\n",
       "      <td>1</td>\n",
       "    </tr>\n",
       "    <tr>\n",
       "      <th>4</th>\n",
       "      <td>Magasin_100</td>\n",
       "      <td>Référence_28</td>\n",
       "      <td>FICELLE</td>\n",
       "      <td>Référence_28FICELLE</td>\n",
       "      <td>Référence_28FICELLEMagasin_100</td>\n",
       "      <td>E18 - ETE 2018</td>\n",
       "      <td>CARDIGAN</td>\n",
       "      <td>PAP FEMME</td>\n",
       "      <td>CASHMERE</td>\n",
       "      <td>SAISONNIER</td>\n",
       "      <td>2</td>\n",
       "    </tr>\n",
       "  </tbody>\n",
       "</table>\n",
       "</div>"
      ],
      "text/plain": [
       "       Magasin Référence produit Couleur produit        Modèle_Coloris  \\\n",
       "0  Magasin_127      Référence_14            BRUT      Référence_14BRUT   \n",
       "1  Magasin_198     Référence_133         BLOSSOM  Référence_133BLOSSOM   \n",
       "2   Magasin_10     Référence_279          MARINE   Référence_279MARINE   \n",
       "3   Magasin_65      Référence_87            KAKI      Référence_87KAKI   \n",
       "4  Magasin_100      Référence_28         FICELLE   Référence_28FICELLE   \n",
       "\n",
       "                          SKUSTORE Collection produit Classification famille  \\\n",
       "0      Référence_14BRUTMagasin_127     E18 - ETE 2018               BLOUSONS   \n",
       "1  Référence_133BLOSSOMMagasin_198     E18 - ETE 2018                   PULL   \n",
       "2    Référence_279MARINEMagasin_10     E18 - ETE 2018                  VESTE   \n",
       "3       Référence_87KAKIMagasin_65     E18 - ETE 2018                   JUPE   \n",
       "4   Référence_28FICELLEMagasin_100     E18 - ETE 2018               CARDIGAN   \n",
       "\n",
       "  Classification rayon Classification sous famille Statut Collection Produit  \\\n",
       "0            PAP FEMME                       COTON                SAISONNIER   \n",
       "1            PAP FEMME                       COTON                SAISONNIER   \n",
       "2            PAP FEMME                   POLYESTER                SAISONNIER   \n",
       "3            PAP FEMME                 LIN / COTON                SAISONNIER   \n",
       "4            PAP FEMME                    CASHMERE                SAISONNIER   \n",
       "\n",
       "   Ventes17_19  \n",
       "0           23  \n",
       "1            4  \n",
       "2            3  \n",
       "3            1  \n",
       "4            2  "
      ]
     },
     "execution_count": 300,
     "metadata": {},
     "output_type": "execute_result"
    }
   ],
   "source": [
    "ventes.head()"
   ]
  },
  {
   "cell_type": "markdown",
   "metadata": {},
   "source": [
    "Afficher un comptage différentes modalités des variables catégoriques. Qu'en déduisez-vous ?"
   ]
  },
  {
   "cell_type": "code",
   "execution_count": 301,
   "metadata": {},
   "outputs": [
    {
     "name": "stdout",
     "output_type": "stream",
     "text": [
      "Variable : Réseau\n",
      "['RETAIL EUROPE']\n",
      "\n",
      "Variable : Pays magasin\n",
      "['UNITED KINGDOM' 'FRANCE' 'ALLEMAGNE' 'PORTUGAL' 'ESPAGNE' 'ITALIE'\n",
      " 'SUISSE' 'BELGIQUE' 'TURQUIE' 'SUEDE' 'NORVEGE' 'Danemark' 'PAYS-BAS'\n",
      " 'GRECE' 'LUXEMBOURG' 'IRLANDE']\n",
      "\n",
      "Variable : Type boutique\n",
      "['GM' 'BOUTIQUE']\n",
      "\n",
      "Variable : Climat\n",
      "['FROID' 'CHAUD' 'TEMPERE']\n",
      "\n",
      "Variable : Environnement concurrentiel\n",
      "['PREMIUM' nan 'LUXE' 'MASS' 'PREMIUM / MASS']\n",
      "\n",
      "Variable : Traffic\n",
      "['LOW' nan 'HIGH' 'MEDIUM']\n",
      "\n",
      "Variable : Clientèle\n",
      "['LOCALE' nan 'TOURISTE']\n",
      "\n",
      "Variable : Saisonnalité\n",
      "['PAS SAISONNIERE' nan 'Saisonnière littoral' 'Saisonnière Montagne'\n",
      " 'Saisonnière été']\n",
      "\n",
      "Variable : Géographie\n",
      "['CENTRE PETITE VILLE' nan 'CENTRE VILLE GRANDE VILLE'\n",
      " 'centre ville moyen' 'PERIPHERIE' 'STATION SKI']\n",
      "\n",
      "Variable : Mall\n",
      "['OUI' nan]\n",
      "\n",
      "Variable : Comportement d'achat\n",
      "['CLIENT FULL PRICE' 'CLIENT DISCOUNT']\n",
      "\n"
     ]
    }
   ],
   "source": [
    "for cat in categorical_variables: \n",
    "    print(\"Variable : {}\".format(cat))\n",
    "    print(mag[cat].unique())\n",
    "    print()"
   ]
  },
  {
   "cell_type": "markdown",
   "metadata": {},
   "source": [
    "Afficher quelques statistiques sur les variables numériques"
   ]
  },
  {
   "cell_type": "code",
   "execution_count": 302,
   "metadata": {},
   "outputs": [
    {
     "name": "stdout",
     "output_type": "stream",
     "text": [
      "Variable : Surface magasin (*)\n",
      "count    207.000000\n",
      "mean      80.697101\n",
      "std       76.910501\n",
      "min        0.000000\n",
      "25%       35.000000\n",
      "50%       59.500000\n",
      "75%      105.000000\n",
      "max      720.950000\n",
      "Name: Surface magasin (*), dtype: float64\n",
      "\n",
      "Variable : Panier moyen  HT (Taux budget)\n",
      "count    205.000000\n",
      "mean     248.167983\n",
      "std       59.561461\n",
      "min      125.165480\n",
      "25%      212.074866\n",
      "50%      237.550886\n",
      "75%      276.948478\n",
      "max      513.703718\n",
      "Name: Panier moyen  HT (Taux budget), dtype: float64\n",
      "\n",
      "Variable : Indice de vente\n",
      "count    205.000000\n",
      "mean       1.400662\n",
      "std        0.277109\n",
      "min        0.000000\n",
      "25%        1.213813\n",
      "50%        1.371019\n",
      "75%        1.555035\n",
      "max        2.177273\n",
      "Name: Indice de vente, dtype: float64\n",
      "\n"
     ]
    }
   ],
   "source": [
    "for num in numerical_variables : \n",
    "    print(\"Variable : {}\".format(num))\n",
    "    print(mag[num].describe())\n",
    "    print()"
   ]
  },
  {
   "cell_type": "markdown",
   "metadata": {},
   "source": [
    "Données manquantes : \n",
    "\n",
    "Afficher les données manquantes pour chaque variable.\n",
    "Quelles données peut-on compléter ? Quels choix faites vous en terme de gestion des données manquantes et pourquoi ?"
   ]
  },
  {
   "cell_type": "code",
   "execution_count": 303,
   "metadata": {},
   "outputs": [],
   "source": [
    "#Afficher les données manquantes ici"
   ]
  },
  {
   "cell_type": "code",
   "execution_count": 304,
   "metadata": {},
   "outputs": [
    {
     "data": {
      "text/plain": [
       "Réseau                              0\n",
       "Pays magasin                        0\n",
       "Magasin                             0\n",
       "Code magasin                        0\n",
       "Type boutique                       0\n",
       "Surface magasin (*)                 0\n",
       "Climat                              0\n",
       "Environnement concurrentiel        49\n",
       "Traffic                            47\n",
       "Clientèle                          47\n",
       "Saisonnalité                       47\n",
       "Géographie                         47\n",
       "Mall                               94\n",
       "Comportement d'achat                0\n",
       "Panier moyen  HT (Taux budget)     2\n",
       "Indice de vente                     2\n",
       "dtype: int64"
      ]
     },
     "execution_count": 304,
     "metadata": {},
     "output_type": "execute_result"
    }
   ],
   "source": [
    "mag.isnull().sum()"
   ]
  },
  {
   "cell_type": "code",
   "execution_count": 305,
   "metadata": {},
   "outputs": [
    {
     "data": {
      "text/plain": [
       "FRANCE            102\n",
       "ESPAGNE            27\n",
       "UNITED KINGDOM     17\n",
       "SUISSE             14\n",
       "ALLEMAGNE          11\n",
       "ITALIE              9\n",
       "PORTUGAL            6\n",
       "PAYS-BAS            5\n",
       "BELGIQUE            5\n",
       "GRECE               3\n",
       "Danemark            3\n",
       "SUEDE               1\n",
       "LUXEMBOURG          1\n",
       "TURQUIE             1\n",
       "NORVEGE             1\n",
       "IRLANDE             1\n",
       "Name: Pays magasin, dtype: int64"
      ]
     },
     "execution_count": 305,
     "metadata": {},
     "output_type": "execute_result"
    }
   ],
   "source": [
    "mag[\"Pays magasin\"].value_counts()"
   ]
  },
  {
   "cell_type": "code",
   "execution_count": 306,
   "metadata": {},
   "outputs": [],
   "source": [
    "mag[\"Mall\"] = mag[\"Mall\"].fillna(\"NON\")"
   ]
  },
  {
   "cell_type": "markdown",
   "metadata": {},
   "source": [
    "Pour des raisons de simplicité, nous enlevons les variables contenant plus de 20 % de données manquantes. Vous êtes bien entendu libres de tester différentes imputations de données, comme imputer avec la valeur la plus présente par exemple.\n",
    "\n",
    "Nous pouvons également certaines colonnes jugées inutiles (Réseau, Code Magasin). La colonne Pays Magasin peut être retravaillée si vous le souhaitez. Nous l'enlevons ici."
   ]
  },
  {
   "cell_type": "code",
   "execution_count": 307,
   "metadata": {},
   "outputs": [],
   "source": [
    "mag = mag.drop([\"Réseau\", \"Pays magasin\", \"Code magasin\", \n",
    "                'Environnement concurrentiel', 'Traffic', 'Clientèle', 'Saisonnalité',\n",
    "       'Géographie'], axis = 1)"
   ]
  },
  {
   "cell_type": "code",
   "execution_count": 308,
   "metadata": {},
   "outputs": [
    {
     "data": {
      "text/html": [
       "<div>\n",
       "<style scoped>\n",
       "    .dataframe tbody tr th:only-of-type {\n",
       "        vertical-align: middle;\n",
       "    }\n",
       "\n",
       "    .dataframe tbody tr th {\n",
       "        vertical-align: top;\n",
       "    }\n",
       "\n",
       "    .dataframe thead th {\n",
       "        text-align: right;\n",
       "    }\n",
       "</style>\n",
       "<table border=\"1\" class=\"dataframe\">\n",
       "  <thead>\n",
       "    <tr style=\"text-align: right;\">\n",
       "      <th></th>\n",
       "      <th>Magasin</th>\n",
       "      <th>Type boutique</th>\n",
       "      <th>Surface magasin (*)</th>\n",
       "      <th>Climat</th>\n",
       "      <th>Mall</th>\n",
       "      <th>Comportement d'achat</th>\n",
       "      <th>Panier moyen  HT (Taux budget)</th>\n",
       "      <th>Indice de vente</th>\n",
       "    </tr>\n",
       "  </thead>\n",
       "  <tbody>\n",
       "    <tr>\n",
       "      <th>0</th>\n",
       "      <td>Magasin_99</td>\n",
       "      <td>GM</td>\n",
       "      <td>55.0</td>\n",
       "      <td>FROID</td>\n",
       "      <td>OUI</td>\n",
       "      <td>CLIENT FULL PRICE</td>\n",
       "      <td>267.438950</td>\n",
       "      <td>1.297333</td>\n",
       "    </tr>\n",
       "    <tr>\n",
       "      <th>1</th>\n",
       "      <td>Magasin_49</td>\n",
       "      <td>GM</td>\n",
       "      <td>22.0</td>\n",
       "      <td>CHAUD</td>\n",
       "      <td>OUI</td>\n",
       "      <td>CLIENT FULL PRICE</td>\n",
       "      <td>207.102617</td>\n",
       "      <td>1.132231</td>\n",
       "    </tr>\n",
       "    <tr>\n",
       "      <th>2</th>\n",
       "      <td>Magasin_39</td>\n",
       "      <td>GM</td>\n",
       "      <td>75.0</td>\n",
       "      <td>TEMPERE</td>\n",
       "      <td>OUI</td>\n",
       "      <td>CLIENT DISCOUNT</td>\n",
       "      <td>195.375729</td>\n",
       "      <td>1.198321</td>\n",
       "    </tr>\n",
       "    <tr>\n",
       "      <th>3</th>\n",
       "      <td>Magasin_193</td>\n",
       "      <td>BOUTIQUE</td>\n",
       "      <td>139.0</td>\n",
       "      <td>TEMPERE</td>\n",
       "      <td>NON</td>\n",
       "      <td>CLIENT FULL PRICE</td>\n",
       "      <td>320.788863</td>\n",
       "      <td>1.780049</td>\n",
       "    </tr>\n",
       "    <tr>\n",
       "      <th>4</th>\n",
       "      <td>Magasin_190</td>\n",
       "      <td>GM</td>\n",
       "      <td>35.0</td>\n",
       "      <td>TEMPERE</td>\n",
       "      <td>OUI</td>\n",
       "      <td>CLIENT DISCOUNT</td>\n",
       "      <td>171.843728</td>\n",
       "      <td>1.268786</td>\n",
       "    </tr>\n",
       "  </tbody>\n",
       "</table>\n",
       "</div>"
      ],
      "text/plain": [
       "       Magasin Type boutique  Surface magasin (*)   Climat Mall  \\\n",
       "0   Magasin_99            GM                 55.0    FROID  OUI   \n",
       "1   Magasin_49            GM                 22.0    CHAUD  OUI   \n",
       "2   Magasin_39            GM                 75.0  TEMPERE  OUI   \n",
       "3  Magasin_193      BOUTIQUE                139.0  TEMPERE  NON   \n",
       "4  Magasin_190            GM                 35.0  TEMPERE  OUI   \n",
       "\n",
       "  Comportement d'achat  Panier moyen  HT (Taux budget)  Indice de vente  \n",
       "0    CLIENT FULL PRICE                       267.438950         1.297333  \n",
       "1    CLIENT FULL PRICE                       207.102617         1.132231  \n",
       "2      CLIENT DISCOUNT                       195.375729         1.198321  \n",
       "3    CLIENT FULL PRICE                       320.788863         1.780049  \n",
       "4      CLIENT DISCOUNT                       171.843728         1.268786  "
      ]
     },
     "execution_count": 308,
     "metadata": {},
     "output_type": "execute_result"
    }
   ],
   "source": [
    "mag.head()"
   ]
  },
  {
   "cell_type": "markdown",
   "metadata": {},
   "source": [
    "#### Fichier ventes"
   ]
  },
  {
   "cell_type": "markdown",
   "metadata": {},
   "source": [
    "*Insérer vos conclusions ici.*\n",
    "- Le fichier des ventes contient toutes les ventes des magasins. Le variable clé avec fichier magasin est Magasin.\n",
    "- Il n'y a pas de variables null dans le fichier."
   ]
  },
  {
   "cell_type": "code",
   "execution_count": 309,
   "metadata": {},
   "outputs": [
    {
     "name": "stdout",
     "output_type": "stream",
     "text": [
      "<class 'pandas.core.frame.DataFrame'>\n",
      "RangeIndex: 36726 entries, 0 to 36725\n",
      "Data columns (total 11 columns):\n",
      " #   Column                       Non-Null Count  Dtype \n",
      "---  ------                       --------------  ----- \n",
      " 0   Magasin                      36726 non-null  object\n",
      " 1   Référence produit            36726 non-null  object\n",
      " 2   Couleur produit              36726 non-null  object\n",
      " 3   Modèle_Coloris               36726 non-null  object\n",
      " 4   SKUSTORE                     36726 non-null  object\n",
      " 5   Collection produit           36726 non-null  object\n",
      " 6   Classification famille       36726 non-null  object\n",
      " 7   Classification rayon         36726 non-null  object\n",
      " 8   Classification sous famille  36726 non-null  object\n",
      " 9   Statut Collection Produit    36726 non-null  object\n",
      " 10  Ventes17_19                  36726 non-null  int64 \n",
      "dtypes: int64(1), object(10)\n",
      "memory usage: 3.1+ MB\n"
     ]
    }
   ],
   "source": [
    "ventes.info()"
   ]
  },
  {
   "cell_type": "markdown",
   "metadata": {},
   "source": [
    "Combien y'a-t-il de magasins dans ce fichier, combien de y'a-t-il de produits ? Comparer le nombre de magasins ici avec le fichier magasins."
   ]
  },
  {
   "cell_type": "code",
   "execution_count": 310,
   "metadata": {},
   "outputs": [
    {
     "name": "stdout",
     "output_type": "stream",
     "text": [
      "le nombre de magasins unique dans le fichier mag: 207\n",
      "le nombre de magasins unique dans le fichier ventes: 168\n",
      "le nombre de produits unique dans le fichier ventes: 284\n"
     ]
    }
   ],
   "source": [
    "# Explorer le dataset\n",
    "seriescountmagasin = pd.Series(mag[\"Magasin\"].unique())\n",
    "seriescountventemagasin = pd.Series(ventes[\"Magasin\"].unique())\n",
    "print(\"le nombre de magasins unique dans le fichier mag:\", seriescountmagasin.value_counts().sum())\n",
    "print(\"le nombre de magasins unique dans le fichier ventes:\", seriescountventemagasin.value_counts().sum())\n",
    "\n",
    "seriescountventeproduit = pd.Series(ventes[\"Référence produit\"].unique())\n",
    "print(\"le nombre de produits unique dans le fichier ventes:\", seriescountventeproduit.value_counts().sum())"
   ]
  },
  {
   "cell_type": "code",
   "execution_count": 311,
   "metadata": {},
   "outputs": [],
   "source": [
    "categorical_values_ventes = [\"Collection produit\", 'Classification famille',\n",
    "       'Classification rayon', 'Classification sous famille',\n",
    "       'Statut Collection Produit']\n",
    "numerical_values_ventes = ['Ventes17_19']"
   ]
  },
  {
   "cell_type": "markdown",
   "metadata": {},
   "source": [
    "Afficher un comptage différentes modalités des variables catégoriques. Qu'en déduisez-vous ?"
   ]
  },
  {
   "cell_type": "code",
   "execution_count": 312,
   "metadata": {},
   "outputs": [
    {
     "name": "stdout",
     "output_type": "stream",
     "text": [
      "Variable : Collection produit\n",
      "['E18 - ETE 2018']\n",
      "\n",
      "Variable : Classification famille\n",
      "['BLOUSONS' 'PULL' 'VESTE' 'JUPE' 'CARDIGAN' 'TUNIQUE ML' 'DEBARDEUR'\n",
      " 'TEE SHIRT' 'TUNISIEN' 'ROBE' 'PANTALON' 'SWEAT' 'BERMUDAS - SHORT'\n",
      " 'JEANS' 'CHEMISE' 'CARACO' 'CUIR-FOURRURE' 'TOP' 'PARKAS']\n",
      "\n",
      "Variable : Classification rayon\n",
      "['PAP FEMME']\n",
      "\n",
      "Variable : Classification sous famille\n",
      "['COTON' 'POLYESTER' 'LIN / COTON' 'CASHMERE' 'LAINE' 'MODAL'\n",
      " 'CACHEMIRE PLUME' 'LIN' 'MERINOS' 'ACRYLIC MELANGE' 'COTON / VISCOSE'\n",
      " 'LAINE / CASH' 'VISCOSE' 'ACETATE' 'ALPAGA' 'SOIE' 'COTON / SOIE' 'CUIR'\n",
      " 'MOHAIR']\n",
      "\n",
      "Variable : Statut Collection Produit\n",
      "['SAISONNIER' 'PERMANENT' 'NINI PERMANENT']\n",
      "\n"
     ]
    }
   ],
   "source": [
    "for cat in categorical_values_ventes :\n",
    "    print(\"Variable : {}\".format(cat))\n",
    "    print(ventes[cat].unique())\n",
    "    print()"
   ]
  },
  {
   "cell_type": "code",
   "execution_count": 313,
   "metadata": {},
   "outputs": [
    {
     "data": {
      "text/plain": [
       "count    36726.000000\n",
       "mean         6.402630\n",
       "std          5.893397\n",
       "min         -1.000000\n",
       "25%          3.000000\n",
       "50%          5.000000\n",
       "75%          8.000000\n",
       "max        188.000000\n",
       "Name: Ventes17_19, dtype: float64"
      ]
     },
     "execution_count": 313,
     "metadata": {},
     "output_type": "execute_result"
    }
   ],
   "source": [
    "ventes[numerical_values_ventes[0]].describe()"
   ]
  },
  {
   "cell_type": "code",
   "execution_count": 314,
   "metadata": {},
   "outputs": [
    {
     "data": {
      "text/plain": [
       "Magasin                        0\n",
       "Référence produit              0\n",
       "Couleur produit                0\n",
       "Modèle_Coloris                 0\n",
       "SKUSTORE                       0\n",
       "Collection produit             0\n",
       "Classification famille         0\n",
       "Classification rayon           0\n",
       "Classification sous famille    0\n",
       "Statut Collection Produit      0\n",
       "Ventes17_19                    0\n",
       "dtype: int64"
      ]
     },
     "execution_count": 314,
     "metadata": {},
     "output_type": "execute_result"
    }
   ],
   "source": [
    "ventes.isnull().sum()"
   ]
  },
  {
   "cell_type": "code",
   "execution_count": 315,
   "metadata": {},
   "outputs": [
    {
     "data": {
      "text/plain": [
       "array(['E18 - ETE 2018'], dtype=object)"
      ]
     },
     "execution_count": 315,
     "metadata": {},
     "output_type": "execute_result"
    }
   ],
   "source": [
    "ventes[\"Collection produit\"].unique()"
   ]
  },
  {
   "cell_type": "code",
   "execution_count": 316,
   "metadata": {},
   "outputs": [],
   "source": [
    "ventes = ventes.drop([\"Collection produit\"], axis = 1)"
   ]
  },
  {
   "cell_type": "markdown",
   "metadata": {},
   "source": [
    "#### Fichier de références"
   ]
  },
  {
   "cell_type": "markdown",
   "metadata": {},
   "source": [
    "*Insérez vos conclusions ici.*\n",
    "\n",
    "- Le fichier de référence contient des informations sur le type de produits vendus dans les magasins.\n"
   ]
  },
  {
   "cell_type": "code",
   "execution_count": null,
   "metadata": {},
   "outputs": [],
   "source": []
  },
  {
   "cell_type": "markdown",
   "metadata": {},
   "source": [
    "- Le fichier de références contient des informations sur 288 produits, et 357 lignes contenant avec le détail du coloris.\n",
    "- Il convient de faire une jointure entre le fichier des références et des ventes. Pour ceci, il faut créer la clé de jointure :\n",
    "    - Pour la table ventes, il s'agit du champ Modèle_Coloris, qui est une concaténation des champs \"Référence produit\" et \"Couleur produit\"\n",
    "    - Pour la table références, il faut créer la clé de jointure en concaténant le champ \"Produit\" et le champ \"Libellé couleurs\""
   ]
  },
  {
   "cell_type": "code",
   "execution_count": 317,
   "metadata": {},
   "outputs": [
    {
     "name": "stdout",
     "output_type": "stream",
     "text": [
      "<class 'pandas.core.frame.DataFrame'>\n",
      "RangeIndex: 357 entries, 0 to 356\n",
      "Data columns (total 14 columns):\n",
      " #   Column                           Non-Null Count  Dtype \n",
      "---  ------                           --------------  ----- \n",
      " 0   Libellé rayon                    357 non-null    object\n",
      " 1   Libellé thème                    357 non-null    object\n",
      " 2   Libellé famille                  357 non-null    object\n",
      " 3   Libellé sous famille             333 non-null    object\n",
      " 4   Produit                          357 non-null    object\n",
      " 5   Libellé couleurs                 357 non-null    object\n",
      " 6   PVB                              357 non-null    int64 \n",
      " 7   SPRING / SUMMER                  335 non-null    object\n",
      " 8   Puissance produit                356 non-null    object\n",
      " 9   Champs UVS Statut de collection  357 non-null    object\n",
      " 10  Prix (selon famille)             357 non-null    object\n",
      " 11  Iconique                         357 non-null    object\n",
      " 12  Type saison                      357 non-null    object\n",
      " 13  Segment                          357 non-null    object\n",
      "dtypes: int64(1), object(13)\n",
      "memory usage: 39.2+ KB\n",
      "None\n"
     ]
    }
   ],
   "source": [
    "# Exploration de jeu de données\n",
    "print(ref.info())"
   ]
  },
  {
   "cell_type": "code",
   "execution_count": 318,
   "metadata": {},
   "outputs": [
    {
     "name": "stdout",
     "output_type": "stream",
     "text": [
      "le nombre de produit unique dans le fichier ref: 288\n"
     ]
    }
   ],
   "source": [
    "seriescountrefprod = pd.Series(ref[\"Produit\"].unique())\n",
    "print(\"le nombre de produit unique dans le fichier ref:\", seriescountrefprod.value_counts().sum())\n"
   ]
  },
  {
   "cell_type": "code",
   "execution_count": 319,
   "metadata": {},
   "outputs": [],
   "source": [
    "# Exploration des variables catégoriques et numériques\n",
    "categorical_variables_ref = ['Libellé rayon', 'Libellé thème', 'Libellé famille', 'Libellé sous famille', 'Produit',\t\n",
    "       'Libellé couleurs', 'SPRING / SUMMER','Puissance produit', 'Champs UVS Statut de collection',\n",
    "       'Prix (selon famille)', 'Iconique', 'Type saison', 'Segment']\n",
    "numerical_variables_ref = ['PVB']"
   ]
  },
  {
   "cell_type": "code",
   "execution_count": 320,
   "metadata": {},
   "outputs": [
    {
     "name": "stdout",
     "output_type": "stream",
     "text": [
      "Variable : Libellé rayon\n",
      "['PAP FEMME']\n",
      "\n",
      "Variable : Libellé thème\n",
      "['CHAINETRAME' 'MAILLE' 'JERSEY']\n",
      "\n",
      "Variable : Libellé famille\n",
      "['BERMUDAS - SHORT' 'BLOUSONS' 'CARACO' 'CARDIGAN' 'CHEMISE'\n",
      " 'CUIR-FOURRURE' 'DEBARDEUR' 'JEANS' 'JUPE' 'PANTALON' 'PARKAS' 'PULL'\n",
      " 'ROBE' 'SWEAT' 'TEE SHIRT' 'TOP' 'TUNIQUE ML' 'TUNISIEN' 'VESTE']\n",
      "\n",
      "Variable : Libellé sous famille\n",
      "['COTON' 'VISCOSE' 'LAINE' 'SOIE' 'MERINOS' 'CASHMERE' nan 'ALPAGA'\n",
      " 'LAINE / CASH' 'CUIR' 'COTON / VISCOSE' 'MODAL' 'COTON / SOIE'\n",
      " 'LIN / COTON' 'POLYESTER' 'ACETATE' 'ACRYLIC MELANGE' 'LIN'\n",
      " 'CACHEMIRE PLUME']\n",
      "\n",
      "Variable : Produit\n",
      "['Référence_0' 'Référence_1' 'Référence_2' 'Référence_3' 'Référence_4'\n",
      " 'Référence_5' 'Référence_6' 'Référence_7' 'Référence_8' 'Référence_9'\n",
      " 'Référence_10' 'Référence_11' 'Référence_12' 'Référence_13'\n",
      " 'Référence_14' 'Référence_15' 'Référence_16' 'Référence_17'\n",
      " 'Référence_18' 'Référence_19' 'Référence_20' 'Référence_21'\n",
      " 'Référence_22' 'Référence_23' 'Référence_24' 'Référence_25'\n",
      " 'Référence_26' 'Référence_27' 'Référence_28' 'Référence_29'\n",
      " 'Référence_30' 'Référence_31' 'Référence_32' 'Référence_33'\n",
      " 'Référence_34' 'Référence_35' 'Référence_36' 'Référence_37'\n",
      " 'Référence_38' 'Référence_39' 'Référence_40' 'Référence_41'\n",
      " 'Référence_42' 'Référence_43' 'Référence_44' 'Référence_45'\n",
      " 'Référence_46' 'Référence_47' 'Référence_48' 'Référence_49'\n",
      " 'Référence_50' 'Référence_51' 'Référence_52' 'Référence_53'\n",
      " 'Référence_54' 'Référence_55' 'Référence_56' 'Référence_57'\n",
      " 'Référence_58' 'Référence_59' 'Référence_60' 'Référence_61'\n",
      " 'Référence_62' 'Référence_63' 'Référence_64' 'Référence_65'\n",
      " 'Référence_66' 'Référence_67' 'Référence_68' 'Référence_69'\n",
      " 'Référence_70' 'Référence_71' 'Référence_72' 'Référence_73'\n",
      " 'Référence_74' 'Référence_75' 'Référence_76' 'Référence_77'\n",
      " 'Référence_78' 'Référence_79' 'Référence_80' 'Référence_81'\n",
      " 'Référence_82' 'Référence_83' 'Référence_84' 'Référence_85'\n",
      " 'Référence_86' 'Référence_87' 'Référence_88' 'Référence_89'\n",
      " 'Référence_90' 'Référence_91' 'Référence_92' 'Référence_93'\n",
      " 'Référence_94' 'Référence_95' 'Référence_96' 'Référence_97'\n",
      " 'Référence_98' 'Référence_99' 'Référence_100' 'Référence_101'\n",
      " 'Référence_102' 'Référence_103' 'Référence_104' 'Référence_105'\n",
      " 'Référence_106' 'Référence_107' 'Référence_108' 'Référence_109'\n",
      " 'Référence_110' 'Référence_111' 'Référence_112' 'Référence_113'\n",
      " 'Référence_114' 'Référence_115' 'Référence_116' 'Référence_117'\n",
      " 'Référence_118' 'Référence_119' 'Référence_120' 'Référence_121'\n",
      " 'Référence_122' 'Référence_123' 'Référence_124' 'Référence_125'\n",
      " 'Référence_126' 'Référence_127' 'Référence_128' 'Référence_129'\n",
      " 'Référence_130' 'Référence_131' 'Référence_132' 'Référence_133'\n",
      " 'Référence_134' 'Référence_135' 'Référence_136' 'Référence_137'\n",
      " 'Référence_138' 'Référence_139' 'Référence_140' 'Référence_141'\n",
      " 'Référence_142' 'Référence_143' 'Référence_144' 'Référence_145'\n",
      " 'Référence_146' 'Référence_147' 'Référence_148' 'Référence_149'\n",
      " 'Référence_150' 'Référence_151' 'Référence_152' 'Référence_153'\n",
      " 'Référence_154' 'Référence_155' 'Référence_156' 'Référence_157'\n",
      " 'Référence_158' 'Référence_159' 'Référence_160' 'Référence_161'\n",
      " 'Référence_162' 'Référence_163' 'Référence_164' 'Référence_165'\n",
      " 'Référence_166' 'Référence_167' 'Référence_168' 'Référence_169'\n",
      " 'Référence_170' 'Référence_171' 'Référence_172' 'Référence_173'\n",
      " 'Référence_174' 'Référence_175' 'Référence_176' 'Référence_177'\n",
      " 'Référence_178' 'Référence_179' 'Référence_180' 'Référence_181'\n",
      " 'Référence_182' 'Référence_183' 'Référence_184' 'Référence_185'\n",
      " 'Référence_186' 'Référence_187' 'Référence_188' 'Référence_189'\n",
      " 'Référence_190' 'Référence_191' 'Référence_192' 'Référence_193'\n",
      " 'Référence_194' 'Référence_195' 'Référence_196' 'Référence_197'\n",
      " 'Référence_198' 'Référence_199' 'Référence_200' 'Référence_201'\n",
      " 'Référence_202' 'Référence_203' 'Référence_204' 'Référence_205'\n",
      " 'Référence_206' 'Référence_207' 'Référence_208' 'Référence_209'\n",
      " 'Référence_210' 'Référence_211' 'Référence_212' 'Référence_213'\n",
      " 'Référence_214' 'Référence_215' 'Référence_216' 'Référence_217'\n",
      " 'Référence_218' 'Référence_219' 'Référence_220' 'Référence_221'\n",
      " 'Référence_222' 'Référence_223' 'Référence_224' 'Référence_225'\n",
      " 'Référence_226' 'Référence_227' 'Référence_228' 'Référence_229'\n",
      " 'Référence_230' 'Référence_231' 'Référence_232' 'Référence_233'\n",
      " 'Référence_234' 'Référence_235' 'Référence_236' 'Référence_237'\n",
      " 'Référence_238' 'Référence_239' 'Référence_240' 'Référence_241'\n",
      " 'Référence_242' 'Référence_243' 'Référence_244' 'Référence_245'\n",
      " 'Référence_246' 'Référence_247' 'Référence_248' 'Référence_249'\n",
      " 'Référence_250' 'Référence_251' 'Référence_252' 'Référence_253'\n",
      " 'Référence_254' 'Référence_255' 'Référence_256' 'Référence_257'\n",
      " 'Référence_258' 'Référence_259' 'Référence_260' 'Référence_261'\n",
      " 'Référence_262' 'Référence_263' 'Référence_264' 'Référence_265'\n",
      " 'Référence_266' 'Référence_267' 'Référence_268' 'Référence_269'\n",
      " 'Référence_270' 'Référence_271' 'Référence_272' 'Référence_273'\n",
      " 'Référence_274' 'Référence_275' 'Référence_276' 'Référence_277'\n",
      " 'Référence_278' 'Référence_279' 'Référence_280' 'Référence_281'\n",
      " 'Référence_282' 'Référence_283' 'Référence_284' 'Référence_285'\n",
      " 'Référence_286' 'Référence_287']\n",
      "\n",
      "Variable : Libellé couleurs\n",
      "['LICHEN' 'SABLE' 'NOIR' 'BLEU' 'BUBBLE GUM' 'JUDO' 'BEBE' 'OLIVE' 'BRUT'\n",
      " 'FOUGERE' 'JAPON' 'FLAMANT' 'KLEIN' 'OPALINE' 'ECRU' 'FAUX NOIR' 'CRAIE'\n",
      " 'FICELLE' 'TOURNESOL' 'MULTICOLOR' 'AVOINE' 'PERLE' 'KAKI' 'NATUREL'\n",
      " 'LILAS' 'GRIS' 'ROSE' 'BLANC' 'MARINE' 'MAUVE' 'MIMOSA' 'GRIS CHINE'\n",
      " 'CARBONE' 'MAKE-UP' 'JADE' 'DAHLIA' 'SILVER' 'TROPICAL' 'LAVANDE' 'MINT'\n",
      " 'BEIGE' 'AMANDE' 'BALLERINE' 'GRIS CHINE CLAIR' 'ENCRE' 'ORANGE'\n",
      " 'VANILLE' 'ARGILE' 'BLOSSOM' 'POUDRE' 'CITRON' 'NUAGE' 'MENTHE' 'CIEL'\n",
      " 'CHARBON' 'JAUNE' 'CAMEL' 'NEIGE' 'CELADON' 'BEURRE']\n",
      "\n",
      "Variable : SPRING / SUMMER\n",
      "['SUMMER' 'SPRING' nan]\n",
      "\n",
      "Variable : Puissance produit\n",
      "['BEST' 'SLOW' 'MEDIUM' 'PERMANENT' 'Spécifique' 'REPROD OPGM' nan]\n",
      "\n",
      "Variable : Champs UVS Statut de collection\n",
      "['SAISONNIER' 'PERMANENT' 'NINI']\n",
      "\n",
      "Variable : Prix (selon famille)\n",
      "['MEDIUM' 'LOW' 'HIGH']\n",
      "\n",
      "Variable : Iconique\n",
      "['NON' 'OUI']\n",
      "\n",
      "Variable : Type saison\n",
      "['SUMMER' 'MID-SEASON' 'WINTER']\n",
      "\n",
      "Variable : Segment\n",
      "['CASUAL' 'DAYWEAR' 'FASHION']\n",
      "\n"
     ]
    }
   ],
   "source": [
    "for cat in categorical_variables_ref: \n",
    "    print(\"Variable : {}\".format(cat))\n",
    "    print(ref[cat].unique())\n",
    "    print()"
   ]
  },
  {
   "cell_type": "code",
   "execution_count": 321,
   "metadata": {},
   "outputs": [
    {
     "name": "stdout",
     "output_type": "stream",
     "text": [
      "Variable : PVB\n",
      "count    357.00000\n",
      "mean     256.24930\n",
      "std      165.36061\n",
      "min       45.00000\n",
      "25%      120.00000\n",
      "50%      225.00000\n",
      "75%      340.00000\n",
      "max      990.00000\n",
      "Name: PVB, dtype: float64\n",
      "\n"
     ]
    }
   ],
   "source": [
    "for num in numerical_variables_ref : \n",
    "    print(\"Variable : {}\".format(num))\n",
    "    print(ref[num].describe())\n",
    "    print()"
   ]
  },
  {
   "cell_type": "code",
   "execution_count": 322,
   "metadata": {},
   "outputs": [
    {
     "data": {
      "text/plain": [
       "Libellé rayon                       0\n",
       "Libellé thème                       0\n",
       "Libellé famille                     0\n",
       "Libellé sous famille               24\n",
       "Produit                             0\n",
       "Libellé couleurs                    0\n",
       "PVB                                 0\n",
       "SPRING / SUMMER                    22\n",
       "Puissance produit                   1\n",
       "Champs UVS Statut de collection     0\n",
       "Prix (selon famille)                0\n",
       "Iconique                            0\n",
       "Type saison                         0\n",
       "Segment                             0\n",
       "dtype: int64"
      ]
     },
     "execution_count": 322,
     "metadata": {},
     "output_type": "execute_result"
    }
   ],
   "source": [
    "ref.isnull().sum()"
   ]
  },
  {
   "cell_type": "code",
   "execution_count": 323,
   "metadata": {},
   "outputs": [],
   "source": [
    "# On rempli les valeurs nan avec des valeurs random de chaque colonne.\n",
    "import random\n",
    "ref['Libellé sous famille'].fillna(random.choice(ref['Libellé sous famille'][ref['Libellé sous famille'].notna()]), inplace=True)"
   ]
  },
  {
   "cell_type": "code",
   "execution_count": 324,
   "metadata": {},
   "outputs": [],
   "source": [
    "ref['SPRING / SUMMER'].fillna(random.choice(ref['SPRING / SUMMER'][ref['SPRING / SUMMER'].notna()]), inplace=True)"
   ]
  },
  {
   "cell_type": "code",
   "execution_count": 325,
   "metadata": {},
   "outputs": [],
   "source": [
    "# Comme il n'y a qu'une seule valeur nan dans la colonne \"Puissance produit\" nous la remplissons avec MEDIUM.\n",
    "ref['Puissance produit'] = ref['Puissance produit'].fillna('MEDIUM')"
   ]
  },
  {
   "cell_type": "code",
   "execution_count": 326,
   "metadata": {},
   "outputs": [
    {
     "data": {
      "text/plain": [
       "Libellé rayon                      0\n",
       "Libellé thème                      0\n",
       "Libellé famille                    0\n",
       "Libellé sous famille               0\n",
       "Produit                            0\n",
       "Libellé couleurs                   0\n",
       "PVB                                0\n",
       "SPRING / SUMMER                    0\n",
       "Puissance produit                  0\n",
       "Champs UVS Statut de collection    0\n",
       "Prix (selon famille)               0\n",
       "Iconique                           0\n",
       "Type saison                        0\n",
       "Segment                            0\n",
       "dtype: int64"
      ]
     },
     "execution_count": 326,
     "metadata": {},
     "output_type": "execute_result"
    }
   ],
   "source": [
    "ref.isnull().sum()"
   ]
  },
  {
   "cell_type": "code",
   "execution_count": 327,
   "metadata": {},
   "outputs": [],
   "source": [
    "#Création  de la clé de jointure\n",
    "ref[\"Modèle_Coloris\"] = ref[\"Produit\"] + ref[\"Libellé couleurs\"]"
   ]
  },
  {
   "cell_type": "markdown",
   "metadata": {},
   "source": [
    "### I.1.2. Jointure entre le fichier de ventes et de références"
   ]
  },
  {
   "cell_type": "markdown",
   "metadata": {},
   "source": [
    "Nous effectuons une jointure \"inner\" entre les ventes et les références. L'objectif est de ne garder que les informations contenues dans les deux fichiers.\n",
    "\n",
    "Nous calculons ensuite le montant total pour chaque référence produit et chaque magasin."
   ]
  },
  {
   "cell_type": "code",
   "execution_count": 328,
   "metadata": {},
   "outputs": [],
   "source": [
    "ventes_ref = ventes.merge(ref, how = 'inner', on = \"Modèle_Coloris\")"
   ]
  },
  {
   "cell_type": "code",
   "execution_count": 329,
   "metadata": {},
   "outputs": [],
   "source": [
    "# Calculer le Montant Total\n",
    "ventes_ref[\"Montant total\"] = ventes_ref[\"Ventes17_19\"] * ventes_ref[\"PVB\"]"
   ]
  },
  {
   "cell_type": "code",
   "execution_count": 330,
   "metadata": {},
   "outputs": [
    {
     "data": {
      "text/html": [
       "<div>\n",
       "<style scoped>\n",
       "    .dataframe tbody tr th:only-of-type {\n",
       "        vertical-align: middle;\n",
       "    }\n",
       "\n",
       "    .dataframe tbody tr th {\n",
       "        vertical-align: top;\n",
       "    }\n",
       "\n",
       "    .dataframe thead th {\n",
       "        text-align: right;\n",
       "    }\n",
       "</style>\n",
       "<table border=\"1\" class=\"dataframe\">\n",
       "  <thead>\n",
       "    <tr style=\"text-align: right;\">\n",
       "      <th></th>\n",
       "      <th>Magasin</th>\n",
       "      <th>Référence produit</th>\n",
       "      <th>Couleur produit</th>\n",
       "      <th>Modèle_Coloris</th>\n",
       "      <th>SKUSTORE</th>\n",
       "      <th>Classification famille</th>\n",
       "      <th>Classification rayon</th>\n",
       "      <th>Classification sous famille</th>\n",
       "      <th>Statut Collection Produit</th>\n",
       "      <th>Ventes17_19</th>\n",
       "      <th>Libellé rayon</th>\n",
       "      <th>Libellé thème</th>\n",
       "      <th>Libellé famille</th>\n",
       "      <th>Libellé sous famille</th>\n",
       "      <th>Produit</th>\n",
       "      <th>Libellé couleurs</th>\n",
       "      <th>PVB</th>\n",
       "      <th>SPRING / SUMMER</th>\n",
       "      <th>Puissance produit</th>\n",
       "      <th>Champs UVS Statut de collection</th>\n",
       "      <th>Prix (selon famille)</th>\n",
       "      <th>Iconique</th>\n",
       "      <th>Type saison</th>\n",
       "      <th>Segment</th>\n",
       "      <th>Montant total</th>\n",
       "    </tr>\n",
       "  </thead>\n",
       "  <tbody>\n",
       "    <tr>\n",
       "      <th>0</th>\n",
       "      <td>Magasin_127</td>\n",
       "      <td>Référence_14</td>\n",
       "      <td>BRUT</td>\n",
       "      <td>Référence_14BRUT</td>\n",
       "      <td>Référence_14BRUTMagasin_127</td>\n",
       "      <td>BLOUSONS</td>\n",
       "      <td>PAP FEMME</td>\n",
       "      <td>COTON</td>\n",
       "      <td>SAISONNIER</td>\n",
       "      <td>23</td>\n",
       "      <td>PAP FEMME</td>\n",
       "      <td>CHAINETRAME</td>\n",
       "      <td>BLOUSONS</td>\n",
       "      <td>COTON</td>\n",
       "      <td>Référence_14</td>\n",
       "      <td>BRUT</td>\n",
       "      <td>380</td>\n",
       "      <td>SPRING</td>\n",
       "      <td>MEDIUM</td>\n",
       "      <td>SAISONNIER</td>\n",
       "      <td>HIGH</td>\n",
       "      <td>OUI</td>\n",
       "      <td>MID-SEASON</td>\n",
       "      <td>CASUAL</td>\n",
       "      <td>8740</td>\n",
       "    </tr>\n",
       "    <tr>\n",
       "      <th>1</th>\n",
       "      <td>Magasin_193</td>\n",
       "      <td>Référence_14</td>\n",
       "      <td>BRUT</td>\n",
       "      <td>Référence_14BRUT</td>\n",
       "      <td>Référence_14BRUTMagasin_193</td>\n",
       "      <td>BLOUSONS</td>\n",
       "      <td>PAP FEMME</td>\n",
       "      <td>COTON</td>\n",
       "      <td>SAISONNIER</td>\n",
       "      <td>4</td>\n",
       "      <td>PAP FEMME</td>\n",
       "      <td>CHAINETRAME</td>\n",
       "      <td>BLOUSONS</td>\n",
       "      <td>COTON</td>\n",
       "      <td>Référence_14</td>\n",
       "      <td>BRUT</td>\n",
       "      <td>380</td>\n",
       "      <td>SPRING</td>\n",
       "      <td>MEDIUM</td>\n",
       "      <td>SAISONNIER</td>\n",
       "      <td>HIGH</td>\n",
       "      <td>OUI</td>\n",
       "      <td>MID-SEASON</td>\n",
       "      <td>CASUAL</td>\n",
       "      <td>1520</td>\n",
       "    </tr>\n",
       "    <tr>\n",
       "      <th>2</th>\n",
       "      <td>Magasin_154</td>\n",
       "      <td>Référence_14</td>\n",
       "      <td>BRUT</td>\n",
       "      <td>Référence_14BRUT</td>\n",
       "      <td>Référence_14BRUTMagasin_154</td>\n",
       "      <td>BLOUSONS</td>\n",
       "      <td>PAP FEMME</td>\n",
       "      <td>COTON</td>\n",
       "      <td>SAISONNIER</td>\n",
       "      <td>16</td>\n",
       "      <td>PAP FEMME</td>\n",
       "      <td>CHAINETRAME</td>\n",
       "      <td>BLOUSONS</td>\n",
       "      <td>COTON</td>\n",
       "      <td>Référence_14</td>\n",
       "      <td>BRUT</td>\n",
       "      <td>380</td>\n",
       "      <td>SPRING</td>\n",
       "      <td>MEDIUM</td>\n",
       "      <td>SAISONNIER</td>\n",
       "      <td>HIGH</td>\n",
       "      <td>OUI</td>\n",
       "      <td>MID-SEASON</td>\n",
       "      <td>CASUAL</td>\n",
       "      <td>6080</td>\n",
       "    </tr>\n",
       "    <tr>\n",
       "      <th>3</th>\n",
       "      <td>Magasin_81</td>\n",
       "      <td>Référence_14</td>\n",
       "      <td>BRUT</td>\n",
       "      <td>Référence_14BRUT</td>\n",
       "      <td>Référence_14BRUTMagasin_81</td>\n",
       "      <td>BLOUSONS</td>\n",
       "      <td>PAP FEMME</td>\n",
       "      <td>COTON</td>\n",
       "      <td>SAISONNIER</td>\n",
       "      <td>8</td>\n",
       "      <td>PAP FEMME</td>\n",
       "      <td>CHAINETRAME</td>\n",
       "      <td>BLOUSONS</td>\n",
       "      <td>COTON</td>\n",
       "      <td>Référence_14</td>\n",
       "      <td>BRUT</td>\n",
       "      <td>380</td>\n",
       "      <td>SPRING</td>\n",
       "      <td>MEDIUM</td>\n",
       "      <td>SAISONNIER</td>\n",
       "      <td>HIGH</td>\n",
       "      <td>OUI</td>\n",
       "      <td>MID-SEASON</td>\n",
       "      <td>CASUAL</td>\n",
       "      <td>3040</td>\n",
       "    </tr>\n",
       "    <tr>\n",
       "      <th>4</th>\n",
       "      <td>Magasin_84</td>\n",
       "      <td>Référence_14</td>\n",
       "      <td>BRUT</td>\n",
       "      <td>Référence_14BRUT</td>\n",
       "      <td>Référence_14BRUTMagasin_84</td>\n",
       "      <td>BLOUSONS</td>\n",
       "      <td>PAP FEMME</td>\n",
       "      <td>COTON</td>\n",
       "      <td>SAISONNIER</td>\n",
       "      <td>7</td>\n",
       "      <td>PAP FEMME</td>\n",
       "      <td>CHAINETRAME</td>\n",
       "      <td>BLOUSONS</td>\n",
       "      <td>COTON</td>\n",
       "      <td>Référence_14</td>\n",
       "      <td>BRUT</td>\n",
       "      <td>380</td>\n",
       "      <td>SPRING</td>\n",
       "      <td>MEDIUM</td>\n",
       "      <td>SAISONNIER</td>\n",
       "      <td>HIGH</td>\n",
       "      <td>OUI</td>\n",
       "      <td>MID-SEASON</td>\n",
       "      <td>CASUAL</td>\n",
       "      <td>2660</td>\n",
       "    </tr>\n",
       "  </tbody>\n",
       "</table>\n",
       "</div>"
      ],
      "text/plain": [
       "       Magasin Référence produit Couleur produit    Modèle_Coloris  \\\n",
       "0  Magasin_127      Référence_14            BRUT  Référence_14BRUT   \n",
       "1  Magasin_193      Référence_14            BRUT  Référence_14BRUT   \n",
       "2  Magasin_154      Référence_14            BRUT  Référence_14BRUT   \n",
       "3   Magasin_81      Référence_14            BRUT  Référence_14BRUT   \n",
       "4   Magasin_84      Référence_14            BRUT  Référence_14BRUT   \n",
       "\n",
       "                      SKUSTORE Classification famille Classification rayon  \\\n",
       "0  Référence_14BRUTMagasin_127               BLOUSONS            PAP FEMME   \n",
       "1  Référence_14BRUTMagasin_193               BLOUSONS            PAP FEMME   \n",
       "2  Référence_14BRUTMagasin_154               BLOUSONS            PAP FEMME   \n",
       "3   Référence_14BRUTMagasin_81               BLOUSONS            PAP FEMME   \n",
       "4   Référence_14BRUTMagasin_84               BLOUSONS            PAP FEMME   \n",
       "\n",
       "  Classification sous famille Statut Collection Produit  Ventes17_19  \\\n",
       "0                       COTON                SAISONNIER           23   \n",
       "1                       COTON                SAISONNIER            4   \n",
       "2                       COTON                SAISONNIER           16   \n",
       "3                       COTON                SAISONNIER            8   \n",
       "4                       COTON                SAISONNIER            7   \n",
       "\n",
       "  Libellé rayon Libellé thème Libellé famille Libellé sous famille  \\\n",
       "0     PAP FEMME   CHAINETRAME        BLOUSONS                COTON   \n",
       "1     PAP FEMME   CHAINETRAME        BLOUSONS                COTON   \n",
       "2     PAP FEMME   CHAINETRAME        BLOUSONS                COTON   \n",
       "3     PAP FEMME   CHAINETRAME        BLOUSONS                COTON   \n",
       "4     PAP FEMME   CHAINETRAME        BLOUSONS                COTON   \n",
       "\n",
       "        Produit Libellé couleurs  PVB SPRING / SUMMER Puissance produit  \\\n",
       "0  Référence_14             BRUT  380          SPRING            MEDIUM   \n",
       "1  Référence_14             BRUT  380          SPRING            MEDIUM   \n",
       "2  Référence_14             BRUT  380          SPRING            MEDIUM   \n",
       "3  Référence_14             BRUT  380          SPRING            MEDIUM   \n",
       "4  Référence_14             BRUT  380          SPRING            MEDIUM   \n",
       "\n",
       "  Champs UVS Statut de collection Prix (selon famille) Iconique Type saison  \\\n",
       "0                      SAISONNIER                 HIGH      OUI  MID-SEASON   \n",
       "1                      SAISONNIER                 HIGH      OUI  MID-SEASON   \n",
       "2                      SAISONNIER                 HIGH      OUI  MID-SEASON   \n",
       "3                      SAISONNIER                 HIGH      OUI  MID-SEASON   \n",
       "4                      SAISONNIER                 HIGH      OUI  MID-SEASON   \n",
       "\n",
       "  Segment  Montant total  \n",
       "0  CASUAL           8740  \n",
       "1  CASUAL           1520  \n",
       "2  CASUAL           6080  \n",
       "3  CASUAL           3040  \n",
       "4  CASUAL           2660  "
      ]
     },
     "execution_count": 330,
     "metadata": {},
     "output_type": "execute_result"
    }
   ],
   "source": [
    "ventes_ref.head()"
   ]
  },
  {
   "cell_type": "markdown",
   "metadata": {},
   "source": [
    "### I.1.3. Création de variables à la maille du magasin sur le fichier joint des ventes et des références"
   ]
  },
  {
   "cell_type": "markdown",
   "metadata": {},
   "source": [
    "Etant donné que nous souhaitons faire un clustering de magasins, il convient de calculer de nouvelles features à partir du dataset \"ventes_ref\" à la maille du magasin.\n",
    "La fonctionnalité groupby permet de répondre à ce besoin.\n"
   ]
  },
  {
   "cell_type": "markdown",
   "metadata": {},
   "source": [
    "**Calcul du montant total et du nombre de ventes total par magasin**"
   ]
  },
  {
   "cell_type": "code",
   "execution_count": 331,
   "metadata": {},
   "outputs": [
    {
     "data": {
      "text/html": [
       "<div>\n",
       "<style scoped>\n",
       "    .dataframe tbody tr th:only-of-type {\n",
       "        vertical-align: middle;\n",
       "    }\n",
       "\n",
       "    .dataframe tbody tr th {\n",
       "        vertical-align: top;\n",
       "    }\n",
       "\n",
       "    .dataframe thead th {\n",
       "        text-align: right;\n",
       "    }\n",
       "</style>\n",
       "<table border=\"1\" class=\"dataframe\">\n",
       "  <thead>\n",
       "    <tr style=\"text-align: right;\">\n",
       "      <th></th>\n",
       "      <th>Magasin</th>\n",
       "      <th>Type boutique</th>\n",
       "      <th>Surface magasin (*)</th>\n",
       "      <th>Climat</th>\n",
       "      <th>Mall</th>\n",
       "      <th>Comportement d'achat</th>\n",
       "      <th>Panier moyen  HT (Taux budget)</th>\n",
       "      <th>Indice de vente</th>\n",
       "    </tr>\n",
       "  </thead>\n",
       "  <tbody>\n",
       "    <tr>\n",
       "      <th>0</th>\n",
       "      <td>Magasin_99</td>\n",
       "      <td>GM</td>\n",
       "      <td>55.0</td>\n",
       "      <td>FROID</td>\n",
       "      <td>OUI</td>\n",
       "      <td>CLIENT FULL PRICE</td>\n",
       "      <td>267.438950</td>\n",
       "      <td>1.297333</td>\n",
       "    </tr>\n",
       "    <tr>\n",
       "      <th>1</th>\n",
       "      <td>Magasin_49</td>\n",
       "      <td>GM</td>\n",
       "      <td>22.0</td>\n",
       "      <td>CHAUD</td>\n",
       "      <td>OUI</td>\n",
       "      <td>CLIENT FULL PRICE</td>\n",
       "      <td>207.102617</td>\n",
       "      <td>1.132231</td>\n",
       "    </tr>\n",
       "    <tr>\n",
       "      <th>2</th>\n",
       "      <td>Magasin_39</td>\n",
       "      <td>GM</td>\n",
       "      <td>75.0</td>\n",
       "      <td>TEMPERE</td>\n",
       "      <td>OUI</td>\n",
       "      <td>CLIENT DISCOUNT</td>\n",
       "      <td>195.375729</td>\n",
       "      <td>1.198321</td>\n",
       "    </tr>\n",
       "    <tr>\n",
       "      <th>3</th>\n",
       "      <td>Magasin_193</td>\n",
       "      <td>BOUTIQUE</td>\n",
       "      <td>139.0</td>\n",
       "      <td>TEMPERE</td>\n",
       "      <td>NON</td>\n",
       "      <td>CLIENT FULL PRICE</td>\n",
       "      <td>320.788863</td>\n",
       "      <td>1.780049</td>\n",
       "    </tr>\n",
       "    <tr>\n",
       "      <th>4</th>\n",
       "      <td>Magasin_190</td>\n",
       "      <td>GM</td>\n",
       "      <td>35.0</td>\n",
       "      <td>TEMPERE</td>\n",
       "      <td>OUI</td>\n",
       "      <td>CLIENT DISCOUNT</td>\n",
       "      <td>171.843728</td>\n",
       "      <td>1.268786</td>\n",
       "    </tr>\n",
       "  </tbody>\n",
       "</table>\n",
       "</div>"
      ],
      "text/plain": [
       "       Magasin Type boutique  Surface magasin (*)   Climat Mall  \\\n",
       "0   Magasin_99            GM                 55.0    FROID  OUI   \n",
       "1   Magasin_49            GM                 22.0    CHAUD  OUI   \n",
       "2   Magasin_39            GM                 75.0  TEMPERE  OUI   \n",
       "3  Magasin_193      BOUTIQUE                139.0  TEMPERE  NON   \n",
       "4  Magasin_190            GM                 35.0  TEMPERE  OUI   \n",
       "\n",
       "  Comportement d'achat  Panier moyen  HT (Taux budget)  Indice de vente  \n",
       "0    CLIENT FULL PRICE                       267.438950         1.297333  \n",
       "1    CLIENT FULL PRICE                       207.102617         1.132231  \n",
       "2      CLIENT DISCOUNT                       195.375729         1.198321  \n",
       "3    CLIENT FULL PRICE                       320.788863         1.780049  \n",
       "4      CLIENT DISCOUNT                       171.843728         1.268786  "
      ]
     },
     "execution_count": 331,
     "metadata": {},
     "output_type": "execute_result"
    }
   ],
   "source": [
    "mag.head()"
   ]
  },
  {
   "cell_type": "code",
   "execution_count": 332,
   "metadata": {},
   "outputs": [],
   "source": [
    "mag_montants_ventes = ventes_ref.groupby(\"Magasin\")[[\"Montant total\", \"Ventes17_19\"]].sum()"
   ]
  },
  {
   "cell_type": "code",
   "execution_count": 333,
   "metadata": {},
   "outputs": [
    {
     "data": {
      "text/html": [
       "<div>\n",
       "<style scoped>\n",
       "    .dataframe tbody tr th:only-of-type {\n",
       "        vertical-align: middle;\n",
       "    }\n",
       "\n",
       "    .dataframe tbody tr th {\n",
       "        vertical-align: top;\n",
       "    }\n",
       "\n",
       "    .dataframe thead th {\n",
       "        text-align: right;\n",
       "    }\n",
       "</style>\n",
       "<table border=\"1\" class=\"dataframe\">\n",
       "  <thead>\n",
       "    <tr style=\"text-align: right;\">\n",
       "      <th></th>\n",
       "      <th>Montant total</th>\n",
       "      <th>Ventes17_19</th>\n",
       "    </tr>\n",
       "    <tr>\n",
       "      <th>Magasin</th>\n",
       "      <th></th>\n",
       "      <th></th>\n",
       "    </tr>\n",
       "  </thead>\n",
       "  <tbody>\n",
       "    <tr>\n",
       "      <th>Magasin_1</th>\n",
       "      <td>512234</td>\n",
       "      <td>2283</td>\n",
       "    </tr>\n",
       "    <tr>\n",
       "      <th>Magasin_10</th>\n",
       "      <td>181469</td>\n",
       "      <td>856</td>\n",
       "    </tr>\n",
       "    <tr>\n",
       "      <th>Magasin_100</th>\n",
       "      <td>593470</td>\n",
       "      <td>2546</td>\n",
       "    </tr>\n",
       "    <tr>\n",
       "      <th>Magasin_101</th>\n",
       "      <td>458868</td>\n",
       "      <td>2169</td>\n",
       "    </tr>\n",
       "    <tr>\n",
       "      <th>Magasin_102</th>\n",
       "      <td>163359</td>\n",
       "      <td>793</td>\n",
       "    </tr>\n",
       "  </tbody>\n",
       "</table>\n",
       "</div>"
      ],
      "text/plain": [
       "             Montant total  Ventes17_19\n",
       "Magasin                                \n",
       "Magasin_1           512234         2283\n",
       "Magasin_10          181469          856\n",
       "Magasin_100         593470         2546\n",
       "Magasin_101         458868         2169\n",
       "Magasin_102         163359          793"
      ]
     },
     "execution_count": 333,
     "metadata": {},
     "output_type": "execute_result"
    }
   ],
   "source": [
    "mag_montants_ventes.head()"
   ]
  },
  {
   "cell_type": "markdown",
   "metadata": {},
   "source": [
    "Calculez le prix de vente moyen"
   ]
  },
  {
   "cell_type": "code",
   "execution_count": 334,
   "metadata": {},
   "outputs": [],
   "source": [
    "mag_montants_ventes[\"Prix de vente moyen\"] = mag_montants_ventes[\"Montant total\"] / mag_montants_ventes[\"Ventes17_19\"]"
   ]
  },
  {
   "cell_type": "code",
   "execution_count": 335,
   "metadata": {},
   "outputs": [
    {
     "data": {
      "text/html": [
       "<div>\n",
       "<style scoped>\n",
       "    .dataframe tbody tr th:only-of-type {\n",
       "        vertical-align: middle;\n",
       "    }\n",
       "\n",
       "    .dataframe tbody tr th {\n",
       "        vertical-align: top;\n",
       "    }\n",
       "\n",
       "    .dataframe thead th {\n",
       "        text-align: right;\n",
       "    }\n",
       "</style>\n",
       "<table border=\"1\" class=\"dataframe\">\n",
       "  <thead>\n",
       "    <tr style=\"text-align: right;\">\n",
       "      <th></th>\n",
       "      <th>Montant total</th>\n",
       "      <th>Ventes17_19</th>\n",
       "      <th>Prix de vente moyen</th>\n",
       "    </tr>\n",
       "    <tr>\n",
       "      <th>Magasin</th>\n",
       "      <th></th>\n",
       "      <th></th>\n",
       "      <th></th>\n",
       "    </tr>\n",
       "  </thead>\n",
       "  <tbody>\n",
       "    <tr>\n",
       "      <th>Magasin_1</th>\n",
       "      <td>512234</td>\n",
       "      <td>2283</td>\n",
       "      <td>224.368813</td>\n",
       "    </tr>\n",
       "    <tr>\n",
       "      <th>Magasin_10</th>\n",
       "      <td>181469</td>\n",
       "      <td>856</td>\n",
       "      <td>211.996495</td>\n",
       "    </tr>\n",
       "    <tr>\n",
       "      <th>Magasin_100</th>\n",
       "      <td>593470</td>\n",
       "      <td>2546</td>\n",
       "      <td>233.098979</td>\n",
       "    </tr>\n",
       "    <tr>\n",
       "      <th>Magasin_101</th>\n",
       "      <td>458868</td>\n",
       "      <td>2169</td>\n",
       "      <td>211.557400</td>\n",
       "    </tr>\n",
       "    <tr>\n",
       "      <th>Magasin_102</th>\n",
       "      <td>163359</td>\n",
       "      <td>793</td>\n",
       "      <td>206.001261</td>\n",
       "    </tr>\n",
       "  </tbody>\n",
       "</table>\n",
       "</div>"
      ],
      "text/plain": [
       "             Montant total  Ventes17_19  Prix de vente moyen\n",
       "Magasin                                                     \n",
       "Magasin_1           512234         2283           224.368813\n",
       "Magasin_10          181469          856           211.996495\n",
       "Magasin_100         593470         2546           233.098979\n",
       "Magasin_101         458868         2169           211.557400\n",
       "Magasin_102         163359          793           206.001261"
      ]
     },
     "execution_count": 335,
     "metadata": {},
     "output_type": "execute_result"
    }
   ],
   "source": [
    "mag_montants_ventes.head()"
   ]
  },
  {
   "cell_type": "markdown",
   "metadata": {},
   "source": [
    "- On cree des feature numeric."
   ]
  },
  {
   "cell_type": "code",
   "execution_count": 336,
   "metadata": {},
   "outputs": [],
   "source": [
    "mag_montants_taux_indice = mag.groupby(\"Magasin\")[[\"Panier moyen  HT (Taux budget)\", \"Indice de vente\"]].sum()"
   ]
  },
  {
   "cell_type": "code",
   "execution_count": 337,
   "metadata": {},
   "outputs": [
    {
     "data": {
      "text/html": [
       "<div>\n",
       "<style scoped>\n",
       "    .dataframe tbody tr th:only-of-type {\n",
       "        vertical-align: middle;\n",
       "    }\n",
       "\n",
       "    .dataframe tbody tr th {\n",
       "        vertical-align: top;\n",
       "    }\n",
       "\n",
       "    .dataframe thead th {\n",
       "        text-align: right;\n",
       "    }\n",
       "</style>\n",
       "<table border=\"1\" class=\"dataframe\">\n",
       "  <thead>\n",
       "    <tr style=\"text-align: right;\">\n",
       "      <th></th>\n",
       "      <th>Panier moyen  HT (Taux budget)</th>\n",
       "      <th>Indice de vente</th>\n",
       "    </tr>\n",
       "    <tr>\n",
       "      <th>Magasin</th>\n",
       "      <th></th>\n",
       "      <th></th>\n",
       "    </tr>\n",
       "  </thead>\n",
       "  <tbody>\n",
       "    <tr>\n",
       "      <th>Magasin_1</th>\n",
       "      <td>396.439363</td>\n",
       "      <td>0.000000</td>\n",
       "    </tr>\n",
       "    <tr>\n",
       "      <th>Magasin_10</th>\n",
       "      <td>266.656273</td>\n",
       "      <td>1.479903</td>\n",
       "    </tr>\n",
       "    <tr>\n",
       "      <th>Magasin_100</th>\n",
       "      <td>325.514678</td>\n",
       "      <td>1.384380</td>\n",
       "    </tr>\n",
       "    <tr>\n",
       "      <th>Magasin_101</th>\n",
       "      <td>239.881670</td>\n",
       "      <td>1.371019</td>\n",
       "    </tr>\n",
       "    <tr>\n",
       "      <th>Magasin_102</th>\n",
       "      <td>277.290152</td>\n",
       "      <td>1.555035</td>\n",
       "    </tr>\n",
       "  </tbody>\n",
       "</table>\n",
       "</div>"
      ],
      "text/plain": [
       "             Panier moyen  HT (Taux budget)  Indice de vente\n",
       "Magasin                                                      \n",
       "Magasin_1                         396.439363         0.000000\n",
       "Magasin_10                        266.656273         1.479903\n",
       "Magasin_100                       325.514678         1.384380\n",
       "Magasin_101                       239.881670         1.371019\n",
       "Magasin_102                       277.290152         1.555035"
      ]
     },
     "execution_count": 337,
     "metadata": {},
     "output_type": "execute_result"
    }
   ],
   "source": [
    "mag_montants_taux_indice.head()"
   ]
  },
  {
   "cell_type": "markdown",
   "metadata": {},
   "source": [
    "**On calcule la moyenne des magasins dans un Mall.**"
   ]
  },
  {
   "cell_type": "code",
   "execution_count": 338,
   "metadata": {},
   "outputs": [
    {
     "data": {
      "text/plain": [
       "OUI    113\n",
       "NON     94\n",
       "Name: Mall, dtype: int64"
      ]
     },
     "execution_count": 338,
     "metadata": {},
     "output_type": "execute_result"
    }
   ],
   "source": [
    "mag[\"Mall\"].value_counts(dropna = False)"
   ]
  },
  {
   "cell_type": "code",
   "execution_count": 339,
   "metadata": {},
   "outputs": [],
   "source": [
    "mall_oui = mag.groupby([\"Magasin\"])[\"Mall\"].sum()"
   ]
  },
  {
   "cell_type": "code",
   "execution_count": 340,
   "metadata": {},
   "outputs": [],
   "source": [
    "mall_oui = mall_oui.map({\"OUI\":\"1\", \"NON\": \"0\"})"
   ]
  },
  {
   "cell_type": "code",
   "execution_count": 341,
   "metadata": {},
   "outputs": [],
   "source": [
    "mall_oui = mall_oui.to_frame()"
   ]
  },
  {
   "cell_type": "code",
   "execution_count": 342,
   "metadata": {},
   "outputs": [
    {
     "data": {
      "text/html": [
       "<div>\n",
       "<style scoped>\n",
       "    .dataframe tbody tr th:only-of-type {\n",
       "        vertical-align: middle;\n",
       "    }\n",
       "\n",
       "    .dataframe tbody tr th {\n",
       "        vertical-align: top;\n",
       "    }\n",
       "\n",
       "    .dataframe thead th {\n",
       "        text-align: right;\n",
       "    }\n",
       "</style>\n",
       "<table border=\"1\" class=\"dataframe\">\n",
       "  <thead>\n",
       "    <tr style=\"text-align: right;\">\n",
       "      <th></th>\n",
       "      <th>Mall</th>\n",
       "    </tr>\n",
       "    <tr>\n",
       "      <th>Magasin</th>\n",
       "      <th></th>\n",
       "    </tr>\n",
       "  </thead>\n",
       "  <tbody>\n",
       "    <tr>\n",
       "      <th>Magasin_1</th>\n",
       "      <td>0</td>\n",
       "    </tr>\n",
       "    <tr>\n",
       "      <th>Magasin_10</th>\n",
       "      <td>0</td>\n",
       "    </tr>\n",
       "    <tr>\n",
       "      <th>Magasin_100</th>\n",
       "      <td>1</td>\n",
       "    </tr>\n",
       "    <tr>\n",
       "      <th>Magasin_101</th>\n",
       "      <td>0</td>\n",
       "    </tr>\n",
       "    <tr>\n",
       "      <th>Magasin_102</th>\n",
       "      <td>0</td>\n",
       "    </tr>\n",
       "  </tbody>\n",
       "</table>\n",
       "</div>"
      ],
      "text/plain": [
       "            Mall\n",
       "Magasin         \n",
       "Magasin_1      0\n",
       "Magasin_10     0\n",
       "Magasin_100    1\n",
       "Magasin_101    0\n",
       "Magasin_102    0"
      ]
     },
     "execution_count": 342,
     "metadata": {},
     "output_type": "execute_result"
    }
   ],
   "source": [
    "mall_oui.head()"
   ]
  },
  {
   "cell_type": "markdown",
   "metadata": {},
   "source": [
    "**Calcul du pourcentage de ventes des produits iconiques par magasin** "
   ]
  },
  {
   "cell_type": "code",
   "execution_count": 343,
   "metadata": {},
   "outputs": [
    {
     "data": {
      "text/plain": [
       "NON    22363\n",
       "OUI    14268\n",
       "Name: Iconique, dtype: int64"
      ]
     },
     "execution_count": 343,
     "metadata": {},
     "output_type": "execute_result"
    }
   ],
   "source": [
    "ventes_ref[\"Iconique\"].value_counts(dropna = False)"
   ]
  },
  {
   "cell_type": "code",
   "execution_count": 344,
   "metadata": {},
   "outputs": [],
   "source": [
    "#On remplace les champs Oui et Non par \"Iconique\" et \"Non_iconique\" pour pouvoir les reconnaitre plus tard"
   ]
  },
  {
   "cell_type": "code",
   "execution_count": 345,
   "metadata": {},
   "outputs": [],
   "source": [
    "ventes_ref[\"Iconique_transformed\"] = ventes_ref[\"Iconique\"].map({\"OUI\":\"Iconique\", \"NON\": \"Non_iconique\"})"
   ]
  },
  {
   "cell_type": "code",
   "execution_count": 346,
   "metadata": {},
   "outputs": [],
   "source": [
    "iconique_sum = ventes_ref.groupby([\"Magasin\", \"Iconique_transformed\"])['Ventes17_19'].sum().unstack()"
   ]
  },
  {
   "cell_type": "code",
   "execution_count": 347,
   "metadata": {},
   "outputs": [
    {
     "data": {
      "text/html": [
       "<div>\n",
       "<style scoped>\n",
       "    .dataframe tbody tr th:only-of-type {\n",
       "        vertical-align: middle;\n",
       "    }\n",
       "\n",
       "    .dataframe tbody tr th {\n",
       "        vertical-align: top;\n",
       "    }\n",
       "\n",
       "    .dataframe thead th {\n",
       "        text-align: right;\n",
       "    }\n",
       "</style>\n",
       "<table border=\"1\" class=\"dataframe\">\n",
       "  <thead>\n",
       "    <tr style=\"text-align: right;\">\n",
       "      <th>Iconique_transformed</th>\n",
       "      <th>Iconique</th>\n",
       "      <th>Non_iconique</th>\n",
       "    </tr>\n",
       "    <tr>\n",
       "      <th>Magasin</th>\n",
       "      <th></th>\n",
       "      <th></th>\n",
       "    </tr>\n",
       "  </thead>\n",
       "  <tbody>\n",
       "    <tr>\n",
       "      <th>Magasin_1</th>\n",
       "      <td>931.0</td>\n",
       "      <td>1352.0</td>\n",
       "    </tr>\n",
       "    <tr>\n",
       "      <th>Magasin_10</th>\n",
       "      <td>339.0</td>\n",
       "      <td>517.0</td>\n",
       "    </tr>\n",
       "    <tr>\n",
       "      <th>Magasin_100</th>\n",
       "      <td>1009.0</td>\n",
       "      <td>1537.0</td>\n",
       "    </tr>\n",
       "    <tr>\n",
       "      <th>Magasin_101</th>\n",
       "      <td>877.0</td>\n",
       "      <td>1292.0</td>\n",
       "    </tr>\n",
       "    <tr>\n",
       "      <th>Magasin_102</th>\n",
       "      <td>345.0</td>\n",
       "      <td>448.0</td>\n",
       "    </tr>\n",
       "  </tbody>\n",
       "</table>\n",
       "</div>"
      ],
      "text/plain": [
       "Iconique_transformed  Iconique  Non_iconique\n",
       "Magasin                                     \n",
       "Magasin_1                931.0        1352.0\n",
       "Magasin_10               339.0         517.0\n",
       "Magasin_100             1009.0        1537.0\n",
       "Magasin_101              877.0        1292.0\n",
       "Magasin_102              345.0         448.0"
      ]
     },
     "execution_count": 347,
     "metadata": {},
     "output_type": "execute_result"
    }
   ],
   "source": [
    "iconique_sum.head()"
   ]
  },
  {
   "cell_type": "markdown",
   "metadata": {},
   "source": [
    "Nous remarquons certaines valeurs manquantes. Cela veut dire que dans certains magasins (en l'occurence, les magasins 146 et 89), aucun produit iconique n'a été vendu. Nous allons donc imputer les valeurs manquantes à 0."
   ]
  },
  {
   "cell_type": "code",
   "execution_count": 348,
   "metadata": {},
   "outputs": [
    {
     "data": {
      "text/html": [
       "<div>\n",
       "<style scoped>\n",
       "    .dataframe tbody tr th:only-of-type {\n",
       "        vertical-align: middle;\n",
       "    }\n",
       "\n",
       "    .dataframe tbody tr th {\n",
       "        vertical-align: top;\n",
       "    }\n",
       "\n",
       "    .dataframe thead th {\n",
       "        text-align: right;\n",
       "    }\n",
       "</style>\n",
       "<table border=\"1\" class=\"dataframe\">\n",
       "  <thead>\n",
       "    <tr style=\"text-align: right;\">\n",
       "      <th>Iconique_transformed</th>\n",
       "      <th>Iconique</th>\n",
       "      <th>Non_iconique</th>\n",
       "    </tr>\n",
       "    <tr>\n",
       "      <th>Magasin</th>\n",
       "      <th></th>\n",
       "      <th></th>\n",
       "    </tr>\n",
       "  </thead>\n",
       "  <tbody>\n",
       "    <tr>\n",
       "      <th>Magasin_118</th>\n",
       "      <td>NaN</td>\n",
       "      <td>1.0</td>\n",
       "    </tr>\n",
       "    <tr>\n",
       "      <th>Magasin_61</th>\n",
       "      <td>NaN</td>\n",
       "      <td>1.0</td>\n",
       "    </tr>\n",
       "  </tbody>\n",
       "</table>\n",
       "</div>"
      ],
      "text/plain": [
       "Iconique_transformed  Iconique  Non_iconique\n",
       "Magasin                                     \n",
       "Magasin_118                NaN           1.0\n",
       "Magasin_61                 NaN           1.0"
      ]
     },
     "execution_count": 348,
     "metadata": {},
     "output_type": "execute_result"
    }
   ],
   "source": [
    "iconique_sum[iconique_sum.Iconique.isnull()]"
   ]
  },
  {
   "cell_type": "code",
   "execution_count": 349,
   "metadata": {},
   "outputs": [],
   "source": [
    "iconique_sum = iconique_sum.fillna(0)"
   ]
  },
  {
   "cell_type": "code",
   "execution_count": 350,
   "metadata": {},
   "outputs": [],
   "source": [
    "iconique_prc = iconique_sum.div(iconique_sum.sum(axis = 1), axis = 0)"
   ]
  },
  {
   "cell_type": "code",
   "execution_count": 351,
   "metadata": {},
   "outputs": [
    {
     "data": {
      "text/html": [
       "<div>\n",
       "<style scoped>\n",
       "    .dataframe tbody tr th:only-of-type {\n",
       "        vertical-align: middle;\n",
       "    }\n",
       "\n",
       "    .dataframe tbody tr th {\n",
       "        vertical-align: top;\n",
       "    }\n",
       "\n",
       "    .dataframe thead th {\n",
       "        text-align: right;\n",
       "    }\n",
       "</style>\n",
       "<table border=\"1\" class=\"dataframe\">\n",
       "  <thead>\n",
       "    <tr style=\"text-align: right;\">\n",
       "      <th>Iconique_transformed</th>\n",
       "      <th>Iconique</th>\n",
       "      <th>Non_iconique</th>\n",
       "    </tr>\n",
       "    <tr>\n",
       "      <th>Magasin</th>\n",
       "      <th></th>\n",
       "      <th></th>\n",
       "    </tr>\n",
       "  </thead>\n",
       "  <tbody>\n",
       "    <tr>\n",
       "      <th>Magasin_1</th>\n",
       "      <td>0.407797</td>\n",
       "      <td>0.592203</td>\n",
       "    </tr>\n",
       "    <tr>\n",
       "      <th>Magasin_10</th>\n",
       "      <td>0.396028</td>\n",
       "      <td>0.603972</td>\n",
       "    </tr>\n",
       "    <tr>\n",
       "      <th>Magasin_100</th>\n",
       "      <td>0.396308</td>\n",
       "      <td>0.603692</td>\n",
       "    </tr>\n",
       "    <tr>\n",
       "      <th>Magasin_101</th>\n",
       "      <td>0.404334</td>\n",
       "      <td>0.595666</td>\n",
       "    </tr>\n",
       "    <tr>\n",
       "      <th>Magasin_102</th>\n",
       "      <td>0.435057</td>\n",
       "      <td>0.564943</td>\n",
       "    </tr>\n",
       "  </tbody>\n",
       "</table>\n",
       "</div>"
      ],
      "text/plain": [
       "Iconique_transformed  Iconique  Non_iconique\n",
       "Magasin                                     \n",
       "Magasin_1             0.407797      0.592203\n",
       "Magasin_10            0.396028      0.603972\n",
       "Magasin_100           0.396308      0.603692\n",
       "Magasin_101           0.404334      0.595666\n",
       "Magasin_102           0.435057      0.564943"
      ]
     },
     "execution_count": 351,
     "metadata": {},
     "output_type": "execute_result"
    }
   ],
   "source": [
    "iconique_prc.head()"
   ]
  },
  {
   "cell_type": "markdown",
   "metadata": {},
   "source": [
    "**Faire le même traitement pour d'autres colonnes (nous proposon ces colonnes, mais il est possible d'en rajouter d'autres si vous les trouvez pertinentes) :**\n",
    "- Prix (selon famille)\n",
    "- Type saison\n",
    "- Segment\n",
    "- Libellé thème\n",
    "- Statut de collection\n",
    "\n",
    "Il peut être pertinent de créer une boucle for et de stocker les datasets temporaires dans une liste, puis de les concaténer"
   ]
  },
  {
   "cell_type": "code",
   "execution_count": 352,
   "metadata": {},
   "outputs": [],
   "source": [
    "#On remplace les champs Oui et Non par \"Iconique\" et \"Non_iconique\" pour pouvoir les reconnaitre plus tard\n",
    "ventes_ref[\"Iconique_transformed\"] = ventes_ref[\"Iconique\"].map({\"OUI\":\"Iconique\", \"NON\": \"Non_iconique\"})\n",
    "\n",
    "#On rajoute le nom de la feature pour reconnaitre les catégories\n",
    "ventes_ref[\"Prix (selon famille)_transformed\"] = \"Famille prix_\"+ventes_ref[\"Prix (selon famille)\"]\n",
    "\n",
    "#Même chose pour le type de saison\n",
    "ventes_ref[\"Type saison_transformed\"] = \"Type saison_\"+ventes_ref[\"Type saison\"]\n",
    "\n",
    "#Même chose pour le Segment\n",
    "ventes_ref[\"Segment_transformed\"] = \"Segment_\"+ventes_ref[\"Segment\"]\n",
    "\n",
    "#Même chose pour le Libellé thème\n",
    "ventes_ref[\"Libellé thème_transformed\"] = \"Libellé thème_\"+ventes_ref[\"Libellé thème\"]\n",
    "\n",
    "#Même chose pour le Statut Collection Produit\n",
    "ventes_ref[\"Statut Collection Produit_transformed\"] = \"Statut Collection Produit_\"+ventes_ref[\"Statut Collection Produit\"]"
   ]
  },
  {
   "cell_type": "markdown",
   "metadata": {},
   "source": [
    "Réalisez les mêmes traitements que pour le champ \"Iconique\""
   ]
  },
  {
   "cell_type": "markdown",
   "metadata": {},
   "source": [
    "- On fait le meme chose pour le Prix."
   ]
  },
  {
   "cell_type": "code",
   "execution_count": 353,
   "metadata": {},
   "outputs": [
    {
     "data": {
      "text/plain": [
       "MEDIUM    20714\n",
       "LOW        9208\n",
       "HIGH       6709\n",
       "Name: Prix (selon famille), dtype: int64"
      ]
     },
     "execution_count": 353,
     "metadata": {},
     "output_type": "execute_result"
    }
   ],
   "source": [
    "ventes_ref[\"Prix (selon famille)\"].value_counts(dropna = False)"
   ]
  },
  {
   "cell_type": "code",
   "execution_count": 354,
   "metadata": {},
   "outputs": [],
   "source": [
    "prix_famille_sum = ventes_ref.groupby([\"Magasin\", \"Prix (selon famille)_transformed\"])['Ventes17_19'].sum().unstack()"
   ]
  },
  {
   "cell_type": "code",
   "execution_count": 355,
   "metadata": {},
   "outputs": [],
   "source": [
    "prix_famille_prc = prix_famille_sum.div(prix_famille_sum.sum(axis=1), axis=0)"
   ]
  },
  {
   "cell_type": "code",
   "execution_count": 356,
   "metadata": {},
   "outputs": [
    {
     "data": {
      "text/html": [
       "<div>\n",
       "<style scoped>\n",
       "    .dataframe tbody tr th:only-of-type {\n",
       "        vertical-align: middle;\n",
       "    }\n",
       "\n",
       "    .dataframe tbody tr th {\n",
       "        vertical-align: top;\n",
       "    }\n",
       "\n",
       "    .dataframe thead th {\n",
       "        text-align: right;\n",
       "    }\n",
       "</style>\n",
       "<table border=\"1\" class=\"dataframe\">\n",
       "  <thead>\n",
       "    <tr style=\"text-align: right;\">\n",
       "      <th>Prix (selon famille)_transformed</th>\n",
       "      <th>Famille prix_HIGH</th>\n",
       "      <th>Famille prix_LOW</th>\n",
       "      <th>Famille prix_MEDIUM</th>\n",
       "    </tr>\n",
       "    <tr>\n",
       "      <th>Magasin</th>\n",
       "      <th></th>\n",
       "      <th></th>\n",
       "      <th></th>\n",
       "    </tr>\n",
       "  </thead>\n",
       "  <tbody>\n",
       "    <tr>\n",
       "      <th>Magasin_1</th>\n",
       "      <td>0.192291</td>\n",
       "      <td>0.244415</td>\n",
       "      <td>0.563294</td>\n",
       "    </tr>\n",
       "    <tr>\n",
       "      <th>Magasin_10</th>\n",
       "      <td>0.141355</td>\n",
       "      <td>0.293224</td>\n",
       "      <td>0.565421</td>\n",
       "    </tr>\n",
       "    <tr>\n",
       "      <th>Magasin_100</th>\n",
       "      <td>0.205420</td>\n",
       "      <td>0.225452</td>\n",
       "      <td>0.569128</td>\n",
       "    </tr>\n",
       "    <tr>\n",
       "      <th>Magasin_101</th>\n",
       "      <td>0.155832</td>\n",
       "      <td>0.272476</td>\n",
       "      <td>0.571692</td>\n",
       "    </tr>\n",
       "    <tr>\n",
       "      <th>Magasin_102</th>\n",
       "      <td>0.134931</td>\n",
       "      <td>0.234552</td>\n",
       "      <td>0.630517</td>\n",
       "    </tr>\n",
       "  </tbody>\n",
       "</table>\n",
       "</div>"
      ],
      "text/plain": [
       "Prix (selon famille)_transformed  Famille prix_HIGH  Famille prix_LOW  \\\n",
       "Magasin                                                                 \n",
       "Magasin_1                                  0.192291          0.244415   \n",
       "Magasin_10                                 0.141355          0.293224   \n",
       "Magasin_100                                0.205420          0.225452   \n",
       "Magasin_101                                0.155832          0.272476   \n",
       "Magasin_102                                0.134931          0.234552   \n",
       "\n",
       "Prix (selon famille)_transformed  Famille prix_MEDIUM  \n",
       "Magasin                                                \n",
       "Magasin_1                                    0.563294  \n",
       "Magasin_10                                   0.565421  \n",
       "Magasin_100                                  0.569128  \n",
       "Magasin_101                                  0.571692  \n",
       "Magasin_102                                  0.630517  "
      ]
     },
     "execution_count": 356,
     "metadata": {},
     "output_type": "execute_result"
    }
   ],
   "source": [
    "prix_famille_prc.head() "
   ]
  },
  {
   "cell_type": "markdown",
   "metadata": {},
   "source": [
    "- On continue avec Type saison."
   ]
  },
  {
   "cell_type": "code",
   "execution_count": 357,
   "metadata": {},
   "outputs": [
    {
     "data": {
      "text/plain": [
       "MID-SEASON    28214\n",
       "SUMMER         8185\n",
       "WINTER          232\n",
       "Name: Type saison, dtype: int64"
      ]
     },
     "execution_count": 357,
     "metadata": {},
     "output_type": "execute_result"
    }
   ],
   "source": [
    "ventes_ref[\"Type saison\"].value_counts(dropna = False)"
   ]
  },
  {
   "cell_type": "code",
   "execution_count": 358,
   "metadata": {},
   "outputs": [],
   "source": [
    "type_saison_sum = ventes_ref.groupby([\"Magasin\", \"Type saison_transformed\"])['Ventes17_19'].sum().unstack()"
   ]
  },
  {
   "cell_type": "code",
   "execution_count": 359,
   "metadata": {},
   "outputs": [],
   "source": [
    "type_saison_prc = type_saison_sum.div(type_saison_sum.sum(axis=1), axis=0)"
   ]
  },
  {
   "cell_type": "code",
   "execution_count": 360,
   "metadata": {},
   "outputs": [
    {
     "data": {
      "text/html": [
       "<div>\n",
       "<style scoped>\n",
       "    .dataframe tbody tr th:only-of-type {\n",
       "        vertical-align: middle;\n",
       "    }\n",
       "\n",
       "    .dataframe tbody tr th {\n",
       "        vertical-align: top;\n",
       "    }\n",
       "\n",
       "    .dataframe thead th {\n",
       "        text-align: right;\n",
       "    }\n",
       "</style>\n",
       "<table border=\"1\" class=\"dataframe\">\n",
       "  <thead>\n",
       "    <tr style=\"text-align: right;\">\n",
       "      <th>Type saison_transformed</th>\n",
       "      <th>Type saison_MID-SEASON</th>\n",
       "      <th>Type saison_SUMMER</th>\n",
       "      <th>Type saison_WINTER</th>\n",
       "    </tr>\n",
       "    <tr>\n",
       "      <th>Magasin</th>\n",
       "      <th></th>\n",
       "      <th></th>\n",
       "      <th></th>\n",
       "    </tr>\n",
       "  </thead>\n",
       "  <tbody>\n",
       "    <tr>\n",
       "      <th>Magasin_1</th>\n",
       "      <td>0.792378</td>\n",
       "      <td>0.204117</td>\n",
       "      <td>0.003504</td>\n",
       "    </tr>\n",
       "    <tr>\n",
       "      <th>Magasin_10</th>\n",
       "      <td>0.774533</td>\n",
       "      <td>0.219626</td>\n",
       "      <td>0.005841</td>\n",
       "    </tr>\n",
       "    <tr>\n",
       "      <th>Magasin_100</th>\n",
       "      <td>0.807148</td>\n",
       "      <td>0.191673</td>\n",
       "      <td>0.001178</td>\n",
       "    </tr>\n",
       "    <tr>\n",
       "      <th>Magasin_101</th>\n",
       "      <td>0.753804</td>\n",
       "      <td>0.240203</td>\n",
       "      <td>0.005994</td>\n",
       "    </tr>\n",
       "    <tr>\n",
       "      <th>Magasin_102</th>\n",
       "      <td>0.812106</td>\n",
       "      <td>0.185372</td>\n",
       "      <td>0.002522</td>\n",
       "    </tr>\n",
       "  </tbody>\n",
       "</table>\n",
       "</div>"
      ],
      "text/plain": [
       "Type saison_transformed  Type saison_MID-SEASON  Type saison_SUMMER  \\\n",
       "Magasin                                                               \n",
       "Magasin_1                              0.792378            0.204117   \n",
       "Magasin_10                             0.774533            0.219626   \n",
       "Magasin_100                            0.807148            0.191673   \n",
       "Magasin_101                            0.753804            0.240203   \n",
       "Magasin_102                            0.812106            0.185372   \n",
       "\n",
       "Type saison_transformed  Type saison_WINTER  \n",
       "Magasin                                      \n",
       "Magasin_1                          0.003504  \n",
       "Magasin_10                         0.005841  \n",
       "Magasin_100                        0.001178  \n",
       "Magasin_101                        0.005994  \n",
       "Magasin_102                        0.002522  "
      ]
     },
     "execution_count": 360,
     "metadata": {},
     "output_type": "execute_result"
    }
   ],
   "source": [
    "type_saison_prc.head()"
   ]
  },
  {
   "cell_type": "markdown",
   "metadata": {},
   "source": [
    "- On fait pour le Segment."
   ]
  },
  {
   "cell_type": "code",
   "execution_count": 361,
   "metadata": {},
   "outputs": [
    {
     "data": {
      "text/plain": [
       "CASUAL     26067\n",
       "DAYWEAR     7601\n",
       "FASHION     2963\n",
       "Name: Segment, dtype: int64"
      ]
     },
     "execution_count": 361,
     "metadata": {},
     "output_type": "execute_result"
    }
   ],
   "source": [
    "ventes_ref[\"Segment\"].value_counts(dropna = False)"
   ]
  },
  {
   "cell_type": "code",
   "execution_count": 362,
   "metadata": {},
   "outputs": [],
   "source": [
    "segment_sum = ventes_ref.groupby([\"Magasin\", \"Segment_transformed\"])['Ventes17_19'].sum().unstack()"
   ]
  },
  {
   "cell_type": "code",
   "execution_count": 363,
   "metadata": {},
   "outputs": [],
   "source": [
    "segment_prc = segment_sum.div(segment_sum.sum(axis=1), axis=0)"
   ]
  },
  {
   "cell_type": "code",
   "execution_count": 364,
   "metadata": {},
   "outputs": [
    {
     "data": {
      "text/html": [
       "<div>\n",
       "<style scoped>\n",
       "    .dataframe tbody tr th:only-of-type {\n",
       "        vertical-align: middle;\n",
       "    }\n",
       "\n",
       "    .dataframe tbody tr th {\n",
       "        vertical-align: top;\n",
       "    }\n",
       "\n",
       "    .dataframe thead th {\n",
       "        text-align: right;\n",
       "    }\n",
       "</style>\n",
       "<table border=\"1\" class=\"dataframe\">\n",
       "  <thead>\n",
       "    <tr style=\"text-align: right;\">\n",
       "      <th>Segment_transformed</th>\n",
       "      <th>Segment_CASUAL</th>\n",
       "      <th>Segment_DAYWEAR</th>\n",
       "      <th>Segment_FASHION</th>\n",
       "    </tr>\n",
       "    <tr>\n",
       "      <th>Magasin</th>\n",
       "      <th></th>\n",
       "      <th></th>\n",
       "      <th></th>\n",
       "    </tr>\n",
       "  </thead>\n",
       "  <tbody>\n",
       "    <tr>\n",
       "      <th>Magasin_1</th>\n",
       "      <td>0.708279</td>\n",
       "      <td>0.196671</td>\n",
       "      <td>0.095050</td>\n",
       "    </tr>\n",
       "    <tr>\n",
       "      <th>Magasin_10</th>\n",
       "      <td>0.705607</td>\n",
       "      <td>0.233645</td>\n",
       "      <td>0.060748</td>\n",
       "    </tr>\n",
       "    <tr>\n",
       "      <th>Magasin_100</th>\n",
       "      <td>0.673213</td>\n",
       "      <td>0.224273</td>\n",
       "      <td>0.102514</td>\n",
       "    </tr>\n",
       "    <tr>\n",
       "      <th>Magasin_101</th>\n",
       "      <td>0.713232</td>\n",
       "      <td>0.224066</td>\n",
       "      <td>0.062702</td>\n",
       "    </tr>\n",
       "    <tr>\n",
       "      <th>Magasin_102</th>\n",
       "      <td>0.725095</td>\n",
       "      <td>0.237074</td>\n",
       "      <td>0.037831</td>\n",
       "    </tr>\n",
       "  </tbody>\n",
       "</table>\n",
       "</div>"
      ],
      "text/plain": [
       "Segment_transformed  Segment_CASUAL  Segment_DAYWEAR  Segment_FASHION\n",
       "Magasin                                                              \n",
       "Magasin_1                  0.708279         0.196671         0.095050\n",
       "Magasin_10                 0.705607         0.233645         0.060748\n",
       "Magasin_100                0.673213         0.224273         0.102514\n",
       "Magasin_101                0.713232         0.224066         0.062702\n",
       "Magasin_102                0.725095         0.237074         0.037831"
      ]
     },
     "execution_count": 364,
     "metadata": {},
     "output_type": "execute_result"
    }
   ],
   "source": [
    "segment_prc.head()"
   ]
  },
  {
   "cell_type": "markdown",
   "metadata": {},
   "source": [
    "- On fait pour Libellé thème."
   ]
  },
  {
   "cell_type": "code",
   "execution_count": 365,
   "metadata": {},
   "outputs": [
    {
     "data": {
      "text/plain": [
       "CHAINETRAME    16567\n",
       "JERSEY         12561\n",
       "MAILLE          7503\n",
       "Name: Libellé thème, dtype: int64"
      ]
     },
     "execution_count": 365,
     "metadata": {},
     "output_type": "execute_result"
    }
   ],
   "source": [
    "ventes_ref[\"Libellé thème\"].value_counts(dropna = False)"
   ]
  },
  {
   "cell_type": "code",
   "execution_count": 366,
   "metadata": {},
   "outputs": [],
   "source": [
    "theme_sum = ventes_ref.groupby([\"Magasin\", \"Libellé thème_transformed\"])['Ventes17_19'].sum().unstack()"
   ]
  },
  {
   "cell_type": "code",
   "execution_count": 367,
   "metadata": {},
   "outputs": [],
   "source": [
    "theme_prc = theme_sum.div(theme_sum.sum(axis=1), axis=0)"
   ]
  },
  {
   "cell_type": "code",
   "execution_count": 368,
   "metadata": {},
   "outputs": [
    {
     "data": {
      "text/html": [
       "<div>\n",
       "<style scoped>\n",
       "    .dataframe tbody tr th:only-of-type {\n",
       "        vertical-align: middle;\n",
       "    }\n",
       "\n",
       "    .dataframe tbody tr th {\n",
       "        vertical-align: top;\n",
       "    }\n",
       "\n",
       "    .dataframe thead th {\n",
       "        text-align: right;\n",
       "    }\n",
       "</style>\n",
       "<table border=\"1\" class=\"dataframe\">\n",
       "  <thead>\n",
       "    <tr style=\"text-align: right;\">\n",
       "      <th>Libellé thème_transformed</th>\n",
       "      <th>Libellé thème_CHAINETRAME</th>\n",
       "      <th>Libellé thème_JERSEY</th>\n",
       "      <th>Libellé thème_MAILLE</th>\n",
       "    </tr>\n",
       "    <tr>\n",
       "      <th>Magasin</th>\n",
       "      <th></th>\n",
       "      <th></th>\n",
       "      <th></th>\n",
       "    </tr>\n",
       "  </thead>\n",
       "  <tbody>\n",
       "    <tr>\n",
       "      <th>Magasin_1</th>\n",
       "      <td>0.443276</td>\n",
       "      <td>0.377573</td>\n",
       "      <td>0.179150</td>\n",
       "    </tr>\n",
       "    <tr>\n",
       "      <th>Magasin_10</th>\n",
       "      <td>0.432243</td>\n",
       "      <td>0.373832</td>\n",
       "      <td>0.193925</td>\n",
       "    </tr>\n",
       "    <tr>\n",
       "      <th>Magasin_100</th>\n",
       "      <td>0.490181</td>\n",
       "      <td>0.369599</td>\n",
       "      <td>0.140220</td>\n",
       "    </tr>\n",
       "    <tr>\n",
       "      <th>Magasin_101</th>\n",
       "      <td>0.457815</td>\n",
       "      <td>0.398340</td>\n",
       "      <td>0.143845</td>\n",
       "    </tr>\n",
       "    <tr>\n",
       "      <th>Magasin_102</th>\n",
       "      <td>0.397226</td>\n",
       "      <td>0.436318</td>\n",
       "      <td>0.166456</td>\n",
       "    </tr>\n",
       "  </tbody>\n",
       "</table>\n",
       "</div>"
      ],
      "text/plain": [
       "Libellé thème_transformed  Libellé thème_CHAINETRAME  Libellé thème_JERSEY  \\\n",
       "Magasin                                                                      \n",
       "Magasin_1                                   0.443276              0.377573   \n",
       "Magasin_10                                  0.432243              0.373832   \n",
       "Magasin_100                                 0.490181              0.369599   \n",
       "Magasin_101                                 0.457815              0.398340   \n",
       "Magasin_102                                 0.397226              0.436318   \n",
       "\n",
       "Libellé thème_transformed  Libellé thème_MAILLE  \n",
       "Magasin                                          \n",
       "Magasin_1                              0.179150  \n",
       "Magasin_10                             0.193925  \n",
       "Magasin_100                            0.140220  \n",
       "Magasin_101                            0.143845  \n",
       "Magasin_102                            0.166456  "
      ]
     },
     "execution_count": 368,
     "metadata": {},
     "output_type": "execute_result"
    }
   ],
   "source": [
    "theme_prc.head()"
   ]
  },
  {
   "cell_type": "markdown",
   "metadata": {},
   "source": [
    "- On fait pour Statut Collection Produit."
   ]
  },
  {
   "cell_type": "code",
   "execution_count": 369,
   "metadata": {},
   "outputs": [
    {
     "data": {
      "text/plain": [
       "SAISONNIER        34887\n",
       "PERMANENT          1085\n",
       "NINI PERMANENT      659\n",
       "Name: Statut Collection Produit, dtype: int64"
      ]
     },
     "execution_count": 369,
     "metadata": {},
     "output_type": "execute_result"
    }
   ],
   "source": [
    "ventes_ref[\"Statut Collection Produit\"].value_counts(dropna = False)"
   ]
  },
  {
   "cell_type": "code",
   "execution_count": 370,
   "metadata": {},
   "outputs": [],
   "source": [
    "statut_produit_sum = ventes_ref.groupby([\"Magasin\", \"Statut Collection Produit_transformed\"])['Ventes17_19'].sum().unstack()"
   ]
  },
  {
   "cell_type": "code",
   "execution_count": 371,
   "metadata": {},
   "outputs": [],
   "source": [
    "statut_produit_prc = statut_produit_sum.div(statut_produit_sum.sum(axis=1), axis=0)"
   ]
  },
  {
   "cell_type": "code",
   "execution_count": 372,
   "metadata": {},
   "outputs": [
    {
     "data": {
      "text/html": [
       "<div>\n",
       "<style scoped>\n",
       "    .dataframe tbody tr th:only-of-type {\n",
       "        vertical-align: middle;\n",
       "    }\n",
       "\n",
       "    .dataframe tbody tr th {\n",
       "        vertical-align: top;\n",
       "    }\n",
       "\n",
       "    .dataframe thead th {\n",
       "        text-align: right;\n",
       "    }\n",
       "</style>\n",
       "<table border=\"1\" class=\"dataframe\">\n",
       "  <thead>\n",
       "    <tr style=\"text-align: right;\">\n",
       "      <th>Statut Collection Produit_transformed</th>\n",
       "      <th>Statut Collection Produit_NINI PERMANENT</th>\n",
       "      <th>Statut Collection Produit_PERMANENT</th>\n",
       "      <th>Statut Collection Produit_SAISONNIER</th>\n",
       "    </tr>\n",
       "    <tr>\n",
       "      <th>Magasin</th>\n",
       "      <th></th>\n",
       "      <th></th>\n",
       "      <th></th>\n",
       "    </tr>\n",
       "  </thead>\n",
       "  <tbody>\n",
       "    <tr>\n",
       "      <th>Magasin_1</th>\n",
       "      <td>0.011827</td>\n",
       "      <td>0.014017</td>\n",
       "      <td>0.974157</td>\n",
       "    </tr>\n",
       "    <tr>\n",
       "      <th>Magasin_10</th>\n",
       "      <td>0.007009</td>\n",
       "      <td>0.008178</td>\n",
       "      <td>0.984813</td>\n",
       "    </tr>\n",
       "    <tr>\n",
       "      <th>Magasin_100</th>\n",
       "      <td>0.004713</td>\n",
       "      <td>0.010212</td>\n",
       "      <td>0.985075</td>\n",
       "    </tr>\n",
       "    <tr>\n",
       "      <th>Magasin_101</th>\n",
       "      <td>0.011987</td>\n",
       "      <td>0.013831</td>\n",
       "      <td>0.974182</td>\n",
       "    </tr>\n",
       "    <tr>\n",
       "      <th>Magasin_102</th>\n",
       "      <td>0.010088</td>\n",
       "      <td>0.023960</td>\n",
       "      <td>0.965952</td>\n",
       "    </tr>\n",
       "  </tbody>\n",
       "</table>\n",
       "</div>"
      ],
      "text/plain": [
       "Statut Collection Produit_transformed  Statut Collection Produit_NINI PERMANENT  \\\n",
       "Magasin                                                                           \n",
       "Magasin_1                                                              0.011827   \n",
       "Magasin_10                                                             0.007009   \n",
       "Magasin_100                                                            0.004713   \n",
       "Magasin_101                                                            0.011987   \n",
       "Magasin_102                                                            0.010088   \n",
       "\n",
       "Statut Collection Produit_transformed  Statut Collection Produit_PERMANENT  \\\n",
       "Magasin                                                                      \n",
       "Magasin_1                                                         0.014017   \n",
       "Magasin_10                                                        0.008178   \n",
       "Magasin_100                                                       0.010212   \n",
       "Magasin_101                                                       0.013831   \n",
       "Magasin_102                                                       0.023960   \n",
       "\n",
       "Statut Collection Produit_transformed  Statut Collection Produit_SAISONNIER  \n",
       "Magasin                                                                      \n",
       "Magasin_1                                                          0.974157  \n",
       "Magasin_10                                                         0.984813  \n",
       "Magasin_100                                                        0.985075  \n",
       "Magasin_101                                                        0.974182  \n",
       "Magasin_102                                                        0.965952  "
      ]
     },
     "execution_count": 372,
     "metadata": {},
     "output_type": "execute_result"
    }
   ],
   "source": [
    "statut_produit_prc.head()"
   ]
  },
  {
   "cell_type": "markdown",
   "metadata": {},
   "source": [
    "On controle s'il y a d'autres variables à ajouter."
   ]
  },
  {
   "cell_type": "code",
   "execution_count": 373,
   "metadata": {},
   "outputs": [
    {
     "name": "stdout",
     "output_type": "stream",
     "text": [
      "Variable : Magasin\n",
      "['Magasin_127' 'Magasin_193' 'Magasin_154' 'Magasin_81' 'Magasin_84'\n",
      " 'Magasin_3' 'Magasin_107' 'Magasin_197' 'Magasin_7' 'Magasin_78'\n",
      " 'Magasin_113' 'Magasin_141' 'Magasin_149' 'Magasin_160' 'Magasin_19'\n",
      " 'Magasin_191' 'Magasin_188' 'Magasin_94' 'Magasin_183' 'Magasin_75'\n",
      " 'Magasin_143' 'Magasin_39' 'Magasin_21' 'Magasin_206' 'Magasin_108'\n",
      " 'Magasin_168' 'Magasin_110' 'Magasin_88' 'Magasin_165' 'Magasin_16'\n",
      " 'Magasin_87' 'Magasin_66' 'Magasin_125' 'Magasin_25' 'Magasin_23'\n",
      " 'Magasin_104' 'Magasin_178' 'Magasin_79' 'Magasin_62' 'Magasin_11'\n",
      " 'Magasin_185' 'Magasin_2' 'Magasin_29' 'Magasin_10' 'Magasin_196'\n",
      " 'Magasin_198' 'Magasin_101' 'Magasin_55' 'Magasin_180' 'Magasin_194'\n",
      " 'Magasin_17' 'Magasin_77' 'Magasin_195' 'Magasin_72' 'Magasin_89'\n",
      " 'Magasin_1' 'Magasin_186' 'Magasin_18' 'Magasin_166' 'Magasin_71'\n",
      " 'Magasin_97' 'Magasin_169' 'Magasin_70' 'Magasin_117' 'Magasin_9'\n",
      " 'Magasin_203' 'Magasin_144' 'Magasin_159' 'Magasin_100' 'Magasin_204'\n",
      " 'Magasin_140' 'Magasin_131' 'Magasin_76' 'Magasin_67' 'Magasin_155'\n",
      " 'Magasin_179' 'Magasin_24' 'Magasin_60' 'Magasin_189' 'Magasin_63'\n",
      " 'Magasin_8' 'Magasin_177' 'Magasin_92' 'Magasin_205' 'Magasin_181'\n",
      " 'Magasin_36' 'Magasin_83' 'Magasin_14' 'Magasin_207' 'Magasin_91'\n",
      " 'Magasin_202' 'Magasin_65' 'Magasin_86' 'Magasin_102' 'Magasin_54'\n",
      " 'Magasin_49' 'Magasin_129' 'Magasin_28' 'Magasin_48' 'Magasin_30'\n",
      " 'Magasin_167' 'Magasin_69' 'Magasin_109' 'Magasin_42' 'Magasin_148'\n",
      " 'Magasin_164' 'Magasin_103' 'Magasin_156' 'Magasin_114' 'Magasin_33'\n",
      " 'Magasin_119' 'Magasin_146' 'Magasin_80' 'Magasin_153' 'Magasin_73'\n",
      " 'Magasin_31' 'Magasin_172' 'Magasin_142' 'Magasin_120' 'Magasin_38'\n",
      " 'Magasin_99' 'Magasin_74' 'Magasin_130' 'Magasin_52' 'Magasin_138'\n",
      " 'Magasin_192' 'Magasin_111' 'Magasin_147' 'Magasin_135' 'Magasin_116'\n",
      " 'Magasin_152' 'Magasin_134' 'Magasin_122' 'Magasin_115' 'Magasin_6'\n",
      " 'Magasin_174' 'Magasin_187' 'Magasin_137' 'Magasin_90' 'Magasin_201'\n",
      " 'Magasin_132' 'Magasin_121' 'Magasin_128' 'Magasin_32' 'Magasin_139'\n",
      " 'Magasin_82' 'Magasin_98' 'Magasin_136' 'Magasin_59' 'Magasin_45'\n",
      " 'Magasin_5' 'Magasin_124' 'Magasin_57' 'Magasin_184' 'Magasin_123'\n",
      " 'Magasin_58' 'Magasin_15' 'Magasin_34' 'Magasin_173' 'Magasin_112'\n",
      " 'Magasin_157' 'Magasin_4' 'Magasin_53' 'Magasin_61' 'Magasin_50'\n",
      " 'Magasin_27' 'Magasin_22' 'Magasin_118']\n",
      "\n",
      "Variable : Référence produit\n",
      "['Référence_14' 'Référence_133' 'Référence_279' 'Référence_87'\n",
      " 'Référence_28' 'Référence_18' 'Référence_33' 'Référence_252'\n",
      " 'Référence_62' 'Référence_227' 'Référence_9' 'Référence_259'\n",
      " 'Référence_176' 'Référence_264' 'Référence_38' 'Référence_94'\n",
      " 'Référence_146' 'Référence_223' 'Référence_214' 'Référence_261'\n",
      " 'Référence_195' 'Référence_233' 'Référence_105' 'Référence_131'\n",
      " 'Référence_6' 'Référence_212' 'Référence_211' 'Référence_156'\n",
      " 'Référence_203' 'Référence_160' 'Référence_280' 'Référence_229'\n",
      " 'Référence_220' 'Référence_218' 'Référence_175' 'Référence_32'\n",
      " 'Référence_260' 'Référence_122' 'Référence_216' 'Référence_78'\n",
      " 'Référence_57' 'Référence_45' 'Référence_68' 'Référence_155'\n",
      " 'Référence_76' 'Référence_7' 'Référence_282' 'Référence_60' 'Référence_2'\n",
      " 'Référence_145' 'Référence_100' 'Référence_31' 'Référence_29'\n",
      " 'Référence_266' 'Référence_19' 'Référence_192' 'Référence_20'\n",
      " 'Référence_72' 'Référence_225' 'Référence_83' 'Référence_86'\n",
      " 'Référence_46' 'Référence_213' 'Référence_149' 'Référence_16'\n",
      " 'Référence_197' 'Référence_199' 'Référence_257' 'Référence_75'\n",
      " 'Référence_117' 'Référence_55' 'Référence_151' 'Référence_54'\n",
      " 'Référence_263' 'Référence_21' 'Référence_159' 'Référence_170'\n",
      " 'Référence_270' 'Référence_137' 'Référence_254' 'Référence_275'\n",
      " 'Référence_24' 'Référence_136' 'Référence_95' 'Référence_41'\n",
      " 'Référence_222' 'Référence_248' 'Référence_132' 'Référence_135'\n",
      " 'Référence_206' 'Référence_251' 'Référence_13' 'Référence_92'\n",
      " 'Référence_240' 'Référence_79' 'Référence_107' 'Référence_267'\n",
      " 'Référence_63' 'Référence_169' 'Référence_241' 'Référence_125'\n",
      " 'Référence_269' 'Référence_277' 'Référence_141' 'Référence_215'\n",
      " 'Référence_179' 'Référence_238' 'Référence_65' 'Référence_224'\n",
      " 'Référence_93' 'Référence_123' 'Référence_217' 'Référence_51'\n",
      " 'Référence_166' 'Référence_236' 'Référence_61' 'Référence_39'\n",
      " 'Référence_36' 'Référence_190' 'Référence_262' 'Référence_200'\n",
      " 'Référence_109' 'Référence_98' 'Référence_121' 'Référence_245'\n",
      " 'Référence_81' 'Référence_150' 'Référence_164' 'Référence_171'\n",
      " 'Référence_258' 'Référence_174' 'Référence_234' 'Référence_202'\n",
      " 'Référence_186' 'Référence_70' 'Référence_158' 'Référence_52'\n",
      " 'Référence_172' 'Référence_278' 'Référence_188' 'Référence_144'\n",
      " 'Référence_82' 'Référence_120' 'Référence_194' 'Référence_253'\n",
      " 'Référence_23' 'Référence_181' 'Référence_219' 'Référence_108'\n",
      " 'Référence_77' 'Référence_37' 'Référence_3' 'Référence_112'\n",
      " 'Référence_230' 'Référence_231' 'Référence_221' 'Référence_59'\n",
      " 'Référence_25' 'Référence_283' 'Référence_88' 'Référence_89'\n",
      " 'Référence_243' 'Référence_250' 'Référence_204' 'Référence_268'\n",
      " 'Référence_142' 'Référence_272' 'Référence_128' 'Référence_244'\n",
      " 'Référence_271' 'Référence_119' 'Référence_235' 'Référence_165'\n",
      " 'Référence_255' 'Référence_0' 'Référence_129' 'Référence_205'\n",
      " 'Référence_153' 'Référence_162' 'Référence_207' 'Référence_42'\n",
      " 'Référence_276' 'Référence_40' 'Référence_193' 'Référence_167'\n",
      " 'Référence_5' 'Référence_180' 'Référence_124' 'Référence_177'\n",
      " 'Référence_201' 'Référence_1' 'Référence_265' 'Référence_26'\n",
      " 'Référence_48' 'Référence_104' 'Référence_189' 'Référence_34'\n",
      " 'Référence_198' 'Référence_84' 'Référence_147' 'Référence_226'\n",
      " 'Référence_11' 'Référence_96' 'Référence_71' 'Référence_67'\n",
      " 'Référence_286' 'Référence_44' 'Référence_249' 'Référence_35'\n",
      " 'Référence_127' 'Référence_178' 'Référence_27' 'Référence_106'\n",
      " 'Référence_10' 'Référence_228' 'Référence_237' 'Référence_91'\n",
      " 'Référence_138' 'Référence_17' 'Référence_113' 'Référence_64'\n",
      " 'Référence_69' 'Référence_49' 'Référence_30' 'Référence_187'\n",
      " 'Référence_184' 'Référence_168' 'Référence_102' 'Référence_130'\n",
      " 'Référence_58' 'Référence_134' 'Référence_273' 'Référence_161'\n",
      " 'Référence_15' 'Référence_8' 'Référence_143' 'Référence_182'\n",
      " 'Référence_246' 'Référence_239' 'Référence_97' 'Référence_74'\n",
      " 'Référence_114' 'Référence_126' 'Référence_90' 'Référence_115'\n",
      " 'Référence_22' 'Référence_247' 'Référence_256' 'Référence_99'\n",
      " 'Référence_242' 'Référence_56' 'Référence_4' 'Référence_118'\n",
      " 'Référence_154' 'Référence_274' 'Référence_12' 'Référence_284'\n",
      " 'Référence_232' 'Référence_285' 'Référence_208' 'Référence_139'\n",
      " 'Référence_43' 'Référence_148' 'Référence_196' 'Référence_185'\n",
      " 'Référence_50' 'Référence_73' 'Référence_80' 'Référence_53'\n",
      " 'Référence_111' 'Référence_163' 'Référence_287' 'Référence_173'\n",
      " 'Référence_110' 'Référence_140' 'Référence_103' 'Référence_152'\n",
      " 'Référence_183' 'Référence_281' 'Référence_209' 'Référence_116'\n",
      " 'Référence_85' 'Référence_47' 'Référence_157']\n",
      "\n",
      "Variable : Couleur produit\n",
      "['BRUT' 'BLOSSOM' 'MARINE' 'KAKI' 'FICELLE' 'NOIR' 'CITRON' 'GRIS CHINE'\n",
      " 'BEBE' 'DAHLIA' 'PERLE' 'GRIS' 'NUAGE' 'POUDRE' 'BLANC' 'CAMEL' 'ARGILE'\n",
      " 'KLEIN' 'GRIS CHINE CLAIR' 'ECRU' 'JUDO' 'BALLERINE' 'MIMOSA' 'LICHEN'\n",
      " 'MAKE-UP' 'FLAMANT' 'AVOINE' 'TOURNESOL' 'JAPON' 'BUBBLE GUM' 'LAVANDE'\n",
      " 'BLEU' 'FOUGERE' 'OPALINE' 'FAUX NOIR' 'AMANDE' 'SABLE' 'MULTICOLOR'\n",
      " 'LILAS' 'CIEL' 'OLIVE' 'NATUREL' 'ROSE' 'CARBONE' 'MINT' 'JAUNE'\n",
      " 'VANILLE' 'NEIGE' 'ENCRE' 'CHARBON' 'BEURRE' 'CELADON' 'TROPICAL' 'MAUVE'\n",
      " 'CRAIE' 'SILVER' 'JADE' 'MENTHE' 'BEIGE' 'ORANGE']\n",
      "\n",
      "Variable : Modèle_Coloris\n",
      "['Référence_14BRUT' 'Référence_133BLOSSOM' 'Référence_279MARINE'\n",
      " 'Référence_87KAKI' 'Référence_28FICELLE' 'Référence_18NOIR'\n",
      " 'Référence_33NOIR' 'Référence_252CITRON' 'Référence_62NOIR'\n",
      " 'Référence_227GRIS CHINE' 'Référence_9BEBE' 'Référence_259NOIR'\n",
      " 'Référence_176KAKI' 'Référence_264DAHLIA' 'Référence_38PERLE'\n",
      " 'Référence_94GRIS' 'Référence_146NUAGE' 'Référence_223BEBE'\n",
      " 'Référence_214NOIR' 'Référence_261POUDRE' 'Référence_195BLANC'\n",
      " 'Référence_233CAMEL' 'Référence_105KAKI' 'Référence_131ARGILE'\n",
      " 'Référence_6NOIR' 'Référence_212KLEIN' 'Référence_211NOIR'\n",
      " 'Référence_156GRIS CHINE CLAIR' 'Référence_203GRIS CHINE'\n",
      " 'Référence_160BLANC' 'Référence_280ECRU' 'Référence_229GRIS CHINE'\n",
      " 'Référence_220MARINE' 'Référence_218BLANC' 'Référence_175JUDO'\n",
      " 'Référence_32NOIR' 'Référence_203BLANC' 'Référence_260BALLERINE'\n",
      " 'Référence_122GRIS CHINE CLAIR' 'Référence_216BEBE' 'Référence_78NOIR'\n",
      " 'Référence_57MIMOSA' 'Référence_45LICHEN' 'Référence_68MAKE-UP'\n",
      " 'Référence_155BEBE' 'Référence_76JUDO' 'Référence_7JUDO'\n",
      " 'Référence_282NOIR' 'Référence_223GRIS CHINE' 'Référence_60BLANC'\n",
      " 'Référence_2NOIR' 'Référence_145FLAMANT' 'Référence_100KLEIN'\n",
      " 'Référence_31AVOINE' 'Référence_29TOURNESOL' 'Référence_266BLANC'\n",
      " 'Référence_19JAPON' 'Référence_192KLEIN' 'Référence_20BEBE'\n",
      " 'Référence_72BUBBLE GUM' 'Référence_225LAVANDE' 'Référence_83BLANC'\n",
      " 'Référence_86BLEU' 'Référence_46GRIS' 'Référence_213BUBBLE GUM'\n",
      " 'Référence_149FICELLE' 'Référence_16FOUGERE' 'Référence_197BEBE'\n",
      " 'Référence_199OPALINE' 'Référence_216BLANC' 'Référence_257NOIR'\n",
      " 'Référence_75GRIS' 'Référence_117MIMOSA' 'Référence_55NOIR'\n",
      " 'Référence_151JUDO' 'Référence_54BLANC' 'Référence_263BLANC'\n",
      " 'Référence_21BUBBLE GUM' 'Référence_159NOIR' 'Référence_170FAUX NOIR'\n",
      " 'Référence_270BEBE' 'Référence_117AMANDE' 'Référence_137MARINE'\n",
      " 'Référence_254NOIR' 'Référence_275SABLE' 'Référence_24ECRU'\n",
      " 'Référence_136MULTICOLOR' 'Référence_95NOIR' 'Référence_41LICHEN'\n",
      " 'Référence_222BLANC' 'Référence_248LILAS' 'Référence_132OPALINE'\n",
      " 'Référence_135ARGILE' 'Référence_206BLANC' 'Référence_251CIEL'\n",
      " 'Référence_13OLIVE' 'Référence_92NATUREL' 'Référence_240JUDO'\n",
      " 'Référence_79BLEU' 'Référence_107LAVANDE' 'Référence_267NOIR'\n",
      " 'Référence_63GRIS CHINE' 'Référence_169FLAMANT' 'Référence_241BLANC'\n",
      " 'Référence_125BUBBLE GUM' 'Référence_269BLANC' 'Référence_277JUDO'\n",
      " 'Référence_141JAPON' 'Référence_215PERLE' 'Référence_179MULTICOLOR'\n",
      " 'Référence_238BLANC' 'Référence_65GRIS CHINE' 'Référence_224NUAGE'\n",
      " 'Référence_93BEBE' 'Référence_132NOIR' 'Référence_199MIMOSA'\n",
      " 'Référence_213KLEIN' 'Référence_123FAUX NOIR' 'Référence_217BLOSSOM'\n",
      " 'Référence_51NOIR' 'Référence_166BLANC' 'Référence_236GRIS CHINE'\n",
      " 'Référence_61BEBE' 'Référence_39KAKI' 'Référence_36KLEIN'\n",
      " 'Référence_190JAPON' 'Référence_262GRIS CHINE' 'Référence_200BLANC'\n",
      " 'Référence_109JUDO' 'Référence_98JUDO' 'Référence_121LAVANDE'\n",
      " 'Référence_156KLEIN' 'Référence_75ROSE' 'Référence_245NOIR'\n",
      " 'Référence_81BLEU' 'Référence_150ECRU' 'Référence_164CIEL'\n",
      " 'Référence_171LICHEN' 'Référence_258GRIS CHINE' 'Référence_174NOIR'\n",
      " 'Référence_266GRIS CHINE' 'Référence_234BLANC' 'Référence_202BLANC'\n",
      " 'Référence_186NOIR' 'Référence_70NOIR' 'Référence_215MIMOSA'\n",
      " 'Référence_158CARBONE' 'Référence_52MARINE' 'Référence_172NOIR'\n",
      " 'Référence_278GRIS' 'Référence_92MARINE' 'Référence_57BLANC'\n",
      " 'Référence_188MINT' 'Référence_144BEBE' 'Référence_82JUDO'\n",
      " 'Référence_120BALLERINE' 'Référence_194ARGILE' 'Référence_253FLAMANT'\n",
      " 'Référence_23NOIR' 'Référence_19NOIR' 'Référence_218JAUNE'\n",
      " 'Référence_158VANILLE' 'Référence_260LAVANDE' 'Référence_181NOIR'\n",
      " 'Référence_219BEBE' 'Référence_203NOIR' 'Référence_108MINT'\n",
      " 'Référence_77BRUT' 'Référence_37BEBE' 'Référence_3BLEU'\n",
      " 'Référence_112LICHEN' 'Référence_230TOURNESOL' 'Référence_231JAUNE'\n",
      " 'Référence_200NOIR' 'Référence_221BLANC' 'Référence_59NOIR'\n",
      " 'Référence_25NOIR' 'Référence_270GRIS CHINE' 'Référence_283JAPON'\n",
      " 'Référence_88KLEIN' 'Référence_283NOIR' 'Référence_89DAHLIA'\n",
      " 'Référence_243NOIR' 'Référence_250NATUREL' 'Référence_204BLANC'\n",
      " 'Référence_268NOIR' 'Référence_39NATUREL' 'Référence_142MARINE'\n",
      " 'Référence_272OLIVE' 'Référence_128FAUX NOIR' 'Référence_244ECRU'\n",
      " 'Référence_271GRIS CHINE' 'Référence_119BEBE' 'Référence_235NEIGE'\n",
      " 'Référence_165NATUREL' 'Référence_255NOIR' 'Référence_0LICHEN'\n",
      " 'Référence_255JAPON' 'Référence_129FAUX NOIR' 'Référence_205BLANC'\n",
      " 'Référence_153GRIS CHINE CLAIR' 'Référence_221BEBE'\n",
      " 'Référence_212FLAMANT' 'Référence_162NOIR' 'Référence_19FLAMANT'\n",
      " 'Référence_207BEBE' 'Référence_42BLEU' 'Référence_276NOIR'\n",
      " 'Référence_40BLEU' 'Référence_257BLANC' 'Référence_219GRIS CHINE'\n",
      " 'Référence_193BLANC' 'Référence_167BLEU' 'Référence_5NOIR'\n",
      " 'Référence_180ECRU' 'Référence_124ENCRE' 'Référence_177FOUGERE'\n",
      " 'Référence_201CHARBON' 'Référence_1SABLE' 'Référence_265BEURRE'\n",
      " 'Référence_26FAUX NOIR' 'Référence_48GRIS' 'Référence_104OLIVE'\n",
      " 'Référence_255JUDO' 'Référence_260CELADON' 'Référence_189FOUGERE'\n",
      " 'Référence_34BEBE' 'Référence_19JUDO' 'Référence_231KLEIN'\n",
      " 'Référence_198TROPICAL' 'Référence_259BLANC' 'Référence_84JUDO'\n",
      " 'Référence_147MARINE' 'Référence_226LAVANDE' 'Référence_11NOIR'\n",
      " 'Référence_96TROPICAL' 'Référence_124NOIR' 'Référence_61JUDO'\n",
      " 'Référence_57MAUVE' 'Référence_250BLEU' 'Référence_71NOIR'\n",
      " 'Référence_254BLANC' 'Référence_67CARBONE' 'Référence_286KLEIN'\n",
      " 'Référence_44FLAMANT' 'Référence_249BLANC' 'Référence_144CITRON'\n",
      " 'Référence_219KLEIN' 'Référence_35LICHEN' 'Référence_127MAKE-UP'\n",
      " 'Référence_178BLANC' 'Référence_27CRAIE' 'Référence_106ECRU'\n",
      " 'Référence_199BEBE' 'Référence_10JUDO' 'Référence_76KLEIN'\n",
      " 'Référence_228POUDRE' 'Référence_216LAVANDE' 'Référence_237NOIR'\n",
      " 'Référence_91LICHEN' 'Référence_138LAVANDE' 'Référence_17BUBBLE GUM'\n",
      " 'Référence_113JUDO' 'Référence_64GRIS CHINE' 'Référence_69JUDO'\n",
      " 'Référence_49NOIR' 'Référence_30MULTICOLOR' 'Référence_201BLANC'\n",
      " 'Référence_20KLEIN' 'Référence_187ECRU' 'Référence_184LILAS'\n",
      " 'Référence_168VANILLE' 'Référence_102NOIR' 'Référence_130SABLE'\n",
      " 'Référence_58NOIR' 'Référence_134NOIR' 'Référence_273MARINE'\n",
      " 'Référence_161CITRON' 'Référence_15BLEU' 'Référence_44JUDO'\n",
      " 'Référence_8BLEU' 'Référence_143POUDRE' 'Référence_188NOIR'\n",
      " 'Référence_182DAHLIA' 'Référence_246DAHLIA' 'Référence_239MAKE-UP'\n",
      " 'Référence_97SABLE' 'Référence_74BLEU' 'Référence_114FOUGERE'\n",
      " 'Référence_48ROSE' 'Référence_126GRIS CHINE CLAIR' 'Référence_90SILVER'\n",
      " 'Référence_199PERLE' 'Référence_115AVOINE' 'Référence_260AMANDE'\n",
      " 'Référence_59BLANC' 'Référence_267BLANC' 'Référence_22OPALINE'\n",
      " 'Référence_247BEBE' 'Référence_256MULTICOLOR' 'Référence_223NOIR'\n",
      " 'Référence_217JADE' 'Référence_192FLAMANT'\n",
      " 'Référence_124GRIS CHINE CLAIR' 'Référence_99JAPON'\n",
      " 'Référence_245LAVANDE' 'Référence_145FICELLE' 'Référence_242FOUGERE'\n",
      " 'Référence_56NOIR' 'Référence_4BUBBLE GUM' 'Référence_118BEBE'\n",
      " 'Référence_154JAPON' 'Référence_274NOIR' 'Référence_12BLEU'\n",
      " 'Référence_92KAKI' 'Référence_128VANILLE' 'Référence_186JAPON'\n",
      " 'Référence_284LAVANDE' 'Référence_232BLANC' 'Référence_285JUDO'\n",
      " 'Référence_202NOIR' 'Référence_208GRIS CHINE' 'Référence_139NOIR'\n",
      " 'Référence_43LILAS' 'Référence_148MENTHE' 'Référence_178NOIR'\n",
      " 'Référence_196TOURNESOL' 'Référence_217NOIR' 'Référence_185BALLERINE'\n",
      " 'Référence_50BLANC' 'Référence_73JADE' 'Référence_80BRUT'\n",
      " 'Référence_53KLEIN' 'Référence_124JAPON' 'Référence_111SILVER'\n",
      " 'Référence_41JUDO' 'Référence_163KLEIN' 'Référence_287SILVER'\n",
      " 'Référence_173SILVER' 'Référence_110BEIGE' 'Référence_124ORANGE'\n",
      " 'Référence_140LAVANDE' 'Référence_103NOIR' 'Référence_108BEBE'\n",
      " 'Référence_152NOIR' 'Référence_183MIMOSA' 'Référence_281BEIGE'\n",
      " 'Référence_209BLANC' 'Référence_156CITRON' 'Référence_116OLIVE'\n",
      " 'Référence_85MARINE' 'Référence_47NOIR' 'Référence_157BEIGE']\n",
      "\n",
      "Variable : SKUSTORE\n",
      "['Référence_14BRUTMagasin_127' 'Référence_14BRUTMagasin_193'\n",
      " 'Référence_14BRUTMagasin_154' ... 'Référence_157BEIGEMagasin_185'\n",
      " 'Référence_157BEIGEMagasin_74' 'Référence_157BEIGEMagasin_181']\n",
      "\n",
      "Variable : Classification famille\n",
      "['BLOUSONS' 'PULL' 'VESTE' 'JUPE' 'CARDIGAN' 'TUNIQUE ML' 'DEBARDEUR'\n",
      " 'TEE SHIRT' 'TUNISIEN' 'ROBE' 'PANTALON' 'SWEAT' 'BERMUDAS - SHORT'\n",
      " 'JEANS' 'CHEMISE' 'CARACO' 'CUIR-FOURRURE' 'TOP' 'PARKAS']\n",
      "\n",
      "Variable : Classification rayon\n",
      "['PAP FEMME']\n",
      "\n",
      "Variable : Classification sous famille\n",
      "['COTON' 'POLYESTER' 'LIN / COTON' 'CASHMERE' 'LAINE' 'MODAL'\n",
      " 'CACHEMIRE PLUME' 'LIN' 'MERINOS' 'ACRYLIC MELANGE' 'COTON / VISCOSE'\n",
      " 'LAINE / CASH' 'VISCOSE' 'ACETATE' 'ALPAGA' 'SOIE' 'COTON / SOIE' 'CUIR'\n",
      " 'MOHAIR']\n",
      "\n",
      "Variable : Statut Collection Produit\n",
      "['SAISONNIER' 'PERMANENT' 'NINI PERMANENT']\n",
      "\n",
      "Variable : Ventes17_19\n",
      "[ 23   4  16   8   7   5   1   2   6   3  14  10  13  12  11  26  17   9\n",
      "  15   0  18  30  62  22  50  19  21  20  25  29  35  31  24  44  38  49\n",
      "  52  40  -1  33  65  36  27  28  69  42  37  47  66  39  41  46  60  34\n",
      "  80  32  43  64  79  61  53  51  54  57  77  48  72  56  67  58  45  71\n",
      " 188  98  84  68  96  63  59]\n",
      "\n",
      "Variable : Libellé rayon\n",
      "['PAP FEMME']\n",
      "\n",
      "Variable : Libellé thème\n",
      "['CHAINETRAME' 'MAILLE' 'JERSEY']\n",
      "\n",
      "Variable : Libellé famille\n",
      "['BLOUSONS' 'PULL' 'VESTE' 'JUPE' 'CARDIGAN' 'TUNIQUE ML' 'DEBARDEUR'\n",
      " 'TEE SHIRT' 'TUNISIEN' 'ROBE' 'PANTALON' 'SWEAT' 'BERMUDAS - SHORT'\n",
      " 'JEANS' 'CHEMISE' 'CARACO' 'CUIR-FOURRURE' 'TOP' 'PARKAS']\n",
      "\n",
      "Variable : Libellé sous famille\n",
      "['COTON' 'POLYESTER' 'LIN / COTON' 'CASHMERE' 'LAINE' 'MODAL'\n",
      " 'CACHEMIRE PLUME' 'COTON / VISCOSE' 'LIN' 'MERINOS' 'ACRYLIC MELANGE'\n",
      " 'LAINE / CASH' 'VISCOSE' 'ACETATE' 'ALPAGA' 'SOIE' 'COTON / SOIE' 'CUIR']\n",
      "\n",
      "Variable : Produit\n",
      "['Référence_14' 'Référence_133' 'Référence_279' 'Référence_87'\n",
      " 'Référence_28' 'Référence_18' 'Référence_33' 'Référence_252'\n",
      " 'Référence_62' 'Référence_227' 'Référence_9' 'Référence_259'\n",
      " 'Référence_176' 'Référence_264' 'Référence_38' 'Référence_94'\n",
      " 'Référence_146' 'Référence_223' 'Référence_214' 'Référence_261'\n",
      " 'Référence_195' 'Référence_233' 'Référence_105' 'Référence_131'\n",
      " 'Référence_6' 'Référence_212' 'Référence_211' 'Référence_156'\n",
      " 'Référence_203' 'Référence_160' 'Référence_280' 'Référence_229'\n",
      " 'Référence_220' 'Référence_218' 'Référence_175' 'Référence_32'\n",
      " 'Référence_260' 'Référence_122' 'Référence_216' 'Référence_78'\n",
      " 'Référence_57' 'Référence_45' 'Référence_68' 'Référence_155'\n",
      " 'Référence_76' 'Référence_7' 'Référence_282' 'Référence_60' 'Référence_2'\n",
      " 'Référence_145' 'Référence_100' 'Référence_31' 'Référence_29'\n",
      " 'Référence_266' 'Référence_19' 'Référence_192' 'Référence_20'\n",
      " 'Référence_72' 'Référence_225' 'Référence_83' 'Référence_86'\n",
      " 'Référence_46' 'Référence_213' 'Référence_149' 'Référence_16'\n",
      " 'Référence_197' 'Référence_199' 'Référence_257' 'Référence_75'\n",
      " 'Référence_117' 'Référence_55' 'Référence_151' 'Référence_54'\n",
      " 'Référence_263' 'Référence_21' 'Référence_159' 'Référence_170'\n",
      " 'Référence_270' 'Référence_137' 'Référence_254' 'Référence_275'\n",
      " 'Référence_24' 'Référence_136' 'Référence_95' 'Référence_41'\n",
      " 'Référence_222' 'Référence_248' 'Référence_132' 'Référence_135'\n",
      " 'Référence_206' 'Référence_251' 'Référence_13' 'Référence_92'\n",
      " 'Référence_240' 'Référence_79' 'Référence_107' 'Référence_267'\n",
      " 'Référence_63' 'Référence_169' 'Référence_241' 'Référence_125'\n",
      " 'Référence_269' 'Référence_277' 'Référence_141' 'Référence_215'\n",
      " 'Référence_179' 'Référence_238' 'Référence_65' 'Référence_224'\n",
      " 'Référence_93' 'Référence_123' 'Référence_217' 'Référence_51'\n",
      " 'Référence_166' 'Référence_236' 'Référence_61' 'Référence_39'\n",
      " 'Référence_36' 'Référence_190' 'Référence_262' 'Référence_200'\n",
      " 'Référence_109' 'Référence_98' 'Référence_121' 'Référence_245'\n",
      " 'Référence_81' 'Référence_150' 'Référence_164' 'Référence_171'\n",
      " 'Référence_258' 'Référence_174' 'Référence_234' 'Référence_202'\n",
      " 'Référence_186' 'Référence_70' 'Référence_158' 'Référence_52'\n",
      " 'Référence_172' 'Référence_278' 'Référence_188' 'Référence_144'\n",
      " 'Référence_82' 'Référence_120' 'Référence_194' 'Référence_253'\n",
      " 'Référence_23' 'Référence_181' 'Référence_219' 'Référence_108'\n",
      " 'Référence_77' 'Référence_37' 'Référence_3' 'Référence_112'\n",
      " 'Référence_230' 'Référence_231' 'Référence_221' 'Référence_59'\n",
      " 'Référence_25' 'Référence_283' 'Référence_88' 'Référence_89'\n",
      " 'Référence_243' 'Référence_250' 'Référence_204' 'Référence_268'\n",
      " 'Référence_142' 'Référence_272' 'Référence_128' 'Référence_244'\n",
      " 'Référence_271' 'Référence_119' 'Référence_235' 'Référence_165'\n",
      " 'Référence_255' 'Référence_0' 'Référence_129' 'Référence_205'\n",
      " 'Référence_153' 'Référence_162' 'Référence_207' 'Référence_42'\n",
      " 'Référence_276' 'Référence_40' 'Référence_193' 'Référence_167'\n",
      " 'Référence_5' 'Référence_180' 'Référence_124' 'Référence_177'\n",
      " 'Référence_201' 'Référence_1' 'Référence_265' 'Référence_26'\n",
      " 'Référence_48' 'Référence_104' 'Référence_189' 'Référence_34'\n",
      " 'Référence_198' 'Référence_84' 'Référence_147' 'Référence_226'\n",
      " 'Référence_11' 'Référence_96' 'Référence_71' 'Référence_67'\n",
      " 'Référence_286' 'Référence_44' 'Référence_249' 'Référence_35'\n",
      " 'Référence_127' 'Référence_178' 'Référence_27' 'Référence_106'\n",
      " 'Référence_10' 'Référence_228' 'Référence_237' 'Référence_91'\n",
      " 'Référence_138' 'Référence_17' 'Référence_113' 'Référence_64'\n",
      " 'Référence_69' 'Référence_49' 'Référence_30' 'Référence_187'\n",
      " 'Référence_184' 'Référence_168' 'Référence_102' 'Référence_130'\n",
      " 'Référence_58' 'Référence_134' 'Référence_273' 'Référence_161'\n",
      " 'Référence_15' 'Référence_8' 'Référence_143' 'Référence_182'\n",
      " 'Référence_246' 'Référence_239' 'Référence_97' 'Référence_74'\n",
      " 'Référence_114' 'Référence_126' 'Référence_90' 'Référence_115'\n",
      " 'Référence_22' 'Référence_247' 'Référence_256' 'Référence_99'\n",
      " 'Référence_242' 'Référence_56' 'Référence_4' 'Référence_118'\n",
      " 'Référence_154' 'Référence_274' 'Référence_12' 'Référence_284'\n",
      " 'Référence_232' 'Référence_285' 'Référence_208' 'Référence_139'\n",
      " 'Référence_43' 'Référence_148' 'Référence_196' 'Référence_185'\n",
      " 'Référence_50' 'Référence_73' 'Référence_80' 'Référence_53'\n",
      " 'Référence_111' 'Référence_163' 'Référence_287' 'Référence_173'\n",
      " 'Référence_110' 'Référence_140' 'Référence_103' 'Référence_152'\n",
      " 'Référence_183' 'Référence_281' 'Référence_209' 'Référence_116'\n",
      " 'Référence_85' 'Référence_47' 'Référence_157']\n",
      "\n",
      "Variable : Libellé couleurs\n",
      "['BRUT' 'BLOSSOM' 'MARINE' 'KAKI' 'FICELLE' 'NOIR' 'CITRON' 'GRIS CHINE'\n",
      " 'BEBE' 'DAHLIA' 'PERLE' 'GRIS' 'NUAGE' 'POUDRE' 'BLANC' 'CAMEL' 'ARGILE'\n",
      " 'KLEIN' 'GRIS CHINE CLAIR' 'ECRU' 'JUDO' 'BALLERINE' 'MIMOSA' 'LICHEN'\n",
      " 'MAKE-UP' 'FLAMANT' 'AVOINE' 'TOURNESOL' 'JAPON' 'BUBBLE GUM' 'LAVANDE'\n",
      " 'BLEU' 'FOUGERE' 'OPALINE' 'FAUX NOIR' 'AMANDE' 'SABLE' 'MULTICOLOR'\n",
      " 'LILAS' 'CIEL' 'OLIVE' 'NATUREL' 'ROSE' 'CARBONE' 'MINT' 'JAUNE'\n",
      " 'VANILLE' 'NEIGE' 'ENCRE' 'CHARBON' 'BEURRE' 'CELADON' 'TROPICAL' 'MAUVE'\n",
      " 'CRAIE' 'SILVER' 'JADE' 'MENTHE' 'BEIGE' 'ORANGE']\n",
      "\n",
      "Variable : PVB\n",
      "[380 250 425 340 630 395 210  80 115 230  75 350  95 795 235 150 185  90\n",
      " 475  85 215 120  98 390 195  45 365 445 435 325 105 135 140 170 245 290\n",
      " 160  70 175 830 375 790 310 295 265 110 515 260 190 270 298 225 690 275\n",
      " 750 650 255 550 100 695 320 410 180 465 760 165 125 455 220 240 280 450\n",
      " 495 610 155 460 490  65 315 370 330 990 430 360 525 665 510 595]\n",
      "\n",
      "Variable : SPRING / SUMMER\n",
      "['SPRING' 'SUMMER']\n",
      "\n",
      "Variable : Puissance produit\n",
      "['MEDIUM' 'BEST' 'SLOW' 'REPROD OPGM' 'Spécifique' 'PERMANENT']\n",
      "\n",
      "Variable : Champs UVS Statut de collection\n",
      "['SAISONNIER' 'PERMANENT' 'NINI']\n",
      "\n",
      "Variable : Prix (selon famille)\n",
      "['HIGH' 'MEDIUM' 'LOW']\n",
      "\n",
      "Variable : Iconique\n",
      "['OUI' 'NON']\n",
      "\n",
      "Variable : Type saison\n",
      "['MID-SEASON' 'SUMMER' 'WINTER']\n",
      "\n",
      "Variable : Segment\n",
      "['CASUAL' 'DAYWEAR' 'FASHION']\n",
      "\n",
      "Variable : Montant total\n",
      "[ 8740  1520  6080  3040  2660  1900   380   760  2280  1140  5320  3800\n",
      "  4940  4560  4180  9880  1000  1250   750   250  4250   500  1750  2750\n",
      "  2250  1500  2000  3250  2500  3750     0  1275  3825  3400  7650  2550\n",
      " 12750  1700  4675  2975 26350  2125  9350  7225  5525  5100  6800 21250\n",
      "   425  8075  9775  5950  6375  8925  8500 10625 12325   680  1020   340\n",
      "  1360  2040  2720  3060  3740  2380   630  2520 10080  4410  1260  3150\n",
      "  1890  3780  6300  7560  8190  5040  1975   790  2370  1185  1580   395\n",
      "  3160  3555  5135  2765  1050  1470  3990  2100   210   840  1680   420\n",
      "  2940  2310  2730  3570  7350    80   320   560   640   720  2320   160\n",
      "   400   800  1040   960   480  1120  1280  2800   880  2480  1440  2080\n",
      "   690   230  1610  1035   345   575  1265   805   920   460  1955  1380\n",
      "  1150   115  2530  2645  2070  1495  1840  2990  3220 11500  2760  3450\n",
      "  3680  3910  2300  5290   150    75   225   300  1200   450   375   600\n",
      "   675  2450  1400  4550  3500   350  5250  4900  3850  5600   700  8050\n",
      "  6650  8400 10500  4200   855   285    95   190  1425   475  1045   570\n",
      "   950   665  2090  1710  1330   795  1590  3180  2385  1175  2585  4465\n",
      "   705   940  1645  3055  2350  2115  1410   470  3995  1880   235  3290\n",
      "  5405  3760  4700  3525  2820  6120  7480  6460  4080  4420  4760  8840\n",
      " 10540  5440  7140  5780 12920 16660  2875  2415  5980  1725  2755  1805\n",
      "  1615   900   525  3000   825  1800  1350  3600  1650  2700  1950  5170\n",
      "  4935  -235  2590   555   370  1110   740  1295   185   925  2035  3145\n",
      "  1480  2220  1850  1235   360  2970  1170  5850  3240  1530   990  1080\n",
      "  1620   540   270  2160   180  2610  1980  2430   810    90  2375 12825\n",
      "  2850  4275  3325  5225  4750  6175  5700   595  1105   935   765   170\n",
      "   510  1190   850    85  1445   255   860   215  1505  3870  1290   430\n",
      "  1075  2150   645  3440  2795  1720  1935  2365  4945 10200   120   240\n",
      "   196   490   294   784  1176   980   392   686   882  1274   588  2156\n",
      "    98  1666  1078  1568  1960  2058  1372  3528  2842  2548  2744  2646\n",
      "  2352  1862  2254  3920  1764  6762  4116  6076  7000   780   390  3120\n",
      "  2340  1560  4680  6240  3510  4290  5070  3900  1870  1785  2210  2805\n",
      "  2295  5610  1875  1125   975  1365  2145  2925  2535   585  4095  3315\n",
      "  1755   195  3705  7605  3895  1995  4370  3420  2565  3610  2470   315\n",
      "   135    45   405  2190   365  2920   730  3285  4015  9125  1095  4380\n",
      "  2555  1460  3650  1825  8395  7300  4745  9490 11315 14965  5110  1780\n",
      "  2225  3115  3560  1335  5340   890   445  2670  4005  4450  6675  8900\n",
      "  9790  8010  6435  4140  4600  4830   870  1740  6525  2175  1305  3480\n",
      "   435  4350  3045  4785 10005  8265  7830  3915  5220  6090  3105  1575\n",
      "  6000  2625  2025  3075  3300  2400   650  1300  2600  4875  1625   325\n",
      "  2275  3575  7800  5200 10810  5875  7990  6110   735  1155   105   945\n",
      "  2205  3465  3375  1215  1485  4995  2240   140  1540   280  1820  4340\n",
      "  4060  4480  6020  3080  3230  5270  2890  4590 10880  5750  4025  2775\n",
      "  3515  2960  2405  4070  1665  4255   245  1715  2695  1225  3185  4165\n",
      "  6860 12005  3430   580  1450  1160  2900   290  3190  2030  3950  7505\n",
      "  4740  9085  6320  4345  7110  1600  1760  1920  2880  3200  2560  5280\n",
      "    70   910   770  2170  5795  2945  2185  1925   175   875  4375  5075\n",
      "  4725  1660   830  4150  5810  2490  3320  7900  4485  5460  8385  1240\n",
      "  1860   310   930  1550   620  2790  3410  3100  6820  7440  4030  6360\n",
      "  4440  1320  2640  5425  1475   295  5015  1770   590   885  2360  3245\n",
      "  4425  1180  3835  2065  3540  4130  5605  2950  4720  7965  5390  3675\n",
      "  5475  6205  5060   265  2120   530  1855  1325  1060  7155  2650  3975\n",
      " 13515  5145  4655  6370   440  1430   660  1210   330   220  1100   550\n",
      "   110  2200  4730   515  1545  1030 10300  2575  2060  3090  6180  5665\n",
      "  3380  5720   520  3640   260  2860 14040  6500  7280  8320  4160  2635\n",
      "  4335  3655  7030  7600 10830  6270 11550 14350  2655  8260  9145  5670\n",
      "  4300  2580  4085  3010  6450  4515  3225  9460  5160  5590  3360  9240\n",
      "  5640  5925  9875  6715 10665  8295 11850 12640  5530   298  2682  1192\n",
      "  1788  3278  4172  1490   596  2384   894  2086  6258  2980  3874  4768\n",
      "  6840 22525 14025 15725  3630  2420  4510  6875   275  2475  1375  7150\n",
      "  6050  4400 11000  8250  3710  5360  4500 13000 18200  4640  6630  4230\n",
      "  9500  8550  5840  6935  9360  7020 11440  6760  4225 13325  6560  4000\n",
      "  3520 11360  5500  4950  6600  7700  9900  3700  3885   100   200  1390\n",
      "   695  5560  4170  3475  2780  2085  4865  7645  3840  5120 13760  7040\n",
      "  2050  2870  1230  1640   410  3690  3280   820  2460  4920  8610 77080\n",
      "  5330  7380 11890  4100  6150  9020 11070 11480 13530  5740   495  1395\n",
      " 10240  6400  7680  6720  4800  9280 11520  7360  7425  5400  7875  4606\n",
      "  4312  6045  3720  2325  4650  3255   465 17205  6975  5115  7905  4185\n",
      "  6510  5580 19530  9300 12555 18600  4018  2465  5185  8330  -195  9120\n",
      "   165  1815  3135  6105 13260 12090   625   125  5915 12285   455  5005\n",
      "  9555  8645  3025  4125 10465  6825  5510  9570  3770  8410  6960  6670\n",
      "  4930  5175  4960 15500  8990  7130  6200  9920  9610  7750  7375  6160\n",
      "  8775  3960  6660  4320  5940  5520  5130  4860  4050  8640 11610  7840\n",
      "  9520  9800  5880  3645  2835  5265 10640  8120  6440 13440  9450 13050\n",
      "  9000  8100 18450 17100 15750 13950  7200  6750  4455  5445 15680   610\n",
      "  2440  4880  3660  1830  1220  4620   -75  3335  6095  6815  9635  8460\n",
      "  5655  3330  6845  5180 17760  9310  7105 12375  9405  9100  8750 12600\n",
      "   775   155  1085  1705  6174  3136  3626 23010 26130 14430 12870  7410\n",
      " 10920  5550  4810 16100  6900 14260  8820  8415 12100  8800  4635    65\n",
      "   130  6930  6380  9680  7590 12540  6125  5775  9975  8600  6480  5760\n",
      "  8280  7995  4840  8910  6490  8450]\n",
      "\n",
      "Variable : Iconique_transformed\n",
      "['Iconique' 'Non_iconique']\n",
      "\n",
      "Variable : Prix (selon famille)_transformed\n",
      "['Famille prix_HIGH' 'Famille prix_MEDIUM' 'Famille prix_LOW']\n",
      "\n",
      "Variable : Type saison_transformed\n",
      "['Type saison_MID-SEASON' 'Type saison_SUMMER' 'Type saison_WINTER']\n",
      "\n",
      "Variable : Segment_transformed\n",
      "['Segment_CASUAL' 'Segment_DAYWEAR' 'Segment_FASHION']\n",
      "\n",
      "Variable : Libellé thème_transformed\n",
      "['Libellé thème_CHAINETRAME' 'Libellé thème_MAILLE' 'Libellé thème_JERSEY']\n",
      "\n",
      "Variable : Statut Collection Produit_transformed\n",
      "['Statut Collection Produit_SAISONNIER'\n",
      " 'Statut Collection Produit_PERMANENT'\n",
      " 'Statut Collection Produit_NINI PERMANENT']\n",
      "\n"
     ]
    }
   ],
   "source": [
    "for cat in list(ventes_ref): \n",
    "    print(\"Variable : {}\".format(cat))\n",
    "    print(ventes_ref[cat].unique())\n",
    "    print()"
   ]
  },
  {
   "cell_type": "markdown",
   "metadata": {},
   "source": [
    "- On ajoute aussi Puissance produit."
   ]
  },
  {
   "cell_type": "code",
   "execution_count": 374,
   "metadata": {},
   "outputs": [],
   "source": [
    "#On va aussi ajouter Puissance produit. Ça peut aussi servir à differencier les magasins par leur gammes de prouits.\n",
    "ventes_ref[\"Puissance produit_transformed\"] = \"Puissance produit_\"+ventes_ref[\"Puissance produit\"]"
   ]
  },
  {
   "cell_type": "code",
   "execution_count": 375,
   "metadata": {},
   "outputs": [
    {
     "data": {
      "text/plain": [
       "BEST           17799\n",
       "MEDIUM         13332\n",
       "SLOW            5008\n",
       "Spécifique       332\n",
       "PERMANENT        115\n",
       "REPROD OPGM       45\n",
       "Name: Puissance produit, dtype: int64"
      ]
     },
     "execution_count": 375,
     "metadata": {},
     "output_type": "execute_result"
    }
   ],
   "source": [
    "ventes_ref[\"Puissance produit\"].value_counts(dropna = False)"
   ]
  },
  {
   "cell_type": "code",
   "execution_count": 376,
   "metadata": {},
   "outputs": [],
   "source": [
    "puissance_produit_sum = ventes_ref.groupby([\"Magasin\", \"Puissance produit_transformed\"])['Ventes17_19'].sum().unstack()"
   ]
  },
  {
   "cell_type": "code",
   "execution_count": 377,
   "metadata": {},
   "outputs": [],
   "source": [
    "puissance_produit_prc = puissance_produit_sum.div(puissance_produit_sum.sum(axis=1), axis=0)"
   ]
  },
  {
   "cell_type": "code",
   "execution_count": 378,
   "metadata": {},
   "outputs": [],
   "source": [
    "puissance_produit_prc = puissance_produit_prc.fillna(0)"
   ]
  },
  {
   "cell_type": "code",
   "execution_count": 379,
   "metadata": {},
   "outputs": [],
   "source": [
    "#La colonne contienne seulement des zero\n",
    "puissance_produit_prc = puissance_produit_prc.drop('Puissance produit_REPROD OPGM', 1)\n"
   ]
  },
  {
   "cell_type": "code",
   "execution_count": 380,
   "metadata": {},
   "outputs": [
    {
     "data": {
      "text/html": [
       "<div>\n",
       "<style scoped>\n",
       "    .dataframe tbody tr th:only-of-type {\n",
       "        vertical-align: middle;\n",
       "    }\n",
       "\n",
       "    .dataframe tbody tr th {\n",
       "        vertical-align: top;\n",
       "    }\n",
       "\n",
       "    .dataframe thead th {\n",
       "        text-align: right;\n",
       "    }\n",
       "</style>\n",
       "<table border=\"1\" class=\"dataframe\">\n",
       "  <thead>\n",
       "    <tr style=\"text-align: right;\">\n",
       "      <th>Puissance produit_transformed</th>\n",
       "      <th>Puissance produit_BEST</th>\n",
       "      <th>Puissance produit_MEDIUM</th>\n",
       "      <th>Puissance produit_PERMANENT</th>\n",
       "      <th>Puissance produit_SLOW</th>\n",
       "      <th>Puissance produit_Spécifique</th>\n",
       "    </tr>\n",
       "    <tr>\n",
       "      <th>Magasin</th>\n",
       "      <th></th>\n",
       "      <th></th>\n",
       "      <th></th>\n",
       "      <th></th>\n",
       "      <th></th>\n",
       "    </tr>\n",
       "  </thead>\n",
       "  <tbody>\n",
       "    <tr>\n",
       "      <th>Magasin_1</th>\n",
       "      <td>0.497591</td>\n",
       "      <td>0.328953</td>\n",
       "      <td>0.000876</td>\n",
       "      <td>0.156373</td>\n",
       "      <td>0.016207</td>\n",
       "    </tr>\n",
       "    <tr>\n",
       "      <th>Magasin_10</th>\n",
       "      <td>0.567757</td>\n",
       "      <td>0.337617</td>\n",
       "      <td>0.000000</td>\n",
       "      <td>0.094626</td>\n",
       "      <td>0.000000</td>\n",
       "    </tr>\n",
       "    <tr>\n",
       "      <th>Magasin_100</th>\n",
       "      <td>0.519639</td>\n",
       "      <td>0.312647</td>\n",
       "      <td>0.000000</td>\n",
       "      <td>0.153181</td>\n",
       "      <td>0.014533</td>\n",
       "    </tr>\n",
       "    <tr>\n",
       "      <th>Magasin_101</th>\n",
       "      <td>0.566621</td>\n",
       "      <td>0.329645</td>\n",
       "      <td>0.000922</td>\n",
       "      <td>0.101890</td>\n",
       "      <td>0.000922</td>\n",
       "    </tr>\n",
       "    <tr>\n",
       "      <th>Magasin_102</th>\n",
       "      <td>0.614124</td>\n",
       "      <td>0.298865</td>\n",
       "      <td>0.001261</td>\n",
       "      <td>0.085750</td>\n",
       "      <td>0.000000</td>\n",
       "    </tr>\n",
       "  </tbody>\n",
       "</table>\n",
       "</div>"
      ],
      "text/plain": [
       "Puissance produit_transformed  Puissance produit_BEST  \\\n",
       "Magasin                                                 \n",
       "Magasin_1                                    0.497591   \n",
       "Magasin_10                                   0.567757   \n",
       "Magasin_100                                  0.519639   \n",
       "Magasin_101                                  0.566621   \n",
       "Magasin_102                                  0.614124   \n",
       "\n",
       "Puissance produit_transformed  Puissance produit_MEDIUM  \\\n",
       "Magasin                                                   \n",
       "Magasin_1                                      0.328953   \n",
       "Magasin_10                                     0.337617   \n",
       "Magasin_100                                    0.312647   \n",
       "Magasin_101                                    0.329645   \n",
       "Magasin_102                                    0.298865   \n",
       "\n",
       "Puissance produit_transformed  Puissance produit_PERMANENT  \\\n",
       "Magasin                                                      \n",
       "Magasin_1                                         0.000876   \n",
       "Magasin_10                                        0.000000   \n",
       "Magasin_100                                       0.000000   \n",
       "Magasin_101                                       0.000922   \n",
       "Magasin_102                                       0.001261   \n",
       "\n",
       "Puissance produit_transformed  Puissance produit_SLOW  \\\n",
       "Magasin                                                 \n",
       "Magasin_1                                    0.156373   \n",
       "Magasin_10                                   0.094626   \n",
       "Magasin_100                                  0.153181   \n",
       "Magasin_101                                  0.101890   \n",
       "Magasin_102                                  0.085750   \n",
       "\n",
       "Puissance produit_transformed  Puissance produit_Spécifique  \n",
       "Magasin                                                      \n",
       "Magasin_1                                          0.016207  \n",
       "Magasin_10                                         0.000000  \n",
       "Magasin_100                                        0.014533  \n",
       "Magasin_101                                        0.000922  \n",
       "Magasin_102                                        0.000000  "
      ]
     },
     "execution_count": 380,
     "metadata": {},
     "output_type": "execute_result"
    }
   ],
   "source": [
    "puissance_produit_prc.head() "
   ]
  },
  {
   "cell_type": "code",
   "execution_count": 381,
   "metadata": {},
   "outputs": [],
   "source": [
    "#features_magasin = [mag_montants_ventes, mag_montants_taux_indice, mall_oui, iconique_prc, prix_famille_prc, type_saison_prc, segment_prc, theme_prc, statut_produit_prc, puissance_produit_prc]\n",
    "#features_magasin = [mag_montants_ventes, mag_montants_taux_indice, mall_oui, iconique_prc, prix_famille_prc]\n",
    "#features_magasin = [mag_montants_ventes, mag_montants_taux_indice, mall_oui, iconique_prc, prix_famille_prc, type_saison_prc, segment_prc] *mauvaise\n",
    "#features_magasin = [mag_montants_ventes, mag_montants_taux_indice, mall_oui, iconique_prc] 1\n",
    "#features_magasin = [mag_montants_ventes, mag_montants_taux_indice, mall_oui, iconique_prc, statut_produit_prc, theme_prc, type_saison_prc] 66 49\n",
    "features_magasin = [mag_montants_ventes, mag_montants_taux_indice, mall_oui, iconique_prc, statut_produit_prc, theme_prc]"
   ]
  },
  {
   "cell_type": "markdown",
   "metadata": {},
   "source": [
    "**Nous vous encourageons à rajouter de nouvelles variables si elles vous paraissent pertinentes.**"
   ]
  },
  {
   "cell_type": "markdown",
   "metadata": {},
   "source": [
    "### I.1.4. Concaténation avec le fichier des magasins"
   ]
  },
  {
   "cell_type": "code",
   "execution_count": 382,
   "metadata": {},
   "outputs": [],
   "source": [
    "#mags_final = mag.merge(features_magasin, left_on = \"Magasin\", right_index = True )"
   ]
  },
  {
   "cell_type": "code",
   "execution_count": 383,
   "metadata": {},
   "outputs": [],
   "source": [
    "from functools import reduce\n",
    "mags_final = reduce(lambda x, y: pd.merge(x, y, on = 'Magasin'), features_magasin)\n"
   ]
  },
  {
   "cell_type": "code",
   "execution_count": 384,
   "metadata": {},
   "outputs": [],
   "source": [
    "mags_final = mags_final.fillna(0)"
   ]
  },
  {
   "cell_type": "code",
   "execution_count": 385,
   "metadata": {},
   "outputs": [
    {
     "data": {
      "text/plain": [
       "Index(['Magasin_1', 'Magasin_10', 'Magasin_100', 'Magasin_101', 'Magasin_102',\n",
       "       'Magasin_103', 'Magasin_104', 'Magasin_107', 'Magasin_108',\n",
       "       'Magasin_109',\n",
       "       ...\n",
       "       'Magasin_88', 'Magasin_89', 'Magasin_9', 'Magasin_90', 'Magasin_91',\n",
       "       'Magasin_92', 'Magasin_94', 'Magasin_97', 'Magasin_98', 'Magasin_99'],\n",
       "      dtype='object', name='Magasin', length=168)"
      ]
     },
     "execution_count": 385,
     "metadata": {},
     "output_type": "execute_result"
    }
   ],
   "source": [
    "mags_final.index"
   ]
  },
  {
   "cell_type": "code",
   "execution_count": 386,
   "metadata": {},
   "outputs": [],
   "source": [
    "# nous définissons la colonne Magasin comme étant l'index de chaque ligne\n",
    "#mags_final = mags_final.set_index('Magasin')"
   ]
  },
  {
   "cell_type": "code",
   "execution_count": 387,
   "metadata": {},
   "outputs": [],
   "source": [
    "mags_df = mags_final.copy()"
   ]
  },
  {
   "cell_type": "code",
   "execution_count": 388,
   "metadata": {},
   "outputs": [
    {
     "data": {
      "text/html": [
       "<div>\n",
       "<style scoped>\n",
       "    .dataframe tbody tr th:only-of-type {\n",
       "        vertical-align: middle;\n",
       "    }\n",
       "\n",
       "    .dataframe tbody tr th {\n",
       "        vertical-align: top;\n",
       "    }\n",
       "\n",
       "    .dataframe thead th {\n",
       "        text-align: right;\n",
       "    }\n",
       "</style>\n",
       "<table border=\"1\" class=\"dataframe\">\n",
       "  <thead>\n",
       "    <tr style=\"text-align: right;\">\n",
       "      <th></th>\n",
       "      <th>Montant total</th>\n",
       "      <th>Ventes17_19</th>\n",
       "      <th>Prix de vente moyen</th>\n",
       "      <th>Panier moyen  HT (Taux budget)</th>\n",
       "      <th>Indice de vente</th>\n",
       "      <th>Mall</th>\n",
       "      <th>Iconique</th>\n",
       "      <th>Non_iconique</th>\n",
       "      <th>Statut Collection Produit_NINI PERMANENT</th>\n",
       "      <th>Statut Collection Produit_PERMANENT</th>\n",
       "      <th>Statut Collection Produit_SAISONNIER</th>\n",
       "      <th>Libellé thème_CHAINETRAME</th>\n",
       "      <th>Libellé thème_JERSEY</th>\n",
       "      <th>Libellé thème_MAILLE</th>\n",
       "    </tr>\n",
       "    <tr>\n",
       "      <th>Magasin</th>\n",
       "      <th></th>\n",
       "      <th></th>\n",
       "      <th></th>\n",
       "      <th></th>\n",
       "      <th></th>\n",
       "      <th></th>\n",
       "      <th></th>\n",
       "      <th></th>\n",
       "      <th></th>\n",
       "      <th></th>\n",
       "      <th></th>\n",
       "      <th></th>\n",
       "      <th></th>\n",
       "      <th></th>\n",
       "    </tr>\n",
       "  </thead>\n",
       "  <tbody>\n",
       "    <tr>\n",
       "      <th>Magasin_1</th>\n",
       "      <td>512234</td>\n",
       "      <td>2283</td>\n",
       "      <td>224.368813</td>\n",
       "      <td>396.439363</td>\n",
       "      <td>0.000000</td>\n",
       "      <td>0</td>\n",
       "      <td>0.407797</td>\n",
       "      <td>0.592203</td>\n",
       "      <td>0.011827</td>\n",
       "      <td>0.014017</td>\n",
       "      <td>0.974157</td>\n",
       "      <td>0.443276</td>\n",
       "      <td>0.377573</td>\n",
       "      <td>0.179150</td>\n",
       "    </tr>\n",
       "    <tr>\n",
       "      <th>Magasin_10</th>\n",
       "      <td>181469</td>\n",
       "      <td>856</td>\n",
       "      <td>211.996495</td>\n",
       "      <td>266.656273</td>\n",
       "      <td>1.479903</td>\n",
       "      <td>0</td>\n",
       "      <td>0.396028</td>\n",
       "      <td>0.603972</td>\n",
       "      <td>0.007009</td>\n",
       "      <td>0.008178</td>\n",
       "      <td>0.984813</td>\n",
       "      <td>0.432243</td>\n",
       "      <td>0.373832</td>\n",
       "      <td>0.193925</td>\n",
       "    </tr>\n",
       "    <tr>\n",
       "      <th>Magasin_100</th>\n",
       "      <td>593470</td>\n",
       "      <td>2546</td>\n",
       "      <td>233.098979</td>\n",
       "      <td>325.514678</td>\n",
       "      <td>1.384380</td>\n",
       "      <td>1</td>\n",
       "      <td>0.396308</td>\n",
       "      <td>0.603692</td>\n",
       "      <td>0.004713</td>\n",
       "      <td>0.010212</td>\n",
       "      <td>0.985075</td>\n",
       "      <td>0.490181</td>\n",
       "      <td>0.369599</td>\n",
       "      <td>0.140220</td>\n",
       "    </tr>\n",
       "    <tr>\n",
       "      <th>Magasin_101</th>\n",
       "      <td>458868</td>\n",
       "      <td>2169</td>\n",
       "      <td>211.557400</td>\n",
       "      <td>239.881670</td>\n",
       "      <td>1.371019</td>\n",
       "      <td>0</td>\n",
       "      <td>0.404334</td>\n",
       "      <td>0.595666</td>\n",
       "      <td>0.011987</td>\n",
       "      <td>0.013831</td>\n",
       "      <td>0.974182</td>\n",
       "      <td>0.457815</td>\n",
       "      <td>0.398340</td>\n",
       "      <td>0.143845</td>\n",
       "    </tr>\n",
       "    <tr>\n",
       "      <th>Magasin_102</th>\n",
       "      <td>163359</td>\n",
       "      <td>793</td>\n",
       "      <td>206.001261</td>\n",
       "      <td>277.290152</td>\n",
       "      <td>1.555035</td>\n",
       "      <td>0</td>\n",
       "      <td>0.435057</td>\n",
       "      <td>0.564943</td>\n",
       "      <td>0.010088</td>\n",
       "      <td>0.023960</td>\n",
       "      <td>0.965952</td>\n",
       "      <td>0.397226</td>\n",
       "      <td>0.436318</td>\n",
       "      <td>0.166456</td>\n",
       "    </tr>\n",
       "  </tbody>\n",
       "</table>\n",
       "</div>"
      ],
      "text/plain": [
       "             Montant total  Ventes17_19  Prix de vente moyen  \\\n",
       "Magasin                                                        \n",
       "Magasin_1           512234         2283           224.368813   \n",
       "Magasin_10          181469          856           211.996495   \n",
       "Magasin_100         593470         2546           233.098979   \n",
       "Magasin_101         458868         2169           211.557400   \n",
       "Magasin_102         163359          793           206.001261   \n",
       "\n",
       "             Panier moyen  HT (Taux budget)  Indice de vente Mall  Iconique  \\\n",
       "Magasin                                                                        \n",
       "Magasin_1                         396.439363         0.000000    0  0.407797   \n",
       "Magasin_10                        266.656273         1.479903    0  0.396028   \n",
       "Magasin_100                       325.514678         1.384380    1  0.396308   \n",
       "Magasin_101                       239.881670         1.371019    0  0.404334   \n",
       "Magasin_102                       277.290152         1.555035    0  0.435057   \n",
       "\n",
       "             Non_iconique  Statut Collection Produit_NINI PERMANENT  \\\n",
       "Magasin                                                               \n",
       "Magasin_1        0.592203                                  0.011827   \n",
       "Magasin_10       0.603972                                  0.007009   \n",
       "Magasin_100      0.603692                                  0.004713   \n",
       "Magasin_101      0.595666                                  0.011987   \n",
       "Magasin_102      0.564943                                  0.010088   \n",
       "\n",
       "             Statut Collection Produit_PERMANENT  \\\n",
       "Magasin                                            \n",
       "Magasin_1                               0.014017   \n",
       "Magasin_10                              0.008178   \n",
       "Magasin_100                             0.010212   \n",
       "Magasin_101                             0.013831   \n",
       "Magasin_102                             0.023960   \n",
       "\n",
       "             Statut Collection Produit_SAISONNIER  Libellé thème_CHAINETRAME  \\\n",
       "Magasin                                                                        \n",
       "Magasin_1                                0.974157                   0.443276   \n",
       "Magasin_10                               0.984813                   0.432243   \n",
       "Magasin_100                              0.985075                   0.490181   \n",
       "Magasin_101                              0.974182                   0.457815   \n",
       "Magasin_102                              0.965952                   0.397226   \n",
       "\n",
       "             Libellé thème_JERSEY  Libellé thème_MAILLE  \n",
       "Magasin                                                  \n",
       "Magasin_1                0.377573              0.179150  \n",
       "Magasin_10               0.373832              0.193925  \n",
       "Magasin_100              0.369599              0.140220  \n",
       "Magasin_101              0.398340              0.143845  \n",
       "Magasin_102              0.436318              0.166456  "
      ]
     },
     "execution_count": 388,
     "metadata": {},
     "output_type": "execute_result"
    }
   ],
   "source": [
    "mags_df.head()"
   ]
  },
  {
   "cell_type": "code",
   "execution_count": 389,
   "metadata": {},
   "outputs": [
    {
     "data": {
      "text/plain": [
       "Montant total                               0\n",
       "Ventes17_19                                 0\n",
       "Prix de vente moyen                         0\n",
       "Panier moyen  HT (Taux budget)             0\n",
       "Indice de vente                             0\n",
       "Mall                                        0\n",
       "Iconique                                    0\n",
       "Non_iconique                                0\n",
       "Statut Collection Produit_NINI PERMANENT    0\n",
       "Statut Collection Produit_PERMANENT         0\n",
       "Statut Collection Produit_SAISONNIER        0\n",
       "Libellé thème_CHAINETRAME                   0\n",
       "Libellé thème_JERSEY                        0\n",
       "Libellé thème_MAILLE                        0\n",
       "dtype: int64"
      ]
     },
     "execution_count": 389,
     "metadata": {},
     "output_type": "execute_result"
    }
   ],
   "source": [
    "mags_df.isnull().sum()"
   ]
  },
  {
   "cell_type": "markdown",
   "metadata": {},
   "source": [
    "# II. Analyse en composantes principales"
   ]
  },
  {
   "cell_type": "code",
   "execution_count": 390,
   "metadata": {},
   "outputs": [],
   "source": [
    "from sklearn.decomposition import PCA\n",
    "from sklearn.preprocessing import StandardScaler,MinMaxScaler\n",
    "import numpy as np"
   ]
  },
  {
   "cell_type": "markdown",
   "metadata": {},
   "source": [
    "Comme expliqué en cours, l'analyse en composantes principales (PCA) est une méthode factorielle de réduction de dimension pour l’exploration de données quantitatives. Elle permet de transformer des variables corrélées en nouvelles variables décorrélées, appelées composantes principales."
   ]
  },
  {
   "cell_type": "code",
   "execution_count": 391,
   "metadata": {
    "scrolled": true
   },
   "outputs": [],
   "source": [
    "# Réaliser une PCA Ici (pensez à tester avec des données normalisées)\n",
    "\n",
    "data = mags_df\n",
    "data_pca = mags_df.copy()\n",
    "data_pca = data_pca.reset_index()\n",
    "data_pca = data_pca.drop(\"Magasin\", axis=1)\n",
    "\n",
    "## Normalisation\n",
    "cols_scale = list(data_pca.columns)\n",
    "scaler = StandardScaler()\n",
    "data_pca[cols_scale] = scaler.fit_transform(data_pca[cols_scale])\n",
    "\n",
    "## PCA\n",
    "## Modifier le paramètres n_components en mettant un entier pour le nombre de PC, ou un float < 1 pour le % de la variance\n",
    "n_pc = 0.9\n",
    "pca = PCA(n_components = n_pc)\n",
    "pca.fit(data_pca)\n",
    "X_pca = pca.transform(data_pca)"
   ]
  },
  {
   "cell_type": "code",
   "execution_count": 392,
   "metadata": {},
   "outputs": [
    {
     "name": "stdout",
     "output_type": "stream",
     "text": [
      "Variance of PC 0 : 3.76, explained variance ratio : 26.67 %\n",
      "Variance of PC 1 : 3.13, explained variance ratio : 22.23 %\n",
      "Variance of PC 2 : 2.55, explained variance ratio : 18.08 %\n",
      "Variance of PC 3 : 1.28, explained variance ratio : 9.12 %\n",
      "Variance of PC 4 : 1.02, explained variance ratio : 7.24 %\n",
      "Variance of PC 5 : 0.87, explained variance ratio : 6.18 %\n",
      "Variance of PC 6 : 0.62, explained variance ratio : 4.38 %\n"
     ]
    }
   ],
   "source": [
    "# Explained variance ratio des composantes principales (qu'on pourrait comparer avec celles des features originales...)\n",
    "explained_var = list(pca.explained_variance_)\n",
    "explained_var_ratio = list(pca.explained_variance_ratio_)\n",
    "for i in range(len(explained_var)):\n",
    "    print(\"Variance of PC {} : {}, explained variance ratio : {} %\".format(i, \n",
    "                                                                         np.round(explained_var[i],2), \n",
    "                                                                         np.round(100*explained_var_ratio[i],2)))"
   ]
  },
  {
   "cell_type": "code",
   "execution_count": 393,
   "metadata": {},
   "outputs": [
    {
     "data": {
      "text/plain": [
       "[<matplotlib.lines.Line2D at 0x204886ecf40>]"
      ]
     },
     "execution_count": 393,
     "metadata": {},
     "output_type": "execute_result"
    },
    {
     "data": {
      "image/png": "[encoded data removed]",
      "text/plain": [
       "<Figure size 432x288 with 1 Axes>"
      ]
     },
     "metadata": {
      "needs_background": "light"
     },
     "output_type": "display_data"
    }
   ],
   "source": [
    "plt.plot(np.cumsum(pca.explained_variance_ratio_))"
   ]
  },
  {
   "cell_type": "markdown",
   "metadata": {},
   "source": [
    "Représentez des magasins sur les composantes principales"
   ]
  },
  {
   "cell_type": "code",
   "execution_count": 394,
   "metadata": {},
   "outputs": [
    {
     "data": {
      "text/html": [
       "<div>\n",
       "<style scoped>\n",
       "    .dataframe tbody tr th:only-of-type {\n",
       "        vertical-align: middle;\n",
       "    }\n",
       "\n",
       "    .dataframe tbody tr th {\n",
       "        vertical-align: top;\n",
       "    }\n",
       "\n",
       "    .dataframe thead th {\n",
       "        text-align: right;\n",
       "    }\n",
       "</style>\n",
       "<table border=\"1\" class=\"dataframe\">\n",
       "  <thead>\n",
       "    <tr style=\"text-align: right;\">\n",
       "      <th></th>\n",
       "      <th>PC-0</th>\n",
       "      <th>PC-1</th>\n",
       "      <th>PC-2</th>\n",
       "      <th>PC-3</th>\n",
       "      <th>PC-4</th>\n",
       "      <th>PC-5</th>\n",
       "      <th>PC-6</th>\n",
       "      <th>Original Feature</th>\n",
       "    </tr>\n",
       "  </thead>\n",
       "  <tbody>\n",
       "    <tr>\n",
       "      <th>0</th>\n",
       "      <td>-0.354221</td>\n",
       "      <td>0.164189</td>\n",
       "      <td>0.243521</td>\n",
       "      <td>-0.302680</td>\n",
       "      <td>0.396913</td>\n",
       "      <td>0.090821</td>\n",
       "      <td>0.124271</td>\n",
       "      <td>Montant total</td>\n",
       "    </tr>\n",
       "    <tr>\n",
       "      <th>1</th>\n",
       "      <td>-0.353409</td>\n",
       "      <td>0.153704</td>\n",
       "      <td>0.237238</td>\n",
       "      <td>-0.316479</td>\n",
       "      <td>0.403067</td>\n",
       "      <td>0.092728</td>\n",
       "      <td>0.139343</td>\n",
       "      <td>Ventes17_19</td>\n",
       "    </tr>\n",
       "    <tr>\n",
       "      <th>2</th>\n",
       "      <td>0.003700</td>\n",
       "      <td>0.492972</td>\n",
       "      <td>-0.084784</td>\n",
       "      <td>0.221668</td>\n",
       "      <td>0.079290</td>\n",
       "      <td>0.098924</td>\n",
       "      <td>-0.055245</td>\n",
       "      <td>Prix de vente moyen</td>\n",
       "    </tr>\n",
       "    <tr>\n",
       "      <th>3</th>\n",
       "      <td>-0.292884</td>\n",
       "      <td>0.150986</td>\n",
       "      <td>0.345476</td>\n",
       "      <td>0.047071</td>\n",
       "      <td>-0.227114</td>\n",
       "      <td>-0.063809</td>\n",
       "      <td>-0.438848</td>\n",
       "      <td>Panier moyen  HT (Taux budget)</td>\n",
       "    </tr>\n",
       "    <tr>\n",
       "      <th>4</th>\n",
       "      <td>-0.286605</td>\n",
       "      <td>0.088355</td>\n",
       "      <td>0.329187</td>\n",
       "      <td>0.195979</td>\n",
       "      <td>-0.276637</td>\n",
       "      <td>-0.182958</td>\n",
       "      <td>-0.427839</td>\n",
       "      <td>Indice de vente</td>\n",
       "    </tr>\n",
       "    <tr>\n",
       "      <th>5</th>\n",
       "      <td>0.211192</td>\n",
       "      <td>-0.100232</td>\n",
       "      <td>-0.214229</td>\n",
       "      <td>-0.294421</td>\n",
       "      <td>0.259860</td>\n",
       "      <td>0.466554</td>\n",
       "      <td>-0.715557</td>\n",
       "      <td>Mall</td>\n",
       "    </tr>\n",
       "    <tr>\n",
       "      <th>6</th>\n",
       "      <td>0.390100</td>\n",
       "      <td>0.278016</td>\n",
       "      <td>0.183034</td>\n",
       "      <td>-0.091187</td>\n",
       "      <td>-0.061429</td>\n",
       "      <td>0.063626</td>\n",
       "      <td>0.022439</td>\n",
       "      <td>Iconique</td>\n",
       "    </tr>\n",
       "    <tr>\n",
       "      <th>7</th>\n",
       "      <td>-0.390100</td>\n",
       "      <td>-0.278016</td>\n",
       "      <td>-0.183034</td>\n",
       "      <td>0.091187</td>\n",
       "      <td>0.061429</td>\n",
       "      <td>-0.063626</td>\n",
       "      <td>-0.022439</td>\n",
       "      <td>Non_iconique</td>\n",
       "    </tr>\n",
       "    <tr>\n",
       "      <th>8</th>\n",
       "      <td>0.280714</td>\n",
       "      <td>-0.075282</td>\n",
       "      <td>0.460596</td>\n",
       "      <td>0.222768</td>\n",
       "      <td>0.204965</td>\n",
       "      <td>0.077887</td>\n",
       "      <td>0.031133</td>\n",
       "      <td>Statut Collection Produit_NINI PERMANENT</td>\n",
       "    </tr>\n",
       "    <tr>\n",
       "      <th>9</th>\n",
       "      <td>-0.167758</td>\n",
       "      <td>-0.019430</td>\n",
       "      <td>0.116798</td>\n",
       "      <td>-0.168730</td>\n",
       "      <td>-0.577472</td>\n",
       "      <td>0.710957</td>\n",
       "      <td>0.260621</td>\n",
       "      <td>Statut Collection Produit_PERMANENT</td>\n",
       "    </tr>\n",
       "    <tr>\n",
       "      <th>10</th>\n",
       "      <td>-0.265903</td>\n",
       "      <td>0.077960</td>\n",
       "      <td>-0.476766</td>\n",
       "      <td>-0.207340</td>\n",
       "      <td>-0.147183</td>\n",
       "      <td>-0.151973</td>\n",
       "      <td>-0.058314</td>\n",
       "      <td>Statut Collection Produit_SAISONNIER</td>\n",
       "    </tr>\n",
       "    <tr>\n",
       "      <th>11</th>\n",
       "      <td>0.057140</td>\n",
       "      <td>0.521518</td>\n",
       "      <td>-0.148287</td>\n",
       "      <td>-0.083674</td>\n",
       "      <td>-0.070988</td>\n",
       "      <td>-0.069143</td>\n",
       "      <td>0.014709</td>\n",
       "      <td>Libellé thème_CHAINETRAME</td>\n",
       "    </tr>\n",
       "    <tr>\n",
       "      <th>12</th>\n",
       "      <td>0.079016</td>\n",
       "      <td>-0.456287</td>\n",
       "      <td>0.224161</td>\n",
       "      <td>-0.316748</td>\n",
       "      <td>-0.086185</td>\n",
       "      <td>-0.171874</td>\n",
       "      <td>-0.025743</td>\n",
       "      <td>Libellé thème_JERSEY</td>\n",
       "    </tr>\n",
       "    <tr>\n",
       "      <th>13</th>\n",
       "      <td>-0.213492</td>\n",
       "      <td>-0.137325</td>\n",
       "      <td>-0.106197</td>\n",
       "      <td>0.621881</td>\n",
       "      <td>0.246803</td>\n",
       "      <td>0.375646</td>\n",
       "      <td>0.015930</td>\n",
       "      <td>Libellé thème_MAILLE</td>\n",
       "    </tr>\n",
       "  </tbody>\n",
       "</table>\n",
       "</div>"
      ],
      "text/plain": [
       "        PC-0      PC-1      PC-2      PC-3      PC-4      PC-5      PC-6  \\\n",
       "0  -0.354221  0.164189  0.243521 -0.302680  0.396913  0.090821  0.124271   \n",
       "1  -0.353409  0.153704  0.237238 -0.316479  0.403067  0.092728  0.139343   \n",
       "2   0.003700  0.492972 -0.084784  0.221668  0.079290  0.098924 -0.055245   \n",
       "3  -0.292884  0.150986  0.345476  0.047071 -0.227114 -0.063809 -0.438848   \n",
       "4  -0.286605  0.088355  0.329187  0.195979 -0.276637 -0.182958 -0.427839   \n",
       "5   0.211192 -0.100232 -0.214229 -0.294421  0.259860  0.466554 -0.715557   \n",
       "6   0.390100  0.278016  0.183034 -0.091187 -0.061429  0.063626  0.022439   \n",
       "7  -0.390100 -0.278016 -0.183034  0.091187  0.061429 -0.063626 -0.022439   \n",
       "8   0.280714 -0.075282  0.460596  0.222768  0.204965  0.077887  0.031133   \n",
       "9  -0.167758 -0.019430  0.116798 -0.168730 -0.577472  0.710957  0.260621   \n",
       "10 -0.265903  0.077960 -0.476766 -0.207340 -0.147183 -0.151973 -0.058314   \n",
       "11  0.057140  0.521518 -0.148287 -0.083674 -0.070988 -0.069143  0.014709   \n",
       "12  0.079016 -0.456287  0.224161 -0.316748 -0.086185 -0.171874 -0.025743   \n",
       "13 -0.213492 -0.137325 -0.106197  0.621881  0.246803  0.375646  0.015930   \n",
       "\n",
       "                            Original Feature  \n",
       "0                              Montant total  \n",
       "1                                Ventes17_19  \n",
       "2                        Prix de vente moyen  \n",
       "3            Panier moyen  HT (Taux budget)  \n",
       "4                            Indice de vente  \n",
       "5                                       Mall  \n",
       "6                                   Iconique  \n",
       "7                               Non_iconique  \n",
       "8   Statut Collection Produit_NINI PERMANENT  \n",
       "9        Statut Collection Produit_PERMANENT  \n",
       "10      Statut Collection Produit_SAISONNIER  \n",
       "11                 Libellé thème_CHAINETRAME  \n",
       "12                      Libellé thème_JERSEY  \n",
       "13                      Libellé thème_MAILLE  "
      ]
     },
     "execution_count": 394,
     "metadata": {},
     "output_type": "execute_result"
    }
   ],
   "source": [
    "df_components = pd.DataFrame(pca.components_).T\n",
    "df_components[\"Original Feature\"] = data_pca.columns\n",
    "l = list(range(10))\n",
    "new_l = [\"PC-\" + str(i) for i in l]\n",
    "df_components = df_components.rename(columns=dict(zip(l, new_l)))\n",
    "df_components"
   ]
  },
  {
   "cell_type": "markdown",
   "metadata": {},
   "source": [
    "Analysez les composantes principales comme vu en cours : Quelles sont les variables les plus corrélées avec les composantes principales ? "
   ]
  },
  {
   "cell_type": "code",
   "execution_count": 395,
   "metadata": {},
   "outputs": [
    {
     "name": "stderr",
     "output_type": "stream",
     "text": [
      "C:\\Users\\eminl\\anaconda3\\lib\\site-packages\\matplotlib\\backends\\backend_agg.py:238: RuntimeWarning: Glyph 128 missing from current font.\n",
      "  font.set_text(s, 0.0, flags=flags)\n",
      "C:\\Users\\eminl\\anaconda3\\lib\\site-packages\\matplotlib\\backends\\backend_agg.py:201: RuntimeWarning: Glyph 128 missing from current font.\n",
      "  font.set_text(s, 0, flags=flags)\n"
     ]
    },
    {
     "data": {
      "image/png": "[encoded data removed]",
      "text/plain": [
       "<Figure size 1584x792 with 2 Axes>"
      ]
     },
     "metadata": {
      "needs_background": "light"
     },
     "output_type": "display_data"
    }
   ],
   "source": [
    "principalDf = pd.DataFrame(data = X_pca).rename(columns={i: \"PC \"+str(i) for i in range(X_pca.shape[1])})\n",
    "finalDf = pd.concat([principalDf.reset_index(), data.reset_index()], axis = 1)\n",
    "\n",
    "plt.figure(figsize=(22,11))\n",
    "plt.matshow(pca.components_, cmap='seismic', fignum=1,)\n",
    "for (i, j), z in np.ndenumerate(pca.components_):\n",
    "    plt.text(j, i, '{:0.1f}'.format(z), ha='center', va='center', fontsize=14)\n",
    "plt.yticks(range(X_pca.shape[1]),[\"PC \"+str(i) for i in range(X_pca.shape[1])],fontsize=16)\n",
    "plt.colorbar()\n",
    "plt.xticks(range(len(data_pca.columns)),data_pca.columns,rotation=65,ha='left', fontsize=14)\n",
    "\n",
    "plt.show()"
   ]
  },
  {
   "cell_type": "code",
   "execution_count": 412,
   "metadata": {},
   "outputs": [
    {
     "data": {
      "image/png": "[encoded data removed]",
      "text/plain": [
       "<Figure size 1296x504 with 2 Axes>"
      ]
     },
     "metadata": {
      "needs_background": "light"
     },
     "output_type": "display_data"
    }
   ],
   "source": [
    "# Nuage de points des différents magasins en fonction des composantes principales (axes) et des ventes moyennes (couleur)\n",
    "\n",
    "df_plot_pca = pd.DataFrame(X_pca)\n",
    "df_plot_pca[\"Prix de vente moyen\"] = data[\"Prix de vente moyen\"]\n",
    "\n",
    "cmap = sns.cubehelix_palette(as_cmap=True)\n",
    "\n",
    "f, ax = plt.subplots(figsize=(18,7))\n",
    "\n",
    "## Choisir les Composantes principales en X et en Y\n",
    "x_pc = 3\n",
    "y_pc = 4\n",
    "points = ax.scatter(x=df_plot_pca[x_pc], \n",
    "                    y=df_plot_pca[y_pc], \n",
    "                    c=df_plot_pca[\"Prix de vente moyen\"], \n",
    "                    s=50, \n",
    "                    cmap=cmap)\n",
    "plt.xlabel(\"PC-\"+str(x_pc), fontsize=14)\n",
    "plt.ylabel(\"PC-\"+str(y_pc), fontsize=14)\n",
    "f.colorbar(points);"
   ]
  },
  {
   "cell_type": "markdown",
   "metadata": {},
   "source": [
    "# III. Clustering"
   ]
  },
  {
   "cell_type": "code",
   "execution_count": 396,
   "metadata": {},
   "outputs": [],
   "source": [
    "from sklearn.cluster import KMeans"
   ]
  },
  {
   "cell_type": "markdown",
   "metadata": {},
   "source": [
    "## II.1. Méthode du coude pour définir le nombre de clusters"
   ]
  },
  {
   "cell_type": "markdown",
   "metadata": {},
   "source": [
    "Il peut être intéressant de tester le clustering avec les données brutes, les données normalisées, et les données transformées avec l'ACP."
   ]
  },
  {
   "cell_type": "code",
   "execution_count": 397,
   "metadata": {},
   "outputs": [],
   "source": [
    "#Méthode du coude\n",
    "data =  data.reset_index()\n",
    "data_cluster = data.copy()\n",
    "data_cluster = data_cluster.drop(\"Magasin\", axis=1)\n",
    "\n",
    "# Normalisation\n",
    "cols_scale = list(data_cluster.columns)\n",
    "scaler = StandardScaler()\n",
    "data_cluster[cols_scale] = scaler.fit_transform(data_cluster[cols_scale])"
   ]
  },
  {
   "cell_type": "code",
   "execution_count": 398,
   "metadata": {},
   "outputs": [
    {
     "data": {
      "text/html": [
       "<div>\n",
       "<style scoped>\n",
       "    .dataframe tbody tr th:only-of-type {\n",
       "        vertical-align: middle;\n",
       "    }\n",
       "\n",
       "    .dataframe tbody tr th {\n",
       "        vertical-align: top;\n",
       "    }\n",
       "\n",
       "    .dataframe thead th {\n",
       "        text-align: right;\n",
       "    }\n",
       "</style>\n",
       "<table border=\"1\" class=\"dataframe\">\n",
       "  <thead>\n",
       "    <tr style=\"text-align: right;\">\n",
       "      <th></th>\n",
       "      <th>Montant total</th>\n",
       "      <th>Ventes17_19</th>\n",
       "      <th>Prix de vente moyen</th>\n",
       "      <th>Panier moyen  HT (Taux budget)</th>\n",
       "      <th>Indice de vente</th>\n",
       "      <th>Mall</th>\n",
       "      <th>Iconique</th>\n",
       "      <th>Non_iconique</th>\n",
       "      <th>Statut Collection Produit_NINI PERMANENT</th>\n",
       "      <th>Statut Collection Produit_PERMANENT</th>\n",
       "      <th>Statut Collection Produit_SAISONNIER</th>\n",
       "      <th>Libellé thème_CHAINETRAME</th>\n",
       "      <th>Libellé thème_JERSEY</th>\n",
       "      <th>Libellé thème_MAILLE</th>\n",
       "    </tr>\n",
       "  </thead>\n",
       "  <tbody>\n",
       "    <tr>\n",
       "      <th>0</th>\n",
       "      <td>0.883313</td>\n",
       "      <td>0.770501</td>\n",
       "      <td>0.605648</td>\n",
       "      <td>2.595483</td>\n",
       "      <td>-5.173127</td>\n",
       "      <td>-1.024100</td>\n",
       "      <td>-0.342211</td>\n",
       "      <td>0.342211</td>\n",
       "      <td>-0.112194</td>\n",
       "      <td>0.177446</td>\n",
       "      <td>0.094878</td>\n",
       "      <td>0.282942</td>\n",
       "      <td>-0.471226</td>\n",
       "      <td>0.269561</td>\n",
       "    </tr>\n",
       "    <tr>\n",
       "      <th>1</th>\n",
       "      <td>-0.436090</td>\n",
       "      <td>-0.473450</td>\n",
       "      <td>0.223253</td>\n",
       "      <td>0.237039</td>\n",
       "      <td>0.209823</td>\n",
       "      <td>-1.024100</td>\n",
       "      <td>-0.432638</td>\n",
       "      <td>0.432638</td>\n",
       "      <td>-0.166195</td>\n",
       "      <td>-0.462308</td>\n",
       "      <td>0.215402</td>\n",
       "      <td>0.197091</td>\n",
       "      <td>-0.501681</td>\n",
       "      <td>0.454555</td>\n",
       "    </tr>\n",
       "    <tr>\n",
       "      <th>2</th>\n",
       "      <td>1.207359</td>\n",
       "      <td>0.999764</td>\n",
       "      <td>0.875475</td>\n",
       "      <td>1.306625</td>\n",
       "      <td>-0.137629</td>\n",
       "      <td>0.976467</td>\n",
       "      <td>-0.430487</td>\n",
       "      <td>0.430487</td>\n",
       "      <td>-0.191934</td>\n",
       "      <td>-0.239396</td>\n",
       "      <td>0.218360</td>\n",
       "      <td>0.647902</td>\n",
       "      <td>-0.536132</td>\n",
       "      <td>-0.217877</td>\n",
       "    </tr>\n",
       "    <tr>\n",
       "      <th>3</th>\n",
       "      <td>0.670439</td>\n",
       "      <td>0.671124</td>\n",
       "      <td>0.209681</td>\n",
       "      <td>-0.249515</td>\n",
       "      <td>-0.186226</td>\n",
       "      <td>-1.024100</td>\n",
       "      <td>-0.368819</td>\n",
       "      <td>0.368819</td>\n",
       "      <td>-0.110394</td>\n",
       "      <td>0.157135</td>\n",
       "      <td>0.095159</td>\n",
       "      <td>0.396063</td>\n",
       "      <td>-0.302190</td>\n",
       "      <td>-0.172488</td>\n",
       "    </tr>\n",
       "    <tr>\n",
       "      <th>4</th>\n",
       "      <td>-0.508330</td>\n",
       "      <td>-0.528369</td>\n",
       "      <td>0.037956</td>\n",
       "      <td>0.430280</td>\n",
       "      <td>0.483108</td>\n",
       "      <td>-1.024100</td>\n",
       "      <td>-0.132757</td>\n",
       "      <td>0.132757</td>\n",
       "      <td>-0.131680</td>\n",
       "      <td>1.266845</td>\n",
       "      <td>0.002081</td>\n",
       "      <td>-0.075376</td>\n",
       "      <td>0.006935</td>\n",
       "      <td>0.110625</td>\n",
       "    </tr>\n",
       "    <tr>\n",
       "      <th>...</th>\n",
       "      <td>...</td>\n",
       "      <td>...</td>\n",
       "      <td>...</td>\n",
       "      <td>...</td>\n",
       "      <td>...</td>\n",
       "      <td>...</td>\n",
       "      <td>...</td>\n",
       "      <td>...</td>\n",
       "      <td>...</td>\n",
       "      <td>...</td>\n",
       "      <td>...</td>\n",
       "      <td>...</td>\n",
       "      <td>...</td>\n",
       "      <td>...</td>\n",
       "    </tr>\n",
       "    <tr>\n",
       "      <th>163</th>\n",
       "      <td>0.330158</td>\n",
       "      <td>0.375610</td>\n",
       "      <td>-0.019811</td>\n",
       "      <td>0.428899</td>\n",
       "      <td>0.308999</td>\n",
       "      <td>-1.024100</td>\n",
       "      <td>-0.087217</td>\n",
       "      <td>0.087217</td>\n",
       "      <td>-0.024244</td>\n",
       "      <td>0.617472</td>\n",
       "      <td>-0.039281</td>\n",
       "      <td>0.107782</td>\n",
       "      <td>-0.075180</td>\n",
       "      <td>-0.057793</td>\n",
       "    </tr>\n",
       "    <tr>\n",
       "      <th>164</th>\n",
       "      <td>0.285079</td>\n",
       "      <td>0.271003</td>\n",
       "      <td>0.218680</td>\n",
       "      <td>1.811305</td>\n",
       "      <td>1.755748</td>\n",
       "      <td>0.976467</td>\n",
       "      <td>-0.163972</td>\n",
       "      <td>0.163972</td>\n",
       "      <td>-0.028435</td>\n",
       "      <td>0.756122</td>\n",
       "      <td>-0.049364</td>\n",
       "      <td>-0.240351</td>\n",
       "      <td>-0.069718</td>\n",
       "      <td>0.494006</td>\n",
       "    </tr>\n",
       "    <tr>\n",
       "      <th>165</th>\n",
       "      <td>0.236661</td>\n",
       "      <td>0.181215</td>\n",
       "      <td>0.404901</td>\n",
       "      <td>1.915202</td>\n",
       "      <td>0.731006</td>\n",
       "      <td>0.976467</td>\n",
       "      <td>-0.114283</td>\n",
       "      <td>0.114283</td>\n",
       "      <td>-0.042472</td>\n",
       "      <td>0.550746</td>\n",
       "      <td>-0.014001</td>\n",
       "      <td>0.087594</td>\n",
       "      <td>-0.297798</td>\n",
       "      <td>0.317132</td>\n",
       "    </tr>\n",
       "    <tr>\n",
       "      <th>166</th>\n",
       "      <td>-0.833633</td>\n",
       "      <td>-0.886648</td>\n",
       "      <td>0.290030</td>\n",
       "      <td>0.424071</td>\n",
       "      <td>-0.222806</td>\n",
       "      <td>0.976467</td>\n",
       "      <td>0.667953</td>\n",
       "      <td>-0.667953</td>\n",
       "      <td>-0.098041</td>\n",
       "      <td>0.649445</td>\n",
       "      <td>0.031875</td>\n",
       "      <td>0.174343</td>\n",
       "      <td>0.141743</td>\n",
       "      <td>-0.498580</td>\n",
       "    </tr>\n",
       "    <tr>\n",
       "      <th>167</th>\n",
       "      <td>-0.620675</td>\n",
       "      <td>-0.673075</td>\n",
       "      <td>0.335308</td>\n",
       "      <td>0.251262</td>\n",
       "      <td>-0.454249</td>\n",
       "      <td>0.976467</td>\n",
       "      <td>0.531677</td>\n",
       "      <td>-0.531677</td>\n",
       "      <td>-0.065981</td>\n",
       "      <td>0.389160</td>\n",
       "      <td>0.026398</td>\n",
       "      <td>0.283757</td>\n",
       "      <td>-0.143282</td>\n",
       "      <td>-0.236208</td>\n",
       "    </tr>\n",
       "  </tbody>\n",
       "</table>\n",
       "<p>168 rows × 14 columns</p>\n",
       "</div>"
      ],
      "text/plain": [
       "     Montant total  Ventes17_19  Prix de vente moyen  \\\n",
       "0         0.883313     0.770501             0.605648   \n",
       "1        -0.436090    -0.473450             0.223253   \n",
       "2         1.207359     0.999764             0.875475   \n",
       "3         0.670439     0.671124             0.209681   \n",
       "4        -0.508330    -0.528369             0.037956   \n",
       "..             ...          ...                  ...   \n",
       "163       0.330158     0.375610            -0.019811   \n",
       "164       0.285079     0.271003             0.218680   \n",
       "165       0.236661     0.181215             0.404901   \n",
       "166      -0.833633    -0.886648             0.290030   \n",
       "167      -0.620675    -0.673075             0.335308   \n",
       "\n",
       "     Panier moyen  HT (Taux budget)  Indice de vente      Mall  Iconique  \\\n",
       "0                           2.595483        -5.173127 -1.024100 -0.342211   \n",
       "1                           0.237039         0.209823 -1.024100 -0.432638   \n",
       "2                           1.306625        -0.137629  0.976467 -0.430487   \n",
       "3                          -0.249515        -0.186226 -1.024100 -0.368819   \n",
       "4                           0.430280         0.483108 -1.024100 -0.132757   \n",
       "..                               ...              ...       ...       ...   \n",
       "163                         0.428899         0.308999 -1.024100 -0.087217   \n",
       "164                         1.811305         1.755748  0.976467 -0.163972   \n",
       "165                         1.915202         0.731006  0.976467 -0.114283   \n",
       "166                         0.424071        -0.222806  0.976467  0.667953   \n",
       "167                         0.251262        -0.454249  0.976467  0.531677   \n",
       "\n",
       "     Non_iconique  Statut Collection Produit_NINI PERMANENT  \\\n",
       "0        0.342211                                 -0.112194   \n",
       "1        0.432638                                 -0.166195   \n",
       "2        0.430487                                 -0.191934   \n",
       "3        0.368819                                 -0.110394   \n",
       "4        0.132757                                 -0.131680   \n",
       "..            ...                                       ...   \n",
       "163      0.087217                                 -0.024244   \n",
       "164      0.163972                                 -0.028435   \n",
       "165      0.114283                                 -0.042472   \n",
       "166     -0.667953                                 -0.098041   \n",
       "167     -0.531677                                 -0.065981   \n",
       "\n",
       "     Statut Collection Produit_PERMANENT  \\\n",
       "0                               0.177446   \n",
       "1                              -0.462308   \n",
       "2                              -0.239396   \n",
       "3                               0.157135   \n",
       "4                               1.266845   \n",
       "..                                   ...   \n",
       "163                             0.617472   \n",
       "164                             0.756122   \n",
       "165                             0.550746   \n",
       "166                             0.649445   \n",
       "167                             0.389160   \n",
       "\n",
       "     Statut Collection Produit_SAISONNIER  Libellé thème_CHAINETRAME  \\\n",
       "0                                0.094878                   0.282942   \n",
       "1                                0.215402                   0.197091   \n",
       "2                                0.218360                   0.647902   \n",
       "3                                0.095159                   0.396063   \n",
       "4                                0.002081                  -0.075376   \n",
       "..                                    ...                        ...   \n",
       "163                             -0.039281                   0.107782   \n",
       "164                             -0.049364                  -0.240351   \n",
       "165                             -0.014001                   0.087594   \n",
       "166                              0.031875                   0.174343   \n",
       "167                              0.026398                   0.283757   \n",
       "\n",
       "     Libellé thème_JERSEY  Libellé thème_MAILLE  \n",
       "0               -0.471226              0.269561  \n",
       "1               -0.501681              0.454555  \n",
       "2               -0.536132             -0.217877  \n",
       "3               -0.302190             -0.172488  \n",
       "4                0.006935              0.110625  \n",
       "..                    ...                   ...  \n",
       "163             -0.075180             -0.057793  \n",
       "164             -0.069718              0.494006  \n",
       "165             -0.297798              0.317132  \n",
       "166              0.141743             -0.498580  \n",
       "167             -0.143282             -0.236208  \n",
       "\n",
       "[168 rows x 14 columns]"
      ]
     },
     "execution_count": 398,
     "metadata": {},
     "output_type": "execute_result"
    }
   ],
   "source": [
    "data_cluster"
   ]
  },
  {
   "cell_type": "code",
   "execution_count": 399,
   "metadata": {},
   "outputs": [
    {
     "name": "stderr",
     "output_type": "stream",
     "text": [
      "C:\\Users\\eminl\\anaconda3\\lib\\site-packages\\sklearn\\cluster\\_kmeans.py:881: UserWarning: KMeans is known to have a memory leak on Windows with MKL, when there are less chunks than available threads. You can avoid it by setting the environment variable OMP_NUM_THREADS=1.\n",
      "  warnings.warn(\n"
     ]
    },
    {
     "data": {
      "image/png": "[encoded data removed]",
      "text/plain": [
       "<Figure size 432x288 with 1 Axes>"
      ]
     },
     "metadata": {
      "needs_background": "light"
     },
     "output_type": "display_data"
    }
   ],
   "source": [
    "# Entrainer un k-means ici\n",
    "inertia = []\n",
    "for k in range(1, 15, 1):\n",
    "    kmeans = KMeans(n_clusters=k, random_state=1).fit(data_cluster)\n",
    "    inertia.append(np.sqrt(kmeans.inertia_))\n",
    "\n",
    "plt.plot(range(1, 15, 1), inertia, marker='s');\n",
    "plt.xlabel('$k (nb de clusters)$')\n",
    "plt.ylabel('$Inertia$');"
   ]
  },
  {
   "cell_type": "code",
   "execution_count": 421,
   "metadata": {},
   "outputs": [
    {
     "data": {
      "text/html": [
       "<div>\n",
       "<style scoped>\n",
       "    .dataframe tbody tr th:only-of-type {\n",
       "        vertical-align: middle;\n",
       "    }\n",
       "\n",
       "    .dataframe tbody tr th {\n",
       "        vertical-align: top;\n",
       "    }\n",
       "\n",
       "    .dataframe thead th {\n",
       "        text-align: right;\n",
       "    }\n",
       "</style>\n",
       "<table border=\"1\" class=\"dataframe\">\n",
       "  <thead>\n",
       "    <tr style=\"text-align: right;\">\n",
       "      <th></th>\n",
       "      <th>Magasin</th>\n",
       "      <th>Montant total</th>\n",
       "      <th>Ventes17_19</th>\n",
       "      <th>Prix de vente moyen</th>\n",
       "      <th>Panier moyen  HT (Taux budget)</th>\n",
       "      <th>Indice de vente</th>\n",
       "      <th>Mall</th>\n",
       "      <th>Iconique</th>\n",
       "      <th>Non_iconique</th>\n",
       "      <th>Statut Collection Produit_NINI PERMANENT</th>\n",
       "      <th>Statut Collection Produit_PERMANENT</th>\n",
       "      <th>Statut Collection Produit_SAISONNIER</th>\n",
       "      <th>Libellé thème_CHAINETRAME</th>\n",
       "      <th>Libellé thème_JERSEY</th>\n",
       "      <th>Libellé thème_MAILLE</th>\n",
       "      <th>Cluster</th>\n",
       "    </tr>\n",
       "  </thead>\n",
       "  <tbody>\n",
       "    <tr>\n",
       "      <th>0</th>\n",
       "      <td>Magasin_1</td>\n",
       "      <td>512234</td>\n",
       "      <td>2283</td>\n",
       "      <td>224.368813</td>\n",
       "      <td>396.439363</td>\n",
       "      <td>0.000000</td>\n",
       "      <td>0</td>\n",
       "      <td>0.407797</td>\n",
       "      <td>0.592203</td>\n",
       "      <td>0.011827</td>\n",
       "      <td>0.014017</td>\n",
       "      <td>0.974157</td>\n",
       "      <td>0.443276</td>\n",
       "      <td>0.377573</td>\n",
       "      <td>0.179150</td>\n",
       "      <td>1</td>\n",
       "    </tr>\n",
       "    <tr>\n",
       "      <th>1</th>\n",
       "      <td>Magasin_10</td>\n",
       "      <td>181469</td>\n",
       "      <td>856</td>\n",
       "      <td>211.996495</td>\n",
       "      <td>266.656273</td>\n",
       "      <td>1.479903</td>\n",
       "      <td>0</td>\n",
       "      <td>0.396028</td>\n",
       "      <td>0.603972</td>\n",
       "      <td>0.007009</td>\n",
       "      <td>0.008178</td>\n",
       "      <td>0.984813</td>\n",
       "      <td>0.432243</td>\n",
       "      <td>0.373832</td>\n",
       "      <td>0.193925</td>\n",
       "      <td>1</td>\n",
       "    </tr>\n",
       "    <tr>\n",
       "      <th>2</th>\n",
       "      <td>Magasin_100</td>\n",
       "      <td>593470</td>\n",
       "      <td>2546</td>\n",
       "      <td>233.098979</td>\n",
       "      <td>325.514678</td>\n",
       "      <td>1.384380</td>\n",
       "      <td>1</td>\n",
       "      <td>0.396308</td>\n",
       "      <td>0.603692</td>\n",
       "      <td>0.004713</td>\n",
       "      <td>0.010212</td>\n",
       "      <td>0.985075</td>\n",
       "      <td>0.490181</td>\n",
       "      <td>0.369599</td>\n",
       "      <td>0.140220</td>\n",
       "      <td>4</td>\n",
       "    </tr>\n",
       "    <tr>\n",
       "      <th>3</th>\n",
       "      <td>Magasin_101</td>\n",
       "      <td>458868</td>\n",
       "      <td>2169</td>\n",
       "      <td>211.557400</td>\n",
       "      <td>239.881670</td>\n",
       "      <td>1.371019</td>\n",
       "      <td>0</td>\n",
       "      <td>0.404334</td>\n",
       "      <td>0.595666</td>\n",
       "      <td>0.011987</td>\n",
       "      <td>0.013831</td>\n",
       "      <td>0.974182</td>\n",
       "      <td>0.457815</td>\n",
       "      <td>0.398340</td>\n",
       "      <td>0.143845</td>\n",
       "      <td>1</td>\n",
       "    </tr>\n",
       "    <tr>\n",
       "      <th>4</th>\n",
       "      <td>Magasin_102</td>\n",
       "      <td>163359</td>\n",
       "      <td>793</td>\n",
       "      <td>206.001261</td>\n",
       "      <td>277.290152</td>\n",
       "      <td>1.555035</td>\n",
       "      <td>0</td>\n",
       "      <td>0.435057</td>\n",
       "      <td>0.564943</td>\n",
       "      <td>0.010088</td>\n",
       "      <td>0.023960</td>\n",
       "      <td>0.965952</td>\n",
       "      <td>0.397226</td>\n",
       "      <td>0.436318</td>\n",
       "      <td>0.166456</td>\n",
       "      <td>1</td>\n",
       "    </tr>\n",
       "  </tbody>\n",
       "</table>\n",
       "</div>"
      ],
      "text/plain": [
       "       Magasin  Montant total  Ventes17_19  Prix de vente moyen  \\\n",
       "0    Magasin_1         512234         2283           224.368813   \n",
       "1   Magasin_10         181469          856           211.996495   \n",
       "2  Magasin_100         593470         2546           233.098979   \n",
       "3  Magasin_101         458868         2169           211.557400   \n",
       "4  Magasin_102         163359          793           206.001261   \n",
       "\n",
       "   Panier moyen  HT (Taux budget)  Indice de vente Mall  Iconique  \\\n",
       "0                       396.439363         0.000000    0  0.407797   \n",
       "1                       266.656273         1.479903    0  0.396028   \n",
       "2                       325.514678         1.384380    1  0.396308   \n",
       "3                       239.881670         1.371019    0  0.404334   \n",
       "4                       277.290152         1.555035    0  0.435057   \n",
       "\n",
       "   Non_iconique  Statut Collection Produit_NINI PERMANENT  \\\n",
       "0      0.592203                                  0.011827   \n",
       "1      0.603972                                  0.007009   \n",
       "2      0.603692                                  0.004713   \n",
       "3      0.595666                                  0.011987   \n",
       "4      0.564943                                  0.010088   \n",
       "\n",
       "   Statut Collection Produit_PERMANENT  Statut Collection Produit_SAISONNIER  \\\n",
       "0                             0.014017                              0.974157   \n",
       "1                             0.008178                              0.984813   \n",
       "2                             0.010212                              0.985075   \n",
       "3                             0.013831                              0.974182   \n",
       "4                             0.023960                              0.965952   \n",
       "\n",
       "   Libellé thème_CHAINETRAME  Libellé thème_JERSEY  Libellé thème_MAILLE  \\\n",
       "0                   0.443276              0.377573              0.179150   \n",
       "1                   0.432243              0.373832              0.193925   \n",
       "2                   0.490181              0.369599              0.140220   \n",
       "3                   0.457815              0.398340              0.143845   \n",
       "4                   0.397226              0.436318              0.166456   \n",
       "\n",
       "   Cluster  \n",
       "0        1  \n",
       "1        1  \n",
       "2        4  \n",
       "3        1  \n",
       "4        1  "
      ]
     },
     "execution_count": 421,
     "metadata": {},
     "output_type": "execute_result"
    }
   ],
   "source": [
    "# Ajoutez les labels des clusters au dataframe\n",
    "Nb_clusters = 6\n",
    "kmeans = KMeans(n_clusters=Nb_clusters, random_state=1).fit(data_cluster)\n",
    "\n",
    "# Ajout des Labels de cluster pour chaque store (ie à quel cluster appartient chaque store ?) au data set initial\n",
    "data[\"Cluster\"] = kmeans.labels_\n",
    "data.head()"
   ]
  },
  {
   "cell_type": "code",
   "execution_count": 401,
   "metadata": {},
   "outputs": [
    {
     "data": {
      "text/plain": [
       "<matplotlib.collections.PathCollection at 0x204844dd640>"
      ]
     },
     "execution_count": 401,
     "metadata": {},
     "output_type": "execute_result"
    },
    {
     "data": {
      "image/png": "[encoded data removed]",
      "text/plain": [
       "<Figure size 432x288 with 1 Axes>"
      ]
     },
     "metadata": {
      "needs_background": "light"
     },
     "output_type": "display_data"
    }
   ],
   "source": [
    "plt.scatter(data.iloc[:,5], data.iloc[:,1], c = kmeans.labels_, s=50, cmap= \"viridis\")"
   ]
  },
  {
   "cell_type": "code",
   "execution_count": 413,
   "metadata": {},
   "outputs": [
    {
     "data": {
      "image/png": "[encoded data removed]",
      "text/plain": [
       "<Figure size 1296x504 with 1 Axes>"
      ]
     },
     "metadata": {
      "needs_background": "light"
     },
     "output_type": "display_data"
    }
   ],
   "source": [
    "## Visualisation des clusters\n",
    "\n",
    "# Changer les axes X et Y pour voir la répartition des clusters...\n",
    "x_axis = \"Prix de vente moyen\"\n",
    "y_axis = \"Ventes17_19\"\n",
    "\n",
    "plt.figure(figsize=(18,7))\n",
    "\n",
    "sns.scatterplot(\n",
    "    x = data[x_axis],\n",
    "    y = data[y_axis],\n",
    "    hue = data[\"Cluster\"],\n",
    "    s=80,\n",
    ")\n",
    "\n",
    "plt.xlabel(x_axis, fontsize=14)\n",
    "plt.ylabel(y_axis, fontsize=14)\n",
    "plt.legend()\n",
    "plt.show()"
   ]
  },
  {
   "cell_type": "markdown",
   "metadata": {},
   "source": [
    "### Caractéristisation des clusters :\n",
    "\n",
    "Analysez chacun des clusters : Quelle est la distribution des variables ? Nous vous invitons à filtrer sur chacun des clusters et à établir des statistiques."
   ]
  },
  {
   "cell_type": "code",
   "execution_count": 420,
   "metadata": {},
   "outputs": [
    {
     "name": "stdout",
     "output_type": "stream",
     "text": [
      "Taille du cluster : 22, (13.0% des magasins)\n"
     ]
    },
    {
     "name": "stderr",
     "output_type": "stream",
     "text": [
      "C:\\Users\\eminl\\anaconda3\\lib\\site-packages\\seaborn\\distributions.py:2557: FutureWarning: `distplot` is a deprecated function and will be removed in a future version. Please adapt your code to use either `displot` (a figure-level function with similar flexibility) or `histplot` (an axes-level function for histograms).\n",
      "  warnings.warn(msg, FutureWarning)\n",
      "C:\\Users\\eminl\\anaconda3\\lib\\site-packages\\seaborn\\distributions.py:2557: FutureWarning: `distplot` is a deprecated function and will be removed in a future version. Please adapt your code to use either `displot` (a figure-level function with similar flexibility) or `histplot` (an axes-level function for histograms).\n",
      "  warnings.warn(msg, FutureWarning)\n",
      "C:\\Users\\eminl\\anaconda3\\lib\\site-packages\\seaborn\\distributions.py:2557: FutureWarning: `distplot` is a deprecated function and will be removed in a future version. Please adapt your code to use either `displot` (a figure-level function with similar flexibility) or `histplot` (an axes-level function for histograms).\n",
      "  warnings.warn(msg, FutureWarning)\n",
      "C:\\Users\\eminl\\anaconda3\\lib\\site-packages\\seaborn\\distributions.py:2557: FutureWarning: `distplot` is a deprecated function and will be removed in a future version. Please adapt your code to use either `displot` (a figure-level function with similar flexibility) or `histplot` (an axes-level function for histograms).\n",
      "  warnings.warn(msg, FutureWarning)\n",
      "C:\\Users\\eminl\\anaconda3\\lib\\site-packages\\seaborn\\distributions.py:2557: FutureWarning: `distplot` is a deprecated function and will be removed in a future version. Please adapt your code to use either `displot` (a figure-level function with similar flexibility) or `histplot` (an axes-level function for histograms).\n",
      "  warnings.warn(msg, FutureWarning)\n",
      "C:\\Users\\eminl\\anaconda3\\lib\\site-packages\\seaborn\\distributions.py:2557: FutureWarning: `distplot` is a deprecated function and will be removed in a future version. Please adapt your code to use either `displot` (a figure-level function with similar flexibility) or `histplot` (an axes-level function for histograms).\n",
      "  warnings.warn(msg, FutureWarning)\n",
      "C:\\Users\\eminl\\anaconda3\\lib\\site-packages\\seaborn\\distributions.py:2557: FutureWarning: `distplot` is a deprecated function and will be removed in a future version. Please adapt your code to use either `displot` (a figure-level function with similar flexibility) or `histplot` (an axes-level function for histograms).\n",
      "  warnings.warn(msg, FutureWarning)\n",
      "C:\\Users\\eminl\\anaconda3\\lib\\site-packages\\seaborn\\distributions.py:2557: FutureWarning: `distplot` is a deprecated function and will be removed in a future version. Please adapt your code to use either `displot` (a figure-level function with similar flexibility) or `histplot` (an axes-level function for histograms).\n",
      "  warnings.warn(msg, FutureWarning)\n",
      "C:\\Users\\eminl\\anaconda3\\lib\\site-packages\\seaborn\\distributions.py:2557: FutureWarning: `distplot` is a deprecated function and will be removed in a future version. Please adapt your code to use either `displot` (a figure-level function with similar flexibility) or `histplot` (an axes-level function for histograms).\n",
      "  warnings.warn(msg, FutureWarning)\n",
      "C:\\Users\\eminl\\anaconda3\\lib\\site-packages\\seaborn\\distributions.py:2557: FutureWarning: `distplot` is a deprecated function and will be removed in a future version. Please adapt your code to use either `displot` (a figure-level function with similar flexibility) or `histplot` (an axes-level function for histograms).\n",
      "  warnings.warn(msg, FutureWarning)\n",
      "C:\\Users\\eminl\\anaconda3\\lib\\site-packages\\seaborn\\distributions.py:2557: FutureWarning: `distplot` is a deprecated function and will be removed in a future version. Please adapt your code to use either `displot` (a figure-level function with similar flexibility) or `histplot` (an axes-level function for histograms).\n",
      "  warnings.warn(msg, FutureWarning)\n",
      "C:\\Users\\eminl\\anaconda3\\lib\\site-packages\\seaborn\\distributions.py:2557: FutureWarning: `distplot` is a deprecated function and will be removed in a future version. Please adapt your code to use either `displot` (a figure-level function with similar flexibility) or `histplot` (an axes-level function for histograms).\n",
      "  warnings.warn(msg, FutureWarning)\n",
      "C:\\Users\\eminl\\anaconda3\\lib\\site-packages\\seaborn\\distributions.py:2557: FutureWarning: `distplot` is a deprecated function and will be removed in a future version. Please adapt your code to use either `displot` (a figure-level function with similar flexibility) or `histplot` (an axes-level function for histograms).\n",
      "  warnings.warn(msg, FutureWarning)\n",
      "C:\\Users\\eminl\\anaconda3\\lib\\site-packages\\seaborn\\distributions.py:2557: FutureWarning: `distplot` is a deprecated function and will be removed in a future version. Please adapt your code to use either `displot` (a figure-level function with similar flexibility) or `histplot` (an axes-level function for histograms).\n",
      "  warnings.warn(msg, FutureWarning)\n",
      "C:\\Users\\eminl\\anaconda3\\lib\\site-packages\\seaborn\\distributions.py:2557: FutureWarning: `distplot` is a deprecated function and will be removed in a future version. Please adapt your code to use either `displot` (a figure-level function with similar flexibility) or `histplot` (an axes-level function for histograms).\n",
      "  warnings.warn(msg, FutureWarning)\n",
      "C:\\Users\\eminl\\anaconda3\\lib\\site-packages\\seaborn\\distributions.py:2557: FutureWarning: `distplot` is a deprecated function and will be removed in a future version. Please adapt your code to use either `displot` (a figure-level function with similar flexibility) or `histplot` (an axes-level function for histograms).\n",
      "  warnings.warn(msg, FutureWarning)\n",
      "C:\\Users\\eminl\\anaconda3\\lib\\site-packages\\seaborn\\distributions.py:2557: FutureWarning: `distplot` is a deprecated function and will be removed in a future version. Please adapt your code to use either `displot` (a figure-level function with similar flexibility) or `histplot` (an axes-level function for histograms).\n",
      "  warnings.warn(msg, FutureWarning)\n",
      "C:\\Users\\eminl\\anaconda3\\lib\\site-packages\\seaborn\\distributions.py:2557: FutureWarning: `distplot` is a deprecated function and will be removed in a future version. Please adapt your code to use either `displot` (a figure-level function with similar flexibility) or `histplot` (an axes-level function for histograms).\n",
      "  warnings.warn(msg, FutureWarning)\n",
      "C:\\Users\\eminl\\anaconda3\\lib\\site-packages\\seaborn\\distributions.py:2557: FutureWarning: `distplot` is a deprecated function and will be removed in a future version. Please adapt your code to use either `displot` (a figure-level function with similar flexibility) or `histplot` (an axes-level function for histograms).\n",
      "  warnings.warn(msg, FutureWarning)\n",
      "C:\\Users\\eminl\\anaconda3\\lib\\site-packages\\seaborn\\distributions.py:2557: FutureWarning: `distplot` is a deprecated function and will be removed in a future version. Please adapt your code to use either `displot` (a figure-level function with similar flexibility) or `histplot` (an axes-level function for histograms).\n",
      "  warnings.warn(msg, FutureWarning)\n",
      "C:\\Users\\eminl\\anaconda3\\lib\\site-packages\\seaborn\\distributions.py:2557: FutureWarning: `distplot` is a deprecated function and will be removed in a future version. Please adapt your code to use either `displot` (a figure-level function with similar flexibility) or `histplot` (an axes-level function for histograms).\n",
      "  warnings.warn(msg, FutureWarning)\n",
      "C:\\Users\\eminl\\anaconda3\\lib\\site-packages\\seaborn\\distributions.py:2557: FutureWarning: `distplot` is a deprecated function and will be removed in a future version. Please adapt your code to use either `displot` (a figure-level function with similar flexibility) or `histplot` (an axes-level function for histograms).\n",
      "  warnings.warn(msg, FutureWarning)\n",
      "C:\\Users\\eminl\\anaconda3\\lib\\site-packages\\seaborn\\distributions.py:2557: FutureWarning: `distplot` is a deprecated function and will be removed in a future version. Please adapt your code to use either `displot` (a figure-level function with similar flexibility) or `histplot` (an axes-level function for histograms).\n",
      "  warnings.warn(msg, FutureWarning)\n",
      "C:\\Users\\eminl\\anaconda3\\lib\\site-packages\\seaborn\\distributions.py:2557: FutureWarning: `distplot` is a deprecated function and will be removed in a future version. Please adapt your code to use either `displot` (a figure-level function with similar flexibility) or `histplot` (an axes-level function for histograms).\n",
      "  warnings.warn(msg, FutureWarning)\n",
      "C:\\Users\\eminl\\anaconda3\\lib\\site-packages\\seaborn\\distributions.py:2557: FutureWarning: `distplot` is a deprecated function and will be removed in a future version. Please adapt your code to use either `displot` (a figure-level function with similar flexibility) or `histplot` (an axes-level function for histograms).\n",
      "  warnings.warn(msg, FutureWarning)\n",
      "C:\\Users\\eminl\\anaconda3\\lib\\site-packages\\seaborn\\distributions.py:2557: FutureWarning: `distplot` is a deprecated function and will be removed in a future version. Please adapt your code to use either `displot` (a figure-level function with similar flexibility) or `histplot` (an axes-level function for histograms).\n",
      "  warnings.warn(msg, FutureWarning)\n",
      "C:\\Users\\eminl\\anaconda3\\lib\\site-packages\\matplotlib\\backends\\backend_agg.py:238: RuntimeWarning: Glyph 128 missing from current font.\n",
      "  font.set_text(s, 0.0, flags=flags)\n",
      "C:\\Users\\eminl\\anaconda3\\lib\\site-packages\\matplotlib\\backends\\backend_agg.py:201: RuntimeWarning: Glyph 128 missing from current font.\n",
      "  font.set_text(s, 0, flags=flags)\n"
     ]
    },
    {
     "data": {
      "image/png": "[encoded data removed]",
      "text/plain": [
       "<Figure size 1080x1584 with 13 Axes>"
      ]
     },
     "metadata": {
      "needs_background": "light"
     },
     "output_type": "display_data"
    }
   ],
   "source": [
    "## Caractérisation de chaque cluster en regardant les distributions des variables dans le clusters VS ailleurs\n",
    "\n",
    "num_cols = [\"Montant total\",\n",
    "\t        \"Ventes17_19\",\t\"Prix de vente moyen\",\n",
    "    \t    \"Panier moyen  HT (Taux budget)\", \"Mall\",\n",
    "        \t\"Indice de vente\", \"Iconique\",\n",
    "            \"Statut Collection Produit_NINI PERMANENT\",\t\n",
    "            \"Statut Collection Produit_PERMANENT\",\t\n",
    "            \"Statut Collection Produit_SAISONNIER\",\t\"Libellé thème_CHAINETRAME\",\n",
    "            \"Libellé thème_JERSEY\",\t\"Libellé thème_MAILLE\", \n",
    "           ]\n",
    "\n",
    "# Numéro du cluster\n",
    "n_cluster = 6\n",
    "df_cluster = data[data.Cluster==n_cluster]\n",
    "df_others = data[data.Cluster!=n_cluster]\n",
    "\n",
    "print(\"Taille du cluster : {}, ({}% des magasins)\".format(len(df_cluster), np.round(100*len(df_cluster)/len(data))))\n",
    "\n",
    " \n",
    "f, ax = plt.subplots(13, 1, figsize=(15,22)) \n",
    "for i in range(len(num_cols)) :  \n",
    "    sns.distplot(df_cluster[num_cols[i]], hist=True, label=\"Cluster \" + str(n_cluster), ax=ax[i])\n",
    "    sns.distplot(df_others[num_cols[i]], hist=True, label=\"All rest\", ax=ax[i])    \n",
    "\n",
    "#     sns.histplot(x=df_cluster[num_cols[i]], stat = \"probability\", label=\"Cluster \" + str(n_cluster), color=\"blue\", alpha=0.5, ax=ax[i])\n",
    "#     sns.histplot(x=df_others[num_cols[i]], stat = \"probability\", label=\"All rest\", color=\"red\", alpha=0.5, ax=ax[i])\n",
    "    ax[i].legend()\n",
    "\n",
    "\n",
    "plt.tight_layout()\n",
    "plt.show()"
   ]
  },
  {
   "cell_type": "markdown",
   "metadata": {},
   "source": [
    "Taille des clusters"
   ]
  },
  {
   "cell_type": "code",
   "execution_count": 422,
   "metadata": {
    "scrolled": true
   },
   "outputs": [
    {
     "data": {
      "text/plain": [
       "5    68\n",
       "1    67\n",
       "4    25\n",
       "0     5\n",
       "3     2\n",
       "2     1\n",
       "Name: Cluster, dtype: int64"
      ]
     },
     "execution_count": 422,
     "metadata": {},
     "output_type": "execute_result"
    }
   ],
   "source": [
    "data[\"Cluster\"].value_counts()"
   ]
  },
  {
   "cell_type": "code",
   "execution_count": 403,
   "metadata": {},
   "outputs": [
    {
     "data": {
      "text/html": [
       "<div>\n",
       "<style scoped>\n",
       "    .dataframe tbody tr th:only-of-type {\n",
       "        vertical-align: middle;\n",
       "    }\n",
       "\n",
       "    .dataframe tbody tr th {\n",
       "        vertical-align: top;\n",
       "    }\n",
       "\n",
       "    .dataframe thead th {\n",
       "        text-align: right;\n",
       "    }\n",
       "</style>\n",
       "<table border=\"1\" class=\"dataframe\">\n",
       "  <thead>\n",
       "    <tr style=\"text-align: right;\">\n",
       "      <th></th>\n",
       "      <th>Montant total</th>\n",
       "      <th>Ventes17_19</th>\n",
       "      <th>Prix de vente moyen</th>\n",
       "      <th>Panier moyen  HT (Taux budget)</th>\n",
       "      <th>Indice de vente</th>\n",
       "      <th>Iconique</th>\n",
       "      <th>Non_iconique</th>\n",
       "      <th>Statut Collection Produit_NINI PERMANENT</th>\n",
       "      <th>Statut Collection Produit_PERMANENT</th>\n",
       "      <th>Statut Collection Produit_SAISONNIER</th>\n",
       "      <th>Libellé thème_CHAINETRAME</th>\n",
       "      <th>Libellé thème_JERSEY</th>\n",
       "      <th>Libellé thème_MAILLE</th>\n",
       "    </tr>\n",
       "    <tr>\n",
       "      <th>Cluster</th>\n",
       "      <th></th>\n",
       "      <th></th>\n",
       "      <th></th>\n",
       "      <th></th>\n",
       "      <th></th>\n",
       "      <th></th>\n",
       "      <th></th>\n",
       "      <th></th>\n",
       "      <th></th>\n",
       "      <th></th>\n",
       "      <th></th>\n",
       "      <th></th>\n",
       "      <th></th>\n",
       "    </tr>\n",
       "  </thead>\n",
       "  <tbody>\n",
       "    <tr>\n",
       "      <th>0</th>\n",
       "      <td>233370.384615</td>\n",
       "      <td>1125.384615</td>\n",
       "      <td>204.248144</td>\n",
       "      <td>303.497936</td>\n",
       "      <td>1.621869</td>\n",
       "      <td>0.461435</td>\n",
       "      <td>0.538565</td>\n",
       "      <td>0.017783</td>\n",
       "      <td>0.030953</td>\n",
       "      <td>0.951264</td>\n",
       "      <td>0.400563</td>\n",
       "      <td>0.432638</td>\n",
       "      <td>0.166799</td>\n",
       "    </tr>\n",
       "    <tr>\n",
       "      <th>1</th>\n",
       "      <td>309474.774194</td>\n",
       "      <td>1494.209677</td>\n",
       "      <td>206.126911</td>\n",
       "      <td>261.549192</td>\n",
       "      <td>1.480921</td>\n",
       "      <td>0.418564</td>\n",
       "      <td>0.581436</td>\n",
       "      <td>0.011070</td>\n",
       "      <td>0.011562</td>\n",
       "      <td>0.977368</td>\n",
       "      <td>0.413681</td>\n",
       "      <td>0.422790</td>\n",
       "      <td>0.163529</td>\n",
       "    </tr>\n",
       "    <tr>\n",
       "      <th>2</th>\n",
       "      <td>371.000000</td>\n",
       "      <td>1.200000</td>\n",
       "      <td>319.000000</td>\n",
       "      <td>196.012367</td>\n",
       "      <td>1.050035</td>\n",
       "      <td>0.900000</td>\n",
       "      <td>0.100000</td>\n",
       "      <td>0.000000</td>\n",
       "      <td>0.000000</td>\n",
       "      <td>1.000000</td>\n",
       "      <td>1.000000</td>\n",
       "      <td>0.000000</td>\n",
       "      <td>0.000000</td>\n",
       "    </tr>\n",
       "    <tr>\n",
       "      <th>3</th>\n",
       "      <td>230.000000</td>\n",
       "      <td>1.000000</td>\n",
       "      <td>230.000000</td>\n",
       "      <td>148.188176</td>\n",
       "      <td>1.216535</td>\n",
       "      <td>0.000000</td>\n",
       "      <td>1.000000</td>\n",
       "      <td>0.000000</td>\n",
       "      <td>0.000000</td>\n",
       "      <td>1.000000</td>\n",
       "      <td>0.000000</td>\n",
       "      <td>0.000000</td>\n",
       "      <td>1.000000</td>\n",
       "    </tr>\n",
       "    <tr>\n",
       "      <th>4</th>\n",
       "      <td>1055.000000</td>\n",
       "      <td>4.500000</td>\n",
       "      <td>193.571429</td>\n",
       "      <td>259.374751</td>\n",
       "      <td>1.397271</td>\n",
       "      <td>1.000000</td>\n",
       "      <td>0.000000</td>\n",
       "      <td>0.785714</td>\n",
       "      <td>0.000000</td>\n",
       "      <td>0.214286</td>\n",
       "      <td>0.214286</td>\n",
       "      <td>0.714286</td>\n",
       "      <td>0.071429</td>\n",
       "    </tr>\n",
       "    <tr>\n",
       "      <th>5</th>\n",
       "      <td>157764.825397</td>\n",
       "      <td>805.301587</td>\n",
       "      <td>190.350980</td>\n",
       "      <td>216.527414</td>\n",
       "      <td>1.253414</td>\n",
       "      <td>0.449288</td>\n",
       "      <td>0.550712</td>\n",
       "      <td>0.014417</td>\n",
       "      <td>0.009948</td>\n",
       "      <td>0.975635</td>\n",
       "      <td>0.358452</td>\n",
       "      <td>0.492714</td>\n",
       "      <td>0.148834</td>\n",
       "    </tr>\n",
       "    <tr>\n",
       "      <th>6</th>\n",
       "      <td>758577.954545</td>\n",
       "      <td>3501.409091</td>\n",
       "      <td>216.479564</td>\n",
       "      <td>325.323012</td>\n",
       "      <td>1.718399</td>\n",
       "      <td>0.419885</td>\n",
       "      <td>0.580115</td>\n",
       "      <td>0.012320</td>\n",
       "      <td>0.015309</td>\n",
       "      <td>0.972372</td>\n",
       "      <td>0.431583</td>\n",
       "      <td>0.402337</td>\n",
       "      <td>0.166080</td>\n",
       "    </tr>\n",
       "  </tbody>\n",
       "</table>\n",
       "</div>"
      ],
      "text/plain": [
       "         Montant total  Ventes17_19  Prix de vente moyen  \\\n",
       "Cluster                                                    \n",
       "0        233370.384615  1125.384615           204.248144   \n",
       "1        309474.774194  1494.209677           206.126911   \n",
       "2           371.000000     1.200000           319.000000   \n",
       "3           230.000000     1.000000           230.000000   \n",
       "4          1055.000000     4.500000           193.571429   \n",
       "5        157764.825397   805.301587           190.350980   \n",
       "6        758577.954545  3501.409091           216.479564   \n",
       "\n",
       "         Panier moyen  HT (Taux budget)  Indice de vente  Iconique  \\\n",
       "Cluster                                                               \n",
       "0                             303.497936         1.621869  0.461435   \n",
       "1                             261.549192         1.480921  0.418564   \n",
       "2                             196.012367         1.050035  0.900000   \n",
       "3                             148.188176         1.216535  0.000000   \n",
       "4                             259.374751         1.397271  1.000000   \n",
       "5                             216.527414         1.253414  0.449288   \n",
       "6                             325.323012         1.718399  0.419885   \n",
       "\n",
       "         Non_iconique  Statut Collection Produit_NINI PERMANENT  \\\n",
       "Cluster                                                           \n",
       "0            0.538565                                  0.017783   \n",
       "1            0.581436                                  0.011070   \n",
       "2            0.100000                                  0.000000   \n",
       "3            1.000000                                  0.000000   \n",
       "4            0.000000                                  0.785714   \n",
       "5            0.550712                                  0.014417   \n",
       "6            0.580115                                  0.012320   \n",
       "\n",
       "         Statut Collection Produit_PERMANENT  \\\n",
       "Cluster                                        \n",
       "0                                   0.030953   \n",
       "1                                   0.011562   \n",
       "2                                   0.000000   \n",
       "3                                   0.000000   \n",
       "4                                   0.000000   \n",
       "5                                   0.009948   \n",
       "6                                   0.015309   \n",
       "\n",
       "         Statut Collection Produit_SAISONNIER  Libellé thème_CHAINETRAME  \\\n",
       "Cluster                                                                    \n",
       "0                                    0.951264                   0.400563   \n",
       "1                                    0.977368                   0.413681   \n",
       "2                                    1.000000                   1.000000   \n",
       "3                                    1.000000                   0.000000   \n",
       "4                                    0.214286                   0.214286   \n",
       "5                                    0.975635                   0.358452   \n",
       "6                                    0.972372                   0.431583   \n",
       "\n",
       "         Libellé thème_JERSEY  Libellé thème_MAILLE  \n",
       "Cluster                                              \n",
       "0                    0.432638              0.166799  \n",
       "1                    0.422790              0.163529  \n",
       "2                    0.000000              0.000000  \n",
       "3                    0.000000              1.000000  \n",
       "4                    0.714286              0.071429  \n",
       "5                    0.492714              0.148834  \n",
       "6                    0.402337              0.166080  "
      ]
     },
     "execution_count": 403,
     "metadata": {},
     "output_type": "execute_result"
    }
   ],
   "source": [
    "data.groupby(\"Cluster\").mean()"
   ]
  },
  {
   "cell_type": "code",
   "execution_count": 404,
   "metadata": {},
   "outputs": [
    {
     "data": {
      "text/plain": [
       "Montant total                                2.907937e+05\n",
       "Ventes17_19                                  1.399119e+03\n",
       "Prix de vente moyen                          2.047732e+02\n",
       "Panier moyen  HT (Taux budget)              2.536122e+02\n",
       "Indice de vente                              1.422217e+00\n",
       "Mall                                        5.952447e+162\n",
       "Iconique                                     4.523347e-01\n",
       "Non_iconique                                 5.476653e-01\n",
       "Statut Collection Produit_NINI PERMANENT     2.183481e-02\n",
       "Statut Collection Produit_PERMANENT          1.239708e-02\n",
       "Statut Collection Produit_SAISONNIER         9.657681e-01\n",
       "Libellé thème_CHAINETRAME                    4.069130e-01\n",
       "Libellé thème_JERSEY                         4.354658e-01\n",
       "Libellé thème_MAILLE                         1.576212e-01\n",
       "dtype: float64"
      ]
     },
     "execution_count": 404,
     "metadata": {},
     "output_type": "execute_result"
    }
   ],
   "source": [
    "mags_df.mean()"
   ]
  },
  {
   "cell_type": "markdown",
   "metadata": {},
   "source": [
    "**Portez une attention particulière à l'analyse et l'interprétation des premiers résultats du clustering. Ces résultats pourront vous inspirer la création de nouvelles variables plus pertinentes, ou l'adoption d'une nouvelle démarche. Par exemple, si on trouve un cluster principal qui contient la majorité des magasins et d'autres clusters avec un très faible nombre de magasins, il peut être intéressant de les écarter et de refaire un clustering uniquement sur le gros cluster.**\n",
    "\n",
    "**On tombe rarement sur la bonne réponse du premier coup, c'est une approche très itérative.**\n"
   ]
  },
  {
   "cell_type": "markdown",
   "metadata": {},
   "source": [
    "## On va essayer une autre methode \"Classification hiérarchique\""
   ]
  },
  {
   "cell_type": "code",
   "execution_count": 405,
   "metadata": {},
   "outputs": [
    {
     "data": {
      "text/plain": [
       "(168, 14)"
      ]
     },
     "execution_count": 405,
     "metadata": {},
     "output_type": "execute_result"
    }
   ],
   "source": [
    "mags_df.shape"
   ]
  },
  {
   "cell_type": "code",
   "execution_count": 406,
   "metadata": {},
   "outputs": [],
   "source": [
    "from scipy.cluster.hierarchy import linkage\n",
    "hc_complete = linkage(mags_df, \"complete\")\n",
    "hc_average = linkage(mags_df, \"average\")\n",
    "hc_single = linkage(mags_df, \"single\")"
   ]
  },
  {
   "cell_type": "code",
   "execution_count": 407,
   "metadata": {},
   "outputs": [
    {
     "data": {
      "image/png": "[encoded data removed]",
      "text/plain": [
       "<Figure size 2880x1080 with 1 Axes>"
      ]
     },
     "metadata": {
      "needs_background": "light"
     },
     "output_type": "display_data"
    }
   ],
   "source": [
    "from scipy.cluster.hierarchy import dendrogram\n",
    "\n",
    "plt.figure(figsize=(40, 15))\n",
    "plt.title('Classification hiérarchique - Dendogram')\n",
    "plt.xlabel('Index')\n",
    "plt.ylabel('Distance')\n",
    "dendrogram(\n",
    "    hc_complete,\n",
    "    leaf_font_size=14\n",
    ");"
   ]
  },
  {
   "cell_type": "code",
   "execution_count": 408,
   "metadata": {},
   "outputs": [
    {
     "data": {
      "image/png": "[encoded data removed]",
      "text/plain": [
       "<Figure size 1440x720 with 1 Axes>"
      ]
     },
     "metadata": {
      "needs_background": "light"
     },
     "output_type": "display_data"
    }
   ],
   "source": [
    "from scipy.cluster.hierarchy import dendrogram\n",
    "\n",
    "plt.figure(figsize=(20, 10))\n",
    "plt.title('Classification hiérarchique - Dendogram')\n",
    "plt.xlabel('Index')\n",
    "plt.ylabel('Distance')\n",
    "dendrogram(\n",
    "    hc_complete,\n",
    "    truncate_mode = \"lastp\",\n",
    "    p = 9,\n",
    "    show_contracted = True\n",
    ");"
   ]
  },
  {
   "cell_type": "code",
   "execution_count": 410,
   "metadata": {},
   "outputs": [
    {
     "data": {
      "text/plain": [
       "array([4, 3, 4, 4, 3, 3, 0, 4, 0, 3, 0, 0, 3, 5, 0, 3, 3, 3, 0, 5, 0, 3,\n",
       "       3, 3, 3, 3, 3, 2, 3, 3, 3, 0, 3, 0, 0, 3, 3, 0, 3, 4, 1, 4, 0, 4,\n",
       "       0, 0, 3, 3, 3, 5, 3, 0, 1, 4, 3, 5, 4, 0, 1, 3, 0, 0, 0, 0, 0, 4,\n",
       "       0, 5, 3, 3, 4, 0, 0, 1, 1, 0, 3, 4, 4, 3, 0, 3, 3, 4, 3, 4, 4, 1,\n",
       "       0, 3, 0, 0, 3, 4, 0, 0, 4, 0, 4, 1, 5, 3, 2, 1, 5, 3, 4, 4, 3, 0,\n",
       "       3, 3, 5, 0, 3, 3, 5, 0, 3, 0, 3, 3, 5, 3, 5, 0, 0, 3, 3, 5, 3, 1,\n",
       "       5, 3, 3, 4, 4, 0, 3, 0, 0, 0, 0, 0, 3, 2, 4, 4, 3, 4, 4, 3, 4, 3,\n",
       "       4, 4, 3, 1, 0, 4, 0, 3, 4, 0, 0, 0, 3, 3], dtype=int64)"
      ]
     },
     "execution_count": 410,
     "metadata": {},
     "output_type": "execute_result"
    }
   ],
   "source": [
    "from sklearn.cluster import AgglomerativeClustering\n",
    "cluster = AgglomerativeClustering(n_clusters = 6, \n",
    "                                  affinity = \"euclidean\", \n",
    "                                  linkage = \"ward\")\n",
    "\n",
    "cluster.fit_predict(mags_df)"
   ]
  },
  {
   "cell_type": "code",
   "execution_count": 411,
   "metadata": {},
   "outputs": [
    {
     "data": {
      "text/html": [
       "<div>\n",
       "<style scoped>\n",
       "    .dataframe tbody tr th:only-of-type {\n",
       "        vertical-align: middle;\n",
       "    }\n",
       "\n",
       "    .dataframe tbody tr th {\n",
       "        vertical-align: top;\n",
       "    }\n",
       "\n",
       "    .dataframe thead th {\n",
       "        text-align: right;\n",
       "    }\n",
       "</style>\n",
       "<table border=\"1\" class=\"dataframe\">\n",
       "  <thead>\n",
       "    <tr style=\"text-align: right;\">\n",
       "      <th></th>\n",
       "      <th>Magasin</th>\n",
       "      <th>Cluster</th>\n",
       "    </tr>\n",
       "  </thead>\n",
       "  <tbody>\n",
       "    <tr>\n",
       "      <th>0</th>\n",
       "      <td>Magasin_1</td>\n",
       "      <td>4</td>\n",
       "    </tr>\n",
       "    <tr>\n",
       "      <th>1</th>\n",
       "      <td>Magasin_10</td>\n",
       "      <td>3</td>\n",
       "    </tr>\n",
       "    <tr>\n",
       "      <th>2</th>\n",
       "      <td>Magasin_100</td>\n",
       "      <td>4</td>\n",
       "    </tr>\n",
       "    <tr>\n",
       "      <th>3</th>\n",
       "      <td>Magasin_101</td>\n",
       "      <td>4</td>\n",
       "    </tr>\n",
       "    <tr>\n",
       "      <th>4</th>\n",
       "      <td>Magasin_102</td>\n",
       "      <td>3</td>\n",
       "    </tr>\n",
       "    <tr>\n",
       "      <th>...</th>\n",
       "      <td>...</td>\n",
       "      <td>...</td>\n",
       "    </tr>\n",
       "    <tr>\n",
       "      <th>163</th>\n",
       "      <td>Magasin_92</td>\n",
       "      <td>0</td>\n",
       "    </tr>\n",
       "    <tr>\n",
       "      <th>164</th>\n",
       "      <td>Magasin_94</td>\n",
       "      <td>0</td>\n",
       "    </tr>\n",
       "    <tr>\n",
       "      <th>165</th>\n",
       "      <td>Magasin_97</td>\n",
       "      <td>0</td>\n",
       "    </tr>\n",
       "    <tr>\n",
       "      <th>166</th>\n",
       "      <td>Magasin_98</td>\n",
       "      <td>3</td>\n",
       "    </tr>\n",
       "    <tr>\n",
       "      <th>167</th>\n",
       "      <td>Magasin_99</td>\n",
       "      <td>3</td>\n",
       "    </tr>\n",
       "  </tbody>\n",
       "</table>\n",
       "<p>168 rows × 2 columns</p>\n",
       "</div>"
      ],
      "text/plain": [
       "         Magasin  Cluster\n",
       "0      Magasin_1        4\n",
       "1     Magasin_10        3\n",
       "2    Magasin_100        4\n",
       "3    Magasin_101        4\n",
       "4    Magasin_102        3\n",
       "..           ...      ...\n",
       "163   Magasin_92        0\n",
       "164   Magasin_94        0\n",
       "165   Magasin_97        0\n",
       "166   Magasin_98        3\n",
       "167   Magasin_99        3\n",
       "\n",
       "[168 rows x 2 columns]"
      ]
     },
     "execution_count": 411,
     "metadata": {},
     "output_type": "execute_result"
    }
   ],
   "source": [
    "pd.DataFrame({\"Magasin\" : mags_df.index, \"Cluster\": cluster.fit_predict(mags_df)})"
   ]
  }
 ],
 "metadata": {
  "kernelspec": {
   "display_name": "Python 3",
   "language": "python",
   "name": "python3"
  },
  "language_info": {
   "codemirror_mode": {
    "name": "ipython",
    "version": 3
   },
   "file_extension": ".py",
   "mimetype": "text/x-python",
   "name": "python",
   "nbconvert_exporter": "python",
   "pygments_lexer": "ipython3",
   "version": "3.8.8"
  }
 },
 "nbformat": 4,
 "nbformat_minor": 4
}
