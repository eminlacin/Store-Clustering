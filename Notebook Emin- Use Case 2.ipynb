{
 "cells": [
  {
   "cell_type": "markdown",
   "metadata": {},
   "source": [
    "<center><h5> Data Science For Suppy Chain & Operations </h5></center>\n",
    "<center><h3> Etude de cas d'évaluation </h3></center>\n",
    "<center><h1> Clustering de magasins </h1></center>"
   ]
  },
  {
   "cell_type": "markdown",
   "metadata": {},
   "source": [
    "*Remplir ici votre compréhension du contexte et des objectifs*"
   ]
  },
  {
   "cell_type": "markdown",
   "metadata": {},
   "source": [
    "# I. Chargement et création du jeu de données"
   ]
  },
  {
   "cell_type": "code",
   "execution_count": 8,
   "metadata": {},
   "outputs": [],
   "source": [
    "import pandas as pd\n",
    "from datetime import datetime\n",
    "import numpy as np\n",
    "import matplotlib.pyplot as plt\n",
    "import seaborn as sns \n",
    "%matplotlib inline"
   ]
  },
  {
   "cell_type": "code",
   "execution_count": 9,
   "metadata": {},
   "outputs": [],
   "source": [
    "#Ceci permet d'afficher \n",
    "pd.options.display.max_columns = 100\n",
    "pd.options.display.max_rows  = 100"
   ]
  },
  {
   "cell_type": "code",
   "execution_count": 88,
   "metadata": {},
   "outputs": [],
   "source": [
    "mag = pd.read_csv(\"magasins.csv\", encoding = \"latin\", sep = \";\", decimal = ',') #Le paramètre decimal définit comment est représenter la virgule des chiffres décimaux\n",
    "ref = pd.read_csv(\"references_ete.csv\", encoding = \"latin\", sep = \";\")\n",
    "ventes = pd.read_csv(\"ventes.csv\", encoding = \"latin\", sep = \";\")"
   ]
  },
  {
   "cell_type": "markdown",
   "metadata": {},
   "source": [
    "## I.1. Exploration, nettoyage et préparation des données"
   ]
  },
  {
   "cell_type": "markdown",
   "metadata": {},
   "source": [
    "Nous allons procéder à l'exploration des différents fichiers fournis et au nettoyage de chacun des fichiers"
   ]
  },
  {
   "cell_type": "markdown",
   "metadata": {},
   "source": [
    "### I.1.1. Exploration des fichiers "
   ]
  },
  {
   "cell_type": "code",
   "execution_count": 11,
   "metadata": {},
   "outputs": [
    {
     "data": {
      "text/html": [
       "<div>\n",
       "<style scoped>\n",
       "    .dataframe tbody tr th:only-of-type {\n",
       "        vertical-align: middle;\n",
       "    }\n",
       "\n",
       "    .dataframe tbody tr th {\n",
       "        vertical-align: top;\n",
       "    }\n",
       "\n",
       "    .dataframe thead th {\n",
       "        text-align: right;\n",
       "    }\n",
       "</style>\n",
       "<table border=\"1\" class=\"dataframe\">\n",
       "  <thead>\n",
       "    <tr style=\"text-align: right;\">\n",
       "      <th></th>\n",
       "      <th>Réseau</th>\n",
       "      <th>Pays magasin</th>\n",
       "      <th>Magasin</th>\n",
       "      <th>Code magasin</th>\n",
       "      <th>Type boutique</th>\n",
       "      <th>Surface magasin (*)</th>\n",
       "      <th>Climat</th>\n",
       "      <th>Environnement concurrentiel</th>\n",
       "      <th>Traffic</th>\n",
       "      <th>Clientèle</th>\n",
       "      <th>Saisonnalité</th>\n",
       "      <th>Géographie</th>\n",
       "      <th>Mall</th>\n",
       "      <th>Comportement d'achat</th>\n",
       "      <th>Panier moyen  HT (Taux budget)</th>\n",
       "      <th>Indice de vente</th>\n",
       "    </tr>\n",
       "  </thead>\n",
       "  <tbody>\n",
       "    <tr>\n",
       "      <th>0</th>\n",
       "      <td>RETAIL EUROPE</td>\n",
       "      <td>UNITED KINGDOM</td>\n",
       "      <td>Magasin_99</td>\n",
       "      <td>286</td>\n",
       "      <td>GM</td>\n",
       "      <td>55.0</td>\n",
       "      <td>FROID</td>\n",
       "      <td>PREMIUM</td>\n",
       "      <td>LOW</td>\n",
       "      <td>LOCALE</td>\n",
       "      <td>PAS SAISONNIERE</td>\n",
       "      <td>CENTRE PETITE VILLE</td>\n",
       "      <td>OUI</td>\n",
       "      <td>CLIENT FULL PRICE</td>\n",
       "      <td>267.438950</td>\n",
       "      <td>1.297333</td>\n",
       "    </tr>\n",
       "    <tr>\n",
       "      <th>1</th>\n",
       "      <td>RETAIL EUROPE</td>\n",
       "      <td>FRANCE</td>\n",
       "      <td>Magasin_49</td>\n",
       "      <td>381</td>\n",
       "      <td>GM</td>\n",
       "      <td>22.0</td>\n",
       "      <td>CHAUD</td>\n",
       "      <td>NaN</td>\n",
       "      <td>NaN</td>\n",
       "      <td>NaN</td>\n",
       "      <td>NaN</td>\n",
       "      <td>NaN</td>\n",
       "      <td>OUI</td>\n",
       "      <td>CLIENT FULL PRICE</td>\n",
       "      <td>207.102617</td>\n",
       "      <td>1.132231</td>\n",
       "    </tr>\n",
       "    <tr>\n",
       "      <th>2</th>\n",
       "      <td>RETAIL EUROPE</td>\n",
       "      <td>FRANCE</td>\n",
       "      <td>Magasin_39</td>\n",
       "      <td>41</td>\n",
       "      <td>GM</td>\n",
       "      <td>75.0</td>\n",
       "      <td>TEMPERE</td>\n",
       "      <td>PREMIUM</td>\n",
       "      <td>LOW</td>\n",
       "      <td>LOCALE</td>\n",
       "      <td>PAS SAISONNIERE</td>\n",
       "      <td>CENTRE PETITE VILLE</td>\n",
       "      <td>OUI</td>\n",
       "      <td>CLIENT DISCOUNT</td>\n",
       "      <td>195.375729</td>\n",
       "      <td>1.198321</td>\n",
       "    </tr>\n",
       "    <tr>\n",
       "      <th>3</th>\n",
       "      <td>RETAIL EUROPE</td>\n",
       "      <td>ALLEMAGNE</td>\n",
       "      <td>Magasin_193</td>\n",
       "      <td>303</td>\n",
       "      <td>BOUTIQUE</td>\n",
       "      <td>139.0</td>\n",
       "      <td>TEMPERE</td>\n",
       "      <td>LUXE</td>\n",
       "      <td>LOW</td>\n",
       "      <td>LOCALE</td>\n",
       "      <td>PAS SAISONNIERE</td>\n",
       "      <td>CENTRE VILLE GRANDE VILLE</td>\n",
       "      <td>NaN</td>\n",
       "      <td>CLIENT FULL PRICE</td>\n",
       "      <td>320.788863</td>\n",
       "      <td>1.780049</td>\n",
       "    </tr>\n",
       "    <tr>\n",
       "      <th>4</th>\n",
       "      <td>RETAIL EUROPE</td>\n",
       "      <td>FRANCE</td>\n",
       "      <td>Magasin_190</td>\n",
       "      <td>59</td>\n",
       "      <td>GM</td>\n",
       "      <td>35.0</td>\n",
       "      <td>TEMPERE</td>\n",
       "      <td>PREMIUM</td>\n",
       "      <td>HIGH</td>\n",
       "      <td>LOCALE</td>\n",
       "      <td>PAS SAISONNIERE</td>\n",
       "      <td>CENTRE VILLE GRANDE VILLE</td>\n",
       "      <td>OUI</td>\n",
       "      <td>CLIENT DISCOUNT</td>\n",
       "      <td>171.843728</td>\n",
       "      <td>1.268786</td>\n",
       "    </tr>\n",
       "  </tbody>\n",
       "</table>\n",
       "</div>"
      ],
      "text/plain": [
       "          Réseau    Pays magasin      Magasin  Code magasin Type boutique  \\\n",
       "0  RETAIL EUROPE  UNITED KINGDOM   Magasin_99           286            GM   \n",
       "1  RETAIL EUROPE          FRANCE   Magasin_49           381            GM   \n",
       "2  RETAIL EUROPE          FRANCE   Magasin_39            41            GM   \n",
       "3  RETAIL EUROPE       ALLEMAGNE  Magasin_193           303      BOUTIQUE   \n",
       "4  RETAIL EUROPE          FRANCE  Magasin_190            59            GM   \n",
       "\n",
       "   Surface magasin (*)   Climat Environnement concurrentiel Traffic Clientèle  \\\n",
       "0                 55.0    FROID                     PREMIUM     LOW    LOCALE   \n",
       "1                 22.0    CHAUD                         NaN     NaN       NaN   \n",
       "2                 75.0  TEMPERE                     PREMIUM     LOW    LOCALE   \n",
       "3                139.0  TEMPERE                        LUXE     LOW    LOCALE   \n",
       "4                 35.0  TEMPERE                     PREMIUM    HIGH    LOCALE   \n",
       "\n",
       "      Saisonnalité                 Géographie Mall Comportement d'achat  \\\n",
       "0  PAS SAISONNIERE        CENTRE PETITE VILLE  OUI    CLIENT FULL PRICE   \n",
       "1              NaN                        NaN  OUI    CLIENT FULL PRICE   \n",
       "2  PAS SAISONNIERE        CENTRE PETITE VILLE  OUI      CLIENT DISCOUNT   \n",
       "3  PAS SAISONNIERE  CENTRE VILLE GRANDE VILLE  NaN    CLIENT FULL PRICE   \n",
       "4  PAS SAISONNIERE  CENTRE VILLE GRANDE VILLE  OUI      CLIENT DISCOUNT   \n",
       "\n",
       "   Panier moyen  HT (Taux budget)  Indice de vente  \n",
       "0                       267.438950         1.297333  \n",
       "1                       207.102617         1.132231  \n",
       "2                       195.375729         1.198321  \n",
       "3                       320.788863         1.780049  \n",
       "4                       171.843728         1.268786  "
      ]
     },
     "execution_count": 11,
     "metadata": {},
     "output_type": "execute_result"
    }
   ],
   "source": [
    "mag.head()\n"
   ]
  },
  {
   "cell_type": "code",
   "execution_count": 28,
   "metadata": {},
   "outputs": [
    {
     "name": "stdout",
     "output_type": "stream",
     "text": [
      "(207, 16)\n",
      "(357, 14)\n",
      "(36726, 11)\n"
     ]
    }
   ],
   "source": [
    "print(mag.shape)\n",
    "print(ref.shape)\n",
    "print(ventes.shape)"
   ]
  },
  {
   "cell_type": "code",
   "execution_count": 91,
   "metadata": {},
   "outputs": [
    {
     "data": {
      "text/html": [
       "<div>\n",
       "<style scoped>\n",
       "    .dataframe tbody tr th:only-of-type {\n",
       "        vertical-align: middle;\n",
       "    }\n",
       "\n",
       "    .dataframe tbody tr th {\n",
       "        vertical-align: top;\n",
       "    }\n",
       "\n",
       "    .dataframe thead th {\n",
       "        text-align: right;\n",
       "    }\n",
       "</style>\n",
       "<table border=\"1\" class=\"dataframe\">\n",
       "  <thead>\n",
       "    <tr style=\"text-align: right;\">\n",
       "      <th></th>\n",
       "      <th>Libellé rayon</th>\n",
       "      <th>Libellé thème</th>\n",
       "      <th>Libellé famille</th>\n",
       "      <th>Libellé sous famille</th>\n",
       "      <th>Produit</th>\n",
       "      <th>Libellé couleurs</th>\n",
       "      <th>PVB</th>\n",
       "      <th>SPRING / SUMMER</th>\n",
       "      <th>Puissance produit</th>\n",
       "      <th>Champs UVS Statut de collection</th>\n",
       "      <th>Prix (selon famille)</th>\n",
       "      <th>Iconique</th>\n",
       "      <th>Type saison</th>\n",
       "      <th>Segment</th>\n",
       "    </tr>\n",
       "  </thead>\n",
       "  <tbody>\n",
       "    <tr>\n",
       "      <th>0</th>\n",
       "      <td>PAP FEMME</td>\n",
       "      <td>CHAINETRAME</td>\n",
       "      <td>BERMUDAS - SHORT</td>\n",
       "      <td>COTON</td>\n",
       "      <td>Référence_0</td>\n",
       "      <td>LICHEN</td>\n",
       "      <td>150</td>\n",
       "      <td>SUMMER</td>\n",
       "      <td>BEST</td>\n",
       "      <td>SAISONNIER</td>\n",
       "      <td>MEDIUM</td>\n",
       "      <td>NON</td>\n",
       "      <td>SUMMER</td>\n",
       "      <td>CASUAL</td>\n",
       "    </tr>\n",
       "    <tr>\n",
       "      <th>1</th>\n",
       "      <td>PAP FEMME</td>\n",
       "      <td>CHAINETRAME</td>\n",
       "      <td>BERMUDAS - SHORT</td>\n",
       "      <td>COTON</td>\n",
       "      <td>Référence_1</td>\n",
       "      <td>SABLE</td>\n",
       "      <td>150</td>\n",
       "      <td>SUMMER</td>\n",
       "      <td>BEST</td>\n",
       "      <td>SAISONNIER</td>\n",
       "      <td>MEDIUM</td>\n",
       "      <td>NON</td>\n",
       "      <td>SUMMER</td>\n",
       "      <td>CASUAL</td>\n",
       "    </tr>\n",
       "    <tr>\n",
       "      <th>2</th>\n",
       "      <td>PAP FEMME</td>\n",
       "      <td>CHAINETRAME</td>\n",
       "      <td>BERMUDAS - SHORT</td>\n",
       "      <td>COTON</td>\n",
       "      <td>Référence_2</td>\n",
       "      <td>NOIR</td>\n",
       "      <td>150</td>\n",
       "      <td>SUMMER</td>\n",
       "      <td>SLOW</td>\n",
       "      <td>SAISONNIER</td>\n",
       "      <td>MEDIUM</td>\n",
       "      <td>NON</td>\n",
       "      <td>SUMMER</td>\n",
       "      <td>CASUAL</td>\n",
       "    </tr>\n",
       "    <tr>\n",
       "      <th>3</th>\n",
       "      <td>PAP FEMME</td>\n",
       "      <td>CHAINETRAME</td>\n",
       "      <td>BERMUDAS - SHORT</td>\n",
       "      <td>COTON</td>\n",
       "      <td>Référence_3</td>\n",
       "      <td>BLEU</td>\n",
       "      <td>165</td>\n",
       "      <td>SUMMER</td>\n",
       "      <td>MEDIUM</td>\n",
       "      <td>SAISONNIER</td>\n",
       "      <td>MEDIUM</td>\n",
       "      <td>NON</td>\n",
       "      <td>SUMMER</td>\n",
       "      <td>CASUAL</td>\n",
       "    </tr>\n",
       "    <tr>\n",
       "      <th>4</th>\n",
       "      <td>PAP FEMME</td>\n",
       "      <td>CHAINETRAME</td>\n",
       "      <td>BERMUDAS - SHORT</td>\n",
       "      <td>VISCOSE</td>\n",
       "      <td>Référence_4</td>\n",
       "      <td>BUBBLE GUM</td>\n",
       "      <td>170</td>\n",
       "      <td>SUMMER</td>\n",
       "      <td>MEDIUM</td>\n",
       "      <td>SAISONNIER</td>\n",
       "      <td>MEDIUM</td>\n",
       "      <td>NON</td>\n",
       "      <td>SUMMER</td>\n",
       "      <td>CASUAL</td>\n",
       "    </tr>\n",
       "  </tbody>\n",
       "</table>\n",
       "</div>"
      ],
      "text/plain": [
       "  Libellé rayon Libellé thème   Libellé famille Libellé sous famille  \\\n",
       "0     PAP FEMME   CHAINETRAME  BERMUDAS - SHORT                COTON   \n",
       "1     PAP FEMME   CHAINETRAME  BERMUDAS - SHORT                COTON   \n",
       "2     PAP FEMME   CHAINETRAME  BERMUDAS - SHORT                COTON   \n",
       "3     PAP FEMME   CHAINETRAME  BERMUDAS - SHORT                COTON   \n",
       "4     PAP FEMME   CHAINETRAME  BERMUDAS - SHORT              VISCOSE   \n",
       "\n",
       "       Produit Libellé couleurs  PVB SPRING / SUMMER Puissance produit  \\\n",
       "0  Référence_0           LICHEN  150          SUMMER              BEST   \n",
       "1  Référence_1            SABLE  150          SUMMER              BEST   \n",
       "2  Référence_2             NOIR  150          SUMMER              SLOW   \n",
       "3  Référence_3             BLEU  165          SUMMER            MEDIUM   \n",
       "4  Référence_4       BUBBLE GUM  170          SUMMER            MEDIUM   \n",
       "\n",
       "  Champs UVS Statut de collection Prix (selon famille) Iconique Type saison  \\\n",
       "0                      SAISONNIER               MEDIUM      NON      SUMMER   \n",
       "1                      SAISONNIER               MEDIUM      NON      SUMMER   \n",
       "2                      SAISONNIER               MEDIUM      NON      SUMMER   \n",
       "3                      SAISONNIER               MEDIUM      NON      SUMMER   \n",
       "4                      SAISONNIER               MEDIUM      NON      SUMMER   \n",
       "\n",
       "  Segment  \n",
       "0  CASUAL  \n",
       "1  CASUAL  \n",
       "2  CASUAL  \n",
       "3  CASUAL  \n",
       "4  CASUAL  "
      ]
     },
     "execution_count": 91,
     "metadata": {},
     "output_type": "execute_result"
    }
   ],
   "source": [
    "ref.head()"
   ]
  },
  {
   "cell_type": "code",
   "execution_count": 13,
   "metadata": {},
   "outputs": [
    {
     "data": {
      "text/html": [
       "<div>\n",
       "<style scoped>\n",
       "    .dataframe tbody tr th:only-of-type {\n",
       "        vertical-align: middle;\n",
       "    }\n",
       "\n",
       "    .dataframe tbody tr th {\n",
       "        vertical-align: top;\n",
       "    }\n",
       "\n",
       "    .dataframe thead th {\n",
       "        text-align: right;\n",
       "    }\n",
       "</style>\n",
       "<table border=\"1\" class=\"dataframe\">\n",
       "  <thead>\n",
       "    <tr style=\"text-align: right;\">\n",
       "      <th></th>\n",
       "      <th>Magasin</th>\n",
       "      <th>Référence produit</th>\n",
       "      <th>Couleur produit</th>\n",
       "      <th>Modèle_Coloris</th>\n",
       "      <th>SKUSTORE</th>\n",
       "      <th>Collection produit</th>\n",
       "      <th>Classification famille</th>\n",
       "      <th>Classification rayon</th>\n",
       "      <th>Classification sous famille</th>\n",
       "      <th>Statut Collection Produit</th>\n",
       "      <th>Ventes17_19</th>\n",
       "    </tr>\n",
       "  </thead>\n",
       "  <tbody>\n",
       "    <tr>\n",
       "      <th>0</th>\n",
       "      <td>Magasin_127</td>\n",
       "      <td>Référence_14</td>\n",
       "      <td>BRUT</td>\n",
       "      <td>Référence_14BRUT</td>\n",
       "      <td>Référence_14BRUTMagasin_127</td>\n",
       "      <td>E18 - ETE 2018</td>\n",
       "      <td>BLOUSONS</td>\n",
       "      <td>PAP FEMME</td>\n",
       "      <td>COTON</td>\n",
       "      <td>SAISONNIER</td>\n",
       "      <td>23</td>\n",
       "    </tr>\n",
       "    <tr>\n",
       "      <th>1</th>\n",
       "      <td>Magasin_198</td>\n",
       "      <td>Référence_133</td>\n",
       "      <td>BLOSSOM</td>\n",
       "      <td>Référence_133BLOSSOM</td>\n",
       "      <td>Référence_133BLOSSOMMagasin_198</td>\n",
       "      <td>E18 - ETE 2018</td>\n",
       "      <td>PULL</td>\n",
       "      <td>PAP FEMME</td>\n",
       "      <td>COTON</td>\n",
       "      <td>SAISONNIER</td>\n",
       "      <td>4</td>\n",
       "    </tr>\n",
       "    <tr>\n",
       "      <th>2</th>\n",
       "      <td>Magasin_10</td>\n",
       "      <td>Référence_279</td>\n",
       "      <td>MARINE</td>\n",
       "      <td>Référence_279MARINE</td>\n",
       "      <td>Référence_279MARINEMagasin_10</td>\n",
       "      <td>E18 - ETE 2018</td>\n",
       "      <td>VESTE</td>\n",
       "      <td>PAP FEMME</td>\n",
       "      <td>POLYESTER</td>\n",
       "      <td>SAISONNIER</td>\n",
       "      <td>3</td>\n",
       "    </tr>\n",
       "    <tr>\n",
       "      <th>3</th>\n",
       "      <td>Magasin_65</td>\n",
       "      <td>Référence_87</td>\n",
       "      <td>KAKI</td>\n",
       "      <td>Référence_87KAKI</td>\n",
       "      <td>Référence_87KAKIMagasin_65</td>\n",
       "      <td>E18 - ETE 2018</td>\n",
       "      <td>JUPE</td>\n",
       "      <td>PAP FEMME</td>\n",
       "      <td>LIN / COTON</td>\n",
       "      <td>SAISONNIER</td>\n",
       "      <td>1</td>\n",
       "    </tr>\n",
       "    <tr>\n",
       "      <th>4</th>\n",
       "      <td>Magasin_100</td>\n",
       "      <td>Référence_28</td>\n",
       "      <td>FICELLE</td>\n",
       "      <td>Référence_28FICELLE</td>\n",
       "      <td>Référence_28FICELLEMagasin_100</td>\n",
       "      <td>E18 - ETE 2018</td>\n",
       "      <td>CARDIGAN</td>\n",
       "      <td>PAP FEMME</td>\n",
       "      <td>CASHMERE</td>\n",
       "      <td>SAISONNIER</td>\n",
       "      <td>2</td>\n",
       "    </tr>\n",
       "  </tbody>\n",
       "</table>\n",
       "</div>"
      ],
      "text/plain": [
       "       Magasin Référence produit Couleur produit        Modèle_Coloris  \\\n",
       "0  Magasin_127      Référence_14            BRUT      Référence_14BRUT   \n",
       "1  Magasin_198     Référence_133         BLOSSOM  Référence_133BLOSSOM   \n",
       "2   Magasin_10     Référence_279          MARINE   Référence_279MARINE   \n",
       "3   Magasin_65      Référence_87            KAKI      Référence_87KAKI   \n",
       "4  Magasin_100      Référence_28         FICELLE   Référence_28FICELLE   \n",
       "\n",
       "                          SKUSTORE Collection produit Classification famille  \\\n",
       "0      Référence_14BRUTMagasin_127     E18 - ETE 2018               BLOUSONS   \n",
       "1  Référence_133BLOSSOMMagasin_198     E18 - ETE 2018                   PULL   \n",
       "2    Référence_279MARINEMagasin_10     E18 - ETE 2018                  VESTE   \n",
       "3       Référence_87KAKIMagasin_65     E18 - ETE 2018                   JUPE   \n",
       "4   Référence_28FICELLEMagasin_100     E18 - ETE 2018               CARDIGAN   \n",
       "\n",
       "  Classification rayon Classification sous famille Statut Collection Produit  \\\n",
       "0            PAP FEMME                       COTON                SAISONNIER   \n",
       "1            PAP FEMME                       COTON                SAISONNIER   \n",
       "2            PAP FEMME                   POLYESTER                SAISONNIER   \n",
       "3            PAP FEMME                 LIN / COTON                SAISONNIER   \n",
       "4            PAP FEMME                    CASHMERE                SAISONNIER   \n",
       "\n",
       "   Ventes17_19  \n",
       "0           23  \n",
       "1            4  \n",
       "2            3  \n",
       "3            1  \n",
       "4            2  "
      ]
     },
     "execution_count": 13,
     "metadata": {},
     "output_type": "execute_result"
    }
   ],
   "source": [
    "ventes.head()"
   ]
  },
  {
   "cell_type": "markdown",
   "metadata": {},
   "source": [
    "#### Fichier magasin"
   ]
  },
  {
   "cell_type": "markdown",
   "metadata": {},
   "source": [
    "*Insérez vos conclusions ici*\n",
    "- Le fichier **stores** est la liste des magasins que nous allons classifier. Ici, nous pouvons voir des informations sur chaque magasin. Il est lié au fichier des ventes par la colonne de Magasin."
   ]
  },
  {
   "cell_type": "code",
   "execution_count": null,
   "metadata": {},
   "outputs": [],
   "source": []
  },
  {
   "cell_type": "markdown",
   "metadata": {},
   "source": [
    "Quel est le nombre de magasins présent dans le fichier ? De quelles données disposons-nous ?\n",
    "\n",
    "mag (207, 16)\n",
    "ref (357, 14)\n",
    "ventes (36726, 11)\n",
    "\n",
    "- Il y a 207 magasins avec 16 variables comme la localisation, le type, s'il est dans un centre commercial, le budget, la surface et l'indice de vente."
   ]
  },
  {
   "cell_type": "markdown",
   "metadata": {},
   "source": [
    "Quelques analyses à titre d'exemple...\n",
    "- La variable Réseau peut être supprimée\n",
    "- Nous pouvons uniquement garder le champ \"Magasin\" comme ID pour faire des jointures avec les autres tables, le champ code magasin peut être supprimé\n",
    "- Il y a des données manquantes sur certains champs : \n",
    "    - Dans la colonne Mall, les valeurs manquantes signifient que les magasins ne sont pas dans des Malls\n",
    "    - Dans d'autres colonnes catégoriques (Environnement concurrentiel, Traffic, Géographie, etc.) certains champs sont manquants. Il parait que l'information n'a pas été renseignée. Deux options s'offrent à nous : \n",
    "        - Supprimer ces colonnes \n",
    "        - Les compléter avec la valeur la plus présente\n",
    "        - ...\n",
    "\n",
    "        "
   ]
  },
  {
   "cell_type": "code",
   "execution_count": 82,
   "metadata": {},
   "outputs": [
    {
     "name": "stdout",
     "output_type": "stream",
     "text": [
      "<class 'pandas.core.frame.DataFrame'>\n",
      "RangeIndex: 207 entries, 0 to 206\n",
      "Data columns (total 16 columns):\n",
      " #   Column                           Non-Null Count  Dtype  \n",
      "---  ------                           --------------  -----  \n",
      " 0   Réseau                           207 non-null    object \n",
      " 1   Pays magasin                     207 non-null    object \n",
      " 2   Magasin                          207 non-null    object \n",
      " 3   Code magasin                     207 non-null    int64  \n",
      " 4   Type boutique                    207 non-null    object \n",
      " 5   Surface magasin (*)              207 non-null    float64\n",
      " 6   Climat                           207 non-null    object \n",
      " 7   Environnement concurrentiel      158 non-null    object \n",
      " 8   Traffic                          160 non-null    object \n",
      " 9   Clientèle                        160 non-null    object \n",
      " 10  Saisonnalité                     160 non-null    object \n",
      " 11  Géographie                       160 non-null    object \n",
      " 12  Mall                             113 non-null    object \n",
      " 13  Comportement d'achat             207 non-null    object \n",
      " 14  Panier moyen  HT (Taux budget)  205 non-null    float64\n",
      " 15  Indice de vente                  205 non-null    float64\n",
      "dtypes: float64(3), int64(1), object(12)\n",
      "memory usage: 26.0+ KB\n",
      "None\n"
     ]
    }
   ],
   "source": [
    "print(mag.info())"
   ]
  },
  {
   "cell_type": "code",
   "execution_count": null,
   "metadata": {},
   "outputs": [],
   "source": []
  },
  {
   "cell_type": "markdown",
   "metadata": {},
   "source": [
    "Afficher le nombre unique de \"Magasin\"\n"
   ]
  },
  {
   "cell_type": "code",
   "execution_count": 58,
   "metadata": {},
   "outputs": [],
   "source": [
    "seriescountmagasin = pd.Series(mag[\"Magasin\"].unique())\n",
    "seriescountventemagasin = pd.Series(ventes[\"Magasin\"].unique())"
   ]
  },
  {
   "cell_type": "code",
   "execution_count": 63,
   "metadata": {},
   "outputs": [
    {
     "name": "stdout",
     "output_type": "stream",
     "text": [
      "le nombre de magasins unique dans le fichier mag: 207\n",
      "le nombre de magasins unique dans le fichier ventes: 168\n"
     ]
    }
   ],
   "source": [
    "print(\"le nombre de magasins unique dans le fichier mag:\", seriescountmagasin.value_counts().sum())\n",
    "print(\"le nombre de magasins unique dans le fichier ventes:\", seriescountventemagasin.value_counts().sum())"
   ]
  },
  {
   "cell_type": "code",
   "execution_count": 65,
   "metadata": {},
   "outputs": [],
   "source": [
    "categorical_variables = ['Réseau', 'Pays magasin','Type boutique',\n",
    "       'Climat', 'Environnement concurrentiel','Traffic', 'Clientèle', 'Saisonnalité', \n",
    "        'Géographie', 'Mall', 'Comportement d\\'achat']"
   ]
  },
  {
   "cell_type": "code",
   "execution_count": 69,
   "metadata": {},
   "outputs": [],
   "source": [
    "numerical_variables = ['Surface magasin (*)', \"Panier moyen \\x80 HT (Taux budget)\", \"Indice de vente\"]"
   ]
  },
  {
   "cell_type": "code",
   "execution_count": 120,
   "metadata": {},
   "outputs": [
    {
     "data": {
      "text/html": [
       "<div>\n",
       "<style scoped>\n",
       "    .dataframe tbody tr th:only-of-type {\n",
       "        vertical-align: middle;\n",
       "    }\n",
       "\n",
       "    .dataframe tbody tr th {\n",
       "        vertical-align: top;\n",
       "    }\n",
       "\n",
       "    .dataframe thead th {\n",
       "        text-align: right;\n",
       "    }\n",
       "</style>\n",
       "<table border=\"1\" class=\"dataframe\">\n",
       "  <thead>\n",
       "    <tr style=\"text-align: right;\">\n",
       "      <th></th>\n",
       "      <th>Magasin</th>\n",
       "      <th>Référence produit</th>\n",
       "      <th>Couleur produit</th>\n",
       "      <th>Modèle_Coloris</th>\n",
       "      <th>SKUSTORE</th>\n",
       "      <th>Classification famille</th>\n",
       "      <th>Classification rayon</th>\n",
       "      <th>Classification sous famille</th>\n",
       "      <th>Statut Collection Produit</th>\n",
       "      <th>Ventes17_19</th>\n",
       "    </tr>\n",
       "  </thead>\n",
       "  <tbody>\n",
       "    <tr>\n",
       "      <th>0</th>\n",
       "      <td>Magasin_127</td>\n",
       "      <td>Référence_14</td>\n",
       "      <td>BRUT</td>\n",
       "      <td>Référence_14BRUT</td>\n",
       "      <td>Référence_14BRUTMagasin_127</td>\n",
       "      <td>BLOUSONS</td>\n",
       "      <td>PAP FEMME</td>\n",
       "      <td>COTON</td>\n",
       "      <td>SAISONNIER</td>\n",
       "      <td>23</td>\n",
       "    </tr>\n",
       "    <tr>\n",
       "      <th>1</th>\n",
       "      <td>Magasin_198</td>\n",
       "      <td>Référence_133</td>\n",
       "      <td>BLOSSOM</td>\n",
       "      <td>Référence_133BLOSSOM</td>\n",
       "      <td>Référence_133BLOSSOMMagasin_198</td>\n",
       "      <td>PULL</td>\n",
       "      <td>PAP FEMME</td>\n",
       "      <td>COTON</td>\n",
       "      <td>SAISONNIER</td>\n",
       "      <td>4</td>\n",
       "    </tr>\n",
       "    <tr>\n",
       "      <th>2</th>\n",
       "      <td>Magasin_10</td>\n",
       "      <td>Référence_279</td>\n",
       "      <td>MARINE</td>\n",
       "      <td>Référence_279MARINE</td>\n",
       "      <td>Référence_279MARINEMagasin_10</td>\n",
       "      <td>VESTE</td>\n",
       "      <td>PAP FEMME</td>\n",
       "      <td>POLYESTER</td>\n",
       "      <td>SAISONNIER</td>\n",
       "      <td>3</td>\n",
       "    </tr>\n",
       "    <tr>\n",
       "      <th>3</th>\n",
       "      <td>Magasin_65</td>\n",
       "      <td>Référence_87</td>\n",
       "      <td>KAKI</td>\n",
       "      <td>Référence_87KAKI</td>\n",
       "      <td>Référence_87KAKIMagasin_65</td>\n",
       "      <td>JUPE</td>\n",
       "      <td>PAP FEMME</td>\n",
       "      <td>LIN / COTON</td>\n",
       "      <td>SAISONNIER</td>\n",
       "      <td>1</td>\n",
       "    </tr>\n",
       "    <tr>\n",
       "      <th>4</th>\n",
       "      <td>Magasin_100</td>\n",
       "      <td>Référence_28</td>\n",
       "      <td>FICELLE</td>\n",
       "      <td>Référence_28FICELLE</td>\n",
       "      <td>Référence_28FICELLEMagasin_100</td>\n",
       "      <td>CARDIGAN</td>\n",
       "      <td>PAP FEMME</td>\n",
       "      <td>CASHMERE</td>\n",
       "      <td>SAISONNIER</td>\n",
       "      <td>2</td>\n",
       "    </tr>\n",
       "  </tbody>\n",
       "</table>\n",
       "</div>"
      ],
      "text/plain": [
       "       Magasin Référence produit Couleur produit        Modèle_Coloris  \\\n",
       "0  Magasin_127      Référence_14            BRUT      Référence_14BRUT   \n",
       "1  Magasin_198     Référence_133         BLOSSOM  Référence_133BLOSSOM   \n",
       "2   Magasin_10     Référence_279          MARINE   Référence_279MARINE   \n",
       "3   Magasin_65      Référence_87            KAKI      Référence_87KAKI   \n",
       "4  Magasin_100      Référence_28         FICELLE   Référence_28FICELLE   \n",
       "\n",
       "                          SKUSTORE Classification famille  \\\n",
       "0      Référence_14BRUTMagasin_127               BLOUSONS   \n",
       "1  Référence_133BLOSSOMMagasin_198                   PULL   \n",
       "2    Référence_279MARINEMagasin_10                  VESTE   \n",
       "3       Référence_87KAKIMagasin_65                   JUPE   \n",
       "4   Référence_28FICELLEMagasin_100               CARDIGAN   \n",
       "\n",
       "  Classification rayon Classification sous famille Statut Collection Produit  \\\n",
       "0            PAP FEMME                       COTON                SAISONNIER   \n",
       "1            PAP FEMME                       COTON                SAISONNIER   \n",
       "2            PAP FEMME                   POLYESTER                SAISONNIER   \n",
       "3            PAP FEMME                 LIN / COTON                SAISONNIER   \n",
       "4            PAP FEMME                    CASHMERE                SAISONNIER   \n",
       "\n",
       "   Ventes17_19  \n",
       "0           23  \n",
       "1            4  \n",
       "2            3  \n",
       "3            1  \n",
       "4            2  "
      ]
     },
     "execution_count": 120,
     "metadata": {},
     "output_type": "execute_result"
    }
   ],
   "source": [
    "ventes.head()"
   ]
  },
  {
   "cell_type": "markdown",
   "metadata": {},
   "source": [
    "Afficher un comptage différentes modalités des variables catégoriques. Qu'en déduisez-vous ?"
   ]
  },
  {
   "cell_type": "code",
   "execution_count": 68,
   "metadata": {},
   "outputs": [
    {
     "name": "stdout",
     "output_type": "stream",
     "text": [
      "Variable : Réseau\n",
      "['RETAIL EUROPE']\n",
      "\n",
      "Variable : Pays magasin\n",
      "['UNITED KINGDOM' 'FRANCE' 'ALLEMAGNE' 'PORTUGAL' 'ESPAGNE' 'ITALIE'\n",
      " 'SUISSE' 'BELGIQUE' 'TURQUIE' 'SUEDE' 'NORVEGE' 'Danemark' 'PAYS-BAS'\n",
      " 'GRECE' 'LUXEMBOURG' 'IRLANDE']\n",
      "\n",
      "Variable : Type boutique\n",
      "['GM' 'BOUTIQUE']\n",
      "\n",
      "Variable : Climat\n",
      "['FROID' 'CHAUD' 'TEMPERE']\n",
      "\n",
      "Variable : Environnement concurrentiel\n",
      "['PREMIUM' nan 'LUXE' 'MASS' 'PREMIUM / MASS']\n",
      "\n",
      "Variable : Traffic\n",
      "['LOW' nan 'HIGH' 'MEDIUM']\n",
      "\n",
      "Variable : Clientèle\n",
      "['LOCALE' nan 'TOURISTE']\n",
      "\n",
      "Variable : Saisonnalité\n",
      "['PAS SAISONNIERE' nan 'Saisonnière littoral' 'Saisonnière Montagne'\n",
      " 'Saisonnière été']\n",
      "\n",
      "Variable : Géographie\n",
      "['CENTRE PETITE VILLE' nan 'CENTRE VILLE GRANDE VILLE'\n",
      " 'centre ville moyen' 'PERIPHERIE' 'STATION SKI']\n",
      "\n",
      "Variable : Mall\n",
      "['OUI' nan]\n",
      "\n",
      "Variable : Comportement d'achat\n",
      "['CLIENT FULL PRICE' 'CLIENT DISCOUNT']\n",
      "\n"
     ]
    }
   ],
   "source": [
    "for cat in categorical_variables: \n",
    "    print(\"Variable : {}\".format(cat))\n",
    "    print(mag[cat].unique())\n",
    "    print()"
   ]
  },
  {
   "cell_type": "markdown",
   "metadata": {},
   "source": [
    "Afficher quelques statistiques sur les variables numériques"
   ]
  },
  {
   "cell_type": "code",
   "execution_count": 72,
   "metadata": {},
   "outputs": [
    {
     "name": "stdout",
     "output_type": "stream",
     "text": [
      "Variable : Surface magasin (*)\n",
      "count    207.000000\n",
      "mean      80.697101\n",
      "std       76.910501\n",
      "min        0.000000\n",
      "25%       35.000000\n",
      "50%       59.500000\n",
      "75%      105.000000\n",
      "max      720.950000\n",
      "Name: Surface magasin (*), dtype: float64\n",
      "\n",
      "Variable : Panier moyen  HT (Taux budget)\n",
      "count    205.000000\n",
      "mean     248.167983\n",
      "std       59.561461\n",
      "min      125.165480\n",
      "25%      212.074866\n",
      "50%      237.550886\n",
      "75%      276.948478\n",
      "max      513.703718\n",
      "Name: Panier moyen  HT (Taux budget), dtype: float64\n",
      "\n",
      "Variable : Indice de vente\n",
      "count    205.000000\n",
      "mean       1.400662\n",
      "std        0.277109\n",
      "min        0.000000\n",
      "25%        1.213813\n",
      "50%        1.371019\n",
      "75%        1.555035\n",
      "max        2.177273\n",
      "Name: Indice de vente, dtype: float64\n",
      "\n"
     ]
    }
   ],
   "source": [
    "for num in numerical_variables : \n",
    "    print(\"Variable : {}\".format(num))\n",
    "    print(mag[num].describe())\n",
    "    print()"
   ]
  },
  {
   "cell_type": "markdown",
   "metadata": {},
   "source": [
    "Données manquantes : \n",
    "\n",
    "Afficher les données manquantes pour chaque variable.\n",
    "Quelles données peut-on compléter ? Quels choix faites vous en terme de gestion des données manquantes et pourquoi ?"
   ]
  },
  {
   "cell_type": "code",
   "execution_count": null,
   "metadata": {},
   "outputs": [],
   "source": [
    "#Afficher les données manquantes ici"
   ]
  },
  {
   "cell_type": "code",
   "execution_count": 83,
   "metadata": {},
   "outputs": [
    {
     "data": {
      "text/plain": [
       "Réseau                              0\n",
       "Pays magasin                        0\n",
       "Magasin                             0\n",
       "Code magasin                        0\n",
       "Type boutique                       0\n",
       "Surface magasin (*)                 0\n",
       "Climat                              0\n",
       "Environnement concurrentiel        49\n",
       "Traffic                            47\n",
       "Clientèle                          47\n",
       "Saisonnalité                       47\n",
       "Géographie                         47\n",
       "Mall                               94\n",
       "Comportement d'achat                0\n",
       "Panier moyen  HT (Taux budget)     2\n",
       "Indice de vente                     2\n",
       "dtype: int64"
      ]
     },
     "execution_count": 83,
     "metadata": {},
     "output_type": "execute_result"
    }
   ],
   "source": [
    "mag.isnull().sum()"
   ]
  },
  {
   "cell_type": "code",
   "execution_count": 74,
   "metadata": {},
   "outputs": [
    {
     "data": {
      "text/plain": [
       "FRANCE            102\n",
       "ESPAGNE            27\n",
       "UNITED KINGDOM     17\n",
       "SUISSE             14\n",
       "ALLEMAGNE          11\n",
       "ITALIE              9\n",
       "PORTUGAL            6\n",
       "PAYS-BAS            5\n",
       "BELGIQUE            5\n",
       "Danemark            3\n",
       "GRECE               3\n",
       "LUXEMBOURG          1\n",
       "NORVEGE             1\n",
       "IRLANDE             1\n",
       "SUEDE               1\n",
       "TURQUIE             1\n",
       "Name: Pays magasin, dtype: int64"
      ]
     },
     "execution_count": 74,
     "metadata": {},
     "output_type": "execute_result"
    }
   ],
   "source": [
    "mag[\"Pays magasin\"].value_counts()"
   ]
  },
  {
   "cell_type": "code",
   "execution_count": 75,
   "metadata": {},
   "outputs": [],
   "source": [
    "mag[\"Mall\"] = mag[\"Mall\"].fillna(\"NON\")"
   ]
  },
  {
   "cell_type": "markdown",
   "metadata": {},
   "source": [
    "Pour des raisons de simplicité, nous enlevons les variables contenant plus de 20 % de données manquantes. Vous êtes bien entendu libres de tester différentes imputations de données, comme imputer avec la valeur la plus présente par exemple.\n",
    "\n",
    "Nous pouvons également certaines colonnes jugées inutiles (Réseau, Code Magasin). La colonne Pays Magasin peut être retravaillée si vous le souhaitez. Nous l'enlevons ici."
   ]
  },
  {
   "cell_type": "code",
   "execution_count": 89,
   "metadata": {},
   "outputs": [],
   "source": [
    "mag = mag.drop([\"Réseau\", \"Pays magasin\", \"Code magasin\", \n",
    "                'Environnement concurrentiel', 'Traffic', 'Clientèle', 'Saisonnalité',\n",
    "       'Géographie'], axis = 1)"
   ]
  },
  {
   "cell_type": "code",
   "execution_count": 97,
   "metadata": {},
   "outputs": [
    {
     "data": {
      "text/html": [
       "<div>\n",
       "<style scoped>\n",
       "    .dataframe tbody tr th:only-of-type {\n",
       "        vertical-align: middle;\n",
       "    }\n",
       "\n",
       "    .dataframe tbody tr th {\n",
       "        vertical-align: top;\n",
       "    }\n",
       "\n",
       "    .dataframe thead th {\n",
       "        text-align: right;\n",
       "    }\n",
       "</style>\n",
       "<table border=\"1\" class=\"dataframe\">\n",
       "  <thead>\n",
       "    <tr style=\"text-align: right;\">\n",
       "      <th></th>\n",
       "      <th>Magasin</th>\n",
       "      <th>Type boutique</th>\n",
       "      <th>Surface magasin (*)</th>\n",
       "      <th>Climat</th>\n",
       "      <th>Mall</th>\n",
       "      <th>Comportement d'achat</th>\n",
       "      <th>Panier moyen  HT (Taux budget)</th>\n",
       "      <th>Indice de vente</th>\n",
       "    </tr>\n",
       "  </thead>\n",
       "  <tbody>\n",
       "    <tr>\n",
       "      <th>0</th>\n",
       "      <td>Magasin_99</td>\n",
       "      <td>GM</td>\n",
       "      <td>55.0</td>\n",
       "      <td>FROID</td>\n",
       "      <td>OUI</td>\n",
       "      <td>CLIENT FULL PRICE</td>\n",
       "      <td>267.438950</td>\n",
       "      <td>1.297333</td>\n",
       "    </tr>\n",
       "    <tr>\n",
       "      <th>1</th>\n",
       "      <td>Magasin_49</td>\n",
       "      <td>GM</td>\n",
       "      <td>22.0</td>\n",
       "      <td>CHAUD</td>\n",
       "      <td>OUI</td>\n",
       "      <td>CLIENT FULL PRICE</td>\n",
       "      <td>207.102617</td>\n",
       "      <td>1.132231</td>\n",
       "    </tr>\n",
       "    <tr>\n",
       "      <th>2</th>\n",
       "      <td>Magasin_39</td>\n",
       "      <td>GM</td>\n",
       "      <td>75.0</td>\n",
       "      <td>TEMPERE</td>\n",
       "      <td>OUI</td>\n",
       "      <td>CLIENT DISCOUNT</td>\n",
       "      <td>195.375729</td>\n",
       "      <td>1.198321</td>\n",
       "    </tr>\n",
       "    <tr>\n",
       "      <th>3</th>\n",
       "      <td>Magasin_193</td>\n",
       "      <td>BOUTIQUE</td>\n",
       "      <td>139.0</td>\n",
       "      <td>TEMPERE</td>\n",
       "      <td>NaN</td>\n",
       "      <td>CLIENT FULL PRICE</td>\n",
       "      <td>320.788863</td>\n",
       "      <td>1.780049</td>\n",
       "    </tr>\n",
       "    <tr>\n",
       "      <th>4</th>\n",
       "      <td>Magasin_190</td>\n",
       "      <td>GM</td>\n",
       "      <td>35.0</td>\n",
       "      <td>TEMPERE</td>\n",
       "      <td>OUI</td>\n",
       "      <td>CLIENT DISCOUNT</td>\n",
       "      <td>171.843728</td>\n",
       "      <td>1.268786</td>\n",
       "    </tr>\n",
       "  </tbody>\n",
       "</table>\n",
       "</div>"
      ],
      "text/plain": [
       "       Magasin Type boutique  Surface magasin (*)   Climat Mall  \\\n",
       "0   Magasin_99            GM                 55.0    FROID  OUI   \n",
       "1   Magasin_49            GM                 22.0    CHAUD  OUI   \n",
       "2   Magasin_39            GM                 75.0  TEMPERE  OUI   \n",
       "3  Magasin_193      BOUTIQUE                139.0  TEMPERE  NaN   \n",
       "4  Magasin_190            GM                 35.0  TEMPERE  OUI   \n",
       "\n",
       "  Comportement d'achat  Panier moyen  HT (Taux budget)  Indice de vente  \n",
       "0    CLIENT FULL PRICE                       267.438950         1.297333  \n",
       "1    CLIENT FULL PRICE                       207.102617         1.132231  \n",
       "2      CLIENT DISCOUNT                       195.375729         1.198321  \n",
       "3    CLIENT FULL PRICE                       320.788863         1.780049  \n",
       "4      CLIENT DISCOUNT                       171.843728         1.268786  "
      ]
     },
     "execution_count": 97,
     "metadata": {},
     "output_type": "execute_result"
    }
   ],
   "source": [
    "mag.head()"
   ]
  },
  {
   "cell_type": "markdown",
   "metadata": {},
   "source": [
    "#### Fichier ventes"
   ]
  },
  {
   "cell_type": "markdown",
   "metadata": {},
   "source": [
    "*Insérer vos conclusions ici.*\n",
    "- Le fichier des ventes contient toutes les ventes des magasins. Le variable clé avec fichier magasin est Magasin.\n",
    "- Il n'y a pas de variables null dans le fichier."
   ]
  },
  {
   "cell_type": "code",
   "execution_count": 96,
   "metadata": {},
   "outputs": [
    {
     "name": "stdout",
     "output_type": "stream",
     "text": [
      "<class 'pandas.core.frame.DataFrame'>\n",
      "RangeIndex: 36726 entries, 0 to 36725\n",
      "Data columns (total 11 columns):\n",
      " #   Column                       Non-Null Count  Dtype \n",
      "---  ------                       --------------  ----- \n",
      " 0   Magasin                      36726 non-null  object\n",
      " 1   Référence produit            36726 non-null  object\n",
      " 2   Couleur produit              36726 non-null  object\n",
      " 3   Modèle_Coloris               36726 non-null  object\n",
      " 4   SKUSTORE                     36726 non-null  object\n",
      " 5   Collection produit           36726 non-null  object\n",
      " 6   Classification famille       36726 non-null  object\n",
      " 7   Classification rayon         36726 non-null  object\n",
      " 8   Classification sous famille  36726 non-null  object\n",
      " 9   Statut Collection Produit    36726 non-null  object\n",
      " 10  Ventes17_19                  36726 non-null  int64 \n",
      "dtypes: int64(1), object(10)\n",
      "memory usage: 3.1+ MB\n"
     ]
    }
   ],
   "source": [
    "ventes.info()"
   ]
  },
  {
   "cell_type": "markdown",
   "metadata": {},
   "source": [
    "Combien y'a-t-il de magasins dans ce fichier, combien de y'a-t-il de produits ? Comparer le nombre de magasins ici avec le fichier magasins."
   ]
  },
  {
   "cell_type": "code",
   "execution_count": 99,
   "metadata": {},
   "outputs": [
    {
     "name": "stdout",
     "output_type": "stream",
     "text": [
      "le nombre de magasins unique dans le fichier mag: 207\n",
      "le nombre de magasins unique dans le fichier ventes: 168\n",
      "le nombre de produits unique dans le fichier ventes: 284\n"
     ]
    }
   ],
   "source": [
    "# Explorer le dataset\n",
    "seriescountmagasin = pd.Series(mag[\"Magasin\"].unique())\n",
    "seriescountventemagasin = pd.Series(ventes[\"Magasin\"].unique())\n",
    "print(\"le nombre de magasins unique dans le fichier mag:\", seriescountmagasin.value_counts().sum())\n",
    "print(\"le nombre de magasins unique dans le fichier ventes:\", seriescountventemagasin.value_counts().sum())\n",
    "\n",
    "seriescountventeproduit = pd.Series(ventes[\"Référence produit\"].unique())\n",
    "print(\"le nombre de produits unique dans le fichier ventes:\", seriescountventeproduit.value_counts().sum())"
   ]
  },
  {
   "cell_type": "code",
   "execution_count": 111,
   "metadata": {},
   "outputs": [],
   "source": [
    "categorical_values_ventes = [\"Collection produit\", 'Classification famille',\n",
    "       'Classification rayon', 'Classification sous famille',\n",
    "       'Statut Collection Produit']\n",
    "numerical_values_ventes = ['Ventes17_19']"
   ]
  },
  {
   "cell_type": "markdown",
   "metadata": {},
   "source": [
    "Afficher un comptage différentes modalités des variables catégoriques. Qu'en déduisez-vous ?"
   ]
  },
  {
   "cell_type": "code",
   "execution_count": 112,
   "metadata": {},
   "outputs": [
    {
     "name": "stdout",
     "output_type": "stream",
     "text": [
      "Variable : Collection produit\n",
      "['E18 - ETE 2018']\n",
      "\n",
      "Variable : Classification famille\n",
      "['BLOUSONS' 'PULL' 'VESTE' 'JUPE' 'CARDIGAN' 'TUNIQUE ML' 'DEBARDEUR'\n",
      " 'TEE SHIRT' 'TUNISIEN' 'ROBE' 'PANTALON' 'SWEAT' 'BERMUDAS - SHORT'\n",
      " 'JEANS' 'CHEMISE' 'CARACO' 'CUIR-FOURRURE' 'TOP' 'PARKAS']\n",
      "\n",
      "Variable : Classification rayon\n",
      "['PAP FEMME']\n",
      "\n",
      "Variable : Classification sous famille\n",
      "['COTON' 'POLYESTER' 'LIN / COTON' 'CASHMERE' 'LAINE' 'MODAL'\n",
      " 'CACHEMIRE PLUME' 'LIN' 'MERINOS' 'ACRYLIC MELANGE' 'COTON / VISCOSE'\n",
      " 'LAINE / CASH' 'VISCOSE' 'ACETATE' 'ALPAGA' 'SOIE' 'COTON / SOIE' 'CUIR'\n",
      " 'MOHAIR']\n",
      "\n",
      "Variable : Statut Collection Produit\n",
      "['SAISONNIER' 'PERMANENT' 'NINI PERMANENT']\n",
      "\n"
     ]
    }
   ],
   "source": [
    "for cat in categorical_values_ventes :\n",
    "    print(\"Variable : {}\".format(cat))\n",
    "    print(ventes[cat].unique())\n",
    "    print()"
   ]
  },
  {
   "cell_type": "code",
   "execution_count": 113,
   "metadata": {},
   "outputs": [
    {
     "data": {
      "text/plain": [
       "count    36726.000000\n",
       "mean         6.402630\n",
       "std          5.893397\n",
       "min         -1.000000\n",
       "25%          3.000000\n",
       "50%          5.000000\n",
       "75%          8.000000\n",
       "max        188.000000\n",
       "Name: Ventes17_19, dtype: float64"
      ]
     },
     "execution_count": 113,
     "metadata": {},
     "output_type": "execute_result"
    }
   ],
   "source": [
    "ventes[numerical_values_ventes[0]].describe()"
   ]
  },
  {
   "cell_type": "code",
   "execution_count": 114,
   "metadata": {},
   "outputs": [
    {
     "data": {
      "text/plain": [
       "Magasin                        0\n",
       "Référence produit              0\n",
       "Couleur produit                0\n",
       "Modèle_Coloris                 0\n",
       "SKUSTORE                       0\n",
       "Collection produit             0\n",
       "Classification famille         0\n",
       "Classification rayon           0\n",
       "Classification sous famille    0\n",
       "Statut Collection Produit      0\n",
       "Ventes17_19                    0\n",
       "dtype: int64"
      ]
     },
     "execution_count": 114,
     "metadata": {},
     "output_type": "execute_result"
    }
   ],
   "source": [
    "ventes.isnull().sum()"
   ]
  },
  {
   "cell_type": "code",
   "execution_count": 116,
   "metadata": {},
   "outputs": [
    {
     "data": {
      "text/plain": [
       "array(['E18 - ETE 2018'], dtype=object)"
      ]
     },
     "execution_count": 116,
     "metadata": {},
     "output_type": "execute_result"
    }
   ],
   "source": [
    "ventes[\"Collection produit\"].unique()"
   ]
  },
  {
   "cell_type": "code",
   "execution_count": 117,
   "metadata": {},
   "outputs": [],
   "source": [
    "ventes = ventes.drop([\"Collection produit\"], axis = 1)"
   ]
  },
  {
   "cell_type": "markdown",
   "metadata": {},
   "source": [
    "#### Fichier de références"
   ]
  },
  {
   "cell_type": "markdown",
   "metadata": {},
   "source": [
    "*Insérez vos conclusions ici.*\n",
    "\n",
    "- Le fichier de référence contient des informations sur le type de produits vendus dans les magasins.\n"
   ]
  },
  {
   "cell_type": "code",
   "execution_count": null,
   "metadata": {},
   "outputs": [],
   "source": []
  },
  {
   "cell_type": "markdown",
   "metadata": {},
   "source": [
    "- Le fichier de références contient des informations sur 288 produits, et 357 lignes contenant avec le détail du coloris.\n",
    "- Il convient de faire une jointure entre le fichier des références et des ventes. Pour ceci, il faut créer la clé de jointure :\n",
    "    - Pour la table ventes, il s'agit du champ Modèle_Coloris, qui est une concaténation des champs \"Référence produit\" et \"Couleur produit\"\n",
    "    - Pour la table références, il faut créer la clé de jointure en concaténant le champ \"Produit\" et le champ \"Libellé couleurs\""
   ]
  },
  {
   "cell_type": "code",
   "execution_count": 118,
   "metadata": {},
   "outputs": [
    {
     "name": "stdout",
     "output_type": "stream",
     "text": [
      "<class 'pandas.core.frame.DataFrame'>\n",
      "RangeIndex: 357 entries, 0 to 356\n",
      "Data columns (total 14 columns):\n",
      " #   Column                           Non-Null Count  Dtype \n",
      "---  ------                           --------------  ----- \n",
      " 0   Libellé rayon                    357 non-null    object\n",
      " 1   Libellé thème                    357 non-null    object\n",
      " 2   Libellé famille                  357 non-null    object\n",
      " 3   Libellé sous famille             333 non-null    object\n",
      " 4   Produit                          357 non-null    object\n",
      " 5   Libellé couleurs                 357 non-null    object\n",
      " 6   PVB                              357 non-null    int64 \n",
      " 7   SPRING / SUMMER                  335 non-null    object\n",
      " 8   Puissance produit                356 non-null    object\n",
      " 9   Champs UVS Statut de collection  357 non-null    object\n",
      " 10  Prix (selon famille)             357 non-null    object\n",
      " 11  Iconique                         357 non-null    object\n",
      " 12  Type saison                      357 non-null    object\n",
      " 13  Segment                          357 non-null    object\n",
      "dtypes: int64(1), object(13)\n",
      "memory usage: 39.2+ KB\n",
      "None\n"
     ]
    }
   ],
   "source": [
    "# Exploration de jeu de données\n",
    "print(ref.info())"
   ]
  },
  {
   "cell_type": "code",
   "execution_count": 119,
   "metadata": {},
   "outputs": [
    {
     "name": "stdout",
     "output_type": "stream",
     "text": [
      "le nombre de produit unique dans le fichier ref: 288\n"
     ]
    }
   ],
   "source": [
    "seriescountrefprod = pd.Series(ref[\"Produit\"].unique())\n",
    "print(\"le nombre de produit unique dans le fichier ref:\", seriescountrefprod.value_counts().sum())\n"
   ]
  },
  {
   "cell_type": "code",
   "execution_count": 131,
   "metadata": {},
   "outputs": [],
   "source": [
    "# Exploration des variables catégoriques et numériques\n",
    "categorical_variables_ref = ['Libellé rayon', 'Libellé thème', 'Libellé famille', 'Libellé sous famille', 'Produit',\t\n",
    "       'Libellé couleurs', 'SPRING / SUMMER','Puissance produit', 'Champs UVS Statut de collection',\n",
    "       'Prix (selon famille)', 'Iconique', 'Type saison', 'Segment']\n",
    "numerical_variables_ref = ['PVB']"
   ]
  },
  {
   "cell_type": "code",
   "execution_count": 138,
   "metadata": {},
   "outputs": [
    {
     "name": "stdout",
     "output_type": "stream",
     "text": [
      "Variable : Libellé rayon\n",
      "['PAP FEMME']\n",
      "\n",
      "Variable : Libellé thème\n",
      "['CHAINETRAME' 'MAILLE' 'JERSEY']\n",
      "\n",
      "Variable : Libellé famille\n",
      "['BERMUDAS - SHORT' 'BLOUSONS' 'CARACO' 'CARDIGAN' 'CHEMISE'\n",
      " 'CUIR-FOURRURE' 'DEBARDEUR' 'JEANS' 'JUPE' 'PANTALON' 'PARKAS' 'PULL'\n",
      " 'ROBE' 'SWEAT' 'TEE SHIRT' 'TOP' 'TUNIQUE ML' 'TUNISIEN' 'VESTE']\n",
      "\n",
      "Variable : Libellé sous famille\n",
      "['COTON' 'VISCOSE' 'LAINE' 'SOIE' 'MERINOS' 'CASHMERE' 'ALPAGA'\n",
      " 'LAINE / CASH' 'CUIR' 'COTON / VISCOSE' 'MODAL' 'COTON / SOIE'\n",
      " 'LIN / COTON' 'POLYESTER' 'ACETATE' 'ACRYLIC MELANGE' 'LIN'\n",
      " 'CACHEMIRE PLUME']\n",
      "\n",
      "Variable : Produit\n",
      "['Référence_0' 'Référence_1' 'Référence_2' 'Référence_3' 'Référence_4'\n",
      " 'Référence_5' 'Référence_6' 'Référence_7' 'Référence_8' 'Référence_9'\n",
      " 'Référence_10' 'Référence_11' 'Référence_12' 'Référence_13'\n",
      " 'Référence_14' 'Référence_15' 'Référence_16' 'Référence_17'\n",
      " 'Référence_18' 'Référence_19' 'Référence_20' 'Référence_21'\n",
      " 'Référence_22' 'Référence_23' 'Référence_24' 'Référence_25'\n",
      " 'Référence_26' 'Référence_27' 'Référence_28' 'Référence_29'\n",
      " 'Référence_30' 'Référence_31' 'Référence_32' 'Référence_33'\n",
      " 'Référence_34' 'Référence_35' 'Référence_36' 'Référence_37'\n",
      " 'Référence_38' 'Référence_39' 'Référence_40' 'Référence_41'\n",
      " 'Référence_42' 'Référence_43' 'Référence_44' 'Référence_45'\n",
      " 'Référence_46' 'Référence_47' 'Référence_48' 'Référence_49'\n",
      " 'Référence_50' 'Référence_51' 'Référence_52' 'Référence_53'\n",
      " 'Référence_54' 'Référence_55' 'Référence_56' 'Référence_57'\n",
      " 'Référence_58' 'Référence_59' 'Référence_60' 'Référence_61'\n",
      " 'Référence_62' 'Référence_63' 'Référence_64' 'Référence_65'\n",
      " 'Référence_66' 'Référence_67' 'Référence_68' 'Référence_69'\n",
      " 'Référence_70' 'Référence_71' 'Référence_72' 'Référence_73'\n",
      " 'Référence_74' 'Référence_75' 'Référence_76' 'Référence_77'\n",
      " 'Référence_78' 'Référence_79' 'Référence_80' 'Référence_81'\n",
      " 'Référence_82' 'Référence_83' 'Référence_84' 'Référence_85'\n",
      " 'Référence_86' 'Référence_87' 'Référence_88' 'Référence_89'\n",
      " 'Référence_90' 'Référence_91' 'Référence_92' 'Référence_93'\n",
      " 'Référence_94' 'Référence_95' 'Référence_96' 'Référence_97'\n",
      " 'Référence_98' 'Référence_99' 'Référence_100' 'Référence_101'\n",
      " 'Référence_102' 'Référence_103' 'Référence_104' 'Référence_105'\n",
      " 'Référence_106' 'Référence_107' 'Référence_108' 'Référence_109'\n",
      " 'Référence_110' 'Référence_111' 'Référence_112' 'Référence_113'\n",
      " 'Référence_114' 'Référence_115' 'Référence_116' 'Référence_117'\n",
      " 'Référence_118' 'Référence_119' 'Référence_120' 'Référence_121'\n",
      " 'Référence_122' 'Référence_123' 'Référence_124' 'Référence_125'\n",
      " 'Référence_126' 'Référence_127' 'Référence_128' 'Référence_129'\n",
      " 'Référence_130' 'Référence_131' 'Référence_132' 'Référence_133'\n",
      " 'Référence_134' 'Référence_135' 'Référence_136' 'Référence_137'\n",
      " 'Référence_138' 'Référence_139' 'Référence_140' 'Référence_141'\n",
      " 'Référence_142' 'Référence_143' 'Référence_144' 'Référence_145'\n",
      " 'Référence_146' 'Référence_147' 'Référence_148' 'Référence_149'\n",
      " 'Référence_150' 'Référence_151' 'Référence_152' 'Référence_153'\n",
      " 'Référence_154' 'Référence_155' 'Référence_156' 'Référence_157'\n",
      " 'Référence_158' 'Référence_159' 'Référence_160' 'Référence_161'\n",
      " 'Référence_162' 'Référence_163' 'Référence_164' 'Référence_165'\n",
      " 'Référence_166' 'Référence_167' 'Référence_168' 'Référence_169'\n",
      " 'Référence_170' 'Référence_171' 'Référence_172' 'Référence_173'\n",
      " 'Référence_174' 'Référence_175' 'Référence_176' 'Référence_177'\n",
      " 'Référence_178' 'Référence_179' 'Référence_180' 'Référence_181'\n",
      " 'Référence_182' 'Référence_183' 'Référence_184' 'Référence_185'\n",
      " 'Référence_186' 'Référence_187' 'Référence_188' 'Référence_189'\n",
      " 'Référence_190' 'Référence_191' 'Référence_192' 'Référence_193'\n",
      " 'Référence_194' 'Référence_195' 'Référence_196' 'Référence_197'\n",
      " 'Référence_198' 'Référence_199' 'Référence_200' 'Référence_201'\n",
      " 'Référence_202' 'Référence_203' 'Référence_204' 'Référence_205'\n",
      " 'Référence_206' 'Référence_207' 'Référence_208' 'Référence_209'\n",
      " 'Référence_210' 'Référence_211' 'Référence_212' 'Référence_213'\n",
      " 'Référence_214' 'Référence_215' 'Référence_216' 'Référence_217'\n",
      " 'Référence_218' 'Référence_219' 'Référence_220' 'Référence_221'\n",
      " 'Référence_222' 'Référence_223' 'Référence_224' 'Référence_225'\n",
      " 'Référence_226' 'Référence_227' 'Référence_228' 'Référence_229'\n",
      " 'Référence_230' 'Référence_231' 'Référence_232' 'Référence_233'\n",
      " 'Référence_234' 'Référence_235' 'Référence_236' 'Référence_237'\n",
      " 'Référence_238' 'Référence_239' 'Référence_240' 'Référence_241'\n",
      " 'Référence_242' 'Référence_243' 'Référence_244' 'Référence_245'\n",
      " 'Référence_246' 'Référence_247' 'Référence_248' 'Référence_249'\n",
      " 'Référence_250' 'Référence_251' 'Référence_252' 'Référence_253'\n",
      " 'Référence_254' 'Référence_255' 'Référence_256' 'Référence_257'\n",
      " 'Référence_258' 'Référence_259' 'Référence_260' 'Référence_261'\n",
      " 'Référence_262' 'Référence_263' 'Référence_264' 'Référence_265'\n",
      " 'Référence_266' 'Référence_267' 'Référence_268' 'Référence_269'\n",
      " 'Référence_270' 'Référence_271' 'Référence_272' 'Référence_273'\n",
      " 'Référence_274' 'Référence_275' 'Référence_276' 'Référence_277'\n",
      " 'Référence_278' 'Référence_279' 'Référence_280' 'Référence_281'\n",
      " 'Référence_282' 'Référence_283' 'Référence_284' 'Référence_285'\n",
      " 'Référence_286' 'Référence_287']\n",
      "\n",
      "Variable : Libellé couleurs\n",
      "['LICHEN' 'SABLE' 'NOIR' 'BLEU' 'BUBBLE GUM' 'JUDO' 'BEBE' 'OLIVE' 'BRUT'\n",
      " 'FOUGERE' 'JAPON' 'FLAMANT' 'KLEIN' 'OPALINE' 'ECRU' 'FAUX NOIR' 'CRAIE'\n",
      " 'FICELLE' 'TOURNESOL' 'MULTICOLOR' 'AVOINE' 'PERLE' 'KAKI' 'NATUREL'\n",
      " 'LILAS' 'GRIS' 'ROSE' 'BLANC' 'MARINE' 'MAUVE' 'MIMOSA' 'GRIS CHINE'\n",
      " 'CARBONE' 'MAKE-UP' 'JADE' 'DAHLIA' 'SILVER' 'TROPICAL' 'LAVANDE' 'MINT'\n",
      " 'BEIGE' 'AMANDE' 'BALLERINE' 'GRIS CHINE CLAIR' 'ENCRE' 'ORANGE'\n",
      " 'VANILLE' 'ARGILE' 'BLOSSOM' 'POUDRE' 'CITRON' 'NUAGE' 'MENTHE' 'CIEL'\n",
      " 'CHARBON' 'JAUNE' 'CAMEL' 'NEIGE' 'CELADON' 'BEURRE']\n",
      "\n",
      "Variable : SPRING / SUMMER\n",
      "['SUMMER' 'SPRING']\n",
      "\n",
      "Variable : Puissance produit\n",
      "['BEST' 'SLOW' 'MEDIUM' 'PERMANENT' 'Spécifique' 'REPROD OPGM' nan]\n",
      "\n",
      "Variable : Champs UVS Statut de collection\n",
      "['SAISONNIER' 'PERMANENT' 'NINI']\n",
      "\n",
      "Variable : Prix (selon famille)\n",
      "['MEDIUM' 'LOW' 'HIGH']\n",
      "\n",
      "Variable : Iconique\n",
      "['NON' 'OUI']\n",
      "\n",
      "Variable : Type saison\n",
      "['SUMMER' 'MID-SEASON' 'WINTER']\n",
      "\n",
      "Variable : Segment\n",
      "['CASUAL' 'DAYWEAR' 'FASHION']\n",
      "\n"
     ]
    }
   ],
   "source": [
    "for cat in categorical_variables_ref: \n",
    "    print(\"Variable : {}\".format(cat))\n",
    "    print(ref[cat].unique())\n",
    "    print()"
   ]
  },
  {
   "cell_type": "code",
   "execution_count": 127,
   "metadata": {},
   "outputs": [
    {
     "name": "stdout",
     "output_type": "stream",
     "text": [
      "Variable : PVB\n",
      "count    357.00000\n",
      "mean     256.24930\n",
      "std      165.36061\n",
      "min       45.00000\n",
      "25%      120.00000\n",
      "50%      225.00000\n",
      "75%      340.00000\n",
      "max      990.00000\n",
      "Name: PVB, dtype: float64\n",
      "\n"
     ]
    }
   ],
   "source": [
    "for num in numerical_variables_ref : \n",
    "    print(\"Variable : {}\".format(num))\n",
    "    print(ref[num].describe())\n",
    "    print()"
   ]
  },
  {
   "cell_type": "code",
   "execution_count": 128,
   "metadata": {},
   "outputs": [
    {
     "data": {
      "text/plain": [
       "Libellé rayon                       0\n",
       "Libellé thème                       0\n",
       "Libellé famille                     0\n",
       "Libellé sous famille               24\n",
       "Produit                             0\n",
       "Libellé couleurs                    0\n",
       "PVB                                 0\n",
       "SPRING / SUMMER                    22\n",
       "Puissance produit                   1\n",
       "Champs UVS Statut de collection     0\n",
       "Prix (selon famille)                0\n",
       "Iconique                            0\n",
       "Type saison                         0\n",
       "Segment                             0\n",
       "dtype: int64"
      ]
     },
     "execution_count": 128,
     "metadata": {},
     "output_type": "execute_result"
    }
   ],
   "source": [
    "ref.isnull().sum()"
   ]
  },
  {
   "cell_type": "code",
   "execution_count": 134,
   "metadata": {},
   "outputs": [],
   "source": [
    "# On rempli les valeurs nan avec des valeurs random de chaque colonne.\n",
    "import random\n",
    "ref['Libellé sous famille'].fillna(random.choice(ref['Libellé sous famille'][ref['Libellé sous famille'].notna()]), inplace=True)"
   ]
  },
  {
   "cell_type": "code",
   "execution_count": 136,
   "metadata": {},
   "outputs": [],
   "source": [
    "ref['SPRING / SUMMER'].fillna(random.choice(ref['SPRING / SUMMER'][ref['SPRING / SUMMER'].notna()]), inplace=True)"
   ]
  },
  {
   "cell_type": "code",
   "execution_count": 139,
   "metadata": {},
   "outputs": [],
   "source": [
    "# Comme il n'y a qu'une seule valeur nan dans la colonne \"Puissance produit\" nous la remplissons avec MEDIUM.\n",
    "ref['Puissance produit'] = ref['Puissance produit'].fillna('MEDIUM')"
   ]
  },
  {
   "cell_type": "code",
   "execution_count": 140,
   "metadata": {},
   "outputs": [
    {
     "data": {
      "text/plain": [
       "Libellé rayon                      0\n",
       "Libellé thème                      0\n",
       "Libellé famille                    0\n",
       "Libellé sous famille               0\n",
       "Produit                            0\n",
       "Libellé couleurs                   0\n",
       "PVB                                0\n",
       "SPRING / SUMMER                    0\n",
       "Puissance produit                  0\n",
       "Champs UVS Statut de collection    0\n",
       "Prix (selon famille)               0\n",
       "Iconique                           0\n",
       "Type saison                        0\n",
       "Segment                            0\n",
       "dtype: int64"
      ]
     },
     "execution_count": 140,
     "metadata": {},
     "output_type": "execute_result"
    }
   ],
   "source": [
    "ref.isnull().sum()"
   ]
  },
  {
   "cell_type": "code",
   "execution_count": 141,
   "metadata": {},
   "outputs": [],
   "source": [
    "#Création  de la clé de jointure\n",
    "ref[\"Modèle_Coloris\"] = ref[\"Produit\"] + ref[\"Libellé couleurs\"]"
   ]
  },
  {
   "cell_type": "markdown",
   "metadata": {},
   "source": [
    "### I.1.2. Jointure entre le fichier de ventes et de références"
   ]
  },
  {
   "cell_type": "markdown",
   "metadata": {},
   "source": [
    "Nous effectuons une jointure \"inner\" entre les ventes et les références. L'objectif est de ne garder que les informations contenues dans les deux fichiers.\n",
    "\n",
    "Nous calculons ensuite le montant total pour chaque référence produit et chaque magasin."
   ]
  },
  {
   "cell_type": "code",
   "execution_count": 143,
   "metadata": {},
   "outputs": [],
   "source": [
    "ventes_ref = ventes.merge(ref, how = 'inner', on = \"Modèle_Coloris\")"
   ]
  },
  {
   "cell_type": "code",
   "execution_count": 144,
   "metadata": {},
   "outputs": [],
   "source": [
    "# Calculer le Montant Total\n",
    "ventes_ref[\"Montant total\"] = ventes_ref[\"Ventes17_19\"] * ventes_ref[\"PVB\"]"
   ]
  },
  {
   "cell_type": "code",
   "execution_count": 146,
   "metadata": {},
   "outputs": [
    {
     "data": {
      "text/html": [
       "<div>\n",
       "<style scoped>\n",
       "    .dataframe tbody tr th:only-of-type {\n",
       "        vertical-align: middle;\n",
       "    }\n",
       "\n",
       "    .dataframe tbody tr th {\n",
       "        vertical-align: top;\n",
       "    }\n",
       "\n",
       "    .dataframe thead th {\n",
       "        text-align: right;\n",
       "    }\n",
       "</style>\n",
       "<table border=\"1\" class=\"dataframe\">\n",
       "  <thead>\n",
       "    <tr style=\"text-align: right;\">\n",
       "      <th></th>\n",
       "      <th>Magasin</th>\n",
       "      <th>Référence produit</th>\n",
       "      <th>Couleur produit</th>\n",
       "      <th>Modèle_Coloris</th>\n",
       "      <th>SKUSTORE</th>\n",
       "      <th>Classification famille</th>\n",
       "      <th>Classification rayon</th>\n",
       "      <th>Classification sous famille</th>\n",
       "      <th>Statut Collection Produit</th>\n",
       "      <th>Ventes17_19</th>\n",
       "      <th>Libellé rayon</th>\n",
       "      <th>Libellé thème</th>\n",
       "      <th>Libellé famille</th>\n",
       "      <th>Libellé sous famille</th>\n",
       "      <th>Produit</th>\n",
       "      <th>Libellé couleurs</th>\n",
       "      <th>PVB</th>\n",
       "      <th>SPRING / SUMMER</th>\n",
       "      <th>Puissance produit</th>\n",
       "      <th>Champs UVS Statut de collection</th>\n",
       "      <th>Prix (selon famille)</th>\n",
       "      <th>Iconique</th>\n",
       "      <th>Type saison</th>\n",
       "      <th>Segment</th>\n",
       "      <th>Montant total</th>\n",
       "    </tr>\n",
       "  </thead>\n",
       "  <tbody>\n",
       "    <tr>\n",
       "      <th>0</th>\n",
       "      <td>Magasin_127</td>\n",
       "      <td>Référence_14</td>\n",
       "      <td>BRUT</td>\n",
       "      <td>Référence_14BRUT</td>\n",
       "      <td>Référence_14BRUTMagasin_127</td>\n",
       "      <td>BLOUSONS</td>\n",
       "      <td>PAP FEMME</td>\n",
       "      <td>COTON</td>\n",
       "      <td>SAISONNIER</td>\n",
       "      <td>23</td>\n",
       "      <td>PAP FEMME</td>\n",
       "      <td>CHAINETRAME</td>\n",
       "      <td>BLOUSONS</td>\n",
       "      <td>COTON</td>\n",
       "      <td>Référence_14</td>\n",
       "      <td>BRUT</td>\n",
       "      <td>380</td>\n",
       "      <td>SPRING</td>\n",
       "      <td>MEDIUM</td>\n",
       "      <td>SAISONNIER</td>\n",
       "      <td>HIGH</td>\n",
       "      <td>OUI</td>\n",
       "      <td>MID-SEASON</td>\n",
       "      <td>CASUAL</td>\n",
       "      <td>8740</td>\n",
       "    </tr>\n",
       "    <tr>\n",
       "      <th>1</th>\n",
       "      <td>Magasin_193</td>\n",
       "      <td>Référence_14</td>\n",
       "      <td>BRUT</td>\n",
       "      <td>Référence_14BRUT</td>\n",
       "      <td>Référence_14BRUTMagasin_193</td>\n",
       "      <td>BLOUSONS</td>\n",
       "      <td>PAP FEMME</td>\n",
       "      <td>COTON</td>\n",
       "      <td>SAISONNIER</td>\n",
       "      <td>4</td>\n",
       "      <td>PAP FEMME</td>\n",
       "      <td>CHAINETRAME</td>\n",
       "      <td>BLOUSONS</td>\n",
       "      <td>COTON</td>\n",
       "      <td>Référence_14</td>\n",
       "      <td>BRUT</td>\n",
       "      <td>380</td>\n",
       "      <td>SPRING</td>\n",
       "      <td>MEDIUM</td>\n",
       "      <td>SAISONNIER</td>\n",
       "      <td>HIGH</td>\n",
       "      <td>OUI</td>\n",
       "      <td>MID-SEASON</td>\n",
       "      <td>CASUAL</td>\n",
       "      <td>1520</td>\n",
       "    </tr>\n",
       "    <tr>\n",
       "      <th>2</th>\n",
       "      <td>Magasin_154</td>\n",
       "      <td>Référence_14</td>\n",
       "      <td>BRUT</td>\n",
       "      <td>Référence_14BRUT</td>\n",
       "      <td>Référence_14BRUTMagasin_154</td>\n",
       "      <td>BLOUSONS</td>\n",
       "      <td>PAP FEMME</td>\n",
       "      <td>COTON</td>\n",
       "      <td>SAISONNIER</td>\n",
       "      <td>16</td>\n",
       "      <td>PAP FEMME</td>\n",
       "      <td>CHAINETRAME</td>\n",
       "      <td>BLOUSONS</td>\n",
       "      <td>COTON</td>\n",
       "      <td>Référence_14</td>\n",
       "      <td>BRUT</td>\n",
       "      <td>380</td>\n",
       "      <td>SPRING</td>\n",
       "      <td>MEDIUM</td>\n",
       "      <td>SAISONNIER</td>\n",
       "      <td>HIGH</td>\n",
       "      <td>OUI</td>\n",
       "      <td>MID-SEASON</td>\n",
       "      <td>CASUAL</td>\n",
       "      <td>6080</td>\n",
       "    </tr>\n",
       "    <tr>\n",
       "      <th>3</th>\n",
       "      <td>Magasin_81</td>\n",
       "      <td>Référence_14</td>\n",
       "      <td>BRUT</td>\n",
       "      <td>Référence_14BRUT</td>\n",
       "      <td>Référence_14BRUTMagasin_81</td>\n",
       "      <td>BLOUSONS</td>\n",
       "      <td>PAP FEMME</td>\n",
       "      <td>COTON</td>\n",
       "      <td>SAISONNIER</td>\n",
       "      <td>8</td>\n",
       "      <td>PAP FEMME</td>\n",
       "      <td>CHAINETRAME</td>\n",
       "      <td>BLOUSONS</td>\n",
       "      <td>COTON</td>\n",
       "      <td>Référence_14</td>\n",
       "      <td>BRUT</td>\n",
       "      <td>380</td>\n",
       "      <td>SPRING</td>\n",
       "      <td>MEDIUM</td>\n",
       "      <td>SAISONNIER</td>\n",
       "      <td>HIGH</td>\n",
       "      <td>OUI</td>\n",
       "      <td>MID-SEASON</td>\n",
       "      <td>CASUAL</td>\n",
       "      <td>3040</td>\n",
       "    </tr>\n",
       "    <tr>\n",
       "      <th>4</th>\n",
       "      <td>Magasin_84</td>\n",
       "      <td>Référence_14</td>\n",
       "      <td>BRUT</td>\n",
       "      <td>Référence_14BRUT</td>\n",
       "      <td>Référence_14BRUTMagasin_84</td>\n",
       "      <td>BLOUSONS</td>\n",
       "      <td>PAP FEMME</td>\n",
       "      <td>COTON</td>\n",
       "      <td>SAISONNIER</td>\n",
       "      <td>7</td>\n",
       "      <td>PAP FEMME</td>\n",
       "      <td>CHAINETRAME</td>\n",
       "      <td>BLOUSONS</td>\n",
       "      <td>COTON</td>\n",
       "      <td>Référence_14</td>\n",
       "      <td>BRUT</td>\n",
       "      <td>380</td>\n",
       "      <td>SPRING</td>\n",
       "      <td>MEDIUM</td>\n",
       "      <td>SAISONNIER</td>\n",
       "      <td>HIGH</td>\n",
       "      <td>OUI</td>\n",
       "      <td>MID-SEASON</td>\n",
       "      <td>CASUAL</td>\n",
       "      <td>2660</td>\n",
       "    </tr>\n",
       "  </tbody>\n",
       "</table>\n",
       "</div>"
      ],
      "text/plain": [
       "       Magasin Référence produit Couleur produit    Modèle_Coloris  \\\n",
       "0  Magasin_127      Référence_14            BRUT  Référence_14BRUT   \n",
       "1  Magasin_193      Référence_14            BRUT  Référence_14BRUT   \n",
       "2  Magasin_154      Référence_14            BRUT  Référence_14BRUT   \n",
       "3   Magasin_81      Référence_14            BRUT  Référence_14BRUT   \n",
       "4   Magasin_84      Référence_14            BRUT  Référence_14BRUT   \n",
       "\n",
       "                      SKUSTORE Classification famille Classification rayon  \\\n",
       "0  Référence_14BRUTMagasin_127               BLOUSONS            PAP FEMME   \n",
       "1  Référence_14BRUTMagasin_193               BLOUSONS            PAP FEMME   \n",
       "2  Référence_14BRUTMagasin_154               BLOUSONS            PAP FEMME   \n",
       "3   Référence_14BRUTMagasin_81               BLOUSONS            PAP FEMME   \n",
       "4   Référence_14BRUTMagasin_84               BLOUSONS            PAP FEMME   \n",
       "\n",
       "  Classification sous famille Statut Collection Produit  Ventes17_19  \\\n",
       "0                       COTON                SAISONNIER           23   \n",
       "1                       COTON                SAISONNIER            4   \n",
       "2                       COTON                SAISONNIER           16   \n",
       "3                       COTON                SAISONNIER            8   \n",
       "4                       COTON                SAISONNIER            7   \n",
       "\n",
       "  Libellé rayon Libellé thème Libellé famille Libellé sous famille  \\\n",
       "0     PAP FEMME   CHAINETRAME        BLOUSONS                COTON   \n",
       "1     PAP FEMME   CHAINETRAME        BLOUSONS                COTON   \n",
       "2     PAP FEMME   CHAINETRAME        BLOUSONS                COTON   \n",
       "3     PAP FEMME   CHAINETRAME        BLOUSONS                COTON   \n",
       "4     PAP FEMME   CHAINETRAME        BLOUSONS                COTON   \n",
       "\n",
       "        Produit Libellé couleurs  PVB SPRING / SUMMER Puissance produit  \\\n",
       "0  Référence_14             BRUT  380          SPRING            MEDIUM   \n",
       "1  Référence_14             BRUT  380          SPRING            MEDIUM   \n",
       "2  Référence_14             BRUT  380          SPRING            MEDIUM   \n",
       "3  Référence_14             BRUT  380          SPRING            MEDIUM   \n",
       "4  Référence_14             BRUT  380          SPRING            MEDIUM   \n",
       "\n",
       "  Champs UVS Statut de collection Prix (selon famille) Iconique Type saison  \\\n",
       "0                      SAISONNIER                 HIGH      OUI  MID-SEASON   \n",
       "1                      SAISONNIER                 HIGH      OUI  MID-SEASON   \n",
       "2                      SAISONNIER                 HIGH      OUI  MID-SEASON   \n",
       "3                      SAISONNIER                 HIGH      OUI  MID-SEASON   \n",
       "4                      SAISONNIER                 HIGH      OUI  MID-SEASON   \n",
       "\n",
       "  Segment  Montant total  \n",
       "0  CASUAL           8740  \n",
       "1  CASUAL           1520  \n",
       "2  CASUAL           6080  \n",
       "3  CASUAL           3040  \n",
       "4  CASUAL           2660  "
      ]
     },
     "execution_count": 146,
     "metadata": {},
     "output_type": "execute_result"
    }
   ],
   "source": [
    "ventes_ref.head()"
   ]
  },
  {
   "cell_type": "markdown",
   "metadata": {},
   "source": [
    "### I.1.3. Création de variables à la maille du magasin sur le fichier joint des ventes et des références"
   ]
  },
  {
   "cell_type": "markdown",
   "metadata": {},
   "source": [
    "Etant donné que nous souhaitons faire un clustering de magasins, il convient de calculer de nouvelles features à partir du dataset \"ventes_ref\" à la maille du magasin.\n",
    "La fonctionnalité groupby permet de répondre à ce besoin.\n"
   ]
  },
  {
   "cell_type": "markdown",
   "metadata": {},
   "source": [
    "**Calcul du montant total et du nombre de ventes total par magasin**"
   ]
  },
  {
   "cell_type": "code",
   "execution_count": 154,
   "metadata": {},
   "outputs": [],
   "source": [
    "mag_montants_ventes = ventes_ref.groupby(\"Magasin\")[[\"Montant total\", \"Ventes17_19\"]].sum()"
   ]
  },
  {
   "cell_type": "code",
   "execution_count": 157,
   "metadata": {},
   "outputs": [
    {
     "data": {
      "text/html": [
       "<div>\n",
       "<style scoped>\n",
       "    .dataframe tbody tr th:only-of-type {\n",
       "        vertical-align: middle;\n",
       "    }\n",
       "\n",
       "    .dataframe tbody tr th {\n",
       "        vertical-align: top;\n",
       "    }\n",
       "\n",
       "    .dataframe thead th {\n",
       "        text-align: right;\n",
       "    }\n",
       "</style>\n",
       "<table border=\"1\" class=\"dataframe\">\n",
       "  <thead>\n",
       "    <tr style=\"text-align: right;\">\n",
       "      <th></th>\n",
       "      <th>Montant total</th>\n",
       "      <th>Ventes17_19</th>\n",
       "    </tr>\n",
       "    <tr>\n",
       "      <th>Magasin</th>\n",
       "      <th></th>\n",
       "      <th></th>\n",
       "    </tr>\n",
       "  </thead>\n",
       "  <tbody>\n",
       "    <tr>\n",
       "      <th>Magasin_1</th>\n",
       "      <td>512234</td>\n",
       "      <td>2283</td>\n",
       "    </tr>\n",
       "    <tr>\n",
       "      <th>Magasin_10</th>\n",
       "      <td>181469</td>\n",
       "      <td>856</td>\n",
       "    </tr>\n",
       "    <tr>\n",
       "      <th>Magasin_100</th>\n",
       "      <td>593470</td>\n",
       "      <td>2546</td>\n",
       "    </tr>\n",
       "    <tr>\n",
       "      <th>Magasin_101</th>\n",
       "      <td>458868</td>\n",
       "      <td>2169</td>\n",
       "    </tr>\n",
       "    <tr>\n",
       "      <th>Magasin_102</th>\n",
       "      <td>163359</td>\n",
       "      <td>793</td>\n",
       "    </tr>\n",
       "  </tbody>\n",
       "</table>\n",
       "</div>"
      ],
      "text/plain": [
       "             Montant total  Ventes17_19\n",
       "Magasin                                \n",
       "Magasin_1           512234         2283\n",
       "Magasin_10          181469          856\n",
       "Magasin_100         593470         2546\n",
       "Magasin_101         458868         2169\n",
       "Magasin_102         163359          793"
      ]
     },
     "execution_count": 157,
     "metadata": {},
     "output_type": "execute_result"
    }
   ],
   "source": [
    "mag_montants_ventes.head()"
   ]
  },
  {
   "cell_type": "markdown",
   "metadata": {},
   "source": [
    "Calculez le prix de vente moyen"
   ]
  },
  {
   "cell_type": "code",
   "execution_count": 159,
   "metadata": {},
   "outputs": [],
   "source": [
    "mag_montants_ventes[\"Prix de vente moyen\"] = mag_montants_ventes[\"Montant total\"] / mag_montants_ventes[\"Ventes17_19\"]"
   ]
  },
  {
   "cell_type": "code",
   "execution_count": 160,
   "metadata": {},
   "outputs": [
    {
     "data": {
      "text/html": [
       "<div>\n",
       "<style scoped>\n",
       "    .dataframe tbody tr th:only-of-type {\n",
       "        vertical-align: middle;\n",
       "    }\n",
       "\n",
       "    .dataframe tbody tr th {\n",
       "        vertical-align: top;\n",
       "    }\n",
       "\n",
       "    .dataframe thead th {\n",
       "        text-align: right;\n",
       "    }\n",
       "</style>\n",
       "<table border=\"1\" class=\"dataframe\">\n",
       "  <thead>\n",
       "    <tr style=\"text-align: right;\">\n",
       "      <th></th>\n",
       "      <th>Montant total</th>\n",
       "      <th>Ventes17_19</th>\n",
       "      <th>Prix de vente moyen</th>\n",
       "    </tr>\n",
       "    <tr>\n",
       "      <th>Magasin</th>\n",
       "      <th></th>\n",
       "      <th></th>\n",
       "      <th></th>\n",
       "    </tr>\n",
       "  </thead>\n",
       "  <tbody>\n",
       "    <tr>\n",
       "      <th>Magasin_1</th>\n",
       "      <td>512234</td>\n",
       "      <td>2283</td>\n",
       "      <td>224.368813</td>\n",
       "    </tr>\n",
       "    <tr>\n",
       "      <th>Magasin_10</th>\n",
       "      <td>181469</td>\n",
       "      <td>856</td>\n",
       "      <td>211.996495</td>\n",
       "    </tr>\n",
       "    <tr>\n",
       "      <th>Magasin_100</th>\n",
       "      <td>593470</td>\n",
       "      <td>2546</td>\n",
       "      <td>233.098979</td>\n",
       "    </tr>\n",
       "    <tr>\n",
       "      <th>Magasin_101</th>\n",
       "      <td>458868</td>\n",
       "      <td>2169</td>\n",
       "      <td>211.557400</td>\n",
       "    </tr>\n",
       "    <tr>\n",
       "      <th>Magasin_102</th>\n",
       "      <td>163359</td>\n",
       "      <td>793</td>\n",
       "      <td>206.001261</td>\n",
       "    </tr>\n",
       "  </tbody>\n",
       "</table>\n",
       "</div>"
      ],
      "text/plain": [
       "             Montant total  Ventes17_19  Prix de vente moyen\n",
       "Magasin                                                     \n",
       "Magasin_1           512234         2283           224.368813\n",
       "Magasin_10          181469          856           211.996495\n",
       "Magasin_100         593470         2546           233.098979\n",
       "Magasin_101         458868         2169           211.557400\n",
       "Magasin_102         163359          793           206.001261"
      ]
     },
     "execution_count": 160,
     "metadata": {},
     "output_type": "execute_result"
    }
   ],
   "source": [
    "mag_montants_ventes.head()"
   ]
  },
  {
   "cell_type": "markdown",
   "metadata": {},
   "source": [
    "**Calcul du pourcentage de ventes des produits iconiques par magasin** "
   ]
  },
  {
   "cell_type": "code",
   "execution_count": 161,
   "metadata": {},
   "outputs": [
    {
     "data": {
      "text/plain": [
       "NON    22363\n",
       "OUI    14268\n",
       "Name: Iconique, dtype: int64"
      ]
     },
     "execution_count": 161,
     "metadata": {},
     "output_type": "execute_result"
    }
   ],
   "source": [
    "ventes_ref[\"Iconique\"].value_counts(dropna = False)"
   ]
  },
  {
   "cell_type": "code",
   "execution_count": null,
   "metadata": {},
   "outputs": [],
   "source": [
    "#On remplace les champs Oui et Non par \"Iconique\" et \"Non_iconique\" pour pouvoir les reconnaitre plus tard"
   ]
  },
  {
   "cell_type": "code",
   "execution_count": 162,
   "metadata": {},
   "outputs": [],
   "source": [
    "ventes_ref[\"Iconique_transformed\"] = ventes_ref[\"Iconique\"].map({\"OUI\":\"Iconique\", \"NON\": \"Non_iconique\"})"
   ]
  },
  {
   "cell_type": "code",
   "execution_count": 163,
   "metadata": {},
   "outputs": [],
   "source": [
    "iconique_sum = ventes_ref.groupby([\"Magasin\", \"Iconique_transformed\"])['Ventes17_19'].sum().unstack()"
   ]
  },
  {
   "cell_type": "code",
   "execution_count": 164,
   "metadata": {},
   "outputs": [
    {
     "data": {
      "text/html": [
       "<div>\n",
       "<style scoped>\n",
       "    .dataframe tbody tr th:only-of-type {\n",
       "        vertical-align: middle;\n",
       "    }\n",
       "\n",
       "    .dataframe tbody tr th {\n",
       "        vertical-align: top;\n",
       "    }\n",
       "\n",
       "    .dataframe thead th {\n",
       "        text-align: right;\n",
       "    }\n",
       "</style>\n",
       "<table border=\"1\" class=\"dataframe\">\n",
       "  <thead>\n",
       "    <tr style=\"text-align: right;\">\n",
       "      <th>Iconique_transformed</th>\n",
       "      <th>Iconique</th>\n",
       "      <th>Non_iconique</th>\n",
       "    </tr>\n",
       "    <tr>\n",
       "      <th>Magasin</th>\n",
       "      <th></th>\n",
       "      <th></th>\n",
       "    </tr>\n",
       "  </thead>\n",
       "  <tbody>\n",
       "    <tr>\n",
       "      <th>Magasin_1</th>\n",
       "      <td>931.0</td>\n",
       "      <td>1352.0</td>\n",
       "    </tr>\n",
       "    <tr>\n",
       "      <th>Magasin_10</th>\n",
       "      <td>339.0</td>\n",
       "      <td>517.0</td>\n",
       "    </tr>\n",
       "    <tr>\n",
       "      <th>Magasin_100</th>\n",
       "      <td>1009.0</td>\n",
       "      <td>1537.0</td>\n",
       "    </tr>\n",
       "    <tr>\n",
       "      <th>Magasin_101</th>\n",
       "      <td>877.0</td>\n",
       "      <td>1292.0</td>\n",
       "    </tr>\n",
       "    <tr>\n",
       "      <th>Magasin_102</th>\n",
       "      <td>345.0</td>\n",
       "      <td>448.0</td>\n",
       "    </tr>\n",
       "  </tbody>\n",
       "</table>\n",
       "</div>"
      ],
      "text/plain": [
       "Iconique_transformed  Iconique  Non_iconique\n",
       "Magasin                                     \n",
       "Magasin_1                931.0        1352.0\n",
       "Magasin_10               339.0         517.0\n",
       "Magasin_100             1009.0        1537.0\n",
       "Magasin_101              877.0        1292.0\n",
       "Magasin_102              345.0         448.0"
      ]
     },
     "execution_count": 164,
     "metadata": {},
     "output_type": "execute_result"
    }
   ],
   "source": [
    "iconique_sum.head()"
   ]
  },
  {
   "cell_type": "markdown",
   "metadata": {},
   "source": [
    "Nous remarquons certaines valeurs manquantes. Cela veut dire que dans certains magasins (en l'occurence, les magasins 146 et 89), aucun produit iconique n'a été vendu. Nous allons donc imputer les valeurs manquantes à 0."
   ]
  },
  {
   "cell_type": "code",
   "execution_count": 165,
   "metadata": {},
   "outputs": [
    {
     "data": {
      "text/html": [
       "<div>\n",
       "<style scoped>\n",
       "    .dataframe tbody tr th:only-of-type {\n",
       "        vertical-align: middle;\n",
       "    }\n",
       "\n",
       "    .dataframe tbody tr th {\n",
       "        vertical-align: top;\n",
       "    }\n",
       "\n",
       "    .dataframe thead th {\n",
       "        text-align: right;\n",
       "    }\n",
       "</style>\n",
       "<table border=\"1\" class=\"dataframe\">\n",
       "  <thead>\n",
       "    <tr style=\"text-align: right;\">\n",
       "      <th>Iconique_transformed</th>\n",
       "      <th>Iconique</th>\n",
       "      <th>Non_iconique</th>\n",
       "    </tr>\n",
       "    <tr>\n",
       "      <th>Magasin</th>\n",
       "      <th></th>\n",
       "      <th></th>\n",
       "    </tr>\n",
       "  </thead>\n",
       "  <tbody>\n",
       "    <tr>\n",
       "      <th>Magasin_118</th>\n",
       "      <td>NaN</td>\n",
       "      <td>1.0</td>\n",
       "    </tr>\n",
       "    <tr>\n",
       "      <th>Magasin_61</th>\n",
       "      <td>NaN</td>\n",
       "      <td>1.0</td>\n",
       "    </tr>\n",
       "  </tbody>\n",
       "</table>\n",
       "</div>"
      ],
      "text/plain": [
       "Iconique_transformed  Iconique  Non_iconique\n",
       "Magasin                                     \n",
       "Magasin_118                NaN           1.0\n",
       "Magasin_61                 NaN           1.0"
      ]
     },
     "execution_count": 165,
     "metadata": {},
     "output_type": "execute_result"
    }
   ],
   "source": [
    "iconique_sum[iconique_sum.Iconique.isnull()]"
   ]
  },
  {
   "cell_type": "code",
   "execution_count": 166,
   "metadata": {},
   "outputs": [],
   "source": [
    "iconique_sum = iconique_sum.fillna(0)"
   ]
  },
  {
   "cell_type": "code",
   "execution_count": 167,
   "metadata": {},
   "outputs": [],
   "source": [
    "iconique_prc = iconique_sum.div(iconique_sum.sum(axis = 1), axis = 0)"
   ]
  },
  {
   "cell_type": "code",
   "execution_count": 168,
   "metadata": {},
   "outputs": [
    {
     "data": {
      "text/html": [
       "<div>\n",
       "<style scoped>\n",
       "    .dataframe tbody tr th:only-of-type {\n",
       "        vertical-align: middle;\n",
       "    }\n",
       "\n",
       "    .dataframe tbody tr th {\n",
       "        vertical-align: top;\n",
       "    }\n",
       "\n",
       "    .dataframe thead th {\n",
       "        text-align: right;\n",
       "    }\n",
       "</style>\n",
       "<table border=\"1\" class=\"dataframe\">\n",
       "  <thead>\n",
       "    <tr style=\"text-align: right;\">\n",
       "      <th>Iconique_transformed</th>\n",
       "      <th>Iconique</th>\n",
       "      <th>Non_iconique</th>\n",
       "    </tr>\n",
       "    <tr>\n",
       "      <th>Magasin</th>\n",
       "      <th></th>\n",
       "      <th></th>\n",
       "    </tr>\n",
       "  </thead>\n",
       "  <tbody>\n",
       "    <tr>\n",
       "      <th>Magasin_1</th>\n",
       "      <td>0.407797</td>\n",
       "      <td>0.592203</td>\n",
       "    </tr>\n",
       "    <tr>\n",
       "      <th>Magasin_10</th>\n",
       "      <td>0.396028</td>\n",
       "      <td>0.603972</td>\n",
       "    </tr>\n",
       "    <tr>\n",
       "      <th>Magasin_100</th>\n",
       "      <td>0.396308</td>\n",
       "      <td>0.603692</td>\n",
       "    </tr>\n",
       "    <tr>\n",
       "      <th>Magasin_101</th>\n",
       "      <td>0.404334</td>\n",
       "      <td>0.595666</td>\n",
       "    </tr>\n",
       "    <tr>\n",
       "      <th>Magasin_102</th>\n",
       "      <td>0.435057</td>\n",
       "      <td>0.564943</td>\n",
       "    </tr>\n",
       "  </tbody>\n",
       "</table>\n",
       "</div>"
      ],
      "text/plain": [
       "Iconique_transformed  Iconique  Non_iconique\n",
       "Magasin                                     \n",
       "Magasin_1             0.407797      0.592203\n",
       "Magasin_10            0.396028      0.603972\n",
       "Magasin_100           0.396308      0.603692\n",
       "Magasin_101           0.404334      0.595666\n",
       "Magasin_102           0.435057      0.564943"
      ]
     },
     "execution_count": 168,
     "metadata": {},
     "output_type": "execute_result"
    }
   ],
   "source": [
    "iconique_prc.head()"
   ]
  },
  {
   "cell_type": "markdown",
   "metadata": {},
   "source": [
    "**Faire le même traitement pour d'autres colonnes (nous proposon ces colonnes, mais il est possible d'en rajouter d'autres si vous les trouvez pertinentes) :**\n",
    "- Prix (selon famille)\n",
    "- Type saison\n",
    "- Segment\n",
    "- Libellé thème\n",
    "- Statut de collection\n",
    "\n",
    "Il peut être pertinent de créer une boucle for et de stocker les datasets temporaires dans une liste, puis de les concaténer"
   ]
  },
  {
   "cell_type": "code",
   "execution_count": 169,
   "metadata": {},
   "outputs": [],
   "source": [
    "#On remplace les champs Oui et Non par \"Iconique\" et \"Non_iconique\" pour pouvoir les reconnaitre plus tard\n",
    "ventes_ref[\"Iconique_transformed\"] = ventes_ref[\"Iconique\"].map({\"OUI\":\"Iconique\", \"NON\": \"Non_iconique\"})\n",
    "\n",
    "#On rajoute le nom de la feature pour reconnaitre les catégories\n",
    "ventes_ref[\"Prix (selon famille)_transformed\"] = \"Famille prix_\"+ventes_ref[\"Prix (selon famille)\"]\n",
    "\n",
    "#Même chose pour le type de saison\n",
    "ventes_ref[\"Type saison_transformed\"] = \"Type saison_\"+ventes_ref[\"Type saison\"]\n",
    "\n",
    "#Même chose pour le Segment\n",
    "ventes_ref[\"Segment_transformed\"] = \"Segment_\"+ventes_ref[\"Type saison\"]\n",
    "\n",
    "#Même chose pour le Libellé thème\n",
    "ventes_ref[\"Libellé thème_transformed\"] = \"Libellé thème_\"+ventes_ref[\"Libellé thème\"]\n",
    "\n",
    "#Même chose pour le Libellé thème\n",
    "ventes_ref[\"Statut Collection Produit_transformed\"] = \"Statut Collection Produit_\"+ventes_ref[\"Libellé thème\"]"
   ]
  },
  {
   "cell_type": "code",
   "execution_count": 171,
   "metadata": {},
   "outputs": [
    {
     "data": {
      "text/html": [
       "<div>\n",
       "<style scoped>\n",
       "    .dataframe tbody tr th:only-of-type {\n",
       "        vertical-align: middle;\n",
       "    }\n",
       "\n",
       "    .dataframe tbody tr th {\n",
       "        vertical-align: top;\n",
       "    }\n",
       "\n",
       "    .dataframe thead th {\n",
       "        text-align: right;\n",
       "    }\n",
       "</style>\n",
       "<table border=\"1\" class=\"dataframe\">\n",
       "  <thead>\n",
       "    <tr style=\"text-align: right;\">\n",
       "      <th></th>\n",
       "      <th>Magasin</th>\n",
       "      <th>Référence produit</th>\n",
       "      <th>Couleur produit</th>\n",
       "      <th>Modèle_Coloris</th>\n",
       "      <th>SKUSTORE</th>\n",
       "      <th>Classification famille</th>\n",
       "      <th>Classification rayon</th>\n",
       "      <th>Classification sous famille</th>\n",
       "      <th>Statut Collection Produit</th>\n",
       "      <th>Ventes17_19</th>\n",
       "      <th>Libellé rayon</th>\n",
       "      <th>Libellé thème</th>\n",
       "      <th>Libellé famille</th>\n",
       "      <th>Libellé sous famille</th>\n",
       "      <th>Produit</th>\n",
       "      <th>Libellé couleurs</th>\n",
       "      <th>PVB</th>\n",
       "      <th>SPRING / SUMMER</th>\n",
       "      <th>Puissance produit</th>\n",
       "      <th>Champs UVS Statut de collection</th>\n",
       "      <th>Prix (selon famille)</th>\n",
       "      <th>Iconique</th>\n",
       "      <th>Type saison</th>\n",
       "      <th>Segment</th>\n",
       "      <th>Montant total</th>\n",
       "      <th>Iconique_transformed</th>\n",
       "      <th>Prix (selon famille)_transformed</th>\n",
       "      <th>Type saison_transformed</th>\n",
       "      <th>Segment_transformed</th>\n",
       "      <th>Libellé thème_transformed</th>\n",
       "      <th>Statut Collection Produit_transformed</th>\n",
       "    </tr>\n",
       "  </thead>\n",
       "  <tbody>\n",
       "    <tr>\n",
       "      <th>0</th>\n",
       "      <td>Magasin_127</td>\n",
       "      <td>Référence_14</td>\n",
       "      <td>BRUT</td>\n",
       "      <td>Référence_14BRUT</td>\n",
       "      <td>Référence_14BRUTMagasin_127</td>\n",
       "      <td>BLOUSONS</td>\n",
       "      <td>PAP FEMME</td>\n",
       "      <td>COTON</td>\n",
       "      <td>SAISONNIER</td>\n",
       "      <td>23</td>\n",
       "      <td>PAP FEMME</td>\n",
       "      <td>CHAINETRAME</td>\n",
       "      <td>BLOUSONS</td>\n",
       "      <td>COTON</td>\n",
       "      <td>Référence_14</td>\n",
       "      <td>BRUT</td>\n",
       "      <td>380</td>\n",
       "      <td>SPRING</td>\n",
       "      <td>MEDIUM</td>\n",
       "      <td>SAISONNIER</td>\n",
       "      <td>HIGH</td>\n",
       "      <td>OUI</td>\n",
       "      <td>MID-SEASON</td>\n",
       "      <td>CASUAL</td>\n",
       "      <td>8740</td>\n",
       "      <td>Iconique</td>\n",
       "      <td>Famille prix_HIGH</td>\n",
       "      <td>Type saison_MID-SEASON</td>\n",
       "      <td>Segment_MID-SEASON</td>\n",
       "      <td>Libellé thème_CHAINETRAME</td>\n",
       "      <td>Statut Collection Produit_CHAINETRAME</td>\n",
       "    </tr>\n",
       "    <tr>\n",
       "      <th>1</th>\n",
       "      <td>Magasin_193</td>\n",
       "      <td>Référence_14</td>\n",
       "      <td>BRUT</td>\n",
       "      <td>Référence_14BRUT</td>\n",
       "      <td>Référence_14BRUTMagasin_193</td>\n",
       "      <td>BLOUSONS</td>\n",
       "      <td>PAP FEMME</td>\n",
       "      <td>COTON</td>\n",
       "      <td>SAISONNIER</td>\n",
       "      <td>4</td>\n",
       "      <td>PAP FEMME</td>\n",
       "      <td>CHAINETRAME</td>\n",
       "      <td>BLOUSONS</td>\n",
       "      <td>COTON</td>\n",
       "      <td>Référence_14</td>\n",
       "      <td>BRUT</td>\n",
       "      <td>380</td>\n",
       "      <td>SPRING</td>\n",
       "      <td>MEDIUM</td>\n",
       "      <td>SAISONNIER</td>\n",
       "      <td>HIGH</td>\n",
       "      <td>OUI</td>\n",
       "      <td>MID-SEASON</td>\n",
       "      <td>CASUAL</td>\n",
       "      <td>1520</td>\n",
       "      <td>Iconique</td>\n",
       "      <td>Famille prix_HIGH</td>\n",
       "      <td>Type saison_MID-SEASON</td>\n",
       "      <td>Segment_MID-SEASON</td>\n",
       "      <td>Libellé thème_CHAINETRAME</td>\n",
       "      <td>Statut Collection Produit_CHAINETRAME</td>\n",
       "    </tr>\n",
       "    <tr>\n",
       "      <th>2</th>\n",
       "      <td>Magasin_154</td>\n",
       "      <td>Référence_14</td>\n",
       "      <td>BRUT</td>\n",
       "      <td>Référence_14BRUT</td>\n",
       "      <td>Référence_14BRUTMagasin_154</td>\n",
       "      <td>BLOUSONS</td>\n",
       "      <td>PAP FEMME</td>\n",
       "      <td>COTON</td>\n",
       "      <td>SAISONNIER</td>\n",
       "      <td>16</td>\n",
       "      <td>PAP FEMME</td>\n",
       "      <td>CHAINETRAME</td>\n",
       "      <td>BLOUSONS</td>\n",
       "      <td>COTON</td>\n",
       "      <td>Référence_14</td>\n",
       "      <td>BRUT</td>\n",
       "      <td>380</td>\n",
       "      <td>SPRING</td>\n",
       "      <td>MEDIUM</td>\n",
       "      <td>SAISONNIER</td>\n",
       "      <td>HIGH</td>\n",
       "      <td>OUI</td>\n",
       "      <td>MID-SEASON</td>\n",
       "      <td>CASUAL</td>\n",
       "      <td>6080</td>\n",
       "      <td>Iconique</td>\n",
       "      <td>Famille prix_HIGH</td>\n",
       "      <td>Type saison_MID-SEASON</td>\n",
       "      <td>Segment_MID-SEASON</td>\n",
       "      <td>Libellé thème_CHAINETRAME</td>\n",
       "      <td>Statut Collection Produit_CHAINETRAME</td>\n",
       "    </tr>\n",
       "    <tr>\n",
       "      <th>3</th>\n",
       "      <td>Magasin_81</td>\n",
       "      <td>Référence_14</td>\n",
       "      <td>BRUT</td>\n",
       "      <td>Référence_14BRUT</td>\n",
       "      <td>Référence_14BRUTMagasin_81</td>\n",
       "      <td>BLOUSONS</td>\n",
       "      <td>PAP FEMME</td>\n",
       "      <td>COTON</td>\n",
       "      <td>SAISONNIER</td>\n",
       "      <td>8</td>\n",
       "      <td>PAP FEMME</td>\n",
       "      <td>CHAINETRAME</td>\n",
       "      <td>BLOUSONS</td>\n",
       "      <td>COTON</td>\n",
       "      <td>Référence_14</td>\n",
       "      <td>BRUT</td>\n",
       "      <td>380</td>\n",
       "      <td>SPRING</td>\n",
       "      <td>MEDIUM</td>\n",
       "      <td>SAISONNIER</td>\n",
       "      <td>HIGH</td>\n",
       "      <td>OUI</td>\n",
       "      <td>MID-SEASON</td>\n",
       "      <td>CASUAL</td>\n",
       "      <td>3040</td>\n",
       "      <td>Iconique</td>\n",
       "      <td>Famille prix_HIGH</td>\n",
       "      <td>Type saison_MID-SEASON</td>\n",
       "      <td>Segment_MID-SEASON</td>\n",
       "      <td>Libellé thème_CHAINETRAME</td>\n",
       "      <td>Statut Collection Produit_CHAINETRAME</td>\n",
       "    </tr>\n",
       "    <tr>\n",
       "      <th>4</th>\n",
       "      <td>Magasin_84</td>\n",
       "      <td>Référence_14</td>\n",
       "      <td>BRUT</td>\n",
       "      <td>Référence_14BRUT</td>\n",
       "      <td>Référence_14BRUTMagasin_84</td>\n",
       "      <td>BLOUSONS</td>\n",
       "      <td>PAP FEMME</td>\n",
       "      <td>COTON</td>\n",
       "      <td>SAISONNIER</td>\n",
       "      <td>7</td>\n",
       "      <td>PAP FEMME</td>\n",
       "      <td>CHAINETRAME</td>\n",
       "      <td>BLOUSONS</td>\n",
       "      <td>COTON</td>\n",
       "      <td>Référence_14</td>\n",
       "      <td>BRUT</td>\n",
       "      <td>380</td>\n",
       "      <td>SPRING</td>\n",
       "      <td>MEDIUM</td>\n",
       "      <td>SAISONNIER</td>\n",
       "      <td>HIGH</td>\n",
       "      <td>OUI</td>\n",
       "      <td>MID-SEASON</td>\n",
       "      <td>CASUAL</td>\n",
       "      <td>2660</td>\n",
       "      <td>Iconique</td>\n",
       "      <td>Famille prix_HIGH</td>\n",
       "      <td>Type saison_MID-SEASON</td>\n",
       "      <td>Segment_MID-SEASON</td>\n",
       "      <td>Libellé thème_CHAINETRAME</td>\n",
       "      <td>Statut Collection Produit_CHAINETRAME</td>\n",
       "    </tr>\n",
       "  </tbody>\n",
       "</table>\n",
       "</div>"
      ],
      "text/plain": [
       "       Magasin Référence produit Couleur produit    Modèle_Coloris  \\\n",
       "0  Magasin_127      Référence_14            BRUT  Référence_14BRUT   \n",
       "1  Magasin_193      Référence_14            BRUT  Référence_14BRUT   \n",
       "2  Magasin_154      Référence_14            BRUT  Référence_14BRUT   \n",
       "3   Magasin_81      Référence_14            BRUT  Référence_14BRUT   \n",
       "4   Magasin_84      Référence_14            BRUT  Référence_14BRUT   \n",
       "\n",
       "                      SKUSTORE Classification famille Classification rayon  \\\n",
       "0  Référence_14BRUTMagasin_127               BLOUSONS            PAP FEMME   \n",
       "1  Référence_14BRUTMagasin_193               BLOUSONS            PAP FEMME   \n",
       "2  Référence_14BRUTMagasin_154               BLOUSONS            PAP FEMME   \n",
       "3   Référence_14BRUTMagasin_81               BLOUSONS            PAP FEMME   \n",
       "4   Référence_14BRUTMagasin_84               BLOUSONS            PAP FEMME   \n",
       "\n",
       "  Classification sous famille Statut Collection Produit  Ventes17_19  \\\n",
       "0                       COTON                SAISONNIER           23   \n",
       "1                       COTON                SAISONNIER            4   \n",
       "2                       COTON                SAISONNIER           16   \n",
       "3                       COTON                SAISONNIER            8   \n",
       "4                       COTON                SAISONNIER            7   \n",
       "\n",
       "  Libellé rayon Libellé thème Libellé famille Libellé sous famille  \\\n",
       "0     PAP FEMME   CHAINETRAME        BLOUSONS                COTON   \n",
       "1     PAP FEMME   CHAINETRAME        BLOUSONS                COTON   \n",
       "2     PAP FEMME   CHAINETRAME        BLOUSONS                COTON   \n",
       "3     PAP FEMME   CHAINETRAME        BLOUSONS                COTON   \n",
       "4     PAP FEMME   CHAINETRAME        BLOUSONS                COTON   \n",
       "\n",
       "        Produit Libellé couleurs  PVB SPRING / SUMMER Puissance produit  \\\n",
       "0  Référence_14             BRUT  380          SPRING            MEDIUM   \n",
       "1  Référence_14             BRUT  380          SPRING            MEDIUM   \n",
       "2  Référence_14             BRUT  380          SPRING            MEDIUM   \n",
       "3  Référence_14             BRUT  380          SPRING            MEDIUM   \n",
       "4  Référence_14             BRUT  380          SPRING            MEDIUM   \n",
       "\n",
       "  Champs UVS Statut de collection Prix (selon famille) Iconique Type saison  \\\n",
       "0                      SAISONNIER                 HIGH      OUI  MID-SEASON   \n",
       "1                      SAISONNIER                 HIGH      OUI  MID-SEASON   \n",
       "2                      SAISONNIER                 HIGH      OUI  MID-SEASON   \n",
       "3                      SAISONNIER                 HIGH      OUI  MID-SEASON   \n",
       "4                      SAISONNIER                 HIGH      OUI  MID-SEASON   \n",
       "\n",
       "  Segment  Montant total Iconique_transformed  \\\n",
       "0  CASUAL           8740             Iconique   \n",
       "1  CASUAL           1520             Iconique   \n",
       "2  CASUAL           6080             Iconique   \n",
       "3  CASUAL           3040             Iconique   \n",
       "4  CASUAL           2660             Iconique   \n",
       "\n",
       "  Prix (selon famille)_transformed Type saison_transformed  \\\n",
       "0                Famille prix_HIGH  Type saison_MID-SEASON   \n",
       "1                Famille prix_HIGH  Type saison_MID-SEASON   \n",
       "2                Famille prix_HIGH  Type saison_MID-SEASON   \n",
       "3                Famille prix_HIGH  Type saison_MID-SEASON   \n",
       "4                Famille prix_HIGH  Type saison_MID-SEASON   \n",
       "\n",
       "  Segment_transformed  Libellé thème_transformed  \\\n",
       "0  Segment_MID-SEASON  Libellé thème_CHAINETRAME   \n",
       "1  Segment_MID-SEASON  Libellé thème_CHAINETRAME   \n",
       "2  Segment_MID-SEASON  Libellé thème_CHAINETRAME   \n",
       "3  Segment_MID-SEASON  Libellé thème_CHAINETRAME   \n",
       "4  Segment_MID-SEASON  Libellé thème_CHAINETRAME   \n",
       "\n",
       "   Statut Collection Produit_transformed  \n",
       "0  Statut Collection Produit_CHAINETRAME  \n",
       "1  Statut Collection Produit_CHAINETRAME  \n",
       "2  Statut Collection Produit_CHAINETRAME  \n",
       "3  Statut Collection Produit_CHAINETRAME  \n",
       "4  Statut Collection Produit_CHAINETRAME  "
      ]
     },
     "execution_count": 171,
     "metadata": {},
     "output_type": "execute_result"
    }
   ],
   "source": [
    "ventes_ref.head()"
   ]
  },
  {
   "cell_type": "code",
   "execution_count": 172,
   "metadata": {},
   "outputs": [
    {
     "data": {
      "text/plain": [
       "MEDIUM    20714\n",
       "LOW        9208\n",
       "HIGH       6709\n",
       "Name: Prix (selon famille), dtype: int64"
      ]
     },
     "execution_count": 172,
     "metadata": {},
     "output_type": "execute_result"
    }
   ],
   "source": [
    "ventes_ref[\"Prix (selon famille)\"].value_counts(dropna = False)"
   ]
  },
  {
   "cell_type": "code",
   "execution_count": 173,
   "metadata": {},
   "outputs": [],
   "source": [
    "prix_famille_sum = ventes_ref.groupby([\"Magasin\", \"Prix (selon famille)_transformed\"])['Ventes17_19'].sum().unstack()"
   ]
  },
  {
   "cell_type": "code",
   "execution_count": 175,
   "metadata": {},
   "outputs": [
    {
     "data": {
      "text/html": [
       "<div>\n",
       "<style scoped>\n",
       "    .dataframe tbody tr th:only-of-type {\n",
       "        vertical-align: middle;\n",
       "    }\n",
       "\n",
       "    .dataframe tbody tr th {\n",
       "        vertical-align: top;\n",
       "    }\n",
       "\n",
       "    .dataframe thead th {\n",
       "        text-align: right;\n",
       "    }\n",
       "</style>\n",
       "<table border=\"1\" class=\"dataframe\">\n",
       "  <thead>\n",
       "    <tr style=\"text-align: right;\">\n",
       "      <th>Prix (selon famille)_transformed</th>\n",
       "      <th>Famille prix_HIGH</th>\n",
       "      <th>Famille prix_LOW</th>\n",
       "      <th>Famille prix_MEDIUM</th>\n",
       "    </tr>\n",
       "    <tr>\n",
       "      <th>Magasin</th>\n",
       "      <th></th>\n",
       "      <th></th>\n",
       "      <th></th>\n",
       "    </tr>\n",
       "  </thead>\n",
       "  <tbody>\n",
       "    <tr>\n",
       "      <th>Magasin_1</th>\n",
       "      <td>439.0</td>\n",
       "      <td>558.0</td>\n",
       "      <td>1286.0</td>\n",
       "    </tr>\n",
       "    <tr>\n",
       "      <th>Magasin_10</th>\n",
       "      <td>121.0</td>\n",
       "      <td>251.0</td>\n",
       "      <td>484.0</td>\n",
       "    </tr>\n",
       "    <tr>\n",
       "      <th>Magasin_100</th>\n",
       "      <td>523.0</td>\n",
       "      <td>574.0</td>\n",
       "      <td>1449.0</td>\n",
       "    </tr>\n",
       "    <tr>\n",
       "      <th>Magasin_101</th>\n",
       "      <td>338.0</td>\n",
       "      <td>591.0</td>\n",
       "      <td>1240.0</td>\n",
       "    </tr>\n",
       "    <tr>\n",
       "      <th>Magasin_102</th>\n",
       "      <td>107.0</td>\n",
       "      <td>186.0</td>\n",
       "      <td>500.0</td>\n",
       "    </tr>\n",
       "  </tbody>\n",
       "</table>\n",
       "</div>"
      ],
      "text/plain": [
       "Prix (selon famille)_transformed  Famille prix_HIGH  Famille prix_LOW  \\\n",
       "Magasin                                                                 \n",
       "Magasin_1                                     439.0             558.0   \n",
       "Magasin_10                                    121.0             251.0   \n",
       "Magasin_100                                   523.0             574.0   \n",
       "Magasin_101                                   338.0             591.0   \n",
       "Magasin_102                                   107.0             186.0   \n",
       "\n",
       "Prix (selon famille)_transformed  Famille prix_MEDIUM  \n",
       "Magasin                                                \n",
       "Magasin_1                                      1286.0  \n",
       "Magasin_10                                      484.0  \n",
       "Magasin_100                                    1449.0  \n",
       "Magasin_101                                    1240.0  \n",
       "Magasin_102                                     500.0  "
      ]
     },
     "execution_count": 175,
     "metadata": {},
     "output_type": "execute_result"
    }
   ],
   "source": [
    "prix_famille_sum.head()"
   ]
  },
  {
   "cell_type": "code",
   "execution_count": null,
   "metadata": {},
   "outputs": [],
   "source": []
  },
  {
   "cell_type": "markdown",
   "metadata": {},
   "source": [
    "Réalisez les mêmes traitements que pour le champ \"Iconique\""
   ]
  },
  {
   "cell_type": "code",
   "execution_count": null,
   "metadata": {},
   "outputs": [],
   "source": [
    "# features_magasin = [iconique_prc,"
   ]
  },
  {
   "cell_type": "markdown",
   "metadata": {},
   "source": [
    "**Nous vous encourageons à rajouter de nouvelles variables si elles vous paraissent pertinentes.**"
   ]
  },
  {
   "cell_type": "markdown",
   "metadata": {},
   "source": [
    "### I.1.4. Concaténation avec le fichier des magasins"
   ]
  },
  {
   "cell_type": "code",
   "execution_count": null,
   "metadata": {},
   "outputs": [],
   "source": [
    "mags_final = mag.merge(features_magasins, left_on = \"Magasin\", right_index = True )"
   ]
  },
  {
   "cell_type": "code",
   "execution_count": null,
   "metadata": {},
   "outputs": [],
   "source": [
    "# nous définissons la colonne Magasin comme étant l'index de chaque ligne\n",
    "mags_final = mags_final.set_index('Magasin')"
   ]
  },
  {
   "cell_type": "code",
   "execution_count": null,
   "metadata": {},
   "outputs": [],
   "source": [
    "mags_df = mags_final[cols_num].copy()"
   ]
  },
  {
   "cell_type": "markdown",
   "metadata": {},
   "source": [
    "# II. Analyse en composantes principales"
   ]
  },
  {
   "cell_type": "code",
   "execution_count": null,
   "metadata": {},
   "outputs": [],
   "source": [
    "from sklearn.decomposition import PCA\n",
    "from sklearn.preprocessing import StandardScaler,MinMaxScaler\n",
    "import numpy as np"
   ]
  },
  {
   "cell_type": "markdown",
   "metadata": {},
   "source": [
    "Comme expliqué en cours, l'analyse en composantes principales (PCA) est une méthode factorielle de réduction de dimension pour l’exploration de données quantitatives. Elle permet de transformer des variables corrélées en nouvelles variables décorrélées, appelées composantes principales."
   ]
  },
  {
   "cell_type": "code",
   "execution_count": null,
   "metadata": {
    "scrolled": true
   },
   "outputs": [],
   "source": [
    "# Réaliser une PCA Ici (pensez à tester avec des données normalisées)\n"
   ]
  },
  {
   "cell_type": "code",
   "execution_count": null,
   "metadata": {},
   "outputs": [],
   "source": [
    "# Explained variance ratio des composantes principales (qu'on pourrait comparer avec celles des features originales...)\n"
   ]
  },
  {
   "cell_type": "markdown",
   "metadata": {},
   "source": [
    "Représentez des magasins sur les composantes principales"
   ]
  },
  {
   "cell_type": "code",
   "execution_count": null,
   "metadata": {},
   "outputs": [],
   "source": []
  },
  {
   "cell_type": "markdown",
   "metadata": {},
   "source": [
    "Analysez les composantes principales comme vu en cours : Quelles sont les variables les plus corrélées avec les composantes principales ? "
   ]
  },
  {
   "cell_type": "code",
   "execution_count": null,
   "metadata": {},
   "outputs": [],
   "source": []
  },
  {
   "cell_type": "markdown",
   "metadata": {},
   "source": [
    "# III. Clustering"
   ]
  },
  {
   "cell_type": "code",
   "execution_count": null,
   "metadata": {},
   "outputs": [],
   "source": [
    "from sklearn.cluster import KMeans"
   ]
  },
  {
   "cell_type": "markdown",
   "metadata": {},
   "source": [
    "## II.1. Méthode du coude pour définir le nombre de clusters"
   ]
  },
  {
   "cell_type": "markdown",
   "metadata": {},
   "source": [
    "Il peut être intéressant de tester le clustering avec les données brutes, les données normalisées, et les données transformées avec l'ACP."
   ]
  },
  {
   "cell_type": "code",
   "execution_count": null,
   "metadata": {},
   "outputs": [],
   "source": [
    "#Méthode du coude"
   ]
  },
  {
   "cell_type": "code",
   "execution_count": null,
   "metadata": {},
   "outputs": [],
   "source": [
    "# Entrainer un k-means ici\n"
   ]
  },
  {
   "cell_type": "code",
   "execution_count": null,
   "metadata": {},
   "outputs": [],
   "source": [
    "# Ajoutez les labels des clusters au dataframe"
   ]
  },
  {
   "cell_type": "markdown",
   "metadata": {},
   "source": [
    "### Caractéristisation des clusters :\n",
    "\n",
    "Analysez chacun des clusters : Quelle est la distribution des variables ? Nous vous invitons à filtrer sur chacun des clusters et à établir des statistiques."
   ]
  },
  {
   "cell_type": "markdown",
   "metadata": {},
   "source": [
    "*Commencez avec des analyses statistiques simples*"
   ]
  },
  {
   "cell_type": "markdown",
   "metadata": {},
   "source": [
    "Taille des clusters"
   ]
  },
  {
   "cell_type": "code",
   "execution_count": null,
   "metadata": {
    "scrolled": true
   },
   "outputs": [],
   "source": [
    "mags_df[\"Cluster\"].value_counts()"
   ]
  },
  {
   "cell_type": "code",
   "execution_count": null,
   "metadata": {},
   "outputs": [],
   "source": [
    "mags_df.groupby(\"Cluster\").mean()"
   ]
  },
  {
   "cell_type": "code",
   "execution_count": null,
   "metadata": {},
   "outputs": [],
   "source": [
    "mags_df.mean()"
   ]
  },
  {
   "cell_type": "markdown",
   "metadata": {},
   "source": [
    "**Portez une attention particulière à l'analyse et l'interprétation des premiers résultats du clustering. Ces résultats pourront vous inspirer la création de nouvelles variables plus pertinentes, ou l'adoption d'une nouvelle démarche. Par exemple, si on trouve un cluster principal qui contient la majorité des magasins et d'autres clusters avec un très faible nombre de magasins, il peut être intéressant de les écarter et de refaire un clustering uniquement sur le gros cluster.**\n",
    "\n",
    "**On tombe rarement sur la bonne réponse du premier coup, c'est une approche très itérative.**\n"
   ]
  },
  {
   "cell_type": "code",
   "execution_count": null,
   "metadata": {},
   "outputs": [],
   "source": []
  }
 ],
 "metadata": {
  "kernelspec": {
   "display_name": "Python 3",
   "language": "python",
   "name": "python3"
  },
  "language_info": {
   "codemirror_mode": {
    "name": "ipython",
    "version": 3
   },
   "file_extension": ".py",
   "mimetype": "text/x-python",
   "name": "python",
   "nbconvert_exporter": "python",
   "pygments_lexer": "ipython3",
   "version": "3.8.8"
  }
 },
 "nbformat": 4,
 "nbformat_minor": 4
}
